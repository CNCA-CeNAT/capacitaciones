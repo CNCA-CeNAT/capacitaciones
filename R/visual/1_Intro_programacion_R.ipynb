{
 "cells": [
  {
   "cell_type": "markdown",
   "metadata": {
    "slideshow": {
     "slide_type": "slide"
    }
   },
   "source": [
    "<h1> <center> Taller de análisis y visualización de datos con R </center> </h1>\n",
    "\n",
    "<h2> <center>  1. Introducción a la programación con R (1) </center> </h2>\n",
    "\n",
    "<!-- <h3> <center> Jorge Castro - jcastro@cenat.ac.cr </center> </h3>\n",
    "<h3> <center> Diego Jiménez - djimenez@cenat.ac.cr </center> </h3> -->\n",
    "\n",
    "\n",
    "\n",
    " <table>  \n",
    "  <tr>\n",
    "    <td><h3>Jorge Castro</h3></td>\n",
    "    <td><h3>jcastro@cenat.ac.cr</h3></td>\n",
    "  </tr>  \n",
    "  <tr>\n",
    "    <td><h3>Diego Jiménez</h3></td>\n",
    "    <td><h3>djimenez@cenat.ac.cr</h3></td>\n",
    "  </tr> \n",
    "</table>\n",
    "\n",
    "<table>  \n",
    "  <tr>\n",
    "    <td> <img align=\"left\" src=\"img/cnca.png\", width=400></td>\n",
    "    <td> <img align=\"right\" src=\"img/cenat.png\", width=400></td>\n",
    "  </tr>  \n",
    "  <tr>\n",
    "    <td colspan=\"2\"> <center> <h3> Octubre 2017 </h3> </center> </td>\n",
    "  </tr>  \n",
    "</table>\n",
    "\n"
   ]
  },
  {
   "cell_type": "markdown",
   "metadata": {
    "slideshow": {
     "slide_type": "slide"
    }
   },
   "source": [
    "# Contenido\n",
    "\n",
    "1. [Conceptos de programación](#conceptos)\n",
    "    - [Algoritmos](#algoritmos)\n",
    "    - [Variables](#variables)\n",
    "    - [Estructuras de control](#estructurasC)\n",
    "    - [Ciclos](#ciclos)\n",
    "    - [Estructuras de datos](#estructurasD)\n",
    "<br><br>\n",
    "2. [Estructuras de datos en R](#estructurasDR)\n",
    "    - [Vectores](#vectores)\n",
    "    - [Vectores multidimensionales](#matrices) \n",
    "    - [Listas](#listas)\n",
    "    - [Marcos de datos (Data Frames)](#marcos)\n",
    "<br><br>\n",
    "3. [Funciones](#funciones)\n",
    "<br><br>\n",
    "4. [Ejercicios](#ejercicios)"
   ]
  },
  {
   "cell_type": "markdown",
   "metadata": {
    "slideshow": {
     "slide_type": "slide"
    }
   },
   "source": [
    "<a id='conceptos'></a>\n",
    "<hr>\n",
    "<hr>\n",
    "<h1><center><span style=\"color:blue\">Conceptos de programación</span></center></h1>\n",
    "<hr>\n",
    "<hr>"
   ]
  },
  {
   "cell_type": "markdown",
   "metadata": {
    "slideshow": {
     "slide_type": "slide"
    }
   },
   "source": [
    "# Definición de algoritmo <a id='algoritmos'></a>\n",
    "\n",
    "<!-- <img style=\"float:right;\" src=\"img/alkawa.png\", width=120, caption=\"Muhammad ibn Mūsā al-Khwārizmī\"> -->\n",
    " <figure style=\"float:right;\">\n",
    "  <img  src=\"img/alkawa.png\", width=120>\n",
    "  <figcaption>Muhammad ibn Mūsā al-Khwārizmī</figcaption>\n",
    "</figure> \n",
    "\n",
    "\n",
    "- Un algoritmo es un conjunto\n",
    "    -  Ordenado\n",
    "    -  Finito\n",
    "- Cuyos elementos (instrucciones) son\n",
    "    -  Finitos\n",
    "    -  Bien especificados (no ambiguos)\n",
    "- Ejecutado por un agente que <b>no</b> requiere de ingenio\n",
    "\n",
    " "
   ]
  },
  {
   "cell_type": "markdown",
   "metadata": {
    "slideshow": {
     "slide_type": "slide"
    }
   },
   "source": [
    "# Representación de algoritmos\n",
    "\n",
    "Los algoritmos se pueden escribir de diversas formas:\n",
    "- En lenguaje “natural”, con expresiones comunes\n",
    "    - 1 Tomar dos números enteros\n",
    "    - 2 Sumarlos\n",
    "    - 3 Escribir el resultado al final de la página\n",
    "- En lenguaje formal, con símbolos matemáticos\n",
    "    - 1 Sean $a,b \\in \\mathbb{Z}$\n",
    "    - 2 $c = a + b$\n",
    "    - 3 El resultado es c\n",
    "\n",
    "\n",
    "¿Por qué es preferible usar sı́mbolos matemáticos?"
   ]
  },
  {
   "cell_type": "markdown",
   "metadata": {
    "slideshow": {
     "slide_type": "slide"
    }
   },
   "source": [
    "# Elementos de un algoritmo\n",
    "\n",
    "- Instrucciones: indican qué hacer en un momento dado\n",
    "    - “Mostrar valor en pantalla”\n",
    "    - “Guardar archivo”\n",
    "- Variables: contenedores, su valor puede cambiar con el tiempo\n",
    "    - a =1\n",
    "    - b = 2,5\n",
    "- Operadores: transforman o modifican expresiones\n",
    "    - Asignación: =\n",
    "    - Aritméticos: +, -, /, *, %\n",
    "    - Comparación: >, <, >=, <=, ==, !=\n",
    "    - Lógicos: ||, &&, ! (equivalentes a ∨, ∧, ¬ respectivamente)\n",
    "- Estructuras de control: alteran la secuencia de instrucciones\n",
    "    - Decisiones y ciclos\n",
    "- Estructuras de datos: organizan y relacionan conjuntos de variables\n",
    "    - Arreglos, listas, conjuntos, árboles, diccionarios ..."
   ]
  },
  {
   "cell_type": "markdown",
   "metadata": {
    "slideshow": {
     "slide_type": "slide"
    }
   },
   "source": [
    "# Variables <a id='variables'></a>\n",
    "\n",
    "- Representan valores de diversos tipos\n",
    "- Poseen:\n",
    "    - Nombre\n",
    "    - Valor\n",
    "    - Direcciòn, tipo y tamaño\n",
    "- Ejemplo:\n",
    "    - nombre = “Bruce”\n",
    "    - profesión = “Batman”\n",
    "    - edad = 33\n",
    "    - x = ’g’\n",
    "    - y = 3,14159265359\n",
    "    - arreglo = 1, 2, 3\n",
    "- En programación, las variables debe ser declaradas e inicializadas."
   ]
  },
  {
   "cell_type": "code",
   "execution_count": 1,
   "metadata": {
    "slideshow": {
     "slide_type": "slide"
    }
   },
   "outputs": [
    {
     "data": {
      "text/html": [
       "TRUE"
      ],
      "text/latex": [
       "TRUE"
      ],
      "text/markdown": [
       "TRUE"
      ],
      "text/plain": [
       "[1] TRUE"
      ]
     },
     "metadata": {},
     "output_type": "display_data"
    },
    {
     "data": {
      "text/html": [
       "TRUE"
      ],
      "text/latex": [
       "TRUE"
      ],
      "text/markdown": [
       "TRUE"
      ],
      "text/plain": [
       "[1] TRUE"
      ]
     },
     "metadata": {},
     "output_type": "display_data"
    },
    {
     "data": {
      "text/html": [
       "FALSE"
      ],
      "text/latex": [
       "FALSE"
      ],
      "text/markdown": [
       "FALSE"
      ],
      "text/plain": [
       "[1] FALSE"
      ]
     },
     "metadata": {},
     "output_type": "display_data"
    },
    {
     "data": {
      "text/html": [
       "TRUE"
      ],
      "text/latex": [
       "TRUE"
      ],
      "text/markdown": [
       "TRUE"
      ],
      "text/plain": [
       "[1] TRUE"
      ]
     },
     "metadata": {},
     "output_type": "display_data"
    }
   ],
   "source": [
    "# numeric\n",
    "varNumerica <- 2.6\n",
    "is.numeric(varNumerica) #true\n",
    "\n",
    "# integer\n",
    "varEntera <- as.integer(3)\n",
    "is.integer(varEntera) #true\n",
    "\n",
    "# complex\n",
    "varCompleja = 1 + 2i\n",
    "\n",
    "# logical\n",
    "varLogica <- TRUE\n",
    "is.numeric(varLogica) #false\n",
    "\n",
    "# character\n",
    "varCaracter <- \"p\"\n",
    "varCaracter2 <- \"hola\"\n",
    "is.character(varCaracter) #true"
   ]
  },
  {
   "cell_type": "markdown",
   "metadata": {},
   "source": [
    "# Condicional <a id='estructurasC'></a>\n",
    "\n",
    "- Estructura de control que realizan una secuencia de instrucciones sólo si se cumple una condición.\n",
    "- Por ejemplo:\n",
    "Un juego de escudo y corona se rige por la regla: “Si sale lo que escogı́, entonces gano; sino, entonces pierdo.”\n",
    "\n",
    "<img src=\"img/conditional.png\", width=400>"
   ]
  },
  {
   "cell_type": "code",
   "execution_count": 5,
   "metadata": {
    "slideshow": {
     "slide_type": "slide"
    }
   },
   "outputs": [
    {
     "name": "stdout",
     "output_type": "stream",
     "text": [
      "[1] \"perdi\"\n"
     ]
    }
   ],
   "source": [
    "escogencia = \"escudo\"\n",
    "moneda= \"corona\"\n",
    "\n",
    "if(escogencia == moneda){\n",
    "    print(\"gane\")\n",
    "} else {\n",
    "    print(\"perdi\")\n",
    "}\n"
   ]
  },
  {
   "cell_type": "markdown",
   "metadata": {
    "slideshow": {
     "slide_type": "slide"
    }
   },
   "source": [
    "# Ciclos <a id='ciclos'></a>\n",
    "\n",
    "- Repiten una secuencia de instrucciones muchas veces en forma implı́cita\n",
    "    - Verifican condiciones para decidir si seguir repitiendo o detenerse\n",
    "    - La condición de parada puede ser el cumplimiento exitoso de N ciclos\n",
    "    - Plantean repeticiones en forma iterativa.\n",
    "- Por ejemplo, una estructura matemática iterativa es la sumatoria:\n",
    "<br>\n",
    "<br>\n",
    "<center> $\\sum _{i=1}^{10} i = 1 + 2 + \\ldots + 9 + 10$ </center>"
   ]
  },
  {
   "cell_type": "markdown",
   "metadata": {
    "slideshow": {
     "slide_type": "slide"
    }
   },
   "source": [
    "# Mientras (while)\n",
    "\n",
    "<figure style=\"float:right;\">\n",
    "  <img  src=\"img/while.png\", width=250>\n",
    "</figure> \n",
    "\n",
    "\n",
    "\n",
    "\n",
    "- Prueba lógica\n",
    "- Ejecución del cuerpo del ciclo\n",
    "- Se itera hasta que la prueba sea **FALSA**"
   ]
  },
  {
   "cell_type": "markdown",
   "metadata": {
    "collapsed": true,
    "slideshow": {
     "slide_type": "slide"
    }
   },
   "source": [
    "# Ejemplo con estructuras de control\n",
    "\n",
    "<hr>\n",
    "**Algoritmo 1** Imprimir en pantalla los números del 1 al 10\n",
    "<hr>\n",
    "```fortran\n",
    "1. function IMPRIMIR\n",
    "2.    x = 1\n",
    "3.    while x <= 10 do\n",
    "4.       imprimir x\n",
    "5.       x = x + 1 (*)\n",
    "6.       end while\n",
    "7. end function\n",
    "```\n",
    "<hr>\n",
    "\n",
    "(*) Conceptos importantes: acumuladores y cambio de valor"
   ]
  },
  {
   "cell_type": "code",
   "execution_count": 9,
   "metadata": {
    "slideshow": {
     "slide_type": "slide"
    }
   },
   "outputs": [
    {
     "name": "stdout",
     "output_type": "stream",
     "text": [
      "[1] 7\n",
      "[1] 9\n",
      "[1] 11\n",
      "[1] 13\n",
      "[1] 15\n"
     ]
    }
   ],
   "source": [
    "# Mientras en R (while)\n",
    "x <- 7\n",
    "while(x <= 15) {\n",
    "    print(x)\n",
    "    x <- x+2\n",
    "}"
   ]
  },
  {
   "cell_type": "markdown",
   "metadata": {
    "slideshow": {
     "slide_type": "slide"
    }
   },
   "source": [
    "# Para (for)\n",
    "\n",
    "<figure style=\"float:right;\">\n",
    "  <img  src=\"img/for.png\", width=250>\n",
    "</figure>\n",
    "\n",
    "- Se itera una cantidad determinada de\n",
    "veces\n",
    "- Se ejecuta el cuerpo del ciclo"
   ]
  },
  {
   "cell_type": "code",
   "execution_count": 10,
   "metadata": {
    "slideshow": {
     "slide_type": "slide"
    }
   },
   "outputs": [
    {
     "name": "stdout",
     "output_type": "stream",
     "text": [
      "[1] 1\n",
      "[1] 2\n",
      "[1] 3\n",
      "[1] 4\n",
      "[1] 5\n",
      "[1] 6\n",
      "[1] 7\n",
      "[1] 8\n",
      "[1] 9\n",
      "[1] 10\n"
     ]
    }
   ],
   "source": [
    "arreglo <- 1:10\n",
    "for(a in arreglo)\n",
    "{\n",
    "print(a)\n",
    "}"
   ]
  },
  {
   "cell_type": "markdown",
   "metadata": {
    "collapsed": true,
    "slideshow": {
     "slide_type": "slide"
    }
   },
   "source": [
    "# Estructuras de Datos <a id='estructurasD'></a>\n",
    "\n",
    "- Las estructuras de datos organizan y facilitan la lectura, manipulación y relación de valores\n",
    "- El tipo más básico es el arreglo (vector)\n",
    "<br><br>\n",
    "<img src=\"img/EdD.png\", width=800>\n"
   ]
  },
  {
   "cell_type": "markdown",
   "metadata": {
    "slideshow": {
     "slide_type": "slide"
    }
   },
   "source": [
    "<a id='estructurasDR'></a>\n",
    "<hr>\n",
    "<hr>\n",
    "<h1><center><span style=\"color:blue\">Estructuras de datos en R</span></center></h1>\n",
    "<hr>\n",
    "<hr>"
   ]
  },
  {
   "cell_type": "code",
   "execution_count": 11,
   "metadata": {
    "collapsed": true
   },
   "outputs": [],
   "source": [
    "?array"
   ]
  },
  {
   "cell_type": "code",
   "execution_count": 12,
   "metadata": {
    "collapsed": true
   },
   "outputs": [],
   "source": [
    "?array"
   ]
  },
  {
   "cell_type": "markdown",
   "metadata": {
    "slideshow": {
     "slide_type": "slide"
    }
   },
   "source": [
    "# Vectores <a id='vectores'></a>\n",
    "\n",
    "- Una variable que contiene múltiples valores del mismo tipo en una estructura de una dimensión.\n",
    "- La función c() permite hacer vectores al concatenar varios valores."
   ]
  },
  {
   "cell_type": "code",
   "execution_count": null,
   "metadata": {
    "collapsed": true,
    "slideshow": {
     "slide_type": "slide"
    }
   },
   "outputs": [],
   "source": [
    "#Vectores en R\n",
    "\n",
    "x <- c(T,F)\n",
    "x <- c(1,2,3,4)\n",
    "x <- c(0.5,0.6)\n",
    "x <- c(1+0i,2+4i)\n",
    "x <- c(\"a\",\"b\",\"c\",\"de\")"
   ]
  },
  {
   "cell_type": "markdown",
   "metadata": {
    "slideshow": {
     "slide_type": "slide"
    }
   },
   "source": [
    "- Todos los elementos de un vector deben ser del mismo tipo, de lo contrario R forzará todos los elementos al tipo más genérico\n",
    "- Este comportamiento se llama coerción y R lo aplica automáticamente cuando existe ambigüedad entre los datos "
   ]
  },
  {
   "cell_type": "code",
   "execution_count": 13,
   "metadata": {
    "collapsed": true,
    "slideshow": {
     "slide_type": "slide"
    }
   },
   "outputs": [],
   "source": [
    "#Coerción en R\n",
    "\n",
    "x <- c( 1 , 0.5 , 10 ) # Tipo numérico\n",
    "y <- c( 1 , 1+3i , 0.5 ) # Tipo complejo\n",
    "z <- c( 1 , \"hola\" , 2+1i ) # Tipo texto"
   ]
  },
  {
   "cell_type": "markdown",
   "metadata": {
    "slideshow": {
     "slide_type": "slide"
    }
   },
   "source": [
    "- Se pueden crear vectores a partir de secuencias numéricas\n",
    "- También se pueden crear vectores vacı́os de tamaño predeterminado"
   ]
  },
  {
   "cell_type": "code",
   "execution_count": 22,
   "metadata": {
    "scrolled": true,
    "slideshow": {
     "slide_type": "slide"
    }
   },
   "outputs": [
    {
     "data": {
      "text/html": [
       "<ol class=list-inline>\n",
       "\t<li>''</li>\n",
       "\t<li>''</li>\n",
       "\t<li>''</li>\n",
       "</ol>\n"
      ],
      "text/latex": [
       "\\begin{enumerate*}\n",
       "\\item ''\n",
       "\\item ''\n",
       "\\item ''\n",
       "\\end{enumerate*}\n"
      ],
      "text/markdown": [
       "1. ''\n",
       "2. ''\n",
       "3. ''\n",
       "\n",
       "\n"
      ],
      "text/plain": [
       "[1] \"\" \"\" \"\""
      ]
     },
     "metadata": {},
     "output_type": "display_data"
    },
    {
     "data": {
      "text/html": [
       "<ol class=list-inline>\n",
       "\t<li>''</li>\n",
       "\t<li>''</li>\n",
       "\t<li>''</li>\n",
       "</ol>\n"
      ],
      "text/latex": [
       "\\begin{enumerate*}\n",
       "\\item ''\n",
       "\\item ''\n",
       "\\item ''\n",
       "\\end{enumerate*}\n"
      ],
      "text/markdown": [
       "1. ''\n",
       "2. ''\n",
       "3. ''\n",
       "\n",
       "\n"
      ],
      "text/plain": [
       "[1] \"\" \"\" \"\""
      ]
     },
     "metadata": {},
     "output_type": "display_data"
    }
   ],
   "source": [
    "# Secuencias con incrementos de 1\n",
    "x <- 1:10 # 1,2,3,...,10\n",
    "x <- 5:23 # 5,6,7,...,23\n",
    "x <- 10:1 # 10,9,8,...,1\n",
    "x <- 0.5:2.8 # 0.5,1.5,2.5\n",
    "\n",
    "# Secuencias con incrementos variables\n",
    "x <- seq(1,10,2) # 1,3,5,7,9\n",
    "x <- seq(2,10,2) # 2,4,6,8,10\n",
    "\n",
    "# Vectores vacíos\n",
    "x <- vector(\"numeric\",length=10) # 0,0,0,0,0,0,0,0,0,0\n",
    "x <- vector(\"character\",length=3) # \"\",\"\",\"\"\n",
    "x\n",
    "z <- vector(\"character\",3) # \"\",\"\",\"\"\n",
    "z\n",
    "?vector"
   ]
  },
  {
   "cell_type": "markdown",
   "metadata": {
    "slideshow": {
     "slide_type": "slide"
    }
   },
   "source": [
    "- Para consultar valores de un vector se usa el operador subı́ndice [ ]\n",
    "- $x[i]$ hace referencia al i-ésimo elemento de $x$\n",
    "- El operador [ ] también se puede usar para asignar valores a una variable"
   ]
  },
  {
   "cell_type": "code",
   "execution_count": 27,
   "metadata": {
    "slideshow": {
     "slide_type": "slide"
    }
   },
   "outputs": [
    {
     "data": {
      "text/html": [
       "&lt;NA&gt;"
      ],
      "text/latex": [
       "<NA>"
      ],
      "text/markdown": [
       "&lt;NA&gt;"
      ],
      "text/plain": [
       "[1] NA"
      ]
     },
     "metadata": {},
     "output_type": "display_data"
    },
    {
     "data": {
      "text/html": [
       "&lt;NA&gt;"
      ],
      "text/latex": [
       "<NA>"
      ],
      "text/markdown": [
       "&lt;NA&gt;"
      ],
      "text/plain": [
       "[1] NA"
      ]
     },
     "metadata": {},
     "output_type": "display_data"
    },
    {
     "data": {
      "text/html": [
       "<ol class=list-inline>\n",
       "\t<li>10</li>\n",
       "\t<li>20</li>\n",
       "\t<li>25</li>\n",
       "\t<li>30</li>\n",
       "\t<li>&lt;NA&gt;</li>\n",
       "\t<li>&lt;NA&gt;</li>\n",
       "\t<li>15</li>\n",
       "</ol>\n"
      ],
      "text/latex": [
       "\\begin{enumerate*}\n",
       "\\item 10\n",
       "\\item 20\n",
       "\\item 25\n",
       "\\item 30\n",
       "\\item <NA>\n",
       "\\item <NA>\n",
       "\\item 15\n",
       "\\end{enumerate*}\n"
      ],
      "text/markdown": [
       "1. 10\n",
       "2. 20\n",
       "3. 25\n",
       "4. 30\n",
       "5. &lt;NA&gt;\n",
       "6. &lt;NA&gt;\n",
       "7. 15\n",
       "\n",
       "\n"
      ],
      "text/plain": [
       "[1] 10 20 25 30 NA NA 15"
      ]
     },
     "metadata": {},
     "output_type": "display_data"
    }
   ],
   "source": [
    "x <- c(10,20,25,30)\n",
    "x[5]       # Extracción del primer elemento\n",
    "x[7] <- 15 # Asignación del primer elemento\n",
    "x[5]\n",
    "x"
   ]
  },
  {
   "cell_type": "markdown",
   "metadata": {
    "slideshow": {
     "slide_type": "slide"
    }
   },
   "source": [
    "# Matrices <a id='matrices'></a>\n",
    "\n",
    "- Una matriz es un vector de dos dimensiones\n",
    "- Se puede crear con la función *matrix()* que recibe como primer parámetro un vector cualquiera y los parámetros por nombre nrow y ncol."
   ]
  },
  {
   "cell_type": "code",
   "execution_count": 39,
   "metadata": {
    "slideshow": {
     "slide_type": "slide"
    }
   },
   "outputs": [
    {
     "data": {
      "text/html": [
       "<table>\n",
       "<tbody>\n",
       "\t<tr><td>1</td><td>4</td></tr>\n",
       "\t<tr><td>2</td><td>5</td></tr>\n",
       "\t<tr><td>3</td><td>6</td></tr>\n",
       "</tbody>\n",
       "</table>\n"
      ],
      "text/latex": [
       "\\begin{tabular}{ll}\n",
       "\t 1 & 4\\\\\n",
       "\t 2 & 5\\\\\n",
       "\t 3 & 6\\\\\n",
       "\\end{tabular}\n"
      ],
      "text/markdown": [
       "\n",
       "| 1 | 4 | \n",
       "| 2 | 5 | \n",
       "| 3 | 6 | \n",
       "\n",
       "\n"
      ],
      "text/plain": [
       "     [,1] [,2]\n",
       "[1,] 1    4   \n",
       "[2,] 2    5   \n",
       "[3,] 3    6   "
      ]
     },
     "metadata": {},
     "output_type": "display_data"
    },
    {
     "data": {
      "text/html": [
       "<ol class=list-inline>\n",
       "\t<li>1</li>\n",
       "\t<li>2</li>\n",
       "\t<li>3</li>\n",
       "</ol>\n"
      ],
      "text/latex": [
       "\\begin{enumerate*}\n",
       "\\item 1\n",
       "\\item 2\n",
       "\\item 3\n",
       "\\end{enumerate*}\n"
      ],
      "text/markdown": [
       "1. 1\n",
       "2. 2\n",
       "3. 3\n",
       "\n",
       "\n"
      ],
      "text/plain": [
       "[1] 1 2 3"
      ]
     },
     "metadata": {},
     "output_type": "display_data"
    }
   ],
   "source": [
    "m <- matrix(1:6,nrow=3,ncol=2)\n",
    "m\n",
    "#m[1,2] # Extracción de un elemento por fila y columna\n",
    "#m[2,]  # Extracción de una fila completa\n",
    "m[,1]  # Extracción de una columna completa"
   ]
  },
  {
   "cell_type": "markdown",
   "metadata": {
    "slideshow": {
     "slide_type": "slide"
    }
   },
   "source": [
    "- Si el vector de entrada tiene más elementos de los que puede tener la matriz, los elementos que se desbordan son descartados\n",
    "- Si tiene menos elementos, se repiten los primeros en orden hasta llenar los espacios faltantes"
   ]
  },
  {
   "cell_type": "code",
   "execution_count": 41,
   "metadata": {
    "slideshow": {
     "slide_type": "slide"
    }
   },
   "outputs": [
    {
     "data": {
      "text/html": [
       "<table>\n",
       "<tbody>\n",
       "\t<tr><td>1</td><td>5</td><td>1</td><td>5</td></tr>\n",
       "\t<tr><td>2</td><td>6</td><td>2</td><td>6</td></tr>\n",
       "\t<tr><td>3</td><td>7</td><td>3</td><td>7</td></tr>\n",
       "\t<tr><td>4</td><td>8</td><td>4</td><td>8</td></tr>\n",
       "</tbody>\n",
       "</table>\n"
      ],
      "text/latex": [
       "\\begin{tabular}{llll}\n",
       "\t 1 & 5 & 1 & 5\\\\\n",
       "\t 2 & 6 & 2 & 6\\\\\n",
       "\t 3 & 7 & 3 & 7\\\\\n",
       "\t 4 & 8 & 4 & 8\\\\\n",
       "\\end{tabular}\n"
      ],
      "text/markdown": [
       "\n",
       "| 1 | 5 | 1 | 5 | \n",
       "| 2 | 6 | 2 | 6 | \n",
       "| 3 | 7 | 3 | 7 | \n",
       "| 4 | 8 | 4 | 8 | \n",
       "\n",
       "\n"
      ],
      "text/plain": [
       "     [,1] [,2] [,3] [,4]\n",
       "[1,] 1    5    1    5   \n",
       "[2,] 2    6    2    6   \n",
       "[3,] 3    7    3    7   \n",
       "[4,] 4    8    4    8   "
      ]
     },
     "metadata": {},
     "output_type": "display_data"
    }
   ],
   "source": [
    "#m <- matrix(1:8,nrow=2,ncol=2)\n",
    "#m\n",
    "m2 <- matrix(1:8,nrow=4,ncol=4)\n",
    "m2"
   ]
  },
  {
   "cell_type": "markdown",
   "metadata": {
    "slideshow": {
     "slide_type": "slide"
    }
   },
   "source": [
    "# Arreglos <a id='arreglos'></a>\n",
    "\n",
    "- Un arreglo es un vector de varias dimensiones\n",
    "- Recibe como parámetros:\n",
    "    - Vector de datos\n",
    "    - Vector de enteros que indican el tamaño de cada dimensión\n",
    "- Por ejemplo si este vector es de tamaño 3 se crea un 'cubo' de datos"
   ]
  },
  {
   "cell_type": "code",
   "execution_count": 46,
   "metadata": {
    "slideshow": {
     "slide_type": "slide"
    }
   },
   "outputs": [
    {
     "data": {
      "text/html": [
       "<table>\n",
       "<tbody>\n",
       "\t<tr><td>1 </td><td>5 </td><td> 9</td><td>13</td></tr>\n",
       "\t<tr><td>2 </td><td>6 </td><td>10</td><td>14</td></tr>\n",
       "\t<tr><td>3 </td><td>7 </td><td>11</td><td>15</td></tr>\n",
       "\t<tr><td>4 </td><td>8 </td><td>12</td><td>16</td></tr>\n",
       "</tbody>\n",
       "</table>\n"
      ],
      "text/latex": [
       "\\begin{tabular}{llll}\n",
       "\t 1  & 5  &  9 & 13\\\\\n",
       "\t 2  & 6  & 10 & 14\\\\\n",
       "\t 3  & 7  & 11 & 15\\\\\n",
       "\t 4  & 8  & 12 & 16\\\\\n",
       "\\end{tabular}\n"
      ],
      "text/markdown": [
       "\n",
       "| 1  | 5  |  9 | 13 | \n",
       "| 2  | 6  | 10 | 14 | \n",
       "| 3  | 7  | 11 | 15 | \n",
       "| 4  | 8  | 12 | 16 | \n",
       "\n",
       "\n"
      ],
      "text/plain": [
       "     [,1] [,2] [,3] [,4]\n",
       "[1,] 1    5     9   13  \n",
       "[2,] 2    6    10   14  \n",
       "[3,] 3    7    11   15  \n",
       "[4,] 4    8    12   16  "
      ]
     },
     "metadata": {},
     "output_type": "display_data"
    }
   ],
   "source": [
    "a <- array(1:48,dim=c(4,4,3))\n",
    "#a\n",
    "#a[1,1,1] # Extracción de un único elemento\n",
    "#a[2,,1]  # Extracción de una única fila\n",
    "a[,,1]   # Extracción de una capa (submatriz)"
   ]
  },
  {
   "cell_type": "markdown",
   "metadata": {
    "slideshow": {
     "slide_type": "slide"
    }
   },
   "source": [
    "# Listas <a id='listas'></a>\n",
    "\n",
    "- A diferencia de los vectores:\n",
    "    - Las listas pueden tener elementos de distintos tipos (R no aplica coerción)\n",
    "    - El operador $[i]$ retorna una lista de tamaño 1 con el elemento deseado\n",
    "- Para extraer un elemento (al igual que en un vector) se usa el operador $[[i]]$"
   ]
  },
  {
   "cell_type": "code",
   "execution_count": 50,
   "metadata": {
    "slideshow": {
     "slide_type": "slide"
    }
   },
   "outputs": [
    {
     "data": {
      "text/html": [
       "<ol>\n",
       "\t<li>1</li>\n",
       "\t<li>'a'</li>\n",
       "\t<li>TRUE</li>\n",
       "\t<li>1.3</li>\n",
       "</ol>\n"
      ],
      "text/latex": [
       "\\begin{enumerate}\n",
       "\\item 1\n",
       "\\item 'a'\n",
       "\\item TRUE\n",
       "\\item 1.3\n",
       "\\end{enumerate}\n"
      ],
      "text/markdown": [
       "1. 1\n",
       "2. 'a'\n",
       "3. TRUE\n",
       "4. 1.3\n",
       "\n",
       "\n"
      ],
      "text/plain": [
       "[[1]]\n",
       "[1] 1\n",
       "\n",
       "[[2]]\n",
       "[1] \"a\"\n",
       "\n",
       "[[3]]\n",
       "[1] TRUE\n",
       "\n",
       "[[4]]\n",
       "[1] 1.3\n"
      ]
     },
     "metadata": {},
     "output_type": "display_data"
    },
    {
     "data": {
      "text/html": [
       "<ol>\n",
       "\t<li>'a'</li>\n",
       "</ol>\n"
      ],
      "text/latex": [
       "\\begin{enumerate}\n",
       "\\item 'a'\n",
       "\\end{enumerate}\n"
      ],
      "text/markdown": [
       "1. 'a'\n",
       "\n",
       "\n"
      ],
      "text/plain": [
       "[[1]]\n",
       "[1] \"a\"\n"
      ]
     },
     "metadata": {},
     "output_type": "display_data"
    },
    {
     "data": {
      "text/html": [
       "'a'"
      ],
      "text/latex": [
       "'a'"
      ],
      "text/markdown": [
       "'a'"
      ],
      "text/plain": [
       "[1] \"a\""
      ]
     },
     "metadata": {},
     "output_type": "display_data"
    }
   ],
   "source": [
    "# Listas en R\n",
    "\n",
    "x <- list(1,\"a\",T,1.3)\n",
    "\n",
    "x # Impresión de la lista en pantalla \n",
    "\n",
    "x[2] # Extracción de una sublista\n",
    "\n",
    "x[[2]] # Extracción de un elemento"
   ]
  },
  {
   "cell_type": "markdown",
   "metadata": {
    "slideshow": {
     "slide_type": "slide"
    }
   },
   "source": [
    "# Marcos de datos (Data Frames) <a id='marcos'></a>\n",
    "\n",
    "- Estructura de dos dimensiones en la cual cada columna tiene su propio tipo de datos\n",
    "- Las columnas en un marco de datos pueden tener etiquetas que permiten al usuario consultarlas con mayor facilidad usando el sı́mbolo $\n",
    "- Al consultar una columna por su etiqueta, se obtiene un vector"
   ]
  },
  {
   "cell_type": "code",
   "execution_count": 56,
   "metadata": {
    "slideshow": {
     "slide_type": "slide"
    }
   },
   "outputs": [
    {
     "data": {
      "text/html": [
       "<table>\n",
       "<thead><tr><th scope=col>ColA</th><th scope=col>ColB</th><th scope=col>ColC</th></tr></thead>\n",
       "<tbody>\n",
       "\t<tr><td>1    </td><td>X    </td><td> TRUE</td></tr>\n",
       "\t<tr><td>2    </td><td>Y    </td><td> TRUE</td></tr>\n",
       "\t<tr><td>3    </td><td>Z    </td><td>FALSE</td></tr>\n",
       "</tbody>\n",
       "</table>\n"
      ],
      "text/latex": [
       "\\begin{tabular}{r|lll}\n",
       " ColA & ColB & ColC\\\\\n",
       "\\hline\n",
       "\t 1     & X     &  TRUE\\\\\n",
       "\t 2     & Y     &  TRUE\\\\\n",
       "\t 3     & Z     & FALSE\\\\\n",
       "\\end{tabular}\n"
      ],
      "text/markdown": [
       "\n",
       "ColA | ColB | ColC | \n",
       "|---|---|---|\n",
       "| 1     | X     |  TRUE | \n",
       "| 2     | Y     |  TRUE | \n",
       "| 3     | Z     | FALSE | \n",
       "\n",
       "\n"
      ],
      "text/plain": [
       "  ColA ColB ColC \n",
       "1 1    X     TRUE\n",
       "2 2    Y     TRUE\n",
       "3 3    Z    FALSE"
      ]
     },
     "metadata": {},
     "output_type": "display_data"
    },
    {
     "data": {
      "text/html": [
       "<table>\n",
       "<thead><tr><th scope=col>f$ColA</th></tr></thead>\n",
       "<tbody>\n",
       "\t<tr><td>1</td></tr>\n",
       "\t<tr><td>2</td></tr>\n",
       "\t<tr><td>3</td></tr>\n",
       "</tbody>\n",
       "</table>\n"
      ],
      "text/latex": [
       "\\begin{tabular}{r|l}\n",
       " f\\$ColA\\\\\n",
       "\\hline\n",
       "\t 1\\\\\n",
       "\t 2\\\\\n",
       "\t 3\\\\\n",
       "\\end{tabular}\n"
      ],
      "text/markdown": [
       "\n",
       "f$ColA | \n",
       "|---|---|---|\n",
       "| 1 | \n",
       "| 2 | \n",
       "| 3 | \n",
       "\n",
       "\n"
      ],
      "text/plain": [
       "  f$ColA\n",
       "1 1     \n",
       "2 2     \n",
       "3 3     "
      ]
     },
     "metadata": {},
     "output_type": "display_data"
    }
   ],
   "source": [
    "# Marco de datos en R\n",
    "a <- c(1,2,3)\n",
    "b <- c(\"X\",\"Y\",\"Z\")\n",
    "c <- c(T,T,F)\n",
    "f <- data.frame(ColA = a, ColB = b, ColC = c)\n",
    "f\n",
    "#f$ColA\n",
    "as.data.frame(f$ColA) "
   ]
  },
  {
   "cell_type": "markdown",
   "metadata": {
    "slideshow": {
     "slide_type": "slide"
    }
   },
   "source": [
    "- Al igual que los vectores, los elementos en un marco de datos pueden ser consultados con el operador [i,j]\n",
    "\n",
    "- Al ser una estructura bidimensional siempre hay que indicar las dos dimensiones, aunque puede dejarse una vacı́a si se quiere recuperar toda una fila o una columna (i.e.: [i,] o [,i])\n",
    "\n",
    "- Las filas también pueden tener etiquetas, y al consultar un valor con el operador [i,i] puede usarse la etiqueta de la fila o columna en lugar de su ı́ndice\n"
   ]
  },
  {
   "cell_type": "code",
   "execution_count": 59,
   "metadata": {
    "slideshow": {
     "slide_type": "slide"
    }
   },
   "outputs": [
    {
     "data": {
      "text/html": [
       "1"
      ],
      "text/latex": [
       "1"
      ],
      "text/markdown": [
       "1"
      ],
      "text/plain": [
       "[1] 1"
      ]
     },
     "metadata": {},
     "output_type": "display_data"
    },
    {
     "data": {
      "text/html": [
       "X"
      ],
      "text/latex": [
       "X"
      ],
      "text/markdown": [
       "X"
      ],
      "text/plain": [
       "[1] X\n",
       "Levels: X Y Z"
      ]
     },
     "metadata": {},
     "output_type": "display_data"
    }
   ],
   "source": [
    "row.names(f) <- c(\"F1\",\"F2\",\"F3\")\n",
    "f[1,1] # Consulta del elemento en la fila 1, columna 1\n",
    "\n",
    "f[\"F1\",\"ColB\"] # Consulta del elemento en la fila F1 (1), columna ColA (1)"
   ]
  },
  {
   "cell_type": "markdown",
   "metadata": {
    "collapsed": true,
    "slideshow": {
     "slide_type": "slide"
    }
   },
   "source": [
    "<a id='funciones'></a>\n",
    "<hr>\n",
    "<hr>\n",
    "<h1><center><span style=\"color:blue\">Funciones </span></center></h1>\n",
    "<hr>\n",
    "<hr>"
   ]
  },
  {
   "cell_type": "markdown",
   "metadata": {
    "collapsed": true,
    "slideshow": {
     "slide_type": "slide"
    }
   },
   "source": [
    "# Funciones\n",
    "\n",
    "- Agrupan instrucciones que resuelven tareas específicas\n",
    "- Ayudan a modularizar el problema\n",
    "- Permiten construir soluciones complejas mediante elementos sencillos\n",
    "- Reciben algún tipo de entrada, la transforman o manipulan y retornan el resultado\n",
    "- Pueden ser utilizadas dentro de otras funciones.\n",
    "- Pueden combinarse con otras funciones.\n",
    "    - Principio de composición funcional:  $f(g(x))$\n"
   ]
  },
  {
   "cell_type": "markdown",
   "metadata": {
    "collapsed": true,
    "slideshow": {
     "slide_type": "slide"
    }
   },
   "source": [
    "# Ejemplo de función\n",
    "\n",
    "Objetivo: verificar si un número está en una lista\n",
    "Sean $L$ una lista de números, y $n$ el elemento buscado\n",
    "\n",
    "<hr>\n",
    "**Algoritmo 2** Búsqueda en una lista\n",
    "<hr>\n",
    "```fortran\n",
    "1. function ESTAEN(L, n)\n",
    "2.    for e|emento en L do\n",
    "3.       if e|emento == n then\n",
    "4.          Retornar VERDADERO\n",
    "5.       end if\n",
    "6.    end for\n",
    "7.    Retornar FALSO\n",
    "8. end function\n",
    "```\n",
    "<hr>\n",
    "\n"
   ]
  },
  {
   "cell_type": "code",
   "execution_count": 68,
   "metadata": {
    "slideshow": {
     "slide_type": "slide"
    }
   },
   "outputs": [
    {
     "data": {
      "text/html": [
       "4"
      ],
      "text/latex": [
       "4"
      ],
      "text/markdown": [
       "4"
      ],
      "text/plain": [
       "[1] 4"
      ]
     },
     "metadata": {},
     "output_type": "display_data"
    }
   ],
   "source": [
    "#Ejemplo de función en R\n",
    "\n",
    "buscarPosicion <- function(L, n) {\n",
    "    i <- 1\n",
    "    for(elemento in L) {\n",
    "        if(elemento == n) {\n",
    "            return(i)\n",
    "        }\n",
    "        i = i+1\n",
    "    }\n",
    "    return(-1)\n",
    "}\n",
    "\n",
    "miLista <- c(2 , 8 , 7, 3 , 3)\n",
    "elemBuscado <- 3\n",
    "resultado <- buscarPosicion(miLista, elemBuscado)\n",
    "resultado"
   ]
  },
  {
   "cell_type": "markdown",
   "metadata": {
    "slideshow": {
     "slide_type": "slide"
    }
   },
   "source": [
    "<a id='ejercicios'></a>\n",
    "<hr>\n",
    "<hr>\n",
    "<h1><center><span style=\"color:blue\">Ejercicios de programación</span></center></h1>\n",
    "<hr>\n",
    "<hr>"
   ]
  },
  {
   "cell_type": "markdown",
   "metadata": {
    "slideshow": {
     "slide_type": "slide"
    }
   },
   "source": [
    "Resuelva los ejercicios del notebook: \"Ejercicios_intro_programacion_R.ipynb\""
   ]
  }
 ],
 "metadata": {
  "celltoolbar": "Slideshow",
  "kernelspec": {
   "display_name": "R",
   "language": "R",
   "name": "ir"
  },
  "language_info": {
   "codemirror_mode": "r",
   "file_extension": ".r",
   "mimetype": "text/x-r-source",
   "name": "R",
   "pygments_lexer": "r",
   "version": "3.5.0"
  }
 },
 "nbformat": 4,
 "nbformat_minor": 2
}
