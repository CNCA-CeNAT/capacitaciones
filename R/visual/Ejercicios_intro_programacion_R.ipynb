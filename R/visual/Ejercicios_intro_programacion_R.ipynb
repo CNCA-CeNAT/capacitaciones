{
 "cells": [
  {
   "cell_type": "markdown",
   "metadata": {},
   "source": [
    "<h1> <center> Taller de Análisis de datos con R </center> </h1>\n",
    "\n",
    "<h2> <center>  Ejercicios de progamación con R </center> </h2>\n",
    "\n",
    "<!-- <h3> <center> Jorge Castro - jcastro@cenat.ac.cr </center> </h3>\n",
    "<h3> <center> Diego Jiménez - djimenez@cenat.ac.cr </center> </h3> -->\n",
    "\n",
    "\n",
    "\n",
    " <table>  \n",
    "  <tr>\n",
    "    <td><h3>Jorge Castro</h3></td>\n",
    "    <td><h3>jcastro@cenat.ac.cr</h3></td>\n",
    "  </tr>  \n",
    "  <tr>\n",
    "    <td><h3>Diego Jiménez</h3></td>\n",
    "    <td><h3>djimenez@cenat.ac.cr</h3></td>\n",
    "  </tr> \n",
    "</table>\n",
    "\n",
    "<table>  \n",
    "  <tr>\n",
    "    <td> <img align=\"left\" src=\"img/cnca.png\", width=400></td>\n",
    "    <td> <img align=\"right\" src=\"img/cenat.png\", width=400></td>\n",
    "  </tr>  \n",
    "  <tr>\n",
    "    <td colspan=\"2\"> <center> <h3> Octubre 2017 </h3> </center> </td>\n",
    "  </tr>  \n",
    "</table>\n"
   ]
  },
  {
   "cell_type": "markdown",
   "metadata": {},
   "source": [
    "# Contenido\n",
    "\n",
    "1. [Aspectos básicos de R](#aspectosbasicos)   \n",
    "<br>\n",
    "2. [Vectores](#vectores)   \n",
    "<br>\n",
    "3. [Explorando datos con R](#explorando)   \n",
    "<br>\n",
    "4. [Funciones](#funciones)    \n",
    "<br>\n"
   ]
  },
  {
   "cell_type": "markdown",
   "metadata": {},
   "source": [
    "<a id='aspectosbasicos'></a>\n",
    "<hr>\n",
    "<hr>\n",
    "<h1><center><span style=\"color:blue\">Aspectos básicos de R</span></center></h1>\n",
    "<hr>\n",
    "<hr>"
   ]
  },
  {
   "cell_type": "markdown",
   "metadata": {},
   "source": [
    "En esta sección, vamos a explorar algunos conceptos y nociones básicas de la programación con R.\n",
    "\n",
    "Si en algún momento tiene alguna duda o quiere más información de algún tema o función específica, puede utilizar la ayuda de R mediante los comandos: help(tema) o el operador ?. Ej: help(sum) ó ?sum\n",
    "\n",
    "No dude tampoco en preguntar a nuestros instructores. \n",
    "\n"
   ]
  },
  {
   "cell_type": "markdown",
   "metadata": {},
   "source": [
    "<hr>\n",
    "<hr>\n",
    "\n",
    "**P)** En su manera más simple, R puede ser utilizado como una calculadora interactiva. Pruebe sumar dos valores numéricos ( Ej: 5+7 ) y presione Ctrl + Enter"
   ]
  },
  {
   "cell_type": "code",
   "execution_count": null,
   "metadata": {
    "collapsed": true,
    "scrolled": false
   },
   "outputs": [],
   "source": []
  },
  {
   "cell_type": "markdown",
   "metadata": {},
   "source": [
    "** R) ** R simplemente le devolverá el resultado de la operación matemática. Sin embargo, R es un lenguaje de programación y su principal razón de ser, en contraste con una calculadora, es automatizar procesos. En estos casos es de interés poder utilizar nuestros resultados para darles tratamientos posteriores y para hacerlo, utilizamos variables.\n",
    "\n",
    "<hr>\n",
    "<hr>"
   ]
  },
  {
   "cell_type": "markdown",
   "metadata": {},
   "source": [
    "**P)** Para crear una variable donde almacenar valores, utilizamos el asignador de operación que en R es simplemente un símbolo de 'menor que' seguido de un signo de 'menos'. Así como se muestra:  ' <- '.  Al hacer esto, se asigna lo que está a la derecha del operador a la variable que está a la izquierda.\n",
    "\n",
    "Entonces, para asignar el resultado de una suma a una variable 'x' basta con ingresar lo siguiente: x <- 5+7\n",
    "\n",
    "Pruebe hacerlo en la siguiente celda.\n"
   ]
  },
  {
   "cell_type": "code",
   "execution_count": 8,
   "metadata": {
    "collapsed": true
   },
   "outputs": [],
   "source": [
    "x <- 2\n",
    "y <- 7\n",
    "rm(x)"
   ]
  },
  {
   "cell_type": "markdown",
   "metadata": {},
   "source": [
    "** R) ** Habrá notado que R no imprimió el resultado de la operación como lo hizo anteriormente. Esto pasa porque, cuando se utiliza el operador de asignación, R asume que no queremos ver el resultado sino que lo vamos a utilizar posteriormente.\n",
    "\n",
    "Para ver el resultado, escriba 'x' en la celda después de la asignación. Pruebe además crear una variable 'y' con el valor de x - 3 e imprimirla."
   ]
  },
  {
   "cell_type": "code",
   "execution_count": 9,
   "metadata": {},
   "outputs": [
    {
     "data": {
      "text/html": [
       "'y'"
      ],
      "text/latex": [
       "'y'"
      ],
      "text/markdown": [
       "'y'"
      ],
      "text/plain": [
       "[1] \"y\""
      ]
     },
     "metadata": {},
     "output_type": "display_data"
    }
   ],
   "source": [
    "ls()"
   ]
  },
  {
   "cell_type": "markdown",
   "metadata": {},
   "source": [
    "<hr>\n",
    "<hr>\n",
    "\n",
    "**P)**  Ahora bien, vamos a crear una pequeña colección de números llamada vector. Cualquier objeto que contenga datos se conoce como una estructura de datos y los vectores numéricos son la forma más simple que existe en R. De hecho, en R hasta un único número es tratado como un vector de longitud 1. \n",
    "\n",
    "La manera más sencilla de crear un vector es con la función c() (la c representa 'concatenar' o 'combinar').   Para crear un vector (1.1, 9, 3.14) escriba en la siguiente celda lo siguiente: c(1.1, 9, 3.14). Hágalo y guarde el resultado en una variable 'z'."
   ]
  },
  {
   "cell_type": "code",
   "execution_count": null,
   "metadata": {
    "collapsed": true
   },
   "outputs": [],
   "source": []
  },
  {
   "cell_type": "markdown",
   "metadata": {},
   "source": [
    "** R) ** Recuerde que para ver el resultado debe escribir el nombre de la variable despueś de la asignación.\n",
    "\n",
    "Para ver más información de la función c() utilice la ayuda de R mediante los comandos: help(c) o ?c\n",
    "\n",
    "<hr>\n",
    "<hr>"
   ]
  },
  {
   "cell_type": "markdown",
   "metadata": {},
   "source": [
    "**P)** Es posible combinar vectores en R para formar uno nuevo. Intente crear un nuevo vector que contenga a z, 555 y luego el vector z de nuevo, en ese orden. No asigne el vector a una variable para poder ver inmediatamente el resultado. "
   ]
  },
  {
   "cell_type": "code",
   "execution_count": null,
   "metadata": {
    "collapsed": true
   },
   "outputs": [],
   "source": []
  },
  {
   "cell_type": "markdown",
   "metadata": {},
   "source": [
    "<hr>\n",
    "<hr>\n",
    "\n",
    "**P)** Además, en R, los vectores numéricos pueden ser utilizados en expresiones aritméticas. Intente probar lo siguiente y ver qué pasa: z * 2 + 100"
   ]
  },
  {
   "cell_type": "code",
   "execution_count": null,
   "metadata": {
    "collapsed": true,
    "scrolled": true
   },
   "outputs": [],
   "source": []
  },
  {
   "cell_type": "markdown",
   "metadata": {},
   "source": [
    "** R) ** Otros operadores aritméticos que se pueden utilizar son:  '+' ,  '-' ,  '/'  y  '^' (este último sirve para exponentes). Para calcular la raíz cuadrada, utilice la función sqrt() y para el valor absoluto, la función abs().  \n",
    "\n",
    "<hr>\n",
    "<hr>"
   ]
  },
  {
   "cell_type": "markdown",
   "metadata": {},
   "source": [
    "**P)**  Intente calcular la raíz cuadrada de z - 1 y asignarla a la variable my_sqrt. \n",
    "\n",
    "Antes de imprimirla intente determinar que podría retornar R:\n",
    "    1. Un vector de longitud 3\n",
    "    2. Un vector de longitud 1\n",
    "    3. Un vector de longitud 0 (vacío)"
   ]
  },
  {
   "cell_type": "code",
   "execution_count": null,
   "metadata": {
    "collapsed": true
   },
   "outputs": [],
   "source": []
  },
  {
   "cell_type": "markdown",
   "metadata": {},
   "source": [
    "** R) ** R lo que hace es primero restar 1 a cada elemento de z y luego calcular la raíz cuadrada para cada uno. Esto resulta en un vector con el mismo largo que el original.\n"
   ]
  },
  {
   "cell_type": "markdown",
   "metadata": {},
   "source": [
    "<a id='vectores'></a>\n",
    "<hr>\n",
    "<hr>\n",
    "<h1><center><span style=\"color:blue\">Vectores</span></center></h1>\n",
    "<hr>\n",
    "<hr>"
   ]
  },
  {
   "cell_type": "markdown",
   "metadata": {},
   "source": [
    "La estructura de datos más simple y común en R son los vectores. \n",
    "\n",
    "Los vectores pueden ser de dos tipos:\n",
    "    1. Vectores atómicos: contienen datos de un único tipo de dato. \n",
    "    2. Listas: pueden contener datos de diferentes tipos. \n",
    "\n",
    "Durante la sección previa, tratamos con vectores numéricos. Sin embargo, en R podemos lidiar con vectores atómicos de diferentes tipos de datos:\n",
    "    1. Vectores lógicos: contienen valores booleanos (TRUE, FALSE y NA).\n",
    "    2. Vectores de caracteres: almacenan texto. Se utilizan las comillas para diferenciar los caracteres  de otros tipos de datos.  \n",
    "    3. Vectores numéricos: pueden almacenar números enteros, complejos, etc. "
   ]
  },
  {
   "cell_type": "markdown",
   "metadata": {},
   "source": [
    "<hr>\n",
    "<hr>\n",
    "**P)** Vamos a iniciar nuestra práctica con los vectores lógicos. Construya un vector numérico llamado num_vect que contenga los valores 0.5, 55, -10 y 6."
   ]
  },
  {
   "cell_type": "code",
   "execution_count": null,
   "metadata": {
    "collapsed": true
   },
   "outputs": [],
   "source": []
  },
  {
   "cell_type": "markdown",
   "metadata": {},
   "source": [
    "** R) ** Recuerde que la función c() es utilizada para crear un vector. Si no recuerda como utilizarla, consulta con la ayuda de R utilizando el llamado a ?c. No olvide asignar el resultado a una variable nueva denominada num_vect.\n",
    "\n",
    "\n",
    "<hr>\n",
    "<hr>"
   ]
  },
  {
   "cell_type": "markdown",
   "metadata": {},
   "source": [
    "**P)** Ahora, cree una variable _tf_ que almacene el resultado de la comparación *num_vect* < 1 (léase como *num_vect* es menor a 1)."
   ]
  },
  {
   "cell_type": "code",
   "execution_count": null,
   "metadata": {
    "collapsed": true
   },
   "outputs": [],
   "source": []
  },
  {
   "cell_type": "markdown",
   "metadata": {},
   "source": [
    "** R) ** ¿Cuál cree que sea el resultado almacenado en *tf*?\n",
    "    1. Un vector de 4 valores lógicos\n",
    "    2. Un vector de un único valor lógico\n",
    "\n",
    "Para resolver esto utilice: *tf* <- *num_vect* < 1\n",
    "\n",
    "<hr>\n",
    "<hr>"
   ]
  },
  {
   "cell_type": "markdown",
   "metadata": {},
   "source": [
    "**P)** Despliegue ahora el resultado de *tf*  imprimiéndolo. Para hacerlo simplemente escriba *tf* en la siguiente celda."
   ]
  },
  {
   "cell_type": "code",
   "execution_count": null,
   "metadata": {
    "collapsed": true
   },
   "outputs": [],
   "source": []
  },
  {
   "cell_type": "markdown",
   "metadata": {},
   "source": [
    "** R) **La sentencia *num_vect* < 1 es una condición y básicamente evalúa cada elemento del vector numérico y nos dice cuales satisfacen la condición dada. \n",
    "\n",
    "En este caso, el primer elemento 0.5 < 1 es verdadero (TRUE). El segundo elemento 55 no satisface la condición y por lo tanto el resultado es FALSE. Los demás elementos siguen la misma lógica. \n",
    "\n",
    "<hr>\n",
    "<hr>"
   ]
  },
  {
   "cell_type": "markdown",
   "metadata": {},
   "source": [
    "**P)** Pruebe ahora la condición *num_vect >= 6* sin asignarla a una variable."
   ]
  },
  {
   "cell_type": "code",
   "execution_count": null,
   "metadata": {
    "collapsed": true
   },
   "outputs": [],
   "source": []
  },
  {
   "cell_type": "markdown",
   "metadata": {},
   "source": [
    "** R) ** En este caso estamos evaluando si cada elemento es mayor **ó** igual a 6. Los operadores '<', '>' son denominados operadores lógicos. Otros existentes son:\n",
    "'<=',  '>=',  '==' (para igualdades) y  '!=' para desigualdades.  \n",
    "\n",
    "Si tenemos dos expresiones lógicas A y B, podemos evaluar si por lo menos una de ellas es verdadera (TRUE) con A | B (or lógico ó unión) ó si las dos son verdaderas con A & B (and lógico ó intersección). Por último, !A es la negación de A y es verdadera si A es falsa y vice versa.\n",
    "\n",
    "<hr>\n",
    "<hr>"
   ]
  },
  {
   "cell_type": "markdown",
   "metadata": {},
   "source": [
    "**P)** Es importante entender el funcionamiento de estos operadores lógicos y sus combinaciones. Por esto, le propondremos una serie de sentencias lógicas. Intente determinar si su resultado es verdadero o falso antes de evaluarlas en R. Puede utilizar un lápiz y un papel si siente que le puede ser de ayuda.\n",
    "\n",
    "    1. (3 > 5) & (4 == 4)\n",
    "    2. (TRUE == TRUE) | (TRUE == FALSE)\n",
    "    3. ((111 >= 111) | !(TRUE)) & ((4 + 1) == 5)\n"
   ]
  },
  {
   "cell_type": "code",
   "execution_count": null,
   "metadata": {
    "collapsed": true
   },
   "outputs": [],
   "source": []
  },
  {
   "cell_type": "markdown",
   "metadata": {},
   "source": [
    "** R) ** No se preocupe si tuvo problemas para resolver algunas de las expresiones. Esto puede ser confuso al inicio y sólo requiere práctica. \n",
    "\n",
    "<hr>\n",
    "<hr>"
   ]
  },
  {
   "cell_type": "markdown",
   "metadata": {},
   "source": [
    "**P)** Como mencionamos anteriormente, en R podemos trabajar también con vectores de caracteres. Para diferenciar un caracter de otros tipos de datos se utilizan las dobles comillas. Cree un vector de caracteres que contenga las siguientes palabras: \"Mi\", \"nombre\", \"es\". Recuerde utilizar las comillas para que R sepa que son cadenas de texto. Guarde el vector en una variable denominada *my_char*."
   ]
  },
  {
   "cell_type": "code",
   "execution_count": null,
   "metadata": {
    "collapsed": true
   },
   "outputs": [],
   "source": []
  },
  {
   "cell_type": "markdown",
   "metadata": {},
   "source": [
    "** R) ** Asegúrese de que las comas estén fuera de las comillas para que R no las incluya en las cadenas de texto. Para crear lo que se le solicita sólo debe ingresar la sentencia *my_char* <- c(\"Mi\",\"nombre\",\"es\"). Esto creará un vector de longitud 3.   \n",
    "\n",
    "<hr>\n",
    "<hr>"
   ]
  },
  {
   "cell_type": "markdown",
   "metadata": {},
   "source": [
    "** P) ** Imprima el contenido del vector *my_char* para que observe como se compone. "
   ]
  },
  {
   "cell_type": "code",
   "execution_count": null,
   "metadata": {
    "collapsed": true
   },
   "outputs": [],
   "source": []
  },
  {
   "cell_type": "markdown",
   "metadata": {},
   "source": [
    "<hr>\n",
    "<hr>"
   ]
  },
  {
   "cell_type": "markdown",
   "metadata": {},
   "source": [
    "** P) ** En este momento, *my_char* es un vector de longitud 3. Suponga ahora que quisiéramos unir los elementos que lo componen en una única cadena de texto (es decir, un vector de longitud 1), podemos hacerlo mediante la función paste(). \n",
    "\n",
    "Escriba en la siguiente celda de código la sentencia: paste(*my_char*, collapse = \" \"). Asegúrese de dejar un espacio en blanco entre las comillas en el argumento de *collapse*. Ya verá la razón de esto. "
   ]
  },
  {
   "cell_type": "code",
   "execution_count": null,
   "metadata": {
    "collapsed": true
   },
   "outputs": [],
   "source": []
  },
  {
   "cell_type": "markdown",
   "metadata": {},
   "source": [
    "** R) ** Como ve, esta función colapsa los elementos del vector original en única cadena para así formar una oración. El espacio en blanco entre las comillas del *collapse* se deja de manera que haya un espacio en blanco separando cada una de las palabras del vector original. \n",
    "\n",
    "<hr>\n",
    "<hr>"
   ]
  },
  {
   "cell_type": "markdown",
   "metadata": {},
   "source": [
    "** P) ** Ahora, para agregar o 'concatenar' su nombre al final del vector *my_char*, utilice la función c() de la siguiente manera:\n",
    "c(*my_char*, \"su_nombre_aquí\"). Inténtelo y guarde el resultado en un nuevo vector llamado *my_name*."
   ]
  },
  {
   "cell_type": "code",
   "execution_count": null,
   "metadata": {
    "collapsed": true
   },
   "outputs": [],
   "source": []
  },
  {
   "cell_type": "markdown",
   "metadata": {},
   "source": [
    "** R) ** Recuerde que para visualizar el resultado o el valor de una variable, basta con escribir el nombre de la variable en una celda de código.\n",
    "\n",
    "<hr>\n",
    "<hr>"
   ]
  },
  {
   "cell_type": "markdown",
   "metadata": {},
   "source": [
    "** P) ** Un ejemplo más complicado sería unir dos vectores, cada uno de longitud 3. Utilice la función paste() para unir un vector de enteros 1:3 con una vector de texto c(\"X\", \"Y\", \"Z\"). Esta vez utilice el argumento *sep*=\"\" para no dejar ningún espacio en blanco entre elementos. "
   ]
  },
  {
   "cell_type": "code",
   "execution_count": null,
   "metadata": {
    "collapsed": true
   },
   "outputs": [],
   "source": []
  },
  {
   "cell_type": "markdown",
   "metadata": {},
   "source": [
    "** R) ** Para completar el ejercicio basta con usar la sentencia paste(1:3, c(\"X\", \"Y\", \"Z\"), sep = \"\"). ¿Qué cree que pasaría si los vectores son de diferentes longitudes? Para probarlo ingrese en la celda anterior la sentencia: paste(LETTERS, 1:4, sep = \"-\"), donde *LETTERS* es una variable predefinida en R que contiene las letras del alfabeto en inglés.\n",
    "<hr>\n",
    "<hr>"
   ]
  },
  {
   "cell_type": "markdown",
   "metadata": {},
   "source": [
    "Esperamos que el proceso de crear y unir vectores en R le haya quedado claro. Si tiene alguna duda de este tema no dude en consultar con los instructores. "
   ]
  },
  {
   "cell_type": "markdown",
   "metadata": {},
   "source": [
    "<a id='explorando'></a>\n",
    "<hr>\n",
    "<hr>\n",
    "<h1><center><span style=\"color:blue\">Explorando datos con R</span></center></h1>\n",
    "<hr>\n",
    "<hr>"
   ]
  },
  {
   "cell_type": "markdown",
   "metadata": {},
   "source": [
    "Cuando se trabaja en R con un nuevo conjunto de datos, lo primero que debería hacer es ver su contenido y como está estructurado, ¿cuál es el formato de los datos? ¿Cuáles son sus dimensiones?¿Cuáles son los nombres de sus variables?¿Existen datos faltantes?¿Hay algún problema con los datos?\n",
    " \n",
    "En esta lección vamos a lidiar con estas preguntas y más utilizando funciones internas de R. Vamos a utilizar un conjunto de datos provenientes de la base de datos *PLANTS* del Departamento de Agricultura de los Estados Unidos. \n",
    "\n",
    "**P)** Para importar los datos ejecute la siguiente sentencia: plants <- read.csv(\"dataset/plant-data.csv\")"
   ]
  },
  {
   "cell_type": "code",
   "execution_count": null,
   "metadata": {
    "collapsed": true
   },
   "outputs": [],
   "source": []
  },
  {
   "cell_type": "markdown",
   "metadata": {},
   "source": [
    "** R) ** Al correr la sentencia anterior, se habrá creado una variable plants donde almacenamos los datos de la base de datos de plantas.\n",
    "<hr>\n",
    "<hr>"
   ]
  },
  {
   "cell_type": "markdown",
   "metadata": {},
   "source": [
    "**P)** Ahora bien, para poder observar que variables se encuentran almacenadas en su ambiente de trabajo, utilice la función ls() para enlistarlas. Pruebe ingresar ls() en la siguiente celda. Debería encontrar la variable plants en la lista."
   ]
  },
  {
   "cell_type": "code",
   "execution_count": null,
   "metadata": {
    "collapsed": true
   },
   "outputs": [],
   "source": []
  },
  {
   "cell_type": "markdown",
   "metadata": {},
   "source": [
    "** R) ** Utilice la función ls() para conocer que variables están en su ambiente.\n",
    "<hr>\n",
    "<hr>"
   ]
  },
  {
   "cell_type": "markdown",
   "metadata": {},
   "source": [
    "** P) ** Ahora, un primer paso es entender que clase de variable o dato es *plants*. Para hacerlo, utilice la sentencia class(*plants*). Esto le dará una idea de la estructura que tienen los datos. "
   ]
  },
  {
   "cell_type": "code",
   "execution_count": null,
   "metadata": {
    "collapsed": true
   },
   "outputs": [],
   "source": []
  },
  {
   "cell_type": "markdown",
   "metadata": {},
   "source": [
    "** R) ** La función class le despliega la clase a la que pertenece una variable dada. \n",
    "\n",
    "Es muy común en R que los datos estén almacenados en un marco de datos. Esto se debe a que esta es la clase predefinida para operaciones o funciones de lectura de datos en R. \n",
    "<hr>\n",
    "<hr>"
   ]
  },
  {
   "cell_type": "markdown",
   "metadata": {},
   "source": [
    "** P) ** Ahora, como los datos están almacenados en un marco de datos, sabemos que es una estructura rectangular. En otras palabras, tiene dos dimensiones (filas y columnas) y calza bien con una tabla u hoja de cálculo. Utilice la función dim(*plants*) para saber exactamente con cuántas filas y columnas estamos lidiando. "
   ]
  },
  {
   "cell_type": "code",
   "execution_count": null,
   "metadata": {
    "collapsed": true
   },
   "outputs": [],
   "source": []
  },
  {
   "cell_type": "markdown",
   "metadata": {},
   "source": [
    "** R) ** El primer número que se despliega corresponde al número de filas, mientras que el segundo representa la cantidad de columnas en la estructura de datos.  \n",
    "<hr>\n",
    "<hr>"
   ]
  },
  {
   "cell_type": "markdown",
   "metadata": {},
   "source": [
    "** P) ** Usted puede también averiguar la cantidad de filas utilizando la función nrow(*plants*) y la cantidad de columnas con la función ncol(*plants*). Pruébelas a continuación."
   ]
  },
  {
   "cell_type": "code",
   "execution_count": null,
   "metadata": {
    "collapsed": true
   },
   "outputs": [],
   "source": []
  },
  {
   "cell_type": "markdown",
   "metadata": {},
   "source": [
    "** R) ** Estas funciones son útiles si necesita realizar algún procedimiento dependiente de solo una de las dos variables de dimensión. \n",
    "\n",
    "<hr>\n",
    "<hr>"
   ]
  },
  {
   "cell_type": "markdown",
   "metadata": {},
   "source": [
    "** P) ** Otra función útil en R permite conocer que tanto espacio ocupa en memoria un conjunto de datos. La función object.size() le desplegará dicha información. Pruébela a continuación con la variable *plants* de la siguiente manera: object.size(*plants*) "
   ]
  },
  {
   "cell_type": "code",
   "execution_count": null,
   "metadata": {
    "collapsed": true
   },
   "outputs": [],
   "source": []
  },
  {
   "cell_type": "markdown",
   "metadata": {},
   "source": [
    "** R) ** Tomar en cuenta el consumo de memoria es siempre importante para evitar problemas de procesamiento y almacenamiento. \n",
    "<hr>\n",
    "<hr>"
   ]
  },
  {
   "cell_type": "markdown",
   "metadata": {},
   "source": [
    "** P) ** Ahora que tenemos una idea de la forma y el tamaño de nuestros datos, vamos a entender mejor su contenido. La función names(*plants*) retorna un vector de caracteres con los nombres de las columnas de nuestro marco de datos. Inténtelo a continuación."
   ]
  },
  {
   "cell_type": "code",
   "execution_count": null,
   "metadata": {
    "collapsed": true
   },
   "outputs": [],
   "source": []
  },
  {
   "cell_type": "markdown",
   "metadata": {},
   "source": [
    "** R) ** El conjunto de datos de *plants* posee variables con nombres bastante descriptivos. Sin embargo, este no siempre es el caso, por lo que es de interés observar nuestros datos realmente. Ahora bien, el marco de datos posee más de 5000 observaciones (filas) por lo que es impráctico intentar visualizar todos los datos al mismo tiempo.  \n",
    "<hr>\n",
    "<hr>"
   ]
  },
  {
   "cell_type": "markdown",
   "metadata": {},
   "source": [
    "** P) ** La función head() permite tener una inspección rápida de la parte superior de nuestro conjunto de datos. Pruébela con único argumento."
   ]
  },
  {
   "cell_type": "code",
   "execution_count": null,
   "metadata": {
    "collapsed": true
   },
   "outputs": [],
   "source": []
  },
  {
   "cell_type": "markdown",
   "metadata": {},
   "source": [
    "** R) ** Tómese unos minutos para explorar la salida de la función head. Cada fila es numerada con número de observación y cada columna etiquetada con el nombre de la variable correspondiente.\n",
    "<hr>\n",
    "<hr>"
   ]
  },
  {
   "cell_type": "markdown",
   "metadata": {},
   "source": [
    "** P) ** Por defecto, la función head() despliega los primeros 6 registros de un marco de dato. Usted puede alterar este comportamiento pasándole a la función un segundo parámetro que corresponde a la cantidad de filas que desea observar. Utilice la función head() para desplegar ahora las primeras 10 observaciones del conjunto de datos. "
   ]
  },
  {
   "cell_type": "code",
   "execution_count": null,
   "metadata": {
    "collapsed": true
   },
   "outputs": [],
   "source": []
  },
  {
   "cell_type": "markdown",
   "metadata": {},
   "source": [
    "** R) ** El llamado a la función head(*plants*, 10) debería darle el resultado deseado.\n",
    "<hr>\n",
    "<hr>"
   ]
  },
  {
   "cell_type": "markdown",
   "metadata": {},
   "source": [
    "** P) ** Existe una función similar a head() que permite explorar los registros finales del conjunto de datos. Utilice la función tail() para observar las últimas 15 filas del marco de datos *plants* "
   ]
  },
  {
   "cell_type": "code",
   "execution_count": null,
   "metadata": {
    "collapsed": true
   },
   "outputs": [],
   "source": []
  },
  {
   "cell_type": "markdown",
   "metadata": {},
   "source": [
    "** R) ** Al utilizar tail(*plants*, 15) podrá obtener los últimos 15 registros.\n",
    "<hr>\n",
    "<hr>"
   ]
  },
  {
   "cell_type": "markdown",
   "metadata": {},
   "source": [
    "** P) ** Después de visualizar ya algunos registros de datos con las funciones head() y tail(), habrá notado que hay muchos NAs, que son básicamente la representación de R para valores faltantes. Utilice la función summary(*plants*) para entender mejor como están distribuida cada variable y cuántos datos están faltantes. "
   ]
  },
  {
   "cell_type": "code",
   "execution_count": null,
   "metadata": {
    "collapsed": true
   },
   "outputs": [],
   "source": []
  },
  {
   "cell_type": "markdown",
   "metadata": {},
   "source": [
    "** R) ** La función summary despliega diferentes salidas para cada variable dependiendo de su clase. Para datos numéricos como los de Precip_Min, summary() muestra mínimo, primer cuartil, mediana, media, tercer cuartil y máximo. Estos valores nos permiten entender cómo están distribuidos los datos.  \n",
    "\n",
    "Para variables categóricas (llamadas 'factor' en R), summary() muestra el número de veces que se presenta cada valor o nivel, por ejemplo para la variable Scientific_Name cada valor aparece una única vez ya que cada especie de planta tiene su nombre.\n",
    "<hr>\n",
    "<hr>"
   ]
  },
  {
   "cell_type": "markdown",
   "metadata": {},
   "source": [
    "** P) ** Usted puede observar que R truncó el resumen de la variable Active_Growth_Period al incluir una categoría extra llamada 'Other' category called 'Other'. Ya que esta es una variable categórica/factor, podemos analizar cuántas veces ocurrió cada valor en nuestro conjunto de datos utilizando la función table(*plants$Active.Growth.Period*)."
   ]
  },
  {
   "cell_type": "code",
   "execution_count": null,
   "metadata": {
    "collapsed": true
   },
   "outputs": [],
   "source": []
  },
  {
   "cell_type": "markdown",
   "metadata": {},
   "source": [
    "** R) ** La función table() despliega un conteo para cada nivel o categoría de una variable factor. \n",
    "\n",
    "<hr>\n",
    "<hr>"
   ]
  },
  {
   "cell_type": "markdown",
   "metadata": {},
   "source": [
    "** P) ** Quizás una de las funciones más útiles y concisas para entender la estrucutra de nuestros datos es str(). Pruébela con el marco de datos *plants* a continuación. "
   ]
  },
  {
   "cell_type": "code",
   "execution_count": null,
   "metadata": {
    "collapsed": true
   },
   "outputs": [],
   "source": []
  },
  {
   "cell_type": "markdown",
   "metadata": {},
   "source": [
    "** R) ** str() es en realidad una función muy general que se puede utilizar con la mayoría de objetos en R. Esta función combina muchas de las características e información de las otras funciones que estudiamos previamente, todo de manera concisa y legible.  \n",
    "\n",
    "<hr>\n",
    "<hr>"
   ]
  },
  {
   "cell_type": "markdown",
   "metadata": {},
   "source": [
    "En esta sección exploramos funciones que le permiten explorar rápidamente sus datos y entender su estructura y composición. Le recomendamos siempre utilizarlas al trabajar con un nuevo conjunto de datos de manera que tenga una mejor idea de cómo tratar con su información. \n",
    "\n",
    "<hr>\n",
    "<hr>"
   ]
  },
  {
   "cell_type": "markdown",
   "metadata": {},
   "source": [
    "<a id='funciones'></a>\n",
    "<hr>\n",
    "<hr>\n",
    "<h1><center><span style=\"color:blue\">Funciones</span></center></h1>\n",
    "<hr>\n",
    "<hr>"
   ]
  },
  {
   "cell_type": "markdown",
   "metadata": {},
   "source": [
    "Las funciones son uno de los bloques fundamentales de la programación en R. Son básicamente pequeñas piezas de código que pueden ser reutilizadas y pueden ser tratadas como objetos.\n",
    "\n",
    "Durante las secciones previas trabajamos ya con varias funciones preestablecidas. Las funciones se caracterizan por su nombre seguido de paréntesis. "
   ]
  },
  {
   "cell_type": "markdown",
   "metadata": {},
   "source": [
    "** P) ** Vamos a probar algunas otras funciones de R. Una de ellas, Sys.Date() retorna una cadena de texto representado la fecha del día de hoy. Escriba Sys.Date() en la celda de abajo y vea el resultado."
   ]
  },
  {
   "cell_type": "code",
   "execution_count": null,
   "metadata": {
    "collapsed": true
   },
   "outputs": [],
   "source": []
  },
  {
   "cell_type": "markdown",
   "metadata": {},
   "source": [
    "** R) ** Muchas de las funciones en R retornan algún valor de salida. Funciones como Sys.Date() retornan un valor basado en el ambiente de su computadora, mientras que otras manipulan datos de entrada y los utilizan para computar alguna salida.\n",
    "\n",
    "<hr>\n",
    "<hr>"
   ]
  },
  {
   "cell_type": "markdown",
   "metadata": {},
   "source": [
    "** P) ** La función mean() recibe un vector numérico como entrada y retorna el promedio de todos los números en dicho vector. Las entradas de una función se denominan comúnmente como argumentos. Proveer argumentos a una función es llamado también pasarle argumentos. Aquellos argumentos que deseemos pasarle a una función van dentro de los paréntesis de la función. Intente pasarle el argumento c(2,4,5) a la función mean()."
   ]
  },
  {
   "cell_type": "code",
   "execution_count": null,
   "metadata": {
    "collapsed": true
   },
   "outputs": [],
   "source": []
  },
  {
   "cell_type": "markdown",
   "metadata": {},
   "source": [
    "** R) ** Las funciones usualmente reciben argumentos que son variables sobre las cuáles la función opera. En el caso anterior, la función mean() calcula el promedio de un vector de números, sumándolos entre ellos y dividiendo el total entre el largo del vector. \n",
    "\n",
    "<hr>\n",
    "<hr>"
   ]
  },
  {
   "cell_type": "markdown",
   "metadata": {},
   "source": [
    "** P) ** Ahora bien, vamos a experimentar con la creación de funciones. En R, la última expresión que se evalúa en una función se convierte en el valor de retorno o salida. Entonces, en este ejercicio, le proveemos el esqueleto de una función que recibe un argumento *x* y simplemente retorna a la salida el valor de *x* sin modificarlo. Simplemente debe eliminar el símbolo de # para que la función retorne *x* sin alterarlo.   "
   ]
  },
  {
   "cell_type": "code",
   "execution_count": null,
   "metadata": {
    "collapsed": true
   },
   "outputs": [],
   "source": [
    "# Usted está apunto de escribir su primer función. Así como usted asignaría un valor a una  \n",
    "# variable con el operador de asignación, se asignan funciones de la siguiente manera:\n",
    "#\n",
    "# nombre_función <- function(arg1, arg2){\n",
    "#\t# Manipular argumentos de alguna manera\n",
    "#\t# Retornar un valor\n",
    "# }\n",
    "#\n",
    "# El nombre de la variable que usted asignó, se convertirá en el nombre de su función. \n",
    "# arg1 y arg2 representan los argumentos de su función. Usted puede manipular los argumentos \n",
    "# especificados dentro de la función. Luego de registrar la función, esta pueda ser utilizada \n",
    "# escribiendo:\n",
    "# \n",
    "# nombre_función(valor1, valor2)\n",
    "#\n",
    "# Vamos a crear entonces una función llamada boring_function. Esta función recibirá \n",
    "# el argumento 'x' como entrada, y retornará el valor de x sin modificarlo.\n",
    "# Elimine el símbolo de numeral que antecede a x para que la función sirva!  \n",
    "\n",
    "boring_function <- function(x) {\n",
    "  #x\n",
    "}\n",
    "\n",
    "# Al realizar el cambio solicitado, presiones CTRL + Enter para registrar la función en el ambiente de trabajo."
   ]
  },
  {
   "cell_type": "markdown",
   "metadata": {},
   "source": [
    "<hr>\n",
    "<hr>"
   ]
  },
  {
   "cell_type": "markdown",
   "metadata": {},
   "source": [
    "** P) ** Ahora que ha creado su primer función, probémosla! Escriba: boring_function(\"¡Mi primera función!\") en la siguiente celda. Si su función está bien, debería imprimir la cadena de texto: \"¡Mi primera función!\" como resultado. "
   ]
  },
  {
   "cell_type": "code",
   "execution_count": null,
   "metadata": {
    "collapsed": true
   },
   "outputs": [],
   "source": []
  },
  {
   "cell_type": "markdown",
   "metadata": {},
   "source": [
    "** R) ** Felicitaciones por crear su primera función. Al escribir esta y más, usted ganará un mejor entendimiento de cómo R trabaja. Cómo lo describió John Chambers, el creador de R: \"Para entender el funcionamiento de R, hay dos frases útiles: 1. Todo lo que existe en R es un objeto. 2. Todo lo que pasa en R son llamados a funciones.\"\n",
    "\n",
    "<hr>\n",
    "<hr>"
   ]
  },
  {
   "cell_type": "markdown",
   "metadata": {},
   "source": [
    "** P) ** Ahora bien, si usted quiere ver el código fuente de cualquier función, basta con escribir el nombre de la función de interés en la línea de comando sin argumentos ni paréntesis. Pruebe hacer esto con la función que acaba de crear. "
   ]
  },
  {
   "cell_type": "code",
   "execution_count": null,
   "metadata": {
    "collapsed": true
   },
   "outputs": [],
   "source": []
  },
  {
   "cell_type": "markdown",
   "metadata": {},
   "source": [
    "<hr>\n",
    "<hr>"
   ]
  },
  {
   "cell_type": "markdown",
   "metadata": {},
   "source": [
    "** P) ** A continuación, vamos a crear una función más útil. Intentaremos replicar la funcionalidad de mean() al crear una función que llamaremos my_mean(). Recuerde que para calcular el promedio de todos los números de un vector, se encuentra la suma total de los números en el vector y luego se divide entre la cantidad de elementos presentes en el vector. Intente crear dicha función a continuación:"
   ]
  },
  {
   "cell_type": "code",
   "execution_count": null,
   "metadata": {
    "collapsed": true
   },
   "outputs": [],
   "source": []
  },
  {
   "cell_type": "markdown",
   "metadata": {},
   "source": [
    "** R) ** Como pista, la función sum() retorna el valor de la suma de los elementos de un vector. La función length() retorna el tamaño o cantidad de elementos en un vector.\n",
    "<hr>\n",
    "<hr>"
   ]
  },
  {
   "cell_type": "markdown",
   "metadata": {},
   "source": [
    "** P) ** Pruebe su función my_mean() calculando el promedio del vector c(4,5,10)."
   ]
  },
  {
   "cell_type": "code",
   "execution_count": null,
   "metadata": {
    "collapsed": true
   },
   "outputs": [],
   "source": []
  },
  {
   "cell_type": "markdown",
   "metadata": {},
   "source": [
    "<hr>\n",
    "<hr>"
   ]
  },
  {
   "cell_type": "markdown",
   "metadata": {},
   "source": [
    "** P) ** Ahora, vamos a escribir una función con argumentos predefinidos. Usted puede dar valores preestablecidos a un argumento en una función. Esto puede ser útil cuando cierto argumento recibe el mismo valor la mayor parte del tiempo. "
   ]
  },
  {
   "cell_type": "code",
   "execution_count": null,
   "metadata": {
    "collapsed": true
   },
   "outputs": [],
   "source": [
    "# Permítanos enseñarle un ejemplo de una función que vamos a llamar \n",
    "# increment(). La mayor parte del tiempo, queremos utilizar esta función para incrementar\n",
    "# el valor de un número de uno en uno. Esta función recibirá dos argumentos: \"number\" y\n",
    "# \"by\" donde \"number\" es el dígito que deseo incrementar y \"by\"  es la cantidad por la que \n",
    "# deseamos incrementar a \"number\". Esta función se ve así:  \n",
    "#\n",
    "# increment <- function(number, by = 1){\n",
    "#     number + by\n",
    "# }\n",
    "#\n",
    "# Si se fija bien dentro de los paréntesis, verá que hemos asignado al argumento \n",
    "# \"by\" un valor de 1. Esto significa que el argumento \"by\" tendrá un valor \n",
    "# predefinido de 1.\n",
    "#\n",
    "# De esta manera, podemos utilizar la función increment sin pasarle un valor al argumento \"by\": \n",
    "# increment(5) resultará en un valor de 6. \n",
    "#\n",
    "# Sin embargo, si deseamos pasarle un valor al argumento \"by\", aún podemos hacerlo. La \n",
    "# expresión: increment(5, 2) resultará en un valor de 7. \n",
    "# \n",
    "# Ahora, usted escribirá una función llamada \"remainder.\" remainder() recibirá dos \n",
    "# argumentos: \"num\" y \"divisor\" donde \"num\" es dividido por \"divisor\" y el \n",
    "# residuo es retornado como salida. Imagíne que usualmente es de interés conocer el residuo \n",
    "# al dividir por 2, entonces defina un valor preestablecido de 2 al argumento \"divisor\". Asegúrese \n",
    "# de que \"num\" sea el primer argumento y \"divisor\" el segundo. \n",
    "#\n",
    "# Pista #1: Puede utilizar el operador módulo %%  para encontrar el residuo.\n",
    "#   Ex: 7 %% 4 resulta en 3. \n",
    "#\n",
    "# Recuerde fijar los valores predefinidos apropiados.\n",
    "\n",
    "remainder <- function(num, divisor) {\n",
    "  # Escriba su código aquí\n",
    "  # Recuerde: la última expresión evaluada será la salida de la función.  \n",
    "}\n",
    "\n",
    "# Al finalizar recuerde presionar CTRL + Enter para registrar la función. "
   ]
  },
  {
   "cell_type": "markdown",
   "metadata": {},
   "source": [
    "** P) ** Probemos ahora la función remainder. Corra remainder(5) y vea que sucede. "
   ]
  },
  {
   "cell_type": "code",
   "execution_count": null,
   "metadata": {
    "collapsed": true
   },
   "outputs": [],
   "source": []
  },
  {
   "cell_type": "markdown",
   "metadata": {},
   "source": [
    "** R) ** Tomemos un momento para analizar lo que acaba de ocurrir. Usted le pasó un argumento a la función y R asoció dicho valor al argumento \"num\", ya que este es el primer argumento. El valor preestablecido de \"divisor\" es 2, entonces la función usa este valor que usted proporcionó. \n",
    "<hr>\n",
    "<hr>"
   ]
  },
  {
   "cell_type": "markdown",
   "metadata": {},
   "source": [
    "** P) ** Compruebe ahora la función remainder() pasándole dos argumentos. Pruebe: remainder(11, 5) y vea qué sucede."
   ]
  },
  {
   "cell_type": "code",
   "execution_count": null,
   "metadata": {
    "collapsed": true
   },
   "outputs": [],
   "source": []
  },
  {
   "cell_type": "markdown",
   "metadata": {},
   "source": [
    "** R) ** Una vez más, podemos ver que los valores fueron asociados exitosamente con los diferentes argumentos de la función.\n",
    "\n",
    "<hr>\n",
    "<hr>"
   ]
  },
  {
   "cell_type": "markdown",
   "metadata": {},
   "source": [
    "** P) ** R nos permite también especificar de manera explícita los argumentos en una función. Al designar explícitamente valores por argumento utilizando su nombre, el orden de estos se vuelve despreciable. Puede comprobarlo ejecutando: remainder(divisor = 11, num = 5)."
   ]
  },
  {
   "cell_type": "code",
   "execution_count": null,
   "metadata": {
    "collapsed": true
   },
   "outputs": [],
   "source": []
  },
  {
   "cell_type": "markdown",
   "metadata": {},
   "source": [
    "** R) ** Como puede observar, hay una diferencia importante entre remainder(11, 5) y remainder(divisor = 11, num = 5).\n",
    "\n",
    "<hr>\n",
    "<hr>"
   ]
  },
  {
   "cell_type": "markdown",
   "metadata": {},
   "source": [
    "** P) ** La asociación parcial de argumentos es otra de las facilidades que R ofrece. Pruebe ahora ejecutar remainder(4, div = 2). "
   ]
  },
  {
   "cell_type": "code",
   "execution_count": null,
   "metadata": {
    "collapsed": true
   },
   "outputs": [],
   "source": []
  },
  {
   "cell_type": "markdown",
   "metadata": {},
   "source": [
    "** R) ** **Precaución:** en general, deseamos que nuestro código sea lo más legible y fácil de entender posible. Cambiar el orden de los argumentos al especificar su nombre o utilizar la asociación parcial de nombres de argumentos puede generar confusiones en códigos complejos, así que utilice estas propiedades con cautela. \n",
    "<hr>\n",
    "<hr>"
   ]
  },
  {
   "cell_type": "markdown",
   "metadata": {},
   "source": [
    "** P) ** Así como es posible ver el código fuente de una función escribiendo su nombre, es posible también obtener una lista de los argumentos de una función utilizando la función args(). Pruebe la función args(remainder) para examinar sus argumentos."
   ]
  },
  {
   "cell_type": "code",
   "execution_count": null,
   "metadata": {
    "collapsed": true
   },
   "outputs": [],
   "source": []
  },
  {
   "cell_type": "markdown",
   "metadata": {},
   "source": [
    "** R) ** Puede que no lo haya notado, pero acaba de realizar algo muy interesante. args() es una función, remainder() también lo es y aún así remainder fue un argumento de args(). Así que esto es posible en R, podemos pasar funciones como argumentos a otras funciones. \n",
    "<hr>\n",
    "<hr>"
   ]
  },
  {
   "cell_type": "markdown",
   "metadata": {},
   "source": [
    "** P) ** Vamos a escribir un pequeño bloque de código para entender mejor como funciona esto."
   ]
  },
  {
   "cell_type": "code",
   "execution_count": null,
   "metadata": {
    "collapsed": true
   },
   "outputs": [],
   "source": [
    "# Es posible pasar funciones como argumentos a otras funciones tal y como pasamos\n",
    "# datos a funciones. Supongamos que usted define las siguientes funciones: \n",
    "#\n",
    "# add_two_numbers <- function(num1, num2){\n",
    "#    num1 + num2\n",
    "# }\n",
    "#\n",
    "# multiply_two_numbers <- function(num1, num2){\n",
    "#\tnum1 * num2\n",
    "# }\n",
    "#\n",
    "# some_function <- function(func){\n",
    "#    func(2, 4)\n",
    "# }\n",
    "#\n",
    "# Como puede ver, utilizamos el nombre de argumento \"func\" como una función dentro de \n",
    "# \"some_function().\" Al pasar funciones como argumentos  \n",
    "# some_function(add_two_numbers) va a resultar en un valor de 6, mientras que\n",
    "# some_function(multiply_two_numbers) va a evaluarse a 8.\n",
    "# \n",
    "# Complete la definición de función que se muestra abajo de manera que si una función es pasada al \n",
    "# argumento \"func\" y algún dato(s) (como un vector) es pasado al argumento \"dat\" \n",
    "# la función evaluate() retorne el resultado de \"dat\" al ser pasado como un argumento a \n",
    "# a la función \"func\".\n",
    "#\n",
    "# Pista: Este ejercicio es un poco confuso así que le proveemos algunos ejemplos de como\n",
    "# evaluate() debería funcionar:\n",
    "#    1. evaluate(sum, c(2, 4, 6)) debería retornar un valor de 12\n",
    "#    2. evaluate(median, c(7, 40, 9)) debería evaluar a 9\n",
    "#    3. evaluate(floor, 11.1) debería retornar 11\n",
    "\n",
    "evaluate <- function(func, dat){\n",
    "  # Write your code here!\n",
    "  # Remember: the last expression evaluated will be returned! \n",
    "}"
   ]
  },
  {
   "cell_type": "markdown",
   "metadata": {},
   "source": [
    "** R) ** Asegúrese de que al pasar una función como un argumento, lo haga pasando el nombre de esta sin los paréntesis.\n",
    "<hr>\n",
    "<hr>"
   ]
  },
  {
   "cell_type": "markdown",
   "metadata": {},
   "source": [
    "** P) ** Vamos a comprobar que su función evaluate() esté bien. Utilícela para encontrar la desviación estándar del vector c(1.4, 3.6, 7.9, 8.8). Como pista, R nos permite calcular la desviación estándar con la función sd()."
   ]
  },
  {
   "cell_type": "code",
   "execution_count": null,
   "metadata": {
    "collapsed": true
   },
   "outputs": [],
   "source": []
  },
  {
   "cell_type": "markdown",
   "metadata": {},
   "source": [
    "** R) ** La idea de pasar funciones como argumentos es un concepto importante para la programación en R. \n",
    "\n",
    "Ahora, algo sorprendente es que podemos pasar una función como un argumento sin haberla definido antes. Esta clase de funciones se conocen en R como funciones anónimas.\n",
    "<hr>\n",
    "<hr>"
   ]
  },
  {
   "cell_type": "markdown",
   "metadata": {},
   "source": [
    "** P) ** Vamos a utilizar la función evaluate() para entender como es que las funciones anónimas operan. Como primer argumento vamos a escribir una pequeña función de una línea. En el segundo argumento vamos a pasar datos a la pequeña función anónima definida en el primer argumento. \n",
    "\n",
    "Escriba lo siguiente a continuación: evaluate(function(x){x+1}, 6)"
   ]
  },
  {
   "cell_type": "code",
   "execution_count": null,
   "metadata": {
    "collapsed": true
   },
   "outputs": [],
   "source": []
  },
  {
   "cell_type": "markdown",
   "metadata": {},
   "source": [
    "** R) ** El primer argumento es una pequeña función anónima que recibe un argumento *'x'* y retorna el valor de *'x+1'*. Nosotros le pasamos un 6 por lo que la expresión entera se evalúa a 7. \n",
    "<hr>\n",
    "<hr>"
   ]
  },
  {
   "cell_type": "markdown",
   "metadata": {},
   "source": [
    "** P) ** Intente ahora utilizar evaluate() con una función anónima que retorne el primer elemento del vector c(8, 4, 0). Su función anónima debería recibir un único argumento que será la variable *'x'*."
   ]
  },
  {
   "cell_type": "code",
   "execution_count": null,
   "metadata": {
    "collapsed": true
   },
   "outputs": [],
   "source": []
  },
  {
   "cell_type": "markdown",
   "metadata": {},
   "source": [
    "** R) ** Para resolver este problema, debe recordar como funciona el concepto de indexación de elementos de un vector en R. Recuerde que su función anónima sólo debe de tener un argumento llamado *'x'*. Para resolver este problema basta con ingresar: evaluate(function(x){x[1]}, c(8, 4, 0)).\n",
    "<hr>\n",
    "<hr>"
   ]
  },
  {
   "cell_type": "markdown",
   "metadata": {},
   "source": [
    "** P) ** Nos acercamos al final de esta sección pero aún hay un concepto interesante que explorar. \n",
    "\n",
    "Usted está ya familiarizado con sumar, restar, multiplicar y dividir números en R. Para hacerlo, utiliza los símbolos: +, -, * y /. Estos son denominados operadores binarios ya que reciben dos entradas y operan sobre ellas. \n",
    "\n",
    "En R es posible definir nuestros propios operadores binarios. Lo veremos a continuación. "
   ]
  },
  {
   "cell_type": "code",
   "execution_count": null,
   "metadata": {
    "collapsed": true
   },
   "outputs": [],
   "source": [
    "# La sintaxis para crear un nuevo operador binario en R es muy diferente a todo lo demás en \n",
    "# R, pero nos permite definir una nueva sintaxis para nuestra función. Recomendamos crear\n",
    "# su propio operador binario sólo si lo va a utilizar con frecuencia. \n",
    "#\n",
    "# Los operadores binarios definidos por el usuario tienen la siguiente sintaxis. \n",
    "#      %[loquesea]% \n",
    "# donde [loquesea] representa cualquier nombre válido para una variable. \n",
    "# \n",
    "# Supongamos que queremos crear un operador binario que multiplica dos números y luego\n",
    "# suma uno al producto. Una implementación de ese operador se muestra a continuación: \n",
    "#\n",
    "# \"%mult_add_one%\" <- function(left, right){ # ¡Nótese la utilización de las comillas!\n",
    "#   left * right + 1\n",
    "# }\n",
    "#\n",
    "# Podríamos entonces utilizar este operador como `4 %mult_add_one% 5` lo que resultaría en\n",
    "# un valor de 21.\n",
    "#\n",
    "# Escriba su propio operador binario desde cero. Este debe  \n",
    "# ser llamado %p% de manera que la expresión:\n",
    "#\n",
    "#       \"¡Buen\" %p% \"trabajo!\"\n",
    "#\n",
    "# resulte en: \"¡Buen trabajo!\"\n",
    "\n",
    "\"%p%\" <- function(){ # ¡Recuerde agregar argumentos!\n",
    "\n",
    "}\n"
   ]
  },
  {
   "cell_type": "markdown",
   "metadata": {},
   "source": [
    "** R) ** Recuerde que para probar la función debe hacerlo así: 'Hola' %p% 'estudiante'.\n",
    "<hr>\n",
    "<hr>"
   ]
  },
  {
   "cell_type": "markdown",
   "metadata": {},
   "source": [
    "** P) ** Vamos a probar su operador binario. Intente unir las cadenas de texto: '¡Yo', 'amo', 'R!' utilizando el operador nuevo.\n"
   ]
  },
  {
   "cell_type": "code",
   "execution_count": null,
   "metadata": {
    "collapsed": true
   },
   "outputs": [],
   "source": []
  },
  {
   "cell_type": "markdown",
   "metadata": {},
   "source": [
    "** R) ** Utilice el operador %p% en medio de cada cadena de texto. \n",
    "<hr>\n",
    "<hr>"
   ]
  },
  {
   "cell_type": "markdown",
   "metadata": {},
   "source": [
    "Hemos llegado al final de la sección y la práctica. Esperamos que estos ejercicios le hayan permitido entender mejor los conceptos básicos de la programación en R, como manipular y explorar sus datos  y como operar sobre ellos a través del uso de funciones.\n",
    "\n",
    "Si tiene alguna duda de algún tema no dude en preguntar a los instructores para que lo ayuden o lo guíen a posibles materiales de refencia para ampliar su conocimiento.\n",
    "\n",
    "¡Muchas gracias!"
   ]
  },
  {
   "cell_type": "markdown",
   "metadata": {},
   "source": [
    "<hr>\n",
    "<hr>\n",
    "<h1><center><span style=\"color:blue\">FIN</span></center></h1>\n",
    "<hr>\n",
    "<hr>"
   ]
  }
 ],
 "metadata": {
  "kernelspec": {
   "display_name": "R",
   "language": "R",
   "name": "ir"
  },
  "language_info": {
   "codemirror_mode": "r",
   "file_extension": ".r",
   "mimetype": "text/x-r-source",
   "name": "R",
   "pygments_lexer": "r",
   "version": "3.3.2"
  }
 },
 "nbformat": 4,
 "nbformat_minor": 2
}
