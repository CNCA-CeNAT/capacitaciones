{
 "cells": [
  {
   "cell_type": "markdown",
   "metadata": {
    "slideshow": {
     "slide_type": "slide"
    }
   },
   "source": [
    "<h1> <center> Taller de análisis y visualización de datos con R </center> </h1>\n",
    "\n",
    "<h2> <center>  1. Manipulación de datos con R </center> </h2>\n",
    "\n",
    "<!-- <h3> <center> Jorge Castro - jcastro@cenat.ac.cr </center> </h3>\n",
    "<h3> <center> Diego Jiménez - djimenez@cenat.ac.cr </center> </h3> -->\n",
    "\n",
    "\n",
    "\n",
    " <table>  \n",
    "  <tr>\n",
    "    <td><h3>Jorge Castro</h3></td>\n",
    "    <td><h3>jcastro@cenat.ac.cr</h3></td>\n",
    "  </tr>  \n",
    "  <tr>\n",
    "    <td><h3>Diego Jiménez</h3></td>\n",
    "    <td><h3>djimenez@cenat.ac.cr</h3></td>\n",
    "  </tr> \n",
    "</table>\n",
    "\n",
    "<table>  \n",
    "  <tr>\n",
    "    <td> <img align=\"left\" src=\"img/cnca.png\", width=400></td>\n",
    "    <td> <img align=\"right\" src=\"img/cenat.png\", width=400></td>\n",
    "  </tr>  \n",
    "  <tr>\n",
    "    <td colspan=\"2\"> <center> <h3> Octubre 2017 </h3> </center> </td>\n",
    "  </tr>  \n",
    "</table>"
   ]
  },
  {
   "cell_type": "markdown",
   "metadata": {},
   "source": [
    "# Contenido\n",
    "\n",
    "1. [Filtrado y selección de datos](#filtradoyseleccion)\n",
    "    - [Vectores condicionales](#veccond) \n",
    "    - [Subconjuntos](#subc)   \n",
    "<br>\n",
    "2. [Tratamiento de valores inválidos](#invalidos)\n",
    "    - [Identificación NA y NaN](#nans)\n",
    "    - [Tratamiento de registros inválidos](#tratamiento)\n",
    "<br>\n",
    "<br>\n",
    "3. [Pruebas de normalidad](#normalidad)\n",
    "    - [Agregación](#agregacion)\n",
    "    - [Pruebas de normalidad](#pnormalidad)\n",
    "<br>\n",
    "<br>\n",
    "4. [Transformación de datos](#transformacion)\n",
    "    - [Transformaciones logarítmicas](#logaritmicas)\n",
    "    - [Transformaciones exponenciales](#exponenciales)  \n",
    "<br>\n",
    "5. [Práctica de manipulación de datos](#practica)"
   ]
  },
  {
   "cell_type": "markdown",
   "metadata": {},
   "source": [
    "<a id='filtradoyseleccion'></a>\n",
    "<hr>\n",
    "<hr>\n",
    "<h1><center><span style=\"color:blue\">Filtrado y selección de datos</span></center></h1>\n",
    "<hr>\n",
    "<hr>\n",
    "\n"
   ]
  },
  {
   "cell_type": "markdown",
   "metadata": {
    "slideshow": {
     "slide_type": "slide"
    }
   },
   "source": [
    "# Filtrado y selección  <a id='condicionales'></a>\n",
    "\n",
    "- En R pueden aplicarse condiciones lógicas a todos los datos en un marco de datos o un vector\n",
    "    -  **Resultado**: un vector de booleanas que indica cuáles registros cumplen la condición impuesta y cuales no\n",
    "    - Por ejemplo, si se tienen datos de personas y países en los que viven, se pueden filtrar las personas que viven en China\n",
    " \n",
    "\n",
    "\n",
    "\n",
    " "
   ]
  },
  {
   "cell_type": "code",
   "execution_count": 19,
   "metadata": {
    "slideshow": {
     "slide_type": "subslide"
    }
   },
   "outputs": [
    {
     "data": {
      "text/html": [
       "'data.frame'"
      ],
      "text/latex": [
       "'data.frame'"
      ],
      "text/markdown": [
       "'data.frame'"
      ],
      "text/plain": [
       "[1] \"data.frame\""
      ]
     },
     "metadata": {},
     "output_type": "display_data"
    },
    {
     "data": {
      "text/html": [
       "<ol class=list-inline>\n",
       "\t<li>'Yemen'</li>\n",
       "\t<li>'Indonesia'</li>\n",
       "\t<li>'China'</li>\n",
       "\t<li>'China'</li>\n",
       "\t<li>'China'</li>\n",
       "\t<li>'Indonesia'</li>\n",
       "</ol>\n"
      ],
      "text/latex": [
       "\\begin{enumerate*}\n",
       "\\item 'Yemen'\n",
       "\\item 'Indonesia'\n",
       "\\item 'China'\n",
       "\\item 'China'\n",
       "\\item 'China'\n",
       "\\item 'Indonesia'\n",
       "\\end{enumerate*}\n"
      ],
      "text/markdown": [
       "1. 'Yemen'\n",
       "2. 'Indonesia'\n",
       "3. 'China'\n",
       "4. 'China'\n",
       "5. 'China'\n",
       "6. 'Indonesia'\n",
       "\n",
       "\n"
      ],
      "text/plain": [
       "[1] \"Yemen\"     \"Indonesia\" \"China\"     \"China\"     \"China\"     \"Indonesia\""
      ]
     },
     "metadata": {},
     "output_type": "display_data"
    },
    {
     "data": {
      "text/html": [
       "<ol class=list-inline>\n",
       "\t<li>FALSE</li>\n",
       "\t<li>FALSE</li>\n",
       "\t<li>TRUE</li>\n",
       "\t<li>TRUE</li>\n",
       "\t<li>TRUE</li>\n",
       "\t<li>FALSE</li>\n",
       "</ol>\n"
      ],
      "text/latex": [
       "\\begin{enumerate*}\n",
       "\\item FALSE\n",
       "\\item FALSE\n",
       "\\item TRUE\n",
       "\\item TRUE\n",
       "\\item TRUE\n",
       "\\item FALSE\n",
       "\\end{enumerate*}\n"
      ],
      "text/markdown": [
       "1. FALSE\n",
       "2. FALSE\n",
       "3. TRUE\n",
       "4. TRUE\n",
       "5. TRUE\n",
       "6. FALSE\n",
       "\n",
       "\n"
      ],
      "text/plain": [
       "[1] FALSE FALSE  TRUE  TRUE  TRUE FALSE"
      ]
     },
     "metadata": {},
     "output_type": "display_data"
    }
   ],
   "source": [
    "mock <- read.csv(\"dataset/MOCK_DATA.csv\", stringsAsFactors=F) #www.mockaroo.com\n",
    "\n",
    "class(mock)\n",
    "#str(mock)\n",
    "head(mock$country)           \n",
    "isChinese <- mock$country == \"China\"\n",
    "head(isChinese)\n",
    "           "
   ]
  },
  {
   "cell_type": "markdown",
   "metadata": {
    "slideshow": {
     "slide_type": "slide"
    }
   },
   "source": [
    "# Operaciones sobre la selección <a id='veccond'></a>\n",
    "\n",
    "- El operador $[i]$ permite aplicar una operación masiva sobre todos los datos seleccionados. \n",
    "    - Por ejemplo, una vez identificados los registros en los cuales el país es China, es posible asignar a todos esos registros el valor 100 en la columna puntaje    \n",
    "    - Es posible también contar los valores, usando la función *sum* con el vector de booleanas."
   ]
  },
  {
   "cell_type": "code",
   "execution_count": 23,
   "metadata": {
    "slideshow": {
     "slide_type": "subslide"
    }
   },
   "outputs": [
    {
     "data": {
      "text/html": [
       "<ol class=list-inline>\n",
       "\t<li>-1.78</li>\n",
       "\t<li>0.01</li>\n",
       "\t<li>-0.31</li>\n",
       "\t<li>0.34</li>\n",
       "\t<li>1.24</li>\n",
       "\t<li>0.95</li>\n",
       "</ol>\n"
      ],
      "text/latex": [
       "\\begin{enumerate*}\n",
       "\\item -1.78\n",
       "\\item 0.01\n",
       "\\item -0.31\n",
       "\\item 0.34\n",
       "\\item 1.24\n",
       "\\item 0.95\n",
       "\\end{enumerate*}\n"
      ],
      "text/markdown": [
       "1. -1.78\n",
       "2. 0.01\n",
       "3. -0.31\n",
       "4. 0.34\n",
       "5. 1.24\n",
       "6. 0.95\n",
       "\n",
       "\n"
      ],
      "text/plain": [
       "[1] -1.78  0.01 -0.31  0.34  1.24  0.95"
      ]
     },
     "metadata": {},
     "output_type": "display_data"
    },
    {
     "data": {
      "text/html": [
       "<ol class=list-inline>\n",
       "\t<li>-1.78</li>\n",
       "\t<li>0.01</li>\n",
       "\t<li>100</li>\n",
       "\t<li>100</li>\n",
       "\t<li>100</li>\n",
       "\t<li>0.95</li>\n",
       "</ol>\n"
      ],
      "text/latex": [
       "\\begin{enumerate*}\n",
       "\\item -1.78\n",
       "\\item 0.01\n",
       "\\item 100\n",
       "\\item 100\n",
       "\\item 100\n",
       "\\item 0.95\n",
       "\\end{enumerate*}\n"
      ],
      "text/markdown": [
       "1. -1.78\n",
       "2. 0.01\n",
       "3. 100\n",
       "4. 100\n",
       "5. 100\n",
       "6. 0.95\n",
       "\n",
       "\n"
      ],
      "text/plain": [
       "[1]  -1.78   0.01 100.00 100.00 100.00   0.95"
      ]
     },
     "metadata": {},
     "output_type": "display_data"
    },
    {
     "data": {
      "text/html": [
       "798"
      ],
      "text/latex": [
       "798"
      ],
      "text/markdown": [
       "798"
      ],
      "text/plain": [
       "[1] 798"
      ]
     },
     "metadata": {},
     "output_type": "display_data"
    }
   ],
   "source": [
    "# Operaciones sobre el subconjunto de observaciones de CHINA\n",
    "mock <- read.csv(\"dataset/MOCK_DATA.csv\", stringsAsFactors=F)\n",
    "isChinese <- mock$country == \"China\"\n",
    "head(mock$score)        \n",
    "mock$score[isChinese] <- 100    # Asignar un valor a todos los registros\n",
    "head(mock$score)\n",
    "                  \n",
    "sum(!isChinese) # Conteo de personas de China"
   ]
  },
  {
   "cell_type": "code",
   "execution_count": 24,
   "metadata": {},
   "outputs": [
    {
     "data": {
      "text/html": [
       "<ol class=list-inline>\n",
       "\t<li>'Simpson'</li>\n",
       "\t<li>'Payne'</li>\n",
       "\t<li>'Willis'</li>\n",
       "\t<li>'Collins'</li>\n",
       "\t<li>'Ramirez'</li>\n",
       "\t<li>'Miller'</li>\n",
       "</ol>\n"
      ],
      "text/latex": [
       "\\begin{enumerate*}\n",
       "\\item 'Simpson'\n",
       "\\item 'Payne'\n",
       "\\item 'Willis'\n",
       "\\item 'Collins'\n",
       "\\item 'Ramirez'\n",
       "\\item 'Miller'\n",
       "\\end{enumerate*}\n"
      ],
      "text/markdown": [
       "1. 'Simpson'\n",
       "2. 'Payne'\n",
       "3. 'Willis'\n",
       "4. 'Collins'\n",
       "5. 'Ramirez'\n",
       "6. 'Miller'\n",
       "\n",
       "\n"
      ],
      "text/plain": [
       "[1] \"Simpson\" \"Payne\"   \"Willis\"  \"Collins\" \"Ramirez\" \"Miller\" "
      ]
     },
     "metadata": {},
     "output_type": "display_data"
    },
    {
     "data": {
      "text/html": [
       "6"
      ],
      "text/latex": [
       "6"
      ],
      "text/markdown": [
       "6"
      ],
      "text/plain": [
       "[1] 6"
      ]
     },
     "metadata": {},
     "output_type": "display_data"
    }
   ],
   "source": [
    "#Obtener vector de apellidos de personas de Costa Rica ----\n",
    "isCostaRican <- mock$country == \"Costa Rica\" \n",
    "apellidosCR <- mock$last_name[isCostaRican]\n",
    "apellidosCR\n",
    "\n",
    "#¿Cuantas personas hay de Costa Rica?\n",
    "sum(isCostaRican)"
   ]
  },
  {
   "cell_type": "markdown",
   "metadata": {
    "slideshow": {
     "slide_type": "slide"
    }
   },
   "source": [
    "# Subconjuntos <a id='subc'></a>\n",
    "\n",
    "- Es posible extraer una parte de un marco de datos usando el operador $[i,i]$\n",
    "    - Solamente es necesario indicar un vector con los índices deseados:\n",
    "        - Números de índice\n",
    "        - Vector de booleanas."
   ]
  },
  {
   "cell_type": "code",
   "execution_count": 29,
   "metadata": {
    "scrolled": false,
    "slideshow": {
     "slide_type": "subslide"
    }
   },
   "outputs": [
    {
     "data": {
      "text/html": [
       "1000"
      ],
      "text/latex": [
       "1000"
      ],
      "text/markdown": [
       "1000"
      ],
      "text/plain": [
       "[1] 1000"
      ]
     },
     "metadata": {},
     "output_type": "display_data"
    },
    {
     "data": {
      "text/html": [
       "10"
      ],
      "text/latex": [
       "10"
      ],
      "text/markdown": [
       "10"
      ],
      "text/plain": [
       "[1] 10"
      ]
     },
     "metadata": {},
     "output_type": "display_data"
    },
    {
     "data": {
      "text/html": [
       "202"
      ],
      "text/latex": [
       "202"
      ],
      "text/markdown": [
       "202"
      ],
      "text/plain": [
       "[1] 202"
      ]
     },
     "metadata": {},
     "output_type": "display_data"
    },
    {
     "data": {
      "text/html": [
       "202"
      ],
      "text/latex": [
       "202"
      ],
      "text/markdown": [
       "202"
      ],
      "text/plain": [
       "[1] 202"
      ]
     },
     "metadata": {},
     "output_type": "display_data"
    },
    {
     "data": {
      "text/html": [
       "<table>\n",
       "<thead><tr><th scope=col>first_name</th><th scope=col>last_name</th><th scope=col>country</th></tr></thead>\n",
       "<tbody>\n",
       "\t<tr><td>Rachel   </td><td>Barnes   </td><td>Yemen    </td></tr>\n",
       "\t<tr><td>Jean     </td><td>Peterson </td><td>Indonesia</td></tr>\n",
       "\t<tr><td>Rose     </td><td>Carpenter</td><td>China    </td></tr>\n",
       "\t<tr><td>Matthew  </td><td>Hart     </td><td>China    </td></tr>\n",
       "\t<tr><td>Ralph    </td><td>Sanchez  </td><td>China    </td></tr>\n",
       "\t<tr><td>Samuel   </td><td>Wilson   </td><td>Indonesia</td></tr>\n",
       "\t<tr><td>Juan     </td><td>Clark    </td><td>Albania  </td></tr>\n",
       "</tbody>\n",
       "</table>\n"
      ],
      "text/latex": [
       "\\begin{tabular}{r|lll}\n",
       " first\\_name & last\\_name & country\\\\\n",
       "\\hline\n",
       "\t Rachel    & Barnes    & Yemen    \\\\\n",
       "\t Jean      & Peterson  & Indonesia\\\\\n",
       "\t Rose      & Carpenter & China    \\\\\n",
       "\t Matthew   & Hart      & China    \\\\\n",
       "\t Ralph     & Sanchez   & China    \\\\\n",
       "\t Samuel    & Wilson    & Indonesia\\\\\n",
       "\t Juan      & Clark     & Albania  \\\\\n",
       "\\end{tabular}\n"
      ],
      "text/markdown": [
       "\n",
       "first_name | last_name | country | \n",
       "|---|---|---|---|---|---|---|\n",
       "| Rachel    | Barnes    | Yemen     | \n",
       "| Jean      | Peterson  | Indonesia | \n",
       "| Rose      | Carpenter | China     | \n",
       "| Matthew   | Hart      | China     | \n",
       "| Ralph     | Sanchez   | China     | \n",
       "| Samuel    | Wilson    | Indonesia | \n",
       "| Juan      | Clark     | Albania   | \n",
       "\n",
       "\n"
      ],
      "text/plain": [
       "  first_name last_name country  \n",
       "1 Rachel     Barnes    Yemen    \n",
       "2 Jean       Peterson  Indonesia\n",
       "3 Rose       Carpenter China    \n",
       "4 Matthew    Hart      China    \n",
       "5 Ralph      Sanchez   China    \n",
       "6 Samuel     Wilson    Indonesia\n",
       "7 Juan       Clark     Albania  "
      ]
     },
     "metadata": {},
     "output_type": "display_data"
    },
    {
     "data": {
      "text/html": [
       "<table>\n",
       "<thead><tr><th></th><th scope=col>first_name</th><th scope=col>last_name</th><th scope=col>country</th></tr></thead>\n",
       "<tbody>\n",
       "\t<tr><th scope=row>2</th><td>Jean     </td><td>Peterson </td><td>Indonesia</td></tr>\n",
       "\t<tr><th scope=row>6</th><td>Samuel   </td><td>Wilson   </td><td>Indonesia</td></tr>\n",
       "</tbody>\n",
       "</table>\n"
      ],
      "text/latex": [
       "\\begin{tabular}{r|lll}\n",
       "  & first\\_name & last\\_name & country\\\\\n",
       "\\hline\n",
       "\t2 & Jean      & Peterson  & Indonesia\\\\\n",
       "\t6 & Samuel    & Wilson    & Indonesia\\\\\n",
       "\\end{tabular}\n"
      ],
      "text/markdown": [
       "\n",
       "| <!--/--> | first_name | last_name | country | \n",
       "|---|---|\n",
       "| 2 | Jean      | Peterson  | Indonesia | \n",
       "| 6 | Samuel    | Wilson    | Indonesia | \n",
       "\n",
       "\n"
      ],
      "text/plain": [
       "  first_name last_name country  \n",
       "2 Jean       Peterson  Indonesia\n",
       "6 Samuel     Wilson    Indonesia"
      ]
     },
     "metadata": {},
     "output_type": "display_data"
    }
   ],
   "source": [
    "mock <- read.csv(\"dataset/MOCK_DATA.csv\", stringsAsFactors=F)\n",
    "nrow(mock) #Ver cantidad de observaciones/filas/tuplas\n",
    "            \n",
    "firstTenMock <- mock[1:10,]\n",
    "nrow(firstTenMock) #primeras diez tuplas\n",
    "           \n",
    "isChinese <- mock$country == \"China\"\n",
    "chineseMock <- mock[isChinese,]     # Extrae todas las filas con el país China\n",
    "nrow(chineseMock)\n",
    "\n",
    "chineseMock2 <- subset(mock, country==\"China\") # Extrae todas las filas con el país China con subset()\n",
    "nrow(chineseMock2)\n",
    "\n",
    "#Obtener nombre y apellido de las personas de Indonesia en las 7 primeras observaciones\n",
    "first7 <- mock[1:7,c(\"first_name\",\"last_name\",\"country\")]\n",
    "first7\n",
    "#print(\"Personas de Indonesia en las primeras 7 observaciones:\")\n",
    "first7Indonesia"
   ]
  },
  {
   "cell_type": "markdown",
   "metadata": {
    "slideshow": {
     "slide_type": "slide"
    }
   },
   "source": [
    "# Muestreo\n",
    "\n",
    "- Un método alternativo para seleccionar elementos de un marco de datos o un vector es por medio de muestreo aleatorio\n",
    "    - La función *sample()* devuelve registros o índices aleatorios de un vector y los almacena en otro vector resultante\n",
    "    - Dicho resultado se puede utilizar para filtrar la muestra"
   ]
  },
  {
   "cell_type": "code",
   "execution_count": 36,
   "metadata": {
    "scrolled": true,
    "slideshow": {
     "slide_type": "subslide"
    }
   },
   "outputs": [
    {
     "data": {
      "text/html": [
       "1000"
      ],
      "text/latex": [
       "1000"
      ],
      "text/markdown": [
       "1000"
      ],
      "text/plain": [
       "[1] 1000"
      ]
     },
     "metadata": {},
     "output_type": "display_data"
    },
    {
     "data": {
      "text/html": [
       "<ol class=list-inline>\n",
       "\t<li>977</li>\n",
       "\t<li>554</li>\n",
       "\t<li>312</li>\n",
       "\t<li>88</li>\n",
       "\t<li>138</li>\n",
       "\t<li>224</li>\n",
       "\t<li>467</li>\n",
       "\t<li>756</li>\n",
       "\t<li>964</li>\n",
       "\t<li>232</li>\n",
       "</ol>\n"
      ],
      "text/latex": [
       "\\begin{enumerate*}\n",
       "\\item 977\n",
       "\\item 554\n",
       "\\item 312\n",
       "\\item 88\n",
       "\\item 138\n",
       "\\item 224\n",
       "\\item 467\n",
       "\\item 756\n",
       "\\item 964\n",
       "\\item 232\n",
       "\\end{enumerate*}\n"
      ],
      "text/markdown": [
       "1. 977\n",
       "2. 554\n",
       "3. 312\n",
       "4. 88\n",
       "5. 138\n",
       "6. 224\n",
       "7. 467\n",
       "8. 756\n",
       "9. 964\n",
       "10. 232\n",
       "\n",
       "\n"
      ],
      "text/plain": [
       " [1] 977 554 312  88 138 224 467 756 964 232"
      ]
     },
     "metadata": {},
     "output_type": "display_data"
    },
    {
     "data": {
      "text/html": [
       "10"
      ],
      "text/latex": [
       "10"
      ],
      "text/markdown": [
       "10"
      ],
      "text/plain": [
       "[1] 10"
      ]
     },
     "metadata": {},
     "output_type": "display_data"
    },
    {
     "data": {
      "text/html": [
       "<table>\n",
       "<thead><tr><th></th><th scope=col>id</th><th scope=col>first_name</th><th scope=col>last_name</th><th scope=col>email</th><th scope=col>country</th><th scope=col>ip_address</th><th scope=col>score</th></tr></thead>\n",
       "<tbody>\n",
       "\t<tr><th scope=row>977</th><td>977                    </td><td>Jane                   </td><td>Lynch                  </td><td>jlynchr4@trellian.com  </td><td>China                  </td><td>10.178.99.82           </td><td> 0.82                  </td></tr>\n",
       "\t<tr><th scope=row>554</th><td>554                    </td><td>Eugene                 </td><td>Matthews               </td><td>ematthewsfd@google.es  </td><td>China                  </td><td>124.209.29.155         </td><td> 0.96                  </td></tr>\n",
       "\t<tr><th scope=row>312</th><td>312                    </td><td>Deborah                </td><td>Johnston               </td><td>djohnston8n@tinypic.com</td><td>China                  </td><td>197.134.30.198         </td><td>-0.84                  </td></tr>\n",
       "</tbody>\n",
       "</table>\n"
      ],
      "text/latex": [
       "\\begin{tabular}{r|lllllll}\n",
       "  & id & first\\_name & last\\_name & email & country & ip\\_address & score\\\\\n",
       "\\hline\n",
       "\t977 & 977                     & Jane                    & Lynch                   & jlynchr4@trellian.com   & China                   & 10.178.99.82            &  0.82                  \\\\\n",
       "\t554 & 554                     & Eugene                  & Matthews                & ematthewsfd@google.es   & China                   & 124.209.29.155          &  0.96                  \\\\\n",
       "\t312 & 312                     & Deborah                 & Johnston                & djohnston8n@tinypic.com & China                   & 197.134.30.198          & -0.84                  \\\\\n",
       "\\end{tabular}\n"
      ],
      "text/markdown": [
       "\n",
       "| <!--/--> | id | first_name | last_name | email | country | ip_address | score | \n",
       "|---|---|---|\n",
       "| 977 | 977                     | Jane                    | Lynch                   | jlynchr4@trellian.com   | China                   | 10.178.99.82            |  0.82                   | \n",
       "| 554 | 554                     | Eugene                  | Matthews                | ematthewsfd@google.es   | China                   | 124.209.29.155          |  0.96                   | \n",
       "| 312 | 312                     | Deborah                 | Johnston                | djohnston8n@tinypic.com | China                   | 197.134.30.198          | -0.84                   | \n",
       "\n",
       "\n"
      ],
      "text/plain": [
       "    id  first_name last_name email                   country ip_address    \n",
       "977 977 Jane       Lynch     jlynchr4@trellian.com   China   10.178.99.82  \n",
       "554 554 Eugene     Matthews  ematthewsfd@google.es   China   124.209.29.155\n",
       "312 312 Deborah    Johnston  djohnston8n@tinypic.com China   197.134.30.198\n",
       "    score\n",
       "977  0.82\n",
       "554  0.96\n",
       "312 -0.84"
      ]
     },
     "metadata": {},
     "output_type": "display_data"
    }
   ],
   "source": [
    "mock <- read.csv(\"dataset/MOCK_DATA.csv\", stringsAsFactors=F)\n",
    "nrow(mock)\n",
    "\n",
    "#sample(Intervalo de muestreo, cantidad de numeros, con o sin reemplazo)\n",
    "sampleIndex <- sample(1000, 10, replace = F)\n",
    "sampleIndex\n",
    "sampleMock <- mock[sampleIndex,]\n",
    "nrow(sampleMock)\n",
    "head(sampleMock,3)"
   ]
  },
  {
   "cell_type": "markdown",
   "metadata": {
    "slideshow": {
     "slide_type": "slide"
    }
   },
   "source": [
    "# Muestreo\n",
    "\n",
    "- La función *sample()* puede recibir como primer parámetro un número entero\n",
    "    - El intervalo usado para la muestra será entre 1 y el número indicado \n",
    "    - Esta función en conjunto con la función *nrow()* permite calcular una muestra del total de registros de un marco de datos"
   ]
  },
  {
   "cell_type": "code",
   "execution_count": 37,
   "metadata": {
    "scrolled": false,
    "slideshow": {
     "slide_type": "subslide"
    }
   },
   "outputs": [
    {
     "data": {
      "text/html": [
       "10"
      ],
      "text/latex": [
       "10"
      ],
      "text/markdown": [
       "10"
      ],
      "text/plain": [
       "[1] 10"
      ]
     },
     "metadata": {},
     "output_type": "display_data"
    }
   ],
   "source": [
    "filas <- nrow(mock)\n",
    "muestra <- mock[sample(filas, 10, replace = F),]\n",
    "nrow(muestra)\n",
    "#muestra"
   ]
  },
  {
   "cell_type": "markdown",
   "metadata": {
    "slideshow": {
     "slide_type": "slide"
    }
   },
   "source": [
    "# Paquete **dplyr**\n",
    "\n",
    "- El paquete *dplyr* provee rutinas optimizadas para facilitar el manejo de marcos de datos (filtrado, reordenamiento, selección, etc.)\n",
    "    - **select**: escoger un subconjunto de las columnas de un marco de datos\n",
    "    - **filter**: extraer un subconjunto de muestras o filas basados en condiciones lógicas\n",
    "    - **reorder**: reordenar filas de un marco de datos\n",
    "    - **%>% (pipe)**: permite establecer flujos de operaciones\n",
    "\n",
    "<br>\n",
    "\n",
    "<div class=\"alert alert-warning\">\n",
    "<b>Nota</b> - Una ventaja de las funciones de dplyr es que son muy rápidas ya que están implementadas en C++\n",
    "</div>\n",
    "    \n",
    "<i>  Para más información sobre el paquete dplyr, consultar la\n",
    "[página de dplyr](http://dplyr.tidyverse.org/) o su documentación en el [CRAN](https://cran.r-project.org/web/packages/dplyr/vignettes/dplyr.html).</i>"
   ]
  },
  {
   "cell_type": "code",
   "execution_count": 39,
   "metadata": {},
   "outputs": [
    {
     "data": {
      "text/html": [
       "<table>\n",
       "<thead><tr><th scope=col>first_name</th><th scope=col>last_name</th><th scope=col>score</th></tr></thead>\n",
       "<tbody>\n",
       "\t<tr><td>Rachel   </td><td>Barnes   </td><td>-1.78    </td></tr>\n",
       "\t<tr><td>Jean     </td><td>Peterson </td><td> 0.01    </td></tr>\n",
       "\t<tr><td>Rose     </td><td>Carpenter</td><td>-0.31    </td></tr>\n",
       "\t<tr><td>Matthew  </td><td>Hart     </td><td> 0.34    </td></tr>\n",
       "\t<tr><td>Ralph    </td><td>Sanchez  </td><td> 1.24    </td></tr>\n",
       "\t<tr><td>Samuel   </td><td>Wilson   </td><td> 0.95    </td></tr>\n",
       "</tbody>\n",
       "</table>\n"
      ],
      "text/latex": [
       "\\begin{tabular}{r|lll}\n",
       " first\\_name & last\\_name & score\\\\\n",
       "\\hline\n",
       "\t Rachel    & Barnes    & -1.78    \\\\\n",
       "\t Jean      & Peterson  &  0.01    \\\\\n",
       "\t Rose      & Carpenter & -0.31    \\\\\n",
       "\t Matthew   & Hart      &  0.34    \\\\\n",
       "\t Ralph     & Sanchez   &  1.24    \\\\\n",
       "\t Samuel    & Wilson    &  0.95    \\\\\n",
       "\\end{tabular}\n"
      ],
      "text/markdown": [
       "\n",
       "first_name | last_name | score | \n",
       "|---|---|---|---|---|---|\n",
       "| Rachel    | Barnes    | -1.78     | \n",
       "| Jean      | Peterson  |  0.01     | \n",
       "| Rose      | Carpenter | -0.31     | \n",
       "| Matthew   | Hart      |  0.34     | \n",
       "| Ralph     | Sanchez   |  1.24     | \n",
       "| Samuel    | Wilson    |  0.95     | \n",
       "\n",
       "\n"
      ],
      "text/plain": [
       "  first_name last_name score\n",
       "1 Rachel     Barnes    -1.78\n",
       "2 Jean       Peterson   0.01\n",
       "3 Rose       Carpenter -0.31\n",
       "4 Matthew    Hart       0.34\n",
       "5 Ralph      Sanchez    1.24\n",
       "6 Samuel     Wilson     0.95"
      ]
     },
     "metadata": {},
     "output_type": "display_data"
    },
    {
     "data": {
      "text/html": [
       "<table>\n",
       "<thead><tr><th scope=col>id</th><th scope=col>first_name</th><th scope=col>last_name</th><th scope=col>email</th><th scope=col>country</th><th scope=col>ip_address</th><th scope=col>score</th></tr></thead>\n",
       "<tbody>\n",
       "\t<tr><td> 3                           </td><td>Rose                         </td><td>Carpenter                    </td><td>rcarpenter2@mashable.com     </td><td>China                        </td><td>129.111.212.31               </td><td>-0.31                        </td></tr>\n",
       "\t<tr><td> 4                           </td><td>Matthew                      </td><td>Hart                         </td><td>mhart3@yandex.ru             </td><td>China                        </td><td>106.180.94.129               </td><td> 0.34                        </td></tr>\n",
       "\t<tr><td> 5                           </td><td>Ralph                        </td><td>Sanchez                      </td><td>rsanchez4@redcross.org       </td><td>China                        </td><td>159.154.51.64                </td><td> 1.24                        </td></tr>\n",
       "\t<tr><td> 8                           </td><td>Wanda                        </td><td>Alvarez                      </td><td>walvarez7@youtu.be           </td><td>China                        </td><td>116.27.111.101               </td><td> 2.02                        </td></tr>\n",
       "\t<tr><td>14                           </td><td>Wanda                        </td><td>Day                          </td><td>wdayd@vinaora.com            </td><td>China                        </td><td>137.116.112.157              </td><td> 1.04                        </td></tr>\n",
       "\t<tr><td>20                           </td><td>Lillian                      </td><td>Richardson                   </td><td>lrichardsonj@biblegateway.com</td><td>China                        </td><td>112.230.179.34               </td><td> 1.71                        </td></tr>\n",
       "</tbody>\n",
       "</table>\n"
      ],
      "text/latex": [
       "\\begin{tabular}{r|lllllll}\n",
       " id & first\\_name & last\\_name & email & country & ip\\_address & score\\\\\n",
       "\\hline\n",
       "\t  3                            & Rose                          & Carpenter                     & rcarpenter2@mashable.com      & China                         & 129.111.212.31                & -0.31                        \\\\\n",
       "\t  4                            & Matthew                       & Hart                          & mhart3@yandex.ru              & China                         & 106.180.94.129                &  0.34                        \\\\\n",
       "\t  5                            & Ralph                         & Sanchez                       & rsanchez4@redcross.org        & China                         & 159.154.51.64                 &  1.24                        \\\\\n",
       "\t  8                            & Wanda                         & Alvarez                       & walvarez7@youtu.be            & China                         & 116.27.111.101                &  2.02                        \\\\\n",
       "\t 14                            & Wanda                         & Day                           & wdayd@vinaora.com             & China                         & 137.116.112.157               &  1.04                        \\\\\n",
       "\t 20                            & Lillian                       & Richardson                    & lrichardsonj@biblegateway.com & China                         & 112.230.179.34                &  1.71                        \\\\\n",
       "\\end{tabular}\n"
      ],
      "text/markdown": [
       "\n",
       "id | first_name | last_name | email | country | ip_address | score | \n",
       "|---|---|---|---|---|---|\n",
       "|  3                            | Rose                          | Carpenter                     | rcarpenter2@mashable.com      | China                         | 129.111.212.31                | -0.31                         | \n",
       "|  4                            | Matthew                       | Hart                          | mhart3@yandex.ru              | China                         | 106.180.94.129                |  0.34                         | \n",
       "|  5                            | Ralph                         | Sanchez                       | rsanchez4@redcross.org        | China                         | 159.154.51.64                 |  1.24                         | \n",
       "|  8                            | Wanda                         | Alvarez                       | walvarez7@youtu.be            | China                         | 116.27.111.101                |  2.02                         | \n",
       "| 14                            | Wanda                         | Day                           | wdayd@vinaora.com             | China                         | 137.116.112.157               |  1.04                         | \n",
       "| 20                            | Lillian                       | Richardson                    | lrichardsonj@biblegateway.com | China                         | 112.230.179.34                |  1.71                         | \n",
       "\n",
       "\n"
      ],
      "text/plain": [
       "  id first_name last_name  email                         country\n",
       "1  3 Rose       Carpenter  rcarpenter2@mashable.com      China  \n",
       "2  4 Matthew    Hart       mhart3@yandex.ru              China  \n",
       "3  5 Ralph      Sanchez    rsanchez4@redcross.org        China  \n",
       "4  8 Wanda      Alvarez    walvarez7@youtu.be            China  \n",
       "5 14 Wanda      Day        wdayd@vinaora.com             China  \n",
       "6 20 Lillian    Richardson lrichardsonj@biblegateway.com China  \n",
       "  ip_address      score\n",
       "1 129.111.212.31  -0.31\n",
       "2 106.180.94.129   0.34\n",
       "3 159.154.51.64    1.24\n",
       "4 116.27.111.101   2.02\n",
       "5 137.116.112.157  1.04\n",
       "6 112.230.179.34   1.71"
      ]
     },
     "metadata": {},
     "output_type": "display_data"
    },
    {
     "data": {
      "text/html": [
       "<table>\n",
       "<thead><tr><th scope=col>id</th><th scope=col>first_name</th><th scope=col>last_name</th><th scope=col>email</th><th scope=col>country</th><th scope=col>ip_address</th><th scope=col>score</th></tr></thead>\n",
       "<tbody>\n",
       "\t<tr><td>571                          </td><td>Elizabeth                    </td><td>Butler                       </td><td>ebutlerfu@theguardian.com    </td><td>China                        </td><td>37.93.240.156                </td><td>2.63                         </td></tr>\n",
       "\t<tr><td>442                          </td><td>Todd                         </td><td>Cole                         </td><td>tcolec9@fotki.com            </td><td>China                        </td><td>110.67.123.90                </td><td>2.40                         </td></tr>\n",
       "\t<tr><td> 57                          </td><td>Jerry                        </td><td>Cook                         </td><td>jcook1k@ucoz.ru              </td><td>China                        </td><td>31.184.101.135               </td><td>2.19                         </td></tr>\n",
       "\t<tr><td>189                          </td><td>Phillip                      </td><td>Smith                        </td><td>psmith58@noaa.gov            </td><td>China                        </td><td>245.141.249.77               </td><td>2.16                         </td></tr>\n",
       "\t<tr><td>  8                          </td><td>Wanda                        </td><td>Alvarez                      </td><td>walvarez7@youtu.be           </td><td>China                        </td><td>116.27.111.101               </td><td>2.02                         </td></tr>\n",
       "\t<tr><td>220                          </td><td>Roger                        </td><td>Washington                   </td><td>rwashington63@liveinternet.ru</td><td>China                        </td><td>46.11.45.76                  </td><td>1.85                         </td></tr>\n",
       "</tbody>\n",
       "</table>\n"
      ],
      "text/latex": [
       "\\begin{tabular}{r|lllllll}\n",
       " id & first\\_name & last\\_name & email & country & ip\\_address & score\\\\\n",
       "\\hline\n",
       "\t 571                           & Elizabeth                     & Butler                        & ebutlerfu@theguardian.com     & China                         & 37.93.240.156                 & 2.63                         \\\\\n",
       "\t 442                           & Todd                          & Cole                          & tcolec9@fotki.com             & China                         & 110.67.123.90                 & 2.40                         \\\\\n",
       "\t  57                           & Jerry                         & Cook                          & jcook1k@ucoz.ru               & China                         & 31.184.101.135                & 2.19                         \\\\\n",
       "\t 189                           & Phillip                       & Smith                         & psmith58@noaa.gov             & China                         & 245.141.249.77                & 2.16                         \\\\\n",
       "\t   8                           & Wanda                         & Alvarez                       & walvarez7@youtu.be            & China                         & 116.27.111.101                & 2.02                         \\\\\n",
       "\t 220                           & Roger                         & Washington                    & rwashington63@liveinternet.ru & China                         & 46.11.45.76                   & 1.85                         \\\\\n",
       "\\end{tabular}\n"
      ],
      "text/markdown": [
       "\n",
       "id | first_name | last_name | email | country | ip_address | score | \n",
       "|---|---|---|---|---|---|\n",
       "| 571                           | Elizabeth                     | Butler                        | ebutlerfu@theguardian.com     | China                         | 37.93.240.156                 | 2.63                          | \n",
       "| 442                           | Todd                          | Cole                          | tcolec9@fotki.com             | China                         | 110.67.123.90                 | 2.40                          | \n",
       "|  57                           | Jerry                         | Cook                          | jcook1k@ucoz.ru               | China                         | 31.184.101.135                | 2.19                          | \n",
       "| 189                           | Phillip                       | Smith                         | psmith58@noaa.gov             | China                         | 245.141.249.77                | 2.16                          | \n",
       "|   8                           | Wanda                         | Alvarez                       | walvarez7@youtu.be            | China                         | 116.27.111.101                | 2.02                          | \n",
       "| 220                           | Roger                         | Washington                    | rwashington63@liveinternet.ru | China                         | 46.11.45.76                   | 1.85                          | \n",
       "\n",
       "\n"
      ],
      "text/plain": [
       "  id  first_name last_name  email                         country\n",
       "1 571 Elizabeth  Butler     ebutlerfu@theguardian.com     China  \n",
       "2 442 Todd       Cole       tcolec9@fotki.com             China  \n",
       "3  57 Jerry      Cook       jcook1k@ucoz.ru               China  \n",
       "4 189 Phillip    Smith      psmith58@noaa.gov             China  \n",
       "5   8 Wanda      Alvarez    walvarez7@youtu.be            China  \n",
       "6 220 Roger      Washington rwashington63@liveinternet.ru China  \n",
       "  ip_address     score\n",
       "1 37.93.240.156  2.63 \n",
       "2 110.67.123.90  2.40 \n",
       "3 31.184.101.135 2.19 \n",
       "4 245.141.249.77 2.16 \n",
       "5 116.27.111.101 2.02 \n",
       "6 46.11.45.76    1.85 "
      ]
     },
     "metadata": {},
     "output_type": "display_data"
    }
   ],
   "source": [
    "library(dplyr)\n",
    "mock <- read.csv(\"dataset/MOCK_DATA.csv\", stringsAsFactors=F)\n",
    "\n",
    "#La función select puede ser utilizada para escoger columnas de interés\n",
    "subset <- select(mock, c(first_name, last_name, score))\n",
    "head(subset)\n",
    "\n",
    "#La función filter permite seleccionar registros basados en alguna condición dada.\n",
    "chineseMock <- filter(mock, country==\"China\")\n",
    "head(chineseMock)\n",
    "\n",
    "#La función arrange permite reordenar los registros con respecto a alguna variable de interés.\n",
    "bestScores <- arrange(chineseMock, desc(score))\n",
    "head(bestScores)\n"
   ]
  },
  {
   "cell_type": "markdown",
   "metadata": {
    "slideshow": {
     "slide_type": "slide"
    }
   },
   "source": [
    "<a id='invalidos'></a>\n",
    "<hr>\n",
    "<hr>\n",
    "<h1><center><span style=\"color:blue\">Tratamiento de valores inválidos</span></center></h1>\n",
    "<hr>\n",
    "<hr>\n"
   ]
  },
  {
   "cell_type": "markdown",
   "metadata": {
    "slideshow": {
     "slide_type": "slide"
    }
   },
   "source": [
    "# Valores NA y NaN <a id='nans'></a>\n",
    "\n",
    "- En R existen dos valores especiales que se utilizan para denotar valores inválidos:\n",
    "    1. *NaN* (acrónimo para *Not a Number*) se utiliza para representar resultados de operaciones inválidas, como $0/0$, infinito - infinito y similares\n",
    "    2. *NA* se utiliza para denotar valores inválidos o valores faltantes, es más genérico que el *NaN*\n",
    "<br>\n",
    "<br>\n",
    "\n",
    "- Las funciones *is.nan()* y *is.na()* se utilizan para identificar valores inválidos\n",
    "    - En un marco de datos pueden usarse para generar vectores booleanos que indiquen cuáles valores son inválidos\n",
    "<br>\n",
    "<br>    \n",
    "\n",
    "<div class=\"alert alert-warning\">\n",
    "<b>Nota</b> - Las divisiones por cero diferentes a 0/0 no dan *NaN*, sino que dan *Inf*, un valor especial en R que sirve para denotar infinito.\n",
    "</div>"
   ]
  },
  {
   "cell_type": "markdown",
   "metadata": {
    "slideshow": {
     "slide_type": "slide"
    }
   },
   "source": [
    "# Selección de filas incompletas\n",
    "\n",
    "- La función *complete.cases()* de R identifica todos los registros que tienen datos inválidos, en cualquiera de las columnas de un marco de datos\n",
    "    - **Resultado**: un vector de booleanas\n",
    "<br>\n",
    "<br>\n",
    "- Utilizando esta función y las operaciones de subconjuntos, es posible eliminar de los datos todos los registros incompletos"
   ]
  },
  {
   "cell_type": "code",
   "execution_count": 41,
   "metadata": {
    "scrolled": false,
    "slideshow": {
     "slide_type": "subslide"
    }
   },
   "outputs": [
    {
     "data": {
      "text/html": [
       "<table>\n",
       "<thead><tr><th scope=col>id</th><th scope=col>first_name</th><th scope=col>last_name</th><th scope=col>email</th><th scope=col>country</th><th scope=col>ip_address</th><th scope=col>score</th></tr></thead>\n",
       "<tbody>\n",
       "\t<tr><td>1                       </td><td>Rachel                  </td><td>Barnes                  </td><td>rbarnes0@forbes.com     </td><td>Yemen                   </td><td>99.120.61.211           </td><td>-1.78                   </td></tr>\n",
       "\t<tr><td>2                       </td><td>Jean                    </td><td>Peterson                </td><td>jpeterson1@utexas.edu   </td><td>Indonesia               </td><td>61.16.87.230            </td><td>   NA                   </td></tr>\n",
       "\t<tr><td>3                       </td><td>Rose                    </td><td>Carpenter               </td><td>rcarpenter2@mashable.com</td><td>China                   </td><td>129.111.212.31          </td><td>   NA                   </td></tr>\n",
       "\t<tr><td>4                       </td><td>Matthew                 </td><td>Hart                    </td><td>mhart3@yandex.ru        </td><td>China                   </td><td>106.180.94.129          </td><td> 0.34                   </td></tr>\n",
       "\t<tr><td>5                       </td><td>Ralph                   </td><td>Sanchez                 </td><td>rsanchez4@redcross.org  </td><td>China                   </td><td>159.154.51.64           </td><td>   NA                   </td></tr>\n",
       "\t<tr><td>6                       </td><td>Samuel                  </td><td>Wilson                  </td><td>swilson5@vkontakte.ru   </td><td>Indonesia               </td><td>129.37.186.222          </td><td> 0.95                   </td></tr>\n",
       "</tbody>\n",
       "</table>\n"
      ],
      "text/latex": [
       "\\begin{tabular}{r|lllllll}\n",
       " id & first\\_name & last\\_name & email & country & ip\\_address & score\\\\\n",
       "\\hline\n",
       "\t 1                        & Rachel                   & Barnes                   & rbarnes0@forbes.com      & Yemen                    & 99.120.61.211            & -1.78                   \\\\\n",
       "\t 2                        & Jean                     & Peterson                 & jpeterson1@utexas.edu    & Indonesia                & 61.16.87.230             &    NA                   \\\\\n",
       "\t 3                        & Rose                     & Carpenter                & rcarpenter2@mashable.com & China                    & 129.111.212.31           &    NA                   \\\\\n",
       "\t 4                        & Matthew                  & Hart                     & mhart3@yandex.ru         & China                    & 106.180.94.129           &  0.34                   \\\\\n",
       "\t 5                        & Ralph                    & Sanchez                  & rsanchez4@redcross.org   & China                    & 159.154.51.64            &    NA                   \\\\\n",
       "\t 6                        & Samuel                   & Wilson                   & swilson5@vkontakte.ru    & Indonesia                & 129.37.186.222           &  0.95                   \\\\\n",
       "\\end{tabular}\n"
      ],
      "text/markdown": [
       "\n",
       "id | first_name | last_name | email | country | ip_address | score | \n",
       "|---|---|---|---|---|---|\n",
       "| 1                        | Rachel                   | Barnes                   | rbarnes0@forbes.com      | Yemen                    | 99.120.61.211            | -1.78                    | \n",
       "| 2                        | Jean                     | Peterson                 | jpeterson1@utexas.edu    | Indonesia                | 61.16.87.230             |    NA                    | \n",
       "| 3                        | Rose                     | Carpenter                | rcarpenter2@mashable.com | China                    | 129.111.212.31           |    NA                    | \n",
       "| 4                        | Matthew                  | Hart                     | mhart3@yandex.ru         | China                    | 106.180.94.129           |  0.34                    | \n",
       "| 5                        | Ralph                    | Sanchez                  | rsanchez4@redcross.org   | China                    | 159.154.51.64            |    NA                    | \n",
       "| 6                        | Samuel                   | Wilson                   | swilson5@vkontakte.ru    | Indonesia                | 129.37.186.222           |  0.95                    | \n",
       "\n",
       "\n"
      ],
      "text/plain": [
       "  id first_name last_name email                    country   ip_address    \n",
       "1 1  Rachel     Barnes    rbarnes0@forbes.com      Yemen     99.120.61.211 \n",
       "2 2  Jean       Peterson  jpeterson1@utexas.edu    Indonesia 61.16.87.230  \n",
       "3 3  Rose       Carpenter rcarpenter2@mashable.com China     129.111.212.31\n",
       "4 4  Matthew    Hart      mhart3@yandex.ru         China     106.180.94.129\n",
       "5 5  Ralph      Sanchez   rsanchez4@redcross.org   China     159.154.51.64 \n",
       "6 6  Samuel     Wilson    swilson5@vkontakte.ru    Indonesia 129.37.186.222\n",
       "  score\n",
       "1 -1.78\n",
       "2    NA\n",
       "3    NA\n",
       "4  0.34\n",
       "5    NA\n",
       "6  0.95"
      ]
     },
     "metadata": {},
     "output_type": "display_data"
    },
    {
     "data": {
      "text/html": [
       "<table>\n",
       "<thead><tr><th></th><th scope=col>id</th><th scope=col>first_name</th><th scope=col>last_name</th><th scope=col>email</th><th scope=col>country</th><th scope=col>ip_address</th><th scope=col>score</th></tr></thead>\n",
       "<tbody>\n",
       "\t<tr><th scope=row>1</th><td>1                       </td><td>Rachel                  </td><td>Barnes                  </td><td>rbarnes0@forbes.com     </td><td>Yemen                   </td><td>99.120.61.211           </td><td>-1.78                   </td></tr>\n",
       "\t<tr><th scope=row>4</th><td>4                       </td><td>Matthew                 </td><td>Hart                    </td><td>mhart3@yandex.ru        </td><td>China                   </td><td>106.180.94.129          </td><td> 0.34                   </td></tr>\n",
       "\t<tr><th scope=row>6</th><td>6                       </td><td>Samuel                  </td><td>Wilson                  </td><td>swilson5@vkontakte.ru   </td><td>Indonesia               </td><td>129.37.186.222          </td><td> 0.95                   </td></tr>\n",
       "\t<tr><th scope=row>7</th><td>7                       </td><td>Juan                    </td><td>Clark                   </td><td>jclark6@va.gov          </td><td>Albania                 </td><td>135.2.98.99             </td><td> 0.45                   </td></tr>\n",
       "\t<tr><th scope=row>8</th><td>8                       </td><td>Wanda                   </td><td>Alvarez                 </td><td>walvarez7@youtu.be      </td><td>China                   </td><td>116.27.111.101          </td><td> 2.02                   </td></tr>\n",
       "\t<tr><th scope=row>9</th><td>9                       </td><td>Kevin                   </td><td>Nguyen                  </td><td>knguyen8@stumbleupon.com</td><td>Panama                  </td><td>86.100.188.147          </td><td> 0.36                   </td></tr>\n",
       "</tbody>\n",
       "</table>\n"
      ],
      "text/latex": [
       "\\begin{tabular}{r|lllllll}\n",
       "  & id & first\\_name & last\\_name & email & country & ip\\_address & score\\\\\n",
       "\\hline\n",
       "\t1 & 1                        & Rachel                   & Barnes                   & rbarnes0@forbes.com      & Yemen                    & 99.120.61.211            & -1.78                   \\\\\n",
       "\t4 & 4                        & Matthew                  & Hart                     & mhart3@yandex.ru         & China                    & 106.180.94.129           &  0.34                   \\\\\n",
       "\t6 & 6                        & Samuel                   & Wilson                   & swilson5@vkontakte.ru    & Indonesia                & 129.37.186.222           &  0.95                   \\\\\n",
       "\t7 & 7                        & Juan                     & Clark                    & jclark6@va.gov           & Albania                  & 135.2.98.99              &  0.45                   \\\\\n",
       "\t8 & 8                        & Wanda                    & Alvarez                  & walvarez7@youtu.be       & China                    & 116.27.111.101           &  2.02                   \\\\\n",
       "\t9 & 9                        & Kevin                    & Nguyen                   & knguyen8@stumbleupon.com & Panama                   & 86.100.188.147           &  0.36                   \\\\\n",
       "\\end{tabular}\n"
      ],
      "text/markdown": [
       "\n",
       "| <!--/--> | id | first_name | last_name | email | country | ip_address | score | \n",
       "|---|---|---|---|---|---|\n",
       "| 1 | 1                        | Rachel                   | Barnes                   | rbarnes0@forbes.com      | Yemen                    | 99.120.61.211            | -1.78                    | \n",
       "| 4 | 4                        | Matthew                  | Hart                     | mhart3@yandex.ru         | China                    | 106.180.94.129           |  0.34                    | \n",
       "| 6 | 6                        | Samuel                   | Wilson                   | swilson5@vkontakte.ru    | Indonesia                | 129.37.186.222           |  0.95                    | \n",
       "| 7 | 7                        | Juan                     | Clark                    | jclark6@va.gov           | Albania                  | 135.2.98.99              |  0.45                    | \n",
       "| 8 | 8                        | Wanda                    | Alvarez                  | walvarez7@youtu.be       | China                    | 116.27.111.101           |  2.02                    | \n",
       "| 9 | 9                        | Kevin                    | Nguyen                   | knguyen8@stumbleupon.com | Panama                   | 86.100.188.147           |  0.36                    | \n",
       "\n",
       "\n"
      ],
      "text/plain": [
       "  id first_name last_name email                    country   ip_address    \n",
       "1 1  Rachel     Barnes    rbarnes0@forbes.com      Yemen     99.120.61.211 \n",
       "4 4  Matthew    Hart      mhart3@yandex.ru         China     106.180.94.129\n",
       "6 6  Samuel     Wilson    swilson5@vkontakte.ru    Indonesia 129.37.186.222\n",
       "7 7  Juan       Clark     jclark6@va.gov           Albania   135.2.98.99   \n",
       "8 8  Wanda      Alvarez   walvarez7@youtu.be       China     116.27.111.101\n",
       "9 9  Kevin      Nguyen    knguyen8@stumbleupon.com Panama    86.100.188.147\n",
       "  score\n",
       "1 -1.78\n",
       "4  0.34\n",
       "6  0.95\n",
       "7  0.45\n",
       "8  2.02\n",
       "9  0.36"
      ]
     },
     "metadata": {},
     "output_type": "display_data"
    }
   ],
   "source": [
    "mock <- read.csv(\"dataset/MOCK_DATA.csv\", stringsAsFactors=F)\n",
    "        \n",
    "# Remover algunos valores de forma aleatoria\n",
    "mock$score[sample(1:6, 3, replace = F)] <- NA \n",
    "\n",
    "head(mock)\n",
    "# Obtener indices de registros completos\n",
    "complete <- complete.cases(mock)\n",
    "        \n",
    "# Extraer únicamente los registros completos\n",
    "mock2 <- mock[complete,] \n",
    "head(mock2)"
   ]
  },
  {
   "cell_type": "markdown",
   "metadata": {
    "slideshow": {
     "slide_type": "slide"
    }
   },
   "source": [
    "# Rellenar datos inválidos <a id='tratamiento'></a>\n",
    "\n",
    "- Si se desea rellenar los datos inválidos y no eliminarlos:\n",
    "    - Calcular el promedio de una columna\n",
    "    - Asignarlo a todos los registros en los cuales no haya un valor para dicha columna."
   ]
  },
  {
   "cell_type": "code",
   "execution_count": 45,
   "metadata": {
    "scrolled": true,
    "slideshow": {
     "slide_type": "subslide"
    }
   },
   "outputs": [
    {
     "data": {
      "text/html": [
       "-0.0278666666666667"
      ],
      "text/latex": [
       "-0.0278666666666667"
      ],
      "text/markdown": [
       "-0.0278666666666667"
      ],
      "text/plain": [
       "[1] -0.02786667"
      ]
     },
     "metadata": {},
     "output_type": "display_data"
    },
    {
     "data": {
      "text/html": [
       "<table>\n",
       "<thead><tr><th scope=col>nombrenuevo</th></tr></thead>\n",
       "<tbody>\n",
       "\t<tr><td>-1.78000000</td></tr>\n",
       "\t<tr><td> 0.01000000</td></tr>\n",
       "\t<tr><td>-0.02786667</td></tr>\n",
       "\t<tr><td> 0.34000000</td></tr>\n",
       "\t<tr><td> 1.24000000</td></tr>\n",
       "\t<tr><td> 0.95000000</td></tr>\n",
       "</tbody>\n",
       "</table>\n"
      ],
      "text/latex": [
       "\\begin{tabular}{r|l}\n",
       " nombrenuevo\\\\\n",
       "\\hline\n",
       "\t -1.78000000\\\\\n",
       "\t  0.01000000\\\\\n",
       "\t -0.02786667\\\\\n",
       "\t  0.34000000\\\\\n",
       "\t  1.24000000\\\\\n",
       "\t  0.95000000\\\\\n",
       "\\end{tabular}\n"
      ],
      "text/markdown": [
       "\n",
       "nombrenuevo | \n",
       "|---|---|---|---|---|---|\n",
       "| -1.78000000 | \n",
       "|  0.01000000 | \n",
       "| -0.02786667 | \n",
       "|  0.34000000 | \n",
       "|  1.24000000 | \n",
       "|  0.95000000 | \n",
       "\n",
       "\n"
      ],
      "text/plain": [
       "  nombrenuevo\n",
       "1 -1.78000000\n",
       "2  0.01000000\n",
       "3 -0.02786667\n",
       "4  0.34000000\n",
       "5  1.24000000\n",
       "6  0.95000000"
      ]
     },
     "metadata": {},
     "output_type": "display_data"
    }
   ],
   "source": [
    "mock <- read.csv(\"dataset/MOCK_DATA.csv\", stringsAsFactors=F)\n",
    "        \n",
    "# Remover algunos valores de forma aleatoria\n",
    "mock$score[sample(nrow(mock), 100, replace = F)] <- NA \n",
    "        \n",
    "# Identificar los registros con un score inválido\n",
    "invalidScore <- is.na(mock$score)   \n",
    "      \n",
    "# Calcular el promedio de la columna score, ignorar los inválidos\n",
    "avg <- mean(mock$score, na.rm = T)\n",
    "avg\n",
    "        \n",
    "# Reemplazar sólo los inválidos de la columna score\n",
    "mock$score[invalidScore] <- avg\n",
    "\n",
    "temp <- as.data.frame(mock$score)\n",
    "names(temp) <-\"nombrenuevo\"\n",
    "head( temp)"
   ]
  },
  {
   "cell_type": "markdown",
   "metadata": {
    "slideshow": {
     "slide_type": "slide"
    }
   },
   "source": [
    "# Eliminación de columnas incompletas\n",
    "\n",
    "- En un marco de datos es posible obtener un subconjunto de columnas usando el operador $[i,i]$\n",
    "    - Si una columna tiene demasiados datos inválidos podría ser deseable eliminarla\n"
   ]
  },
  {
   "cell_type": "code",
   "execution_count": 46,
   "metadata": {
    "scrolled": true
   },
   "outputs": [
    {
     "name": "stdout",
     "output_type": "stream",
     "text": [
      "'data.frame':\t1000 obs. of  7 variables:\n",
      " $ id        : int  1 2 3 4 5 6 7 8 9 10 ...\n",
      " $ first_name: chr  \"Rachel\" \"Jean\" \"Rose\" \"Matthew\" ...\n",
      " $ last_name : chr  \"Barnes\" \"Peterson\" \"Carpenter\" \"Hart\" ...\n",
      " $ email     : chr  \"rbarnes0@forbes.com\" \"jpeterson1@utexas.edu\" \"rcarpenter2@mashable.com\" \"mhart3@yandex.ru\" ...\n",
      " $ country   : chr  \"Yemen\" \"Indonesia\" \"China\" \"China\" ...\n",
      " $ ip_address: chr  \"99.120.61.211\" \"61.16.87.230\" \"129.111.212.31\" \"106.180.94.129\" ...\n",
      " $ score     : num  -1.78 0.01 -0.31 0.34 1.24 0.95 0.45 2.02 0.36 0.98 ...\n"
     ]
    }
   ],
   "source": [
    "mock <- read.csv(\"dataset/MOCK_DATA.csv\", stringsAsFactors=F)\n",
    "str(mock)\n",
    "\n",
    "# Copiar mock menos la columna score (columna 7)\n",
    "mock2 <- mock[,-7]\n",
    "#str(mock2)\n",
    "        \n",
    "# Copiar mock menos las columnas 5 y 7\n",
    "mock3 <- mock[, c(-5,-7)]\n",
    "#str(mock3)\n",
    "\n",
    "# Copiar mock menos las columnas \"id\" y \"email\"\n",
    "mock4 <- mock[ , !(names(mock) %in% c(\"id\",\"email\"))]\n",
    "#str(mock4)"
   ]
  },
  {
   "cell_type": "markdown",
   "metadata": {
    "slideshow": {
     "slide_type": "slide"
    }
   },
   "source": [
    "- Observaciones: \n",
    "    1. Al no indicar índice en la primera dimensión se están copiando todas las filas\n",
    "    2. Al poner la columna con un signo negativo, se están copiando todas las columnas menos esa.\n",
    "    3. Pueden eliminarse varias columnas usando un vector de enteros."
   ]
  },
  {
   "cell_type": "markdown",
   "metadata": {
    "slideshow": {
     "slide_type": "slide"
    }
   },
   "source": [
    "<a id='normalidad'></a>\n",
    "<hr>\n",
    "<hr>\n",
    "<h1><center><span style=\"color:blue\">Pruebas de normalidad</span></center></h1>\n",
    "<hr>\n",
    "<hr>\n"
   ]
  },
  {
   "cell_type": "markdown",
   "metadata": {
    "slideshow": {
     "slide_type": "slide"
    }
   },
   "source": [
    "# Funciones de agregación <a id='agregacion'></a>\n",
    "\n",
    "Existen varias funciones que pueden brindar información básica sobre los datos:\n",
    "- **mean**  Media aritmética de un vector numérico\n",
    "- **min**      Mínimo valor de un vector numérico\n",
    "- **max**      Máximo valor de un vector numérico\n",
    "- **table**    Frecuencia de valores de un vector cualquiera\n",
    "- **quantile** Obtener quartiles (o percentiles indicados) de una variable numérica\n",
    "- **var**      Obtener la varianza de un vector numérico\n",
    "- **sd**       Obtener la desviación estándar de un vector numérico\n",
    "\n",
    "En todos los casos la bandera  $na.rm$  = TRUE puede ser incluida para prevenir resultados indeseados."
   ]
  },
  {
   "cell_type": "markdown",
   "metadata": {
    "slideshow": {
     "slide_type": "slide"
    }
   },
   "source": [
    "# Normalización\n",
    "\n",
    "Las tareas de normalización dependen mucho de la naturaleza de los datos y las operaciones que se desean aplicar. El escenario más común es en el que es necesario aplicar alguna operación que modifique todos los registros de una columna. \n",
    "\n",
    "Una tarea típica de normalización es modificar la escala de una variable para representarla en el intervalo real $[0,1]$, donde el posible valor más alto sea $1$ y el posible valor más bajo sea $0$.\n",
    "\n",
    "Tomando el caso de *MOCK DATA*, la variable *score* puede normalizarse siguiendo estos pasos:\n",
    "\n",
    "1. Obtener el máximo valor de la variable\n",
    "2. Obtener el mínimo valor de la variable\n",
    "3. Calcular el delta (la diferencia entre el máximo y el mínimo)\n",
    "4. Normalizar cada registro\n",
    "    1. Sustraer el mínimo\n",
    "    2. Dividir el valor por el delta\n",
    "\n",
    "\n"
   ]
  },
  {
   "cell_type": "code",
   "execution_count": 47,
   "metadata": {
    "slideshow": {
     "slide_type": "subslide"
    }
   },
   "outputs": [
    {
     "data": {
      "text/plain": [
       "   Min. 1st Qu.  Median    Mean 3rd Qu.    Max. \n",
       " 0.0000  0.4061  0.5217  0.5226  0.6372  1.0000 "
      ]
     },
     "metadata": {},
     "output_type": "display_data"
    },
    {
     "data": {
      "text/html": [
       "<ol class=list-inline>\n",
       "\t<li>0.203971119133574</li>\n",
       "\t<li>0.527075812274368</li>\n",
       "\t<li>0.469314079422383</li>\n",
       "\t<li>0.586642599277978</li>\n",
       "\t<li>0.749097472924188</li>\n",
       "\t<li>0.696750902527076</li>\n",
       "</ol>\n"
      ],
      "text/latex": [
       "\\begin{enumerate*}\n",
       "\\item 0.203971119133574\n",
       "\\item 0.527075812274368\n",
       "\\item 0.469314079422383\n",
       "\\item 0.586642599277978\n",
       "\\item 0.749097472924188\n",
       "\\item 0.696750902527076\n",
       "\\end{enumerate*}\n"
      ],
      "text/markdown": [
       "1. 0.203971119133574\n",
       "2. 0.527075812274368\n",
       "3. 0.469314079422383\n",
       "4. 0.586642599277978\n",
       "5. 0.749097472924188\n",
       "6. 0.696750902527076\n",
       "\n",
       "\n"
      ],
      "text/plain": [
       "[1] 0.2039711 0.5270758 0.4693141 0.5866426 0.7490975 0.6967509"
      ]
     },
     "metadata": {},
     "output_type": "display_data"
    }
   ],
   "source": [
    "mock <- read.csv(\"dataset/MOCK_DATA.csv\", stringsAsFactors=F)\n",
    "        \n",
    "maxScore <- max(mock$score)\n",
    "minScore <- min(mock$score)\n",
    "delta <- maxScore - minScore\n",
    "        \n",
    "normalize <- function(x, min, delta){\n",
    "    x <- x - min\n",
    "    x <- x / delta\n",
    "    x\n",
    "}\n",
    "\n",
    "mock$score <- normalize(mock$score, minScore, delta)\n",
    "#mock$score <- sapply(mock$score, normalize, minScore, delta)\n",
    "summary(mock$score)\n",
    "head(mock$score)\n"
   ]
  },
  {
   "cell_type": "markdown",
   "metadata": {
    "slideshow": {
     "slide_type": "slide"
    }
   },
   "source": [
    "- La familia de funciones *apply* sirve para ejecutar un método sobre un conjunto de valores (un vector o una lista) de forma automática \n",
    "\n",
    "- La versión *sapply()* genera un vector de respuesta, el cual puede usarse para reemplazar una columna de un marco de datos\n",
    "\n",
    "<i>  Para más información de las funciones de la familia apply, consultar la \n",
    "[documentación oficial de R](https://stat.ethz.ch/R-manual/R-devel/library/base/html/lapply.html).</i>"
   ]
  },
  {
   "cell_type": "markdown",
   "metadata": {
    "slideshow": {
     "slide_type": "slide"
    }
   },
   "source": [
    "# Pruebas de normalidad <a id='pnormalidad'></a>\n",
    "\n",
    "Para verificar la normalidad de un conjunto de datos se puede:\n",
    "- Visualizar los datos (histograma, QQ-Plot)\n",
    "- Evaluar la simetría ( *skewness* ) y la curtosis (*kurtosis*)\n",
    "- Aplicar una prueba formal\n",
    "\n"
   ]
  },
  {
   "cell_type": "markdown",
   "metadata": {
    "slideshow": {
     "slide_type": "slide"
    }
   },
   "source": [
    "## Visualización\n",
    "\n",
    "Para evaluar los datos visualmente es necesario generar un histograma o un gráfico Q-Q."
   ]
  },
  {
   "cell_type": "code",
   "execution_count": 48,
   "metadata": {
    "slideshow": {
     "slide_type": "subslide"
    }
   },
   "outputs": [
    {
     "data": {
      "text/html": [
       "18.2237955996638"
      ],
      "text/latex": [
       "18.2237955996638"
      ],
      "text/markdown": [
       "18.2237955996638"
      ],
      "text/plain": [
       "[1] 18.2238"
      ]
     },
     "metadata": {},
     "output_type": "display_data"
    },
    {
     "data": {
      "image/png": "[encoded data removed]",
      "text/plain": [
       "Plot with title “Normal Q-Q Plot”"
      ]
     },
     "metadata": {},
     "output_type": "display_data"
    }
   ],
   "source": [
    "par(mfrow=c(1,2)) \t# Mostrar dos gráficos adyatences\n",
    "A <- rnorm(n = 30, mean = 30, sd = 20) # Generar datos ficticios\n",
    "\n",
    "sd(A)\n",
    "hist(A)    # Genera histograma de A\n",
    "\n",
    "qqnorm(A)\t# Genera plot de cuantiles de A\n",
    "qqline(A)\t# Genera línea datos ideales"
   ]
  },
  {
   "cell_type": "markdown",
   "metadata": {
    "caption": "somecaption",
    "label": "fig:somelabel",
    "slideshow": {
     "slide_type": "slide"
    },
    "widefigure": true
   },
   "source": [
    "# Simetría\n",
    "\n",
    "**Simetría** hace referencia a la distancia de la media al menor valor en proporción a la distancia de la media al valor mayor.\n",
    "\n",
    "- Si el valor de la simetría se acerca a ( $S$~$0$ ), indica que la distribución es simétrica, es decir ambos valores extremos están aproximadamente a la misma distancia de la media.\n",
    "- Si el valor de la simetría es positivo ($S > 0$) indica que el valor menor está más cerca de la media que el valor mayor, inclinando la media hacia la izquierda.\n",
    "- Si el valor de la simetría es negativo ($S < 0$) indica que el valor mayor está más cerca de la media que el valor menor, inclinando la media hacia la derecha.\n",
    "\n",
    "\n",
    "<div style=\"align: center; text-align:center;\">\n",
    "    <img src=\"img/skewness.png\" height=\"600px\" width=\"400px\" />\n",
    "    <div class=\"caption\">Simetría en la distribución de los datos</div>\n",
    "</div>\n",
    "\n",
    "\n"
   ]
  },
  {
   "cell_type": "markdown",
   "metadata": {
    "slideshow": {
     "slide_type": "slide"
    }
   },
   "source": [
    "# Curtosis \n",
    "\n",
    "La curtosis indica qué tan pronunciada es la forma de campana en una distribución normal. \n",
    "\n",
    "- Una curtosis muy alta denota una campana alargada y con las colas muy bajas -  **Leptocúrtica**\n",
    "- Un valor intermedio denota una campana \"ideal\" con la punta semicircular y la curva de las colas pronunciada -  **Mesocúrtica**\n",
    "- Una curtosis muy baja indica una campana chata y ancha con la curva de las colas poco pronunciada - **Platycúrtica**\n",
    "\n",
    "<div class=\"alert alert-warning\">\n",
    "<b>Nota</b> - En una distribución normal \"ideal\", la curtosis tiene un valor cercano a 3.\n",
    "</div>\n",
    "\n",
    "<div style=\"align: center; text-align:center;\">\n",
    "    <img src=\"img/kurtosis1.jpg\" height=\"600px\" width=\"400px\" />\n",
    "    <div class=\"caption\">Forma de la curva según el tipo de curtosis</div>\n",
    "</div>\n",
    "\n"
   ]
  },
  {
   "cell_type": "markdown",
   "metadata": {},
   "source": [
    "# Simetría y Curtosis\n",
    "\n",
    "El paquete *moments* de R tiene las funciones para calcular la simetría: *skewness()*, y la curtosis: *kurtosis()*.\n",
    "\n",
    "<div style=\"align: center; text-align:center;\">\n",
    "    <img src=\"img/Kurtosis.png\" height=\"800px\" width=\"800px\" />\n",
    "    <div class=\"caption\">Diferentes curvas para valores de curtosis y simetría</div>\n",
    "</div>\n",
    "\n"
   ]
  },
  {
   "cell_type": "code",
   "execution_count": null,
   "metadata": {
    "collapsed": true
   },
   "outputs": [],
   "source": [
    "?rbeta\n"
   ]
  },
  {
   "cell_type": "code",
   "execution_count": 49,
   "metadata": {},
   "outputs": [
    {
     "data": {
      "image/png": "[encoded data removed]",
      "text/plain": [
       "Plot with title “Normal”"
      ]
     },
     "metadata": {},
     "output_type": "display_data"
    }
   ],
   "source": [
    "library(\"moments\")\n",
    "    \n",
    "A <- rbeta(500,5,5)  #Generar datos en distribución beta\n",
    "    \n",
    "curtosis <- kurtosis(A)\n",
    "simetria <- skewness(A)\n",
    "    \n",
    "plot (density(A), main = \"Normal\", \n",
    "      xlab = paste(\"Curtosis \", round(curtosis, 2), \"\\n\", \n",
    "                   \"Simetría \", round(simetria,2)))"
   ]
  },
  {
   "cell_type": "markdown",
   "metadata": {
    "slideshow": {
     "slide_type": "slide"
    }
   },
   "source": [
    "<a id='transformacion'></a>\n",
    "<hr>\n",
    "<hr>\n",
    "<h1><center><span style=\"color:blue\">Transformación de datos</span></center></h1>\n",
    "<hr>\n",
    "<hr>\n",
    "\n"
   ]
  },
  {
   "cell_type": "markdown",
   "metadata": {
    "slideshow": {
     "slide_type": "slide"
    }
   },
   "source": [
    "<h1><center>¿Qué hacer si los datos no están normalmente distribuidos?</center></h1>\n",
    "<h2><center>Aplicar una transformación simple a los datos para alterar su distribución</center></h2>"
   ]
  },
  {
   "cell_type": "markdown",
   "metadata": {
    "slideshow": {
     "slide_type": "slide"
    }
   },
   "source": [
    "# Transformaciones logarítmicas <a id='logaritmicas'></a>\n",
    "\n",
    "Estas son las más comunes y se emplean principalmente cuando:\n",
    "\n",
    "- Los datos están altamente sesgados\n",
    "- El rango de los datos es muy amplio, incluso varía en órdenes de magnitud\n",
    "- Existen outliers (datos extremos)\n",
    "- No hay valores negativos\n",
    "\n"
   ]
  },
  {
   "cell_type": "code",
   "execution_count": 50,
   "metadata": {
    "scrolled": true,
    "slideshow": {
     "slide_type": "subslide"
    }
   },
   "outputs": [
    {
     "data": {
      "image/png": "[encoded data removed]",
      "text/plain": [
       "Plot with title “Histogram of A1”"
      ]
     },
     "metadata": {},
     "output_type": "display_data"
    }
   ],
   "source": [
    "library(\"moments\")\n",
    "par(mfrow=c(1,2))           # Mostrar dos gráficos simultáneamente\n",
    "\n",
    "A <- rbeta(1000,1.5,500)    # Generar datos en distribución beta\n",
    "A1 <- log(A)                # Transformar datos\n",
    "\n",
    "# Graficar los resultados\n",
    "hist(A, xlab = paste(\"Curtosis \", round(kurtosis(A),2), \"\\n\", \"Simetría \", round(skewness(A),2)))\n",
    "hist(A1, xlab = paste(\"Curtosis \", round(kurtosis(A1),2), \"\\n\", \"Simetría \", round(skewness(A1),2)))"
   ]
  },
  {
   "cell_type": "markdown",
   "metadata": {
    "slideshow": {
     "slide_type": "slide"
    }
   },
   "source": [
    "# Transformaciones exponenciales <a id='exponenciales'></a>\n",
    "\n",
    "Incluyen todas aquellas elevadas a una potencia (pueden ser fracciones, negativa o positiva). La más común es la raíz cuadrada.\n",
    "\n",
    "\n"
   ]
  },
  {
   "cell_type": "code",
   "execution_count": 51,
   "metadata": {
    "slideshow": {
     "slide_type": "subslide"
    }
   },
   "outputs": [
    {
     "data": {
      "image/png": "[encoded data removed]",
      "text/plain": [
       "Plot with title “Histogram of A1”"
      ]
     },
     "metadata": {},
     "output_type": "display_data"
    }
   ],
   "source": [
    "par(mfrow=c(1,2))\n",
    "library(\"moments\")\n",
    "\n",
    "A <- rnorm(100, 10, 4)^2\n",
    "A1 <- A^(1/2)\n",
    "\n",
    "hist(A, xlab = paste(\"Curtosis \", round(kurtosis(A),2), \"\\n\", \"Simetría \", round(skewness(A),2)))\n",
    "hist(A1, xlab = paste(\"Curtosis \", round(kurtosis(A1),2), \"\\n\", \"Simetría \", round(skewness(A1),2)))"
   ]
  },
  {
   "cell_type": "markdown",
   "metadata": {
    "slideshow": {
     "slide_type": "slide"
    }
   },
   "source": [
    "\n",
    "<a id='practica'></a>\n",
    "<hr>\n",
    "<hr>\n",
    "<h1><center><span style=\"color:blue\">Práctica de manipulación de datos</span></center></h1>\n",
    "<hr>\n",
    "<hr>\n"
   ]
  },
  {
   "cell_type": "markdown",
   "metadata": {
    "slideshow": {
     "slide_type": "slide"
    }
   },
   "source": [
    "# Ejercicio \n",
    "\n",
    "Con el archivo DATA.csv realizar las siguientes operaciones:\n",
    "\n",
    "1. Importar el archivo en un marco de datos\n",
    "2. Eliminar todos los registros en los que el país sea China\n",
    "3. Eliminar las columnas de Nombre y Apellido\n",
    "4. Calcular el mayor, menor, promedio y desviación estándar de las columnas Edad, Peso y Altura, ignorando los valores faltantes\n",
    "    1. Rellenar los valores faltantes con el promedio respectivo de la columna\n",
    "    2. Calcular, nuevamente, el mayor, menor, promedio y desviación estándar de las columnas Edad, Peso y Altura. ¿Hay alguna diferencia? ¿Porqué?\n",
    "5. Identificar cuantos registros tiene el país con mayor frecuencia\\**\n",
    "\n",
    "    "
   ]
  },
  {
   "cell_type": "markdown",
   "metadata": {
    "slideshow": {
     "slide_type": "slide"
    }
   },
   "source": [
    "\\* Las funciones *min()*, *max()*, *mean()*, y *sd()* calculan el mínimo, máximo, promedio, y desviación estándar de un vector, respectivamente.\n",
    "\n",
    "\\*\\* La función *table()* crea una tabla de frecuencias de valores de un vector."
   ]
  },
  {
   "cell_type": "code",
   "execution_count": 54,
   "metadata": {
    "scrolled": true
   },
   "outputs": [
    {
     "data": {
      "text/html": [
       "<table>\n",
       "<thead><tr><th scope=col>id</th><th scope=col>first_name</th><th scope=col>last_name</th><th scope=col>country</th><th scope=col>age</th><th scope=col>weight</th><th scope=col>height</th></tr></thead>\n",
       "<tbody>\n",
       "\t<tr><td>1          </td><td>Louis      </td><td>Hunter     </td><td>France     </td><td>54         </td><td>    NA     </td><td>197.39     </td></tr>\n",
       "\t<tr><td>2          </td><td>Irene      </td><td>Nelson     </td><td>Poland     </td><td>32         </td><td>139.86     </td><td>199.71     </td></tr>\n",
       "\t<tr><td>3          </td><td>Stephen    </td><td>Stone      </td><td>Philippines</td><td>20         </td><td> 97.03     </td><td>185.16     </td></tr>\n",
       "\t<tr><td>4          </td><td>Beverly    </td><td>Austin     </td><td>China      </td><td>42         </td><td> 53.47     </td><td>177.55     </td></tr>\n",
       "\t<tr><td>5          </td><td>Randy      </td><td>Price      </td><td>Greece     </td><td>46         </td><td> 97.91     </td><td>180.40     </td></tr>\n",
       "\t<tr><td>6          </td><td>Jonathan   </td><td>Wright     </td><td>Georgia    </td><td>53         </td><td>143.12     </td><td>167.05     </td></tr>\n",
       "</tbody>\n",
       "</table>\n"
      ],
      "text/latex": [
       "\\begin{tabular}{r|lllllll}\n",
       " id & first\\_name & last\\_name & country & age & weight & height\\\\\n",
       "\\hline\n",
       "\t 1           & Louis       & Hunter      & France      & 54          &     NA      & 197.39     \\\\\n",
       "\t 2           & Irene       & Nelson      & Poland      & 32          & 139.86      & 199.71     \\\\\n",
       "\t 3           & Stephen     & Stone       & Philippines & 20          &  97.03      & 185.16     \\\\\n",
       "\t 4           & Beverly     & Austin      & China       & 42          &  53.47      & 177.55     \\\\\n",
       "\t 5           & Randy       & Price       & Greece      & 46          &  97.91      & 180.40     \\\\\n",
       "\t 6           & Jonathan    & Wright      & Georgia     & 53          & 143.12      & 167.05     \\\\\n",
       "\\end{tabular}\n"
      ],
      "text/markdown": [
       "\n",
       "id | first_name | last_name | country | age | weight | height | \n",
       "|---|---|---|---|---|---|\n",
       "| 1           | Louis       | Hunter      | France      | 54          |     NA      | 197.39      | \n",
       "| 2           | Irene       | Nelson      | Poland      | 32          | 139.86      | 199.71      | \n",
       "| 3           | Stephen     | Stone       | Philippines | 20          |  97.03      | 185.16      | \n",
       "| 4           | Beverly     | Austin      | China       | 42          |  53.47      | 177.55      | \n",
       "| 5           | Randy       | Price       | Greece      | 46          |  97.91      | 180.40      | \n",
       "| 6           | Jonathan    | Wright      | Georgia     | 53          | 143.12      | 167.05      | \n",
       "\n",
       "\n"
      ],
      "text/plain": [
       "  id first_name last_name country     age weight height\n",
       "1 1  Louis      Hunter    France      54      NA 197.39\n",
       "2 2  Irene      Nelson    Poland      32  139.86 199.71\n",
       "3 3  Stephen    Stone     Philippines 20   97.03 185.16\n",
       "4 4  Beverly    Austin    China       42   53.47 177.55\n",
       "5 5  Randy      Price     Greece      46   97.91 180.40\n",
       "6 6  Jonathan   Wright    Georgia     53  143.12 167.05"
      ]
     },
     "metadata": {},
     "output_type": "display_data"
    },
    {
     "data": {
      "text/html": [
       "1000"
      ],
      "text/latex": [
       "1000"
      ],
      "text/markdown": [
       "1000"
      ],
      "text/plain": [
       "[1] 1000"
      ]
     },
     "metadata": {},
     "output_type": "display_data"
    }
   ],
   "source": [
    "set1 <- read.csv(\"dataset/DATA.csv\", stringsAsFactors=F) #www.mockaroo.com\n",
    "head(set1)\n",
    "nrow(set1)"
   ]
  },
  {
   "cell_type": "code",
   "execution_count": 55,
   "metadata": {},
   "outputs": [
    {
     "data": {
      "text/plain": [
       "\n",
       "                     Afghanistan                    Aland Islands \n",
       "                               7                                1 \n",
       "                         Albania                        Argentina \n",
       "                               3                               15 \n",
       "                         Armenia                        Australia \n",
       "                               3                                1 \n",
       "                      Azerbaijan                       Bangladesh \n",
       "                               3                                4 \n",
       "                        Barbados                          Belarus \n",
       "                               1                                2 \n",
       "                         Bolivia           Bosnia and Herzegovina \n",
       "                               1                                1 \n",
       "                        Botswana                           Brazil \n",
       "                               1                               40 \n",
       "                        Bulgaria                          Burundi \n",
       "                               4                                1 \n",
       "                        Cambodia                         Cameroon \n",
       "                               1                                6 \n",
       "                          Canada                             Chad \n",
       "                               9                                3 \n",
       "                           Chile                            China \n",
       "                               2                              180 \n",
       "                        Colombia                          Comoros \n",
       "                              14                                1 \n",
       "                         Croatia                             Cuba \n",
       "                               3                                2 \n",
       "                          Cyprus                   Czech Republic \n",
       "                               1                               23 \n",
       "                         Denmark                         Djibouti \n",
       "                               1                                2 \n",
       "              Dominican Republic                       East Timor \n",
       "                               3                                1 \n",
       "                     El Salvador                          Eritrea \n",
       "                               1                                1 \n",
       "                         Estonia                    Faroe Islands \n",
       "                               2                                1 \n",
       "                         Finland                           France \n",
       "                               6                               28 \n",
       "                          Gambia                          Georgia \n",
       "                               1                                3 \n",
       "                         Germany                           Greece \n",
       "                               3                               15 \n",
       "                       Guatemala                           Guinea \n",
       "                               3                                2 \n",
       "                        Honduras                          Hungary \n",
       "                               7                                2 \n",
       "                         Iceland                        Indonesia \n",
       "                               1                               93 \n",
       "                            Iran                             Iraq \n",
       "                               6                                3 \n",
       "                         Ireland                           Israel \n",
       "                               2                                1 \n",
       "                           Italy                      Ivory Coast \n",
       "                               1                                3 \n",
       "                         Jamaica                            Japan \n",
       "                               2                               15 \n",
       "                          Jordan                       Kazakhstan \n",
       "                               3                                4 \n",
       "                           Kenya                         Kiribati \n",
       "                               1                                1 \n",
       "                          Kosovo                       Kyrgyzstan \n",
       "                               1                                3 \n",
       "                            Laos                           Latvia \n",
       "                               4                                4 \n",
       "                           Libya                        Lithuania \n",
       "                               2                                3 \n",
       "                       Macedonia                       Madagascar \n",
       "                               3                                1 \n",
       "                          Malawi                         Malaysia \n",
       "                               2                                6 \n",
       "                           Malta                           Mexico \n",
       "                               2                               10 \n",
       "                         Moldova                         Mongolia \n",
       "                               1                                2 \n",
       "                      Montserrat                          Morocco \n",
       "                               1                                3 \n",
       "                         Myanmar                          Namibia \n",
       "                               4                                3 \n",
       "                           Nepal                      Netherlands \n",
       "                               2                                3 \n",
       "                   New Caledonia                        Nicaragua \n",
       "                               1                                4 \n",
       "                         Nigeria                      North Korea \n",
       "                               7                                1 \n",
       "                          Norway                             Oman \n",
       "                               7                                1 \n",
       "                        Pakistan                            Palau \n",
       "                              10                                1 \n",
       "           Palestinian Territory                           Panama \n",
       "                               7                                4 \n",
       "                Papua New Guinea                         Paraguay \n",
       "                               1                                2 \n",
       "                            Peru                      Philippines \n",
       "                              23                               51 \n",
       "                          Poland                         Portugal \n",
       "                              39                               29 \n",
       "                           Qatar                           Russia \n",
       "                               1                               50 \n",
       "Saint Vincent and the Grenadines                     Saudi Arabia \n",
       "                               1                                4 \n",
       "                          Serbia                     Sierra Leone \n",
       "                               8                                1 \n",
       "                        Slovenia                     South Africa \n",
       "                               6                                6 \n",
       "                     South Korea                            Spain \n",
       "                               3                                2 \n",
       "                       Sri Lanka                            Sudan \n",
       "                               3                                2 \n",
       "                          Sweden                      Switzerland \n",
       "                              17                                1 \n",
       "                           Syria                         Tanzania \n",
       "                               3                                6 \n",
       "                        Thailand                          Tunisia \n",
       "                              11                                2 \n",
       "                          Turkey                           Tuvalu \n",
       "                               1                                1 \n",
       "             U.S. Virgin Islands                           Uganda \n",
       "                               1                                1 \n",
       "                         Ukraine             United Arab Emirates \n",
       "                              13                                1 \n",
       "                  United Kingdom                    United States \n",
       "                               3                               31 \n",
       "                         Uruguay                       Uzbekistan \n",
       "                               3                                2 \n",
       "                       Venezuela                          Vietnam \n",
       "                               2                               11 \n",
       "                           Yemen                         Zimbabwe \n",
       "                               3                                1 "
      ]
     },
     "metadata": {},
     "output_type": "display_data"
    }
   ],
   "source": [
    "table(set1$country)"
   ]
  }
 ],
 "metadata": {
  "celltoolbar": "Slideshow",
  "kernelspec": {
   "display_name": "R",
   "language": "R",
   "name": "ir"
  },
  "language_info": {
   "codemirror_mode": "r",
   "file_extension": ".r",
   "mimetype": "text/x-r-source",
   "name": "R",
   "pygments_lexer": "r",
   "version": "3.5.0"
  }
 },
 "nbformat": 4,
 "nbformat_minor": 2
}
