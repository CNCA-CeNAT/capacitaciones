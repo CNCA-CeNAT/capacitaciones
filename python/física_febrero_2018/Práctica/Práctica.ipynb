{
 "cells": [
  {
   "cell_type": "markdown",
   "metadata": {},
   "source": [
    "# Ejercicio 1\n",
    "- Cargue los datos del archivo velocidades.txt, estos datos representan el tiempo $t$ en segundos y la velocidad en $x$ en $m/s$ de una partícula, una medición por segundo desde el tiempo $t=0$ al tiempo $t=100$\n",
    "\n",
    "    - Escriba un programa que lea los datos y calcule la distancia recorrida por la partícula en la dirección x como una función del tiempo\n",
    "    - Grafique la curva de velocidad y la distancia recorrida como funciones del tiempo en un mismo gráfico"
   ]
  },
  {
   "cell_type": "markdown",
   "metadata": {},
   "source": [
    "# Ejercicio 2\n",
    "## Resuelva la ODE de 1er orden utilizando odeint de la biblioteca SciPy\n",
    "$$ \\frac{dy}{dx} + y = x, y(0) = 1 $$\n",
    "\n",
    "## Grafique el resultado"
   ]
  },
  {
   "cell_type": "markdown",
   "metadata": {},
   "source": [
    "# Ejercicio 3\n",
    "   \n",
    "- Cree un programa que:\n",
    "    - Le pregunte al usuario un número entero N desde la consola\n",
    "    - Cree dos vectores con valores aleatorios de tamaño N\n",
    "    - Distribuya los vectores entre varios procesos para hacer producto escalar entre ellos de forma paralela"
   ]
  },
  {
   "cell_type": "markdown",
   "metadata": {},
   "source": [
    "# Ejercicio 4\n",
    "- Cargue los datos que se encuentran en el archivo datos.nc\n",
    "- Observe la forma en la que están acomodados los datos dentro del archivo, la cantidad de entradas que tienen los datos de longitud y latitud dentro del archivo\n",
    "- Cree un mapa para visualizar la variable \"p10u\"\n"
   ]
  }
 ],
 "metadata": {
  "kernelspec": {
   "display_name": "Python 3",
   "language": "python",
   "name": "python3"
  },
  "language_info": {
   "codemirror_mode": {
    "name": "ipython",
    "version": 3
   },
   "file_extension": ".py",
   "mimetype": "text/x-python",
   "name": "python",
   "nbconvert_exporter": "python",
   "pygments_lexer": "ipython3",
   "version": "3.6.0"
  }
 },
 "nbformat": 4,
 "nbformat_minor": 2
}
