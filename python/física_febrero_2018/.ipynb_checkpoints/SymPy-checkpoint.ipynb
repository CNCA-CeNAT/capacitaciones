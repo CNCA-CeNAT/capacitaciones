{
 "cells": [
  {
   "cell_type": "markdown",
   "metadata": {
    "slideshow": {
     "slide_type": "slide"
    }
   },
   "source": [
    "# La computación simbólica trata con la computación de objetos matemáticos de manera simbólica\n",
    "## Esto significa que los objetos son representados de manera exacta, no aproximada y las expresiones matemáticas con variables no evaluadas, se dejan en forma simbólica\n",
    "# Por ejemplo:"
   ]
  },
  {
   "cell_type": "code",
   "execution_count": 1,
   "metadata": {},
   "outputs": [
    {
     "name": "stdout",
     "output_type": "stream",
     "text": [
      "El valor de la raíz cuadrada de 9 es: 3.0\n"
     ]
    }
   ],
   "source": [
    "# Si deseamos calcular la raíz cuadrada de un número, podemos usar la función de la biblioteca math:\n",
    "import math\n",
    "print(\"El valor de la raíz cuadrada de 9 es:\",math.sqrt(9))"
   ]
  },
  {
   "cell_type": "markdown",
   "metadata": {
    "slideshow": {
     "slide_type": "slide"
    }
   },
   "source": [
    "### 9 es un cuadrado perfecto, por lo tanto obtuvimos una respuesta precisa, pero si queremos calcular la raíz cuadrada de un número que no es cuadrado perfecto\n"
   ]
  },
  {
   "cell_type": "code",
   "execution_count": 2,
   "metadata": {
    "slideshow": {
     "slide_type": "slide"
    }
   },
   "outputs": [
    {
     "data": {
      "text/plain": [
       "2.8284271247461903"
      ]
     },
     "execution_count": 2,
     "metadata": {},
     "output_type": "execute_result"
    }
   ],
   "source": [
    "math.sqrt(8)"
   ]
  },
  {
   "cell_type": "markdown",
   "metadata": {
    "slideshow": {
     "slide_type": "slide"
    }
   },
   "source": [
    "### Obtenemos el valor 2.82842712475, que no es exactamente la raíz cuadrada de 8, sino una aproximación. El verdadero valor de la raíz cuadrada de 8 no puede ser representada con un número de decimales finitos, pues es irracional.\n",
    "### Si quisiéramos hacer un análisis más profundo, por ejemplo $$ \\sqrt{8} = \\sqrt{4*2} = 2\\sqrt{2} $$ No se podría deducir fácilmente esto a partir de la aproximación numérica que obtuvimos anteriormente\n",
    "\n",
    "### Ahí es donde entra en juego la computación simbólica. En un caso como el de la raíz cuadrada de números que no son cuadrados perfectos un sistema como SymPy los deja como símbolos sin evaluar por defecto"
   ]
  },
  {
   "cell_type": "code",
   "execution_count": 3,
   "metadata": {
    "slideshow": {
     "slide_type": "slide"
    }
   },
   "outputs": [
    {
     "ename": "ModuleNotFoundError",
     "evalue": "No module named 'sympy'",
     "output_type": "error",
     "traceback": [
      "\u001b[0;31m---------------------------------------------------------------------------\u001b[0m",
      "\u001b[0;31mModuleNotFoundError\u001b[0m                       Traceback (most recent call last)",
      "\u001b[0;32m<ipython-input-3-6709db68bdea>\u001b[0m in \u001b[0;36m<module>\u001b[0;34m()\u001b[0m\n\u001b[0;32m----> 1\u001b[0;31m \u001b[0;32mimport\u001b[0m \u001b[0msympy\u001b[0m\u001b[0;34m\u001b[0m\u001b[0m\n\u001b[0m\u001b[1;32m      2\u001b[0m \u001b[0msympy\u001b[0m\u001b[0;34m.\u001b[0m\u001b[0minit_printing\u001b[0m\u001b[0;34m(\u001b[0m\u001b[0muse_unicode\u001b[0m\u001b[0;34m=\u001b[0m\u001b[0;32mTrue\u001b[0m\u001b[0;34m)\u001b[0m \u001b[0;31m# esto es sólo para que el output se vea bonito\u001b[0m\u001b[0;34m\u001b[0m\u001b[0m\n\u001b[1;32m      3\u001b[0m \u001b[0mprint\u001b[0m\u001b[0;34m(\u001b[0m\u001b[0msympy\u001b[0m\u001b[0;34m.\u001b[0m\u001b[0msqrt\u001b[0m\u001b[0;34m(\u001b[0m\u001b[0;36m3\u001b[0m\u001b[0;34m)\u001b[0m\u001b[0;34m)\u001b[0m\u001b[0;34m\u001b[0m\u001b[0m\n\u001b[1;32m      4\u001b[0m \u001b[0msympy\u001b[0m\u001b[0;34m.\u001b[0m\u001b[0msqrt\u001b[0m\u001b[0;34m(\u001b[0m\u001b[0;36m8\u001b[0m\u001b[0;34m)\u001b[0m\u001b[0;34m\u001b[0m\u001b[0m\n",
      "\u001b[0;31mModuleNotFoundError\u001b[0m: No module named 'sympy'"
     ]
    }
   ],
   "source": [
    "import sympy\n",
    "sympy.init_printing(use_unicode=True) # esto es sólo para que el output se vea bonito\n",
    "print(sympy.sqrt(3))\n",
    "sympy.sqrt(8)"
   ]
  },
  {
   "cell_type": "markdown",
   "metadata": {
    "slideshow": {
     "slide_type": "slide"
    }
   },
   "source": [
    "### SymPy también sirve para computar expresiones con variables utilizando símbolos\n",
    "### Se puede definir una expresión simbólica, por ejemplo $$ x + 2y $$"
   ]
  },
  {
   "cell_type": "code",
   "execution_count": null,
   "metadata": {
    "slideshow": {
     "slide_type": "slide"
    }
   },
   "outputs": [],
   "source": [
    "x, y = sympy.symbols('x y')\n",
    "expr = x + 2*y\n",
    "print(expr)\n",
    "print(expr + 1)\n",
    "print(expr - x)"
   ]
  },
  {
   "cell_type": "code",
   "execution_count": null,
   "metadata": {
    "slideshow": {
     "slide_type": "slide"
    }
   },
   "outputs": [],
   "source": [
    "x * expr# Ojo la simplificación (falta de) que hace"
   ]
  },
  {
   "cell_type": "markdown",
   "metadata": {
    "slideshow": {
     "slide_type": "slide"
    }
   },
   "source": [
    "### En vez de hacer $ x^2 + 2xy $ lo dejó como $ x (x+2y) $\n",
    "### Esto porque a menos de que sean simplificaciones obvias (como $ x - x $) , sympy no va a simplificar sin que el programador se lo diga explícitamente"
   ]
  },
  {
   "cell_type": "code",
   "execution_count": null,
   "metadata": {
    "slideshow": {
     "slide_type": "slide"
    }
   },
   "outputs": [],
   "source": [
    "from sympy import expand, factor\n",
    "expanded_expr = expand(x*expr)\n",
    "expanded_expr # expandido\n"
   ]
  },
  {
   "cell_type": "code",
   "execution_count": null,
   "metadata": {},
   "outputs": [],
   "source": [
    "factor(expanded_expr)"
   ]
  },
  {
   "cell_type": "markdown",
   "metadata": {
    "slideshow": {
     "slide_type": "slide"
    }
   },
   "source": [
    "# SymPy puede simplificar expresiones, computar derivadas e integrales, límites, resolver ecuaciones, trabajar con matrices, etc, etc."
   ]
  },
  {
   "cell_type": "code",
   "execution_count": null,
   "metadata": {
    "slideshow": {
     "slide_type": "slide"
    }
   },
   "outputs": [],
   "source": [
    "from sympy import *\n",
    "x, t, z, nu = symbols('x t z nu')\n",
    "print (\"-------- derivada ---------\")\n",
    "print(diff(sin(x)*exp(x), x)) # sin (x) * e^x\n",
    "print (\"-------- integral ---------\") # e^x*sin(x)+e^x*cos(x)\n",
    "print(integrate(exp(x)*sin(x) + exp(x)*cos(x), x))\n",
    "print (\"-------- integral rango infinito ---------\") # sin (x^2) de -infinito a +infinito\n",
    "print(integrate(sin(x**2), (x, -oo, oo)))\n",
    "print (\"-------- límite ---------\") # de sin(x)/x cuando x --> 0\n",
    "print(limit(sin(x)/x, x, 0))\n",
    "print (\"-------- solución ecuación ---------\") # x^2 - 2 = 0\n",
    "print(solve(x**2 - 2, x))\n",
    "print (\"-------- ecuación diferencial ---------\") # y'' − y = e^t.\n",
    "y = Function('y')\n",
    "print((dsolve(Eq(y(t).diff(t, t) - y(t), exp(t)), y(t))))\n"
   ]
  },
  {
   "cell_type": "code",
   "execution_count": null,
   "metadata": {},
   "outputs": [],
   "source": [
    "y = Function('y')\n",
    "(dsolve(Eq(y(t).diff(t, t) - y(t), exp(t)), y(t)))"
   ]
  },
  {
   "cell_type": "markdown",
   "metadata": {
    "slideshow": {
     "slide_type": "slide"
    }
   },
   "source": [
    "#### Encontrar los autovalores(valores propios) de la matriz \n",
    "$$ \\begin{matrix} 1 & 2 \\\\ 2 & 2 \\end{matrix} $$"
   ]
  },
  {
   "cell_type": "code",
   "execution_count": null,
   "metadata": {
    "slideshow": {
     "slide_type": "slide"
    }
   },
   "outputs": [],
   "source": [
    "Matrix([[1, 2], [2, 2]]).eigenvals()"
   ]
  },
  {
   "cell_type": "markdown",
   "metadata": {
    "collapsed": true,
    "slideshow": {
     "slide_type": "slide"
    }
   },
   "source": [
    "# Algunas operaciones básicas que se pueden hacer en sympy\n",
    "- Substitución: Permite evaluar la función en un punto "
   ]
  },
  {
   "cell_type": "code",
   "execution_count": null,
   "metadata": {
    "slideshow": {
     "slide_type": "slide"
    }
   },
   "outputs": [],
   "source": [
    "from sympy import *\n",
    "x, y, z = symbols(\"x y z\")\n",
    "print(\"----------- Substitución -----------\")\n",
    "expr = cos(x) + sin(y)\n",
    "expr.subs({x:pi, y: 1})"
   ]
  },
  {
   "cell_type": "markdown",
   "metadata": {
    "slideshow": {
     "slide_type": "slide"
    }
   },
   "source": [
    "- SymPy-ficar: Convierte una expresión en forma de string a una expresión de SymPy (no confundir con \"simplyfy\")\n"
   ]
  },
  {
   "cell_type": "code",
   "execution_count": null,
   "metadata": {
    "slideshow": {
     "slide_type": "slide"
    }
   },
   "outputs": [],
   "source": [
    "print(\"----------- SymPyfy -----------\")\n",
    "string_normal = \"integrate(x**2 + 3*x - 1/2, x)\"\n",
    "expr = sympify(string_normal)\n",
    "expr # lo imprime como expresión de SymPy"
   ]
  },
  {
   "cell_type": "markdown",
   "metadata": {
    "slideshow": {
     "slide_type": "slide"
    }
   },
   "source": [
    "- $\\textbf{evalf}$ evalúa la expresión y la expresa como un número tipo float\n",
    "- Se le puede indicar la cantidad de dígitos que se desee, por defecto pondrá 15 dígitos de precisión\n",
    "- Se puede combinar con subs para sustituir en una función"
   ]
  },
  {
   "cell_type": "code",
   "execution_count": null,
   "metadata": {},
   "outputs": [],
   "source": [
    "expr = (sqrt(9))\n",
    "print(\"----------- Raíz de 8 -----------\")\n",
    "print(expr.evalf())\n",
    "print(\"----------- 100 dígitos de π -----------\")\n",
    "print(pi.evalf(100))\n",
    "print(\"----------- Combinación de subs con evalf -----------\")\n",
    "expr = cos(2*x)\n",
    "print(expr.evalf(subs={x: 2.4}))"
   ]
  },
  {
   "cell_type": "code",
   "execution_count": null,
   "metadata": {},
   "outputs": [],
   "source": [
    "pi.evalf(10000)"
   ]
  },
  {
   "cell_type": "markdown",
   "metadata": {
    "slideshow": {
     "slide_type": "slide"
    }
   },
   "source": [
    "# Si se necesita hacer una evaluación en varios puntos, existen maneras eficientes de hacerlo\n",
    "### Aunque estas evaluaciones en cantidades grandes de puntos es más eficiente realizarlas en SciPy/NumPy\n",
    "\n",
    "- lambdify convierte los nombres de variables de SymPy a su equivalente en alguna biblioteca numérica que uno elija, generalmente se utiliza con NumPy"
   ]
  },
  {
   "cell_type": "code",
   "execution_count": null,
   "metadata": {
    "slideshow": {
     "slide_type": "slide"
    }
   },
   "outputs": [],
   "source": [
    "import numpy \n",
    "a = numpy.arange(10)\n",
    "b = numpy.arange(-10, 0)\n",
    "expr = sin(x) + cos(y)\n",
    "f = lambdify((x,y), expr, \"numpy\") \n",
    "f(a,b)"
   ]
  },
  {
   "cell_type": "markdown",
   "metadata": {},
   "source": [
    "# Ejercicio\n",
    "## Hacer un programa que reciba desde la consola una expresión y la evalúe en un punto (que recibe desde consola) y lo imprima (en un archivo)"
   ]
  },
  {
   "cell_type": "code",
   "execution_count": null,
   "metadata": {},
   "outputs": [],
   "source": [
    "resultado = input(\"Ingrese una expresión\")\n",
    "\n",
    "print(type(resultado))\n",
    "resultado = float(resultado)\n",
    "print(type(resultado))"
   ]
  },
  {
   "cell_type": "code",
   "execution_count": null,
   "metadata": {},
   "outputs": [],
   "source": [
    "resultado + 9"
   ]
  },
  {
   "cell_type": "code",
   "execution_count": null,
   "metadata": {},
   "outputs": [],
   "source": [
    "print(str(resultado) + str(expr))"
   ]
  },
  {
   "cell_type": "markdown",
   "metadata": {
    "slideshow": {
     "slide_type": "slide"
    }
   },
   "source": [
    "# Cálculo con SymPy\n",
    "## Derivadas\n",
    "- Se usan con la función diff\n",
    "- Se le pueden pasar todas las variables que quieren derivarse\n",
    "- En el ejemplo a continuación, se deriva $\\dfrac{\\partial{}^7}{\\partial{x} \\partial{y}^2 \\partial{z}^4} e^{xyz}$\n"
   ]
  },
  {
   "cell_type": "code",
   "execution_count": null,
   "metadata": {
    "slideshow": {
     "slide_type": "slide"
    }
   },
   "outputs": [],
   "source": [
    "expr = exp(x*y*z)\n",
    "diff(expr, x, y, 2, z, 4) # Nótese que después de cada variable, se pone un número\n",
    "                          # que indica cuántas veces se diferencia por ese número\n",
    "                          # si el número se omite, se toma como un 1"
   ]
  },
  {
   "cell_type": "markdown",
   "metadata": {
    "slideshow": {
     "slide_type": "slide"
    }
   },
   "source": [
    "- Si se desea crear una derivada sin evaluar, se utiliza la clase $ \\textbf{ Derivative}$\n",
    "- Luego si se desea evaluar, se ejecuta el método $ \\textbf{doit}$"
   ]
  },
  {
   "cell_type": "code",
   "execution_count": null,
   "metadata": {
    "slideshow": {
     "slide_type": "slide"
    }
   },
   "outputs": [],
   "source": [
    "deriv = Derivative(expr, x, y, 2, z, 4)\n",
    "print(deriv)\n",
    "deriv.doit()"
   ]
  },
  {
   "cell_type": "markdown",
   "metadata": {
    "slideshow": {
     "slide_type": "slide"
    }
   },
   "source": [
    "## Integrales\n",
    "- Existen de dos tipos: definidas e indefinidas\n",
    "- (El $\\infty$ de SymPy se hace con dos letras 'o' minúsculas juntas)\n",
    "- Con integrales indefinidas se pueden pasar múltiples tuplas para computar integrales múltiples\n",
    "\n",
    "Ejemplo, para calcular $\\int_{-\\infty}^{\\infty} \\int_{-\\infty}^{\\infty} e^{-x^2 - y^2} dx dy$"
   ]
  },
  {
   "cell_type": "code",
   "execution_count": null,
   "metadata": {
    "slideshow": {
     "slide_type": "slide"
    }
   },
   "outputs": [],
   "source": [
    "integrate(exp(-x**2 - y**2), (x, -oo, oo), (y, -oo, oo))"
   ]
  },
  {
   "cell_type": "markdown",
   "metadata": {
    "collapsed": true,
    "slideshow": {
     "slide_type": "slide"
    }
   },
   "source": [
    "# Matrices\n",
    "- Se construye a partir de un conjunto de vectores \"fila\"\n",
    "- Una lista de una sola dimensión se ve como un vector columna por defecto\n",
    "- A diferencia de otros objetos de SymPy, las matrices sí son mutables (pueden cambiar)\n"
   ]
  },
  {
   "cell_type": "code",
   "execution_count": null,
   "metadata": {
    "slideshow": {
     "slide_type": "slide"
    }
   },
   "outputs": [],
   "source": [
    "import numpy\n",
    "a = numpy.array([[1, -1], [3, 4], [0, 2]])\n",
    "Matrix(a)"
   ]
  },
  {
   "cell_type": "code",
   "execution_count": null,
   "metadata": {
    "slideshow": {
     "slide_type": "slide"
    }
   },
   "outputs": [],
   "source": [
    "Matrix([1, 2, 3])"
   ]
  },
  {
   "cell_type": "code",
   "execution_count": null,
   "metadata": {
    "slideshow": {
     "slide_type": "slide"
    }
   },
   "outputs": [],
   "source": [
    "M = Matrix([[1, 2, 3], [3, 2, 1]])\n",
    "N = Matrix([0, 1, 1])\n",
    "M*N\n"
   ]
  },
  {
   "cell_type": "markdown",
   "metadata": {
    "slideshow": {
     "slide_type": "slide"
    }
   },
   "source": [
    "## Operadores de matrices\n"
   ]
  },
  {
   "cell_type": "code",
   "execution_count": null,
   "metadata": {},
   "outputs": [],
   "source": [
    "M = Matrix([[1, 2, 3], [-2, 0, 4]])\n",
    "M"
   ]
  },
  {
   "cell_type": "code",
   "execution_count": null,
   "metadata": {},
   "outputs": [],
   "source": [
    "print(M.row(0)) # Acceso a filas y columnas\n",
    "print(M.col(-1))"
   ]
  },
  {
   "cell_type": "code",
   "execution_count": null,
   "metadata": {},
   "outputs": [],
   "source": [
    "M.col_del(0) # Permite borrar filas y columnas\n",
    "M"
   ]
  },
  {
   "cell_type": "code",
   "execution_count": null,
   "metadata": {},
   "outputs": [],
   "source": [
    "M.row_del(1)\n",
    "M"
   ]
  },
  {
   "cell_type": "code",
   "execution_count": null,
   "metadata": {},
   "outputs": [],
   "source": [
    "M = M.row_insert(1, Matrix([[0, 4]])) # Inserción de fila\n",
    "M"
   ]
  },
  {
   "cell_type": "code",
   "execution_count": null,
   "metadata": {},
   "outputs": [],
   "source": [
    "M = M.col_insert(0, Matrix([1, -2])) # Inserción de columna\n",
    "M"
   ]
  },
  {
   "cell_type": "code",
   "execution_count": null,
   "metadata": {
    "scrolled": true
   },
   "outputs": [],
   "source": [
    "M = Matrix([[1, 3], [-2, 3]])\n",
    "N = Matrix([[0, 3], [0, 7]])\n",
    "print(\"------- Suma -------\")\n",
    "print(M + N)\n",
    "print(\"------- Multiplicación -------\")\n",
    "print(M*N)\n",
    "print(\"------- Potencia -------\")\n",
    "print(M**2)\n",
    "print(\"------- Inversa -------\")\n",
    "print(\"Para calcular la inversa, simplemente se eleva a la -1\")\n",
    "print(M**-1)\n",
    "print(\"\\n\\n Si no se puede invertir, da error\")\n",
    "print(N**-1)"
   ]
  },
  {
   "cell_type": "code",
   "execution_count": null,
   "metadata": {},
   "outputs": [],
   "source": [
    "M*M**-1"
   ]
  },
  {
   "cell_type": "code",
   "execution_count": null,
   "metadata": {
    "slideshow": {
     "slide_type": "slide"
    }
   },
   "outputs": [],
   "source": [
    "M.T # Transpuesta"
   ]
  },
  {
   "cell_type": "code",
   "execution_count": null,
   "metadata": {
    "slideshow": {
     "slide_type": "slide"
    }
   },
   "outputs": [],
   "source": [
    "eye(3) # Crea una matriz identidad de dimensiones como se indica en el parámetro"
   ]
  },
  {
   "cell_type": "code",
   "execution_count": null,
   "metadata": {
    "slideshow": {
     "slide_type": "slide"
    }
   },
   "outputs": [],
   "source": [
    "diag(1+3j, 2, 3, 4, 5, 6) # Crea una matriz con valores especificados en la diagonal"
   ]
  },
  {
   "cell_type": "code",
   "execution_count": null,
   "metadata": {
    "slideshow": {
     "slide_type": "slide"
    }
   },
   "outputs": [],
   "source": [
    "M = Matrix([[1, 0, 1], [2, -1, 3], [4, 3, 2]])\n",
    "M.det() # Calcula el determinante de la matriz"
   ]
  },
  {
   "cell_type": "code",
   "execution_count": null,
   "metadata": {
    "slideshow": {
     "slide_type": "slide"
    }
   },
   "outputs": [],
   "source": [
    "dic = M.eigenvals() # Valores propios (autovalores) de la matriz\n",
    "\n",
    "dic.keys()"
   ]
  },
  {
   "cell_type": "markdown",
   "metadata": {
    "slideshow": {
     "slide_type": "slide"
    }
   },
   "source": [
    "# Solución de ecuaciones\n",
    "- Para computar una igualdad en SymPy no se utiliza = ni ==\n",
    "    - Se utiliza la función Eq"
   ]
  },
  {
   "cell_type": "code",
   "execution_count": null,
   "metadata": {
    "slideshow": {
     "slide_type": "slide"
    }
   },
   "outputs": [],
   "source": [
    "Eq(x, y)"
   ]
  },
  {
   "cell_type": "markdown",
   "metadata": {
    "slideshow": {
     "slide_type": "slide"
    }
   },
   "source": [
    "### En SymPy para cualquier expresión que no esté en un Eq las funciones de solución van a asumir automáticamente que es = 0\n",
    "\n",
    "### La función solveset resuelve la ecuación presentada"
   ]
  },
  {
   "cell_type": "code",
   "execution_count": null,
   "metadata": {},
   "outputs": [],
   "source": [
    "print(solveset(Eq(x**2, 1), x)) # Ejemplo con Eq x^2 = 1, resolver para x\n",
    "print(\"-------------------------\")\n",
    "print(solveset(Eq(x**2 - 1, 0), x)) # Misma ecuación, sólo que ahora x^2 - 1 = 0 de manera explícita\n",
    "print(\"-------------------------\")\n",
    "print(solveset(x**2-1, x)) # Aquí se omite la igualdad (por defecto = 0)"
   ]
  },
  {
   "cell_type": "markdown",
   "metadata": {},
   "source": [
    "# Restricción del dominio de una función"
   ]
  },
  {
   "cell_type": "code",
   "execution_count": null,
   "metadata": {},
   "outputs": [],
   "source": [
    "solveset(x - x, x)"
   ]
  },
  {
   "cell_type": "code",
   "execution_count": null,
   "metadata": {},
   "outputs": [],
   "source": [
    "solveset(x - x, x, domain=S.Reals)"
   ]
  },
  {
   "cell_type": "code",
   "execution_count": null,
   "metadata": {},
   "outputs": [],
   "source": [
    "solveset(sin(x) - 1, x, domain=S.Reals)"
   ]
  },
  {
   "cell_type": "code",
   "execution_count": null,
   "metadata": {},
   "outputs": [],
   "source": [
    "solveset(exp(x), x) # Si no hay solución, se retorna un conjunto vacío"
   ]
  },
  {
   "cell_type": "markdown",
   "metadata": {},
   "source": [
    "# Sistemas de ecuaciones lineales se resuelven utilizando linsolve"
   ]
  },
  {
   "cell_type": "code",
   "execution_count": null,
   "metadata": {},
   "outputs": [],
   "source": [
    "linsolve([x + y + z - 1, x + y + 2*z - 3 ], (x, y, z))"
   ]
  },
  {
   "cell_type": "code",
   "execution_count": null,
   "metadata": {},
   "outputs": [],
   "source": [
    "linsolve(Matrix(([1, 1, 1, 1], [1, 1, 2, 3])), (x, y, z)) # Funciona también para sistemas matriciales"
   ]
  },
  {
   "cell_type": "code",
   "execution_count": null,
   "metadata": {},
   "outputs": [],
   "source": [
    "print(\"Solución de la forma A*x = b\")\n",
    "M = Matrix(((1, 1, 1, 1), (1, 1, 2, 3)))\n",
    "sistema = A, b = M[:, :-1], M[:, -1]\n",
    "linsolve(sistema, x, y, z)"
   ]
  },
  {
   "cell_type": "code",
   "execution_count": null,
   "metadata": {},
   "outputs": [],
   "source": [
    "sistema = [x**2 - 2*y**2 -2, x*y - 2]\n",
    "variables = [x, y]\n",
    "nonlinsolve(sistema, variables)"
   ]
  },
  {
   "cell_type": "markdown",
   "metadata": {},
   "source": [
    "# Sistemas no lineales"
   ]
  },
  {
   "cell_type": "code",
   "execution_count": null,
   "metadata": {},
   "outputs": [],
   "source": [
    "nonlinsolve([x*y, x*y - x], [x, y])"
   ]
  },
  {
   "cell_type": "code",
   "execution_count": null,
   "metadata": {},
   "outputs": [],
   "source": [
    "a, b, c, d = symbols('a, b, c, d', real=True)\n",
    "sistema = [a**2 + a*c, a - b]\n",
    "nonlinsolve(sistema, [a, b])"
   ]
  },
  {
   "cell_type": "markdown",
   "metadata": {},
   "source": [
    " - Hay que tener cuidado con este nonlinsolve porque a veces no es capaz de resolver algunas cosas más complejas"
   ]
  },
  {
   "cell_type": "code",
   "execution_count": null,
   "metadata": {},
   "outputs": [],
   "source": [
    "nonlinsolve([sin(x + y), cos(x - y)], [x, y])"
   ]
  },
  {
   "cell_type": "markdown",
   "metadata": {},
   "source": [
    "- para estos casos vale la pena ver si 'solve' lo puede resolver en vez de nonlinsolve"
   ]
  },
  {
   "cell_type": "code",
   "execution_count": null,
   "metadata": {},
   "outputs": [],
   "source": [
    "solve([sin(x + y), cos(x - y)], [x, y])"
   ]
  },
  {
   "cell_type": "markdown",
   "metadata": {},
   "source": [
    "#### Aunque se recomienda en la medida de lo posible utilizar otras cosas que no sean solve por cuestiones de eficiencia y calidad del resultado"
   ]
  },
  {
   "cell_type": "markdown",
   "metadata": {},
   "source": [
    "# Ecuaciones diferenciales"
   ]
  },
  {
   "cell_type": "code",
   "execution_count": null,
   "metadata": {},
   "outputs": [],
   "source": [
    "f, g = symbols('f g', cls=Function)\n",
    "f(x)"
   ]
  },
  {
   "cell_type": "code",
   "execution_count": null,
   "metadata": {},
   "outputs": [],
   "source": [
    "g(x, f(x)).diff(x)"
   ]
  },
  {
   "cell_type": "markdown",
   "metadata": {},
   "source": [
    "### Al agregar ese cls = Function, f y g se declaran como funciones no definidas, al llamar a f(x) se obtiene una función no definida\n",
    "### Para representar a la ecuación diferencial \n",
    "$$ f''(x) - 2f'(x) + f(x) = sin(x) $$\n",
    "\n",
    "### Podemos hacerla de esta forma:"
   ]
  },
  {
   "cell_type": "code",
   "execution_count": null,
   "metadata": {},
   "outputs": [],
   "source": [
    "diffeq = Eq(f(x).diff(x, x) - 2*f(x).diff(x) + f(x), sin(x))\n",
    "diffeq"
   ]
  },
  {
   "cell_type": "markdown",
   "metadata": {},
   "source": [
    "### Para encontrar la solución de una ODE, se puede utilizar la función dsolve "
   ]
  },
  {
   "cell_type": "markdown",
   "metadata": {},
   "source": [
    "# Ejercicio\n",
    "\n",
    "### Hacer que el programa reciba mediante consola una ecuación diferencial y un valor x donde se evalúe la solución"
   ]
  },
  {
   "cell_type": "code",
   "execution_count": null,
   "metadata": {},
   "outputs": [],
   "source": [
    "expr = dsolve(diffeq, f(x)).rhs\n",
    "expr\n",
    "constantes = solve([expr.subs(x,0), expr.subs(x, math.pi/2) - 3]).rhs\n",
    "constantes"
   ]
  },
  {
   "cell_type": "code",
   "execution_count": null,
   "metadata": {},
   "outputs": [],
   "source": []
  },
  {
   "cell_type": "code",
   "execution_count": null,
   "metadata": {},
   "outputs": [],
   "source": [
    "expr.subs(C:pi)"
   ]
  },
  {
   "cell_type": "code",
   "execution_count": null,
   "metadata": {},
   "outputs": [],
   "source": [
    "dsolve(f(x).diff(x)*(1 - sin(f(x))), f(x))"
   ]
  },
  {
   "cell_type": "code",
   "execution_count": null,
   "metadata": {},
   "outputs": [],
   "source": []
  }
 ],
 "metadata": {
  "celltoolbar": "Slideshow",
  "kernelspec": {
   "display_name": "Python 3",
   "language": "python",
   "name": "python3"
  },
  "language_info": {
   "codemirror_mode": {
    "name": "ipython",
    "version": 3
   },
   "file_extension": ".py",
   "mimetype": "text/x-python",
   "name": "python",
   "nbconvert_exporter": "python",
   "pygments_lexer": "ipython3",
   "version": "3.6.0"
  }
 },
 "nbformat": 4,
 "nbformat_minor": 2
}
