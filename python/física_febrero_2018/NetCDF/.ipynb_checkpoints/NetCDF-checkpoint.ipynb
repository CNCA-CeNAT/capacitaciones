{
 "cells": [
  {
   "cell_type": "markdown",
   "metadata": {},
   "source": [
    "# Diccionarios\n",
    "\n",
    "- Es una estructura de datos que funcionan como un conjunto de pares llave:valor"
   ]
  },
  {
   "cell_type": "code",
   "execution_count": null,
   "metadata": {},
   "outputs": [],
   "source": [
    "dicc_ingles = {'azul':'blue', 'casa':'house', 'ratón':'mouse'}\n",
    "print(dicc_ingles['azul'])"
   ]
  },
  {
   "cell_type": "markdown",
   "metadata": {},
   "source": [
    "- Las llaves y los valores pueden ser otras estructuras de datos anidadas\n",
    "- Si se intenta acceder una llave que no existe, se genera un error\n",
    "- Para evitar esto, podemos utilizar el operador \"in\", que retorna True si existe la llave en el diccionario y False si no"
   ]
  },
  {
   "cell_type": "code",
   "execution_count": null,
   "metadata": {},
   "outputs": [],
   "source": [
    "print('computadora' in dicc_ingles)\n",
    "print('azul' in dicc_ingles)"
   ]
  },
  {
   "cell_type": "markdown",
   "metadata": {},
   "source": [
    "- Se puede iterar sobre las llaves de un diccionario:"
   ]
  },
  {
   "cell_type": "code",
   "execution_count": null,
   "metadata": {},
   "outputs": [],
   "source": [
    "for llave in dicc_ingles:\n",
    "    print(llave)"
   ]
  },
  {
   "cell_type": "markdown",
   "metadata": {},
   "source": [
    "- Y sobre los valores:"
   ]
  },
  {
   "cell_type": "code",
   "execution_count": null,
   "metadata": {},
   "outputs": [],
   "source": [
    "for llave in dicc_ingles:\n",
    "    print (dicc_ingles[llave])"
   ]
  },
  {
   "cell_type": "markdown",
   "metadata": {},
   "source": [
    "# NetCDF\n",
    "- Sus siglas significan Network Common Data Form\n",
    "- La idea es tener un formato de datos independiente de la máquina donde esté\n",
    "- Orientado a datos científicos\n",
    "- Usualmente utilizado en los campos de la meteorología, climatología, oceanografía y aplicaciones de SIG\n",
    "- Es un estándar abierto"
   ]
  },
  {
   "cell_type": "markdown",
   "metadata": {},
   "source": [
    "La clase $\\textbf{Dataset}$ de la biblioteca NetCDF es una colección de dimensiones, grupos, variables y atributos. De forma conjunta describen los datos y las relaciones entre los distintos tipos de datos \n",
    "\n",
    "- Para crear un archivo NetCDF desde Python, se llama al constructor de la clase Dataset\n",
    "- Este método se llama también para abrir un archivo NetCDF (en adelante $\\textbf{nc}$) existente\n",
    "- El constructor de la clase $\\textbf{Dataset}$ recibe varios parámetros:\n",
    "    - El nombre del archivo que se desea abrir o crear\n",
    "    - El modo en el que se desea abrir el archivo (son los mismos modos que se utilizan cuando se abren archivos normales en Python)\n",
    "    - Formato (opcional)\n",
    "    "
   ]
  },
  {
   "cell_type": "code",
   "execution_count": null,
   "metadata": {},
   "outputs": [],
   "source": [
    "from netCDF4 import Dataset\n",
    "set_datos = Dataset(\"test.nc\", \"w\", format=\"NETCDF4\")\n",
    "set_datos.close()"
   ]
  },
  {
   "cell_type": "markdown",
   "metadata": {},
   "source": [
    "- Los datos dentro de un archivo $\\textbf{nc}$ se pueden ordenar jerárquicamente en grupos análogo a como se ordenan directorios en un sistema de archivos\n",
    "- Cada $\\textbf{Dataset}$ tiene un grupo especial llamado \"grupo raíz\"\n",
    "- Para crear grupos adicionales se utiliza el método createGroup. Este método recibe como parámetro un texto que es el identificador del grupo\n",
    "- Los grupos creados se pueden visualizar como un $\\textbf{diccionario}$"
   ]
  },
  {
   "cell_type": "code",
   "execution_count": null,
   "metadata": {},
   "outputs": [],
   "source": [
    "set_datos = Dataset(\"test.nc\", \"a\")\n",
    "grupo_pron = set_datos.createGroup(\"pronosticos\")\n",
    "grupo_analis = set_datos.createGroup(\"analisis\")\n",
    "print (set_datos.groups)"
   ]
  },
  {
   "cell_type": "markdown",
   "metadata": {},
   "source": [
    "- Los grupos se pueden anidar unos dentro de otros"
   ]
  },
  {
   "cell_type": "code",
   "execution_count": null,
   "metadata": {},
   "outputs": [],
   "source": [
    "grupo1 = set_datos.createGroup(\"/pronosticos/modelo1\")\n",
    "grupo2 = set_datos.createGroup(\"/pronosticos/modelo2\")"
   ]
  },
  {
   "cell_type": "markdown",
   "metadata": {},
   "source": [
    "- Los archivos NetCDF definen los tamaños de todas sus variables en términos de dimensiones\n",
    "- Antes de crear cualquier variable, se deben de crear dimensiones\n",
    "- Se crean con el método $\\textbf{createDimension}$, que recibe el texto del nombre de la dimensión y un valor entero para indicar el tamaño de la dimensión, si se desea crear una dimensión sin límite, se le puede poner None o 0 a este segundo parámetro"
   ]
  },
  {
   "cell_type": "code",
   "execution_count": null,
   "metadata": {},
   "outputs": [],
   "source": [
    "nivel = set_datos.createDimension(\"nivel\", None)\n",
    "tiempo = set_datos.createDimension(\"tiempo\", None)\n",
    "lat = set_datos.createDimension(\"lat\", 73)\n",
    "lon = set_datos.createDimension(\"lon\", 144)"
   ]
  },
  {
   "cell_type": "markdown",
   "metadata": {},
   "source": [
    "- Todas las instancias de dimensiones creadas se almacenan también en un diccionario"
   ]
  },
  {
   "cell_type": "code",
   "execution_count": null,
   "metadata": {},
   "outputs": [],
   "source": [
    "print(set_datos.dimensions)"
   ]
  },
  {
   "cell_type": "markdown",
   "metadata": {},
   "source": [
    "# Variables\n",
    "- Las variables de $\\textbf{nc}$ se comportan muy parecido a los arrays de NumPy, con la diferencia de que no necesariamente tienen una cantidad fija de datos (si se crea la dimensión sin límite)\n",
    "- Para crear variables, se utiliza el método $\\textbf{createVariable}$ de la clase $\\textbf{Dataset}$ o de una instancia de $\\textbf{grupo}$. Este método tiene 2 parámetros obligatorios, el nombre de la variable, y el tipo de dato que es\n",
    "- Se le puede también indicar una tupla con las dimensiones de la variable, pero no es necesario. Si este parámetro no se especifica, la variable se toma como escalar"
   ]
  },
  {
   "cell_type": "code",
   "execution_count": null,
   "metadata": {},
   "outputs": [],
   "source": [
    "import numpy as np\n",
    "niveles = set_datos.createVariable('nivel', np.int32, ('nivel',))\n",
    "tiempos = set_datos.createVariable('tiempo', np.float64, ('tiempo',))\n",
    "latitudes = set_datos.createVariable('latitud', np.float32,('lat',))\n",
    "longitudes = set_datos.createVariable('longitud', np.float32,('lon',))\n",
    "\n",
    "# Variable con las 4 dimensiones:\n",
    "temp = set_datos.createVariable('temp', np.float32,('nivel','tiempo','lat','lon')) "
   ]
  },
  {
   "cell_type": "markdown",
   "metadata": {},
   "source": [
    "## Acceso a las variables\n",
    "- Las variables en un $\\textbf{Dataset}$ se almacenan también en un diccionario de Python"
   ]
  },
  {
   "cell_type": "code",
   "execution_count": null,
   "metadata": {},
   "outputs": [],
   "source": [
    "for nomb_var in set_datos.variables.keys():\n",
    "    variable = set_datos.variables[nomb_var]\n",
    "    print(nomb_var, variable.dtype, variable.dimensions, variable.shape)"
   ]
  },
  {
   "cell_type": "markdown",
   "metadata": {},
   "source": [
    "# Ejercicio \n",
    "### Cargue el archivo llamado \"air.nc\" (o si tiene otro archivo NetCDF, puede utilizarlo), imprima en consola cuáles dimensiones y cuáles variables tiene el archivo"
   ]
  },
  {
   "cell_type": "markdown",
   "metadata": {},
   "source": [
    "# Solución"
   ]
  },
  {
   "cell_type": "code",
   "execution_count": null,
   "metadata": {},
   "outputs": [],
   "source": [
    "aire = Dataset(\"air.nc\", \"r\")\n",
    "print(\"---------- dimensiones ----------- \")\n",
    "for dimensiones in aire.dimensions.keys():\n",
    "    print(dimensiones)\n",
    "print(\"---------- variables ----------- \")\n",
    "for variables in aire.variables.keys():\n",
    "    print(variables)\n",
    "    \n",
    "aire.close()"
   ]
  },
  {
   "cell_type": "markdown",
   "metadata": {},
   "source": [
    "# Ingreso de datos\n",
    "\n",
    "- Una vez que se cuenta con una instancia de una variable, se le puede ingresar datos\n",
    "- Se le trata como a un numpy array. Es decir que se le puede aplicar todas las mismas funciones que a un array"
   ]
  },
  {
   "cell_type": "code",
   "execution_count": null,
   "metadata": {},
   "outputs": [],
   "source": [
    "lats = np.arange(8,12,0.1)\n",
    "lons = np.arange(-86,-82,0.1) \n",
    "set_datos.variables[\"latitud\"] = lats\n",
    "set_datos.variables[\"longitud\"] = lons\n",
    "print (set_datos.variables[\"longitud\"])"
   ]
  },
  {
   "cell_type": "markdown",
   "metadata": {},
   "source": [
    "# Una vez que se termina de utilizar el Dataset, debe de cerrarse para guardar todos los cambios en el archivo"
   ]
  },
  {
   "cell_type": "code",
   "execution_count": null,
   "metadata": {},
   "outputs": [],
   "source": [
    "set_datos.close()"
   ]
  },
  {
   "cell_type": "markdown",
   "metadata": {},
   "source": [
    "# Utilización de Basemap para visualizar datos"
   ]
  },
  {
   "cell_type": "code",
   "execution_count": null,
   "metadata": {},
   "outputs": [],
   "source": [
    "%matplotlib inline\n",
    "from mpl_toolkits.basemap import Basemap\n",
    "import matplotlib.pyplot as plt\n",
    "\n",
    "mapa = Basemap(projection='stere',lon_0=lons[0],lat_0=lats[0],lat_ts=lats[0], llcrnrlat=lats[0],urcrnrlat=lats[-1],\\\n",
    "            llcrnrlon=lons[0],urcrnrlon=lons[-1], rsphere=6370997.,resolution='i',area_thresh=10000)\n",
    "\n",
    "mapa.drawmapboundary(fill_color='aqua')\n",
    "mapa.fillcontinents(color='coral',lake_color='aqua')\n",
    "mapa.drawcoastlines()\n",
    "mapa.drawcountries()\n",
    "\n",
    "x, y = mapa(lats, lons)\n",
    "\n",
    "mapa.plot(x, y, marker='D',color='m')\n",
    "\n",
    "plt.show()"
   ]
  },
  {
   "cell_type": "markdown",
   "metadata": {},
   "source": [
    "# Utilizando un mapa para proyectar los datos obtenidos desde el archivo nc"
   ]
  },
  {
   "cell_type": "code",
   "execution_count": null,
   "metadata": {},
   "outputs": [],
   "source": [
    "from mpl_toolkits.basemap import Basemap, addcyclic, shiftgrid\n",
    "\n",
    "nc = Dataset(\"air.nc\", \"r\")\n",
    "lats = nc.variables['lat'][:]  \n",
    "lons = nc.variables['lon'][:]\n",
    "time = nc.variables['time'][:]\n",
    "air = nc.variables['air'][:]\n",
    "\n",
    "mapa = Basemap(projection='moll', llcrnrlat=-90, urcrnrlat=90,\\\n",
    "            llcrnrlon=0, urcrnrlon=360, resolution='c', lon_0=0)\n",
    "\n",
    "mapa.drawcoastlines()\n",
    "mapa.drawmapboundary()\n",
    "\n",
    "# Hacer contínuo al mapa\n",
    "air_cyclic, lons_cyclic = addcyclic(air[237, :, :], lons)\n",
    "# Hace que las longitudes vayan de -180 a 180 en vez de de 0 a 360.\n",
    "air_cyclic, lons_cyclic = shiftgrid(180., air_cyclic, lons_cyclic, start=False)\n",
    "\n",
    "# Crear los arrays 2D para el mapa\n",
    "lon2d, lat2d = np.meshgrid(lons_cyclic, lats)\n",
    "\n",
    "# Transforma lat/lon en coordenadas para la proyección\n",
    "x, y = mapa(lon2d, lat2d)\n",
    "\n",
    "# Plotea las temperaturas del aire con 11 intervalos de contornos\n",
    "cs = mapa.contourf(x, y, air_cyclic, 11, cmap=plt.cm.Spectral_r)\n",
    "cbar = plt.colorbar(cs, orientation='horizontal', shrink=0.5)"
   ]
  },
  {
   "cell_type": "markdown",
   "metadata": {},
   "source": [
    "# Ejercicio\n",
    "## Tomando su propio set de datos (puede descargar uno de internet), cree una visualización de ellos"
   ]
  }
 ],
 "metadata": {
  "kernelspec": {
   "display_name": "Python 3",
   "language": "python",
   "name": "python3"
  },
  "language_info": {
   "codemirror_mode": {
    "name": "ipython",
    "version": 3
   },
   "file_extension": ".py",
   "mimetype": "text/x-python",
   "name": "python",
   "nbconvert_exporter": "python",
   "pygments_lexer": "ipython3",
   "version": "3.6.0"
  }
 },
 "nbformat": 4,
 "nbformat_minor": 2
}
