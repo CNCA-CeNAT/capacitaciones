{
 "cells": [
  {
   "cell_type": "markdown",
   "metadata": {
    "nbpresent": {
     "id": "eca6ffcd-a2b4-4788-811d-76770de6f527"
    },
    "slideshow": {
     "slide_type": "slide"
    }
   },
   "source": [
    "# Objetos/Clases en Python\n",
    "## CNCA - CeNAT\n",
    "<img src=\"logoL.png\", width=200, height=200>\n",
    "<img src=\"logoR.png\", width=200, height=200>"
   ]
  },
  {
   "cell_type": "markdown",
   "metadata": {
    "nbpresent": {
     "id": "9e114694-4f0d-48b1-bb08-a2b4b3095b60"
    },
    "slideshow": {
     "slide_type": "slide"
    }
   },
   "source": [
    "# ¿Qué son?\n",
    "\n",
    "- Los objetos son una encapsulación de variables y funciones en una sola entidad o contenedor\n",
    "- Se puede pensar en un objeto como si fuera una sola estructura de datos que contiene datos y funciones\n",
    "- Las funciones de los objetos se llaman métodos"
   ]
  },
  {
   "cell_type": "code",
   "execution_count": 1,
   "metadata": {
    "collapsed": true,
    "nbpresent": {
     "id": "147da152-0943-426f-a4b9-d7e6dfa13d24"
    },
    "slideshow": {
     "slide_type": "slide"
    }
   },
   "outputs": [],
   "source": [
    "class Persona:\n",
    "    def __init__(self, nombre, edad, lenguaje_favorito, es_estudiante):\n",
    "        self.nombre = nombre\n",
    "        self.edad = edad\n",
    "        self.lenguaje_favorito = lenguaje_favorito\n",
    "        self.es_estudiante = es_estudiante\n",
    "        \n",
    "    def cambio_nombre(self, nombre_nuevo):\n",
    "        self.nombre = nombre_nuevo\n",
    "    \n",
    "    def descripcion(self):\n",
    "        if (self.es_estudiante):\n",
    "            est = \"soy estudiante\"\n",
    "        else:\n",
    "            est = \"no soy estudiante\"\n",
    "        print(\"Hola, soy %s, tengo %s años, mi lenguaje favorito es %s y %s\" % (self.nombre, str(self.edad), self.lenguaje_favorito, est))\n",
    "        "
   ]
  },
  {
   "cell_type": "markdown",
   "metadata": {
    "nbpresent": {
     "id": "97b73b72-10a7-4c02-9d6d-611b03f58223"
    },
    "slideshow": {
     "slide_type": "slide"
    }
   },
   "source": [
    "- Al igual que con las funciones, hay que hacer una distinción entre la definición de un objeto y una instancia\n",
    "- La definición es sólamente una descripción del objeto (los datos que puede contener, y los métodos que podrá ejecutar) \n",
    "- Se debe de tener clara la diferencia entre una clase y una instancia de dicha clase"
   ]
  },
  {
   "cell_type": "code",
   "execution_count": null,
   "metadata": {
    "collapsed": true,
    "nbpresent": {
     "id": "6e724eab-df59-4a5e-a6bf-3ce95ac53d86"
    },
    "slideshow": {
     "slide_type": "slide"
    }
   },
   "outputs": [],
   "source": [
    "personita = Persona (\"Daniel\", 28, \"Python\", False)\n",
    "personita.cambio_nombre (\"Paco\")\n",
    "personita.descripcion()"
   ]
  },
  {
   "cell_type": "markdown",
   "metadata": {
    "slideshow": {
     "slide_type": "slide"
    }
   },
   "source": [
    "## Método \\_\\_init\\_\\_()\n",
    "\n",
    "- Este método se utiliza para inicializar los objetos que crea una clase\n",
    "- En el momento en el que se crea la instancia, se ejecuta lo que está en el método init, a esto se le conoce como \"constructor\"\n",
    "- Como se ve en el ejemplo, el constructor puede recibir parámetros para inicializar los valores en el objeto\n",
    "- El método constructor sólo puede llamarse \\_\\_init\\_\\_ --> No puede llamarse de ninguna otra forma."
   ]
  },
  {
   "cell_type": "markdown",
   "metadata": {
    "slideshow": {
     "slide_type": "slide"
    }
   },
   "source": [
    "Una vez que se tiene la definición de la clase \"Persona\", se pueden crear tantas instancias como se necesiten"
   ]
  },
  {
   "cell_type": "code",
   "execution_count": 3,
   "metadata": {
    "slideshow": {
     "slide_type": "slide"
    }
   },
   "outputs": [
    {
     "name": "stdout",
     "output_type": "stream",
     "text": [
      "Digite el nombre de la nueva Persona\n",
      "Andreina\n",
      "Digite la edad\n",
      "21\n",
      "Digite el lenguaje favorito de la persona\n",
      "Python\n",
      "Digite una 's' si la persona es estudiante, cualquier otra cosa si no lo es\n",
      "s\n",
      "Digite una x para finalizar, cualquier otra cosa para agregar otra persona\n",
      "\n",
      "Digite el nombre de la nueva Persona\n",
      "Daniel\n",
      "Digite la edad\n",
      "28\n",
      "Digite el lenguaje favorito de la persona\n",
      "Python\n",
      "Digite una 's' si la persona es estudiante, cualquier otra cosa si no lo es\n",
      "n\n",
      "Digite una x para finalizar, cualquier otra cosa para agregar otra persona\n",
      "x\n",
      "Hola, soy Andreina, tengo 21 años, mi lenguaje favorito es Python y soy estudiante\n",
      "Hola, soy Daniel, tengo 28 años, mi lenguaje favorito es Python y no soy estudiante\n"
     ]
    }
   ],
   "source": [
    "personas = []\n",
    "x = ''\n",
    "while x != 'x':\n",
    "    nomb = input(\"Digite el nombre de la nueva Persona\\n\")\n",
    "    edad = int(input(\"Digite la edad\\n\"))\n",
    "    leng = input(\"Digite el lenguaje favorito de la persona\\n\")\n",
    "    est = input(\"Digite una 's' si la persona es estudiante, cualquier otra cosa si no lo es\\n\") == 's'\n",
    "    personas.append(Persona(nomb, edad, leng, est))\n",
    "    x = input(\"Digite una x para finalizar, cualquier otra cosa para agregar otra persona\\n\")\n",
    "\n",
    "for persona in personas:\n",
    "    persona.descripcion()"
   ]
  },
  {
   "cell_type": "markdown",
   "metadata": {
    "slideshow": {
     "slide_type": "slide"
    }
   },
   "source": [
    "Es importante mencionar que todas las variables que se crean en el constructor y se asocian al objeto \"self\", serán variables locales de cada instancia de la clase. Es decir, no se \"ven\" entre ellas, ni se modifican, sólo a sí mismas."
   ]
  },
  {
   "cell_type": "markdown",
   "metadata": {
    "slideshow": {
     "slide_type": "slide"
    }
   },
   "source": [
    "# Ejercicio\n",
    "## Vamos a crear un objeto que represente una partícula\n",
    "# - ¿Qué atributos debe de tener este objeto?\n",
    "# - ¿Qué métodos sería bueno que tuviera?\n"
   ]
  },
  {
   "cell_type": "code",
   "execution_count": null,
   "metadata": {
    "collapsed": true
   },
   "outputs": [],
   "source": [
    "class Particula:\n",
    "    "
   ]
  },
  {
   "cell_type": "markdown",
   "metadata": {
    "slideshow": {
     "slide_type": "slide"
    }
   },
   "source": [
    "# Listas\n",
    "## ¿Qué es una lista?\n",
    "\n",
    "- Es un conjunto de datos ordenados\n",
    "- Facilitan la administración de conjuntos de datos relacionados, ya que no se tienen que manipular individualmente"
   ]
  },
  {
   "cell_type": "markdown",
   "metadata": {
    "slideshow": {
     "slide_type": "slide"
    }
   },
   "source": [
    "# Estructura de una lista (vector)\n",
    "\n",
    "<img src=\"lista.png\", width=800, height=600>\n",
    "\n",
    "\n",
    "- Una lista(vector) es conjunto de valores que están agrupados en un solo objeto\n",
    "- Cada campo puede almacenar un valor y a cada uno se le asocia un entero conocido como “índice” que es la posición que ocupa dentro de la lista (comenzando desde cero)\n",
    "- (En Python) Pueden almacenarse valores de distintos tipos de datos en una misma lista"
   ]
  },
  {
   "cell_type": "code",
   "execution_count": 1,
   "metadata": {
    "collapsed": true,
    "slideshow": {
     "slide_type": "slide"
    }
   },
   "outputs": [],
   "source": [
    "# Inicialización de una lista\n",
    "lista = []\n",
    "# Se puede inicializar con datos\n",
    "lista = [4, 2.56, \"asdf\"]\n"
   ]
  },
  {
   "cell_type": "code",
   "execution_count": 2,
   "metadata": {},
   "outputs": [
    {
     "name": "stdout",
     "output_type": "stream",
     "text": [
      "<class 'int'>\n",
      "<class 'float'>\n",
      "<class 'str'>\n"
     ]
    }
   ],
   "source": [
    "print(type(lista[0]))\n",
    "print(type(lista[1]))\n",
    "print(type(lista[2]))"
   ]
  },
  {
   "cell_type": "code",
   "execution_count": 3,
   "metadata": {
    "slideshow": {
     "slide_type": "slide"
    }
   },
   "outputs": [
    {
     "name": "stdout",
     "output_type": "stream",
     "text": [
      "[4, 2.56, 'asdf', 34]\n",
      "[5, 4, 2.56, 'asdf', 34]\n",
      "[5, 4, 2.56, 'asdf']\n",
      "[4, 2.56, 'asdf']\n",
      "2\n"
     ]
    }
   ],
   "source": [
    "## Operaciones con listas\n",
    "# Append: Se utiliza para agregar elementos al final de una lista\n",
    "lista.append(34)\n",
    "print(lista)\n",
    "# Insert: Se utiliza para insertar un elemento de la lista en una posición determinada\n",
    "lista.insert(0, 5) #Inserta el dato 5 en la posición 0 de la lista\n",
    "# Esta operación mueve los datos una posición y los mantiene en la lista\n",
    "# Sólo se debe de utilizar en posiciones válidas de la lista\n",
    "print(lista)\n",
    "#Remove: Elimina un elemento de la lista (lo busca por contenido y lo elimina)\n",
    "lista.remove(34)\n",
    "print(lista)\n",
    "#Pop: Se utiliza para sacar y <retornar> un elemento en una posición específica de una lista\n",
    "lista.pop(0)\n",
    "print(lista)\n",
    "# Si la función pop no recibe ningún parámetro, por defecto saca al último elemento de la lista\n",
    "\n",
    "\n",
    "# Saca el 5to elemento de la lista (elemento en el subíndice 4)\n",
    "# Si se utiliza sin parámetro (lista.pop()), se saca y retorna el último elemento de la lista\n",
    "# Index: Obtiene el índice de la posición de un dato\n",
    "print(lista.index(\"asdf\"))\n",
    "# Retorna el índice del dato asdf\n"
   ]
  },
  {
   "cell_type": "code",
   "execution_count": 7,
   "metadata": {
    "slideshow": {
     "slide_type": "slide"
    }
   },
   "outputs": [
    {
     "name": "stdout",
     "output_type": "stream",
     "text": [
      "15\n",
      "3.0\n",
      "1\n",
      "2\n",
      "3\n",
      "4\n",
      "5\n",
      " -------- La forma eficiente de recorrer una lista -------- \n",
      "1\n",
      "2\n",
      "3\n",
      "4\n",
      "5\n",
      "[1, 2, 3, 4, 5, 'recuerden que', 'no importa', 'que haya distintos tipos', 34]\n"
     ]
    }
   ],
   "source": [
    "lista_nums = [1,2,3,4,5]\n",
    "# 'sum' hace la suma de todos los valores en la lista\n",
    "print (sum(lista_nums))\n",
    "\n",
    "# 'len' nos dice la longitud que tiene una lista\n",
    "promedio = sum(lista_nums) / len(lista_nums)\n",
    "\n",
    "print (promedio)\n",
    "\n",
    "# 'len' es útil para recorrer la lista por subíndices\n",
    "for i in range(len(lista_nums)):\n",
    "    print (lista_nums[i])\n",
    "    \n",
    "# se puede concatenar listas con el operador '+'\n",
    "lista2 = [\"recuerden que\", \"no importa\", \"que haya distintos tipos\", 34]\n",
    "\n",
    "print (\" -------- La forma eficiente de recorrer una lista -------- \")\n",
    "# La forma eficiente de recorrer listas es esta:\n",
    "for elemento in lista_nums:\n",
    "    print(elemento)\n",
    "\n",
    "lista_concat = lista_nums + lista2\n",
    "\n",
    "print(lista_concat)"
   ]
  },
  {
   "cell_type": "markdown",
   "metadata": {
    "slideshow": {
     "slide_type": "slide"
    }
   },
   "source": [
    "# Ejercicio\n",
    "## Tomen las listas de la celda anterior y concaténenlas en orden (primero los elementos 0, luego los 1, ...)"
   ]
  },
  {
   "cell_type": "code",
   "execution_count": 8,
   "metadata": {
    "collapsed": true
   },
   "outputs": [],
   "source": [
    "lista2.append(\"Agrego esto para que sean de la misma longitud\")"
   ]
  },
  {
   "cell_type": "code",
   "execution_count": 10,
   "metadata": {},
   "outputs": [
    {
     "name": "stdout",
     "output_type": "stream",
     "text": [
      "[1, 2, 3, 4, 5]\n",
      "['recuerden que', 'no importa', 'que haya distintos tipos', 34, 'Agrego esto para que sean de la misma longitud']\n",
      "[1, 'recuerden que', 2, 'no importa', 3, 'que haya distintos tipos', 4, 34, 5, 'Agrego esto para que sean de la misma longitud']\n"
     ]
    }
   ],
   "source": [
    "lista_nueva = []\n",
    "for i in range (len(lista2)):\n",
    "    lista_nueva.append(lista_nums[i])\n",
    "    lista_nueva.append(lista2[i])\n",
    "    \n",
    "print (lista_nums)\n",
    "print (lista2)\n",
    "print (lista_nueva)"
   ]
  },
  {
   "cell_type": "markdown",
   "metadata": {
    "slideshow": {
     "slide_type": "slide"
    }
   },
   "source": [
    "## Acceso a los elementos de una lista\n",
    "\n",
    "- Para acceder a los elementos de una lista es necesario hacerlo a través de un subíndice, que se indica con paréntesis cuadrados [ ]\n",
    "- También se pueden recorrer secuencialmente a través de un ciclo for"
   ]
  },
  {
   "cell_type": "code",
   "execution_count": 1,
   "metadata": {
    "slideshow": {
     "slide_type": "slide"
    }
   },
   "outputs": [
    {
     "ename": "NameError",
     "evalue": "name 'lista' is not defined",
     "output_type": "error",
     "traceback": [
      "\u001b[0;31m---------------------------------------------------------------------------\u001b[0m",
      "\u001b[0;31mNameError\u001b[0m                                 Traceback (most recent call last)",
      "\u001b[0;32m<ipython-input-1-b55e7b2bcfe0>\u001b[0m in \u001b[0;36m<module>\u001b[0;34m()\u001b[0m\n\u001b[1;32m      1\u001b[0m \u001b[0;31m# Utilizando la lista que teníamos antes\u001b[0m\u001b[0;34m\u001b[0m\u001b[0;34m\u001b[0m\u001b[0m\n\u001b[0;32m----> 2\u001b[0;31m \u001b[0mprint\u001b[0m\u001b[0;34m(\u001b[0m\u001b[0mlista\u001b[0m\u001b[0;34m[\u001b[0m\u001b[0;36m0\u001b[0m\u001b[0;34m]\u001b[0m\u001b[0;34m)\u001b[0m\u001b[0;34m\u001b[0m\u001b[0m\n\u001b[0m\u001b[1;32m      3\u001b[0m \u001b[0mprint\u001b[0m\u001b[0;34m(\u001b[0m\u001b[0mlista\u001b[0m\u001b[0;34m[\u001b[0m\u001b[0;36m1\u001b[0m\u001b[0;34m]\u001b[0m\u001b[0;34m)\u001b[0m\u001b[0;34m\u001b[0m\u001b[0m\n\u001b[1;32m      4\u001b[0m \u001b[0mprint\u001b[0m\u001b[0;34m(\u001b[0m\u001b[0mlista\u001b[0m\u001b[0;34m[\u001b[0m\u001b[0;36m2\u001b[0m\u001b[0;34m]\u001b[0m\u001b[0;34m)\u001b[0m\u001b[0;34m\u001b[0m\u001b[0m\n\u001b[1;32m      5\u001b[0m \u001b[0;34m\u001b[0m\u001b[0m\n",
      "\u001b[0;31mNameError\u001b[0m: name 'lista' is not defined"
     ]
    }
   ],
   "source": [
    "# Utilizando la lista que teníamos antes\n",
    "print(lista[0])\n",
    "print(lista[1])\n",
    "print(lista[2])\n",
    "\n",
    "print (\"----------------\")\n",
    "# Formas de recorrer una lista\n",
    "\n",
    "# Indices\n",
    "for indice in range(len(lista)): \n",
    "    # Range crea un conjunto de números desde 0 hasta un número antes del indicado como parámetro\n",
    "    print(lista[indice])\n",
    "print (\"----------------\")\n",
    "# Por elemento\n",
    "for elemento in lista:\n",
    "    print (elemento)\n",
    "    \n",
    "print (\"----------------\")"
   ]
  },
  {
   "cell_type": "markdown",
   "metadata": {
    "slideshow": {
     "slide_type": "slide"
    }
   },
   "source": [
    " # List Comprehension\n",
    " \n",
    " - Python tiene una manera sencilla de crear listas que es más cercana al lenguaje natural\n",
    " - De la misma forma en la que en lenguaje matemático se diría por ejemplo:\n",
    "  - lista_numeros_cuadrado = x^2 para todo x ε {0...,9}\n",
    "  - lista_numeros_exponencial = {1,2,4,8,...,2^12}\n",
    "  - lista_numeros_pares = {x|x ε lista_numeros_cuadrado y x es par}"
   ]
  },
  {
   "cell_type": "code",
   "execution_count": 5,
   "metadata": {
    "slideshow": {
     "slide_type": "slide"
    }
   },
   "outputs": [
    {
     "name": "stdout",
     "output_type": "stream",
     "text": [
      "[0, 1, 4, 9, 16, 25, 36, 49, 64, 81]\n",
      "[1, 2, 4, 8, 16, 32, 64, 128, 256, 512, 1024, 2048, 4096]\n",
      "[0, 4, 16, 36, 64]\n"
     ]
    }
   ],
   "source": [
    "lista_numeros_cuadrado = [x**2 for x in range(10)]\n",
    "lista_numeros_exponencial = [2**i for i in range(13)]\n",
    "lista_numeros_pares = [x for x in lista_numeros_cuadrado if x % 2 == 0]\n",
    "\n",
    "print (lista_numeros_cuadrado); print (lista_numeros_exponencial); print (lista_numeros_pares)"
   ]
  },
  {
   "cell_type": "code",
   "execution_count": 2,
   "metadata": {},
   "outputs": [
    {
     "name": "stdout",
     "output_type": "stream",
     "text": [
      "['adios', 'arándano', 'araña', 'avión']\n"
     ]
    }
   ],
   "source": [
    "lista_palabras = [\"hola\", \"adios\", \"arándano\", \"araña\", \"ropa\", \"numero\", \"avión\"]\n",
    "palabras_con_a = [palabra for palabra in lista_palabras if palabra[0] == \"a\"]\n",
    "\n",
    "print(palabras_con_a)"
   ]
  },
  {
   "cell_type": "code",
   "execution_count": 3,
   "metadata": {},
   "outputs": [
    {
     "name": "stdout",
     "output_type": "stream",
     "text": [
      "['adios', 'arándano', 'araña', 'avión']\n"
     ]
    }
   ],
   "source": [
    "lista_nueva = []\n",
    "for palabra in lista_palabras:\n",
    "    if palabra[0] == \"a\":\n",
    "        lista_nueva.append(palabra)\n",
    "        \n",
    "print(lista_nueva)"
   ]
  },
  {
   "cell_type": "code",
   "execution_count": 15,
   "metadata": {},
   "outputs": [
    {
     "name": "stdout",
     "output_type": "stream",
     "text": [
      "as mcaoteoo lh\n",
      "as mcao\n",
      "teoo lh\n"
     ]
    }
   ],
   "source": [
    "texto = \"hola como esta\"\n",
    "\n",
    "sec1 = texto[::-2]\n",
    "sec2 = texto[-2::-2]\n",
    "final = sec1 + sec2\n",
    "print(final)\n",
    "sep1 = final[:int(len(final)/2)]\n",
    "sep2 = final[int(len(final)/2):]\n",
    "\n",
    "for i in range(0, len(sep1))"
   ]
  },
  {
   "cell_type": "markdown",
   "metadata": {
    "slideshow": {
     "slide_type": "slide"
    }
   },
   "source": [
    "# Sirve también para aplicarle una función a todos los elementos de una lista\n"
   ]
  },
  {
   "cell_type": "code",
   "execution_count": 7,
   "metadata": {
    "slideshow": {
     "slide_type": "slide"
    }
   },
   "outputs": [
    {
     "name": "stdout",
     "output_type": "stream",
     "text": [
      "[0.0, 0.6931471805599453, 1.3862943611198906, 2.0794415416798357, 2.772588722239781, 3.4657359027997265, 4.1588830833596715, 4.852030263919617, 5.545177444479562, 6.238324625039508, 6.931471805599453, 7.6246189861593985, 8.317766166719343]\n"
     ]
    }
   ],
   "source": [
    "from math import log\n",
    "lista_logaritmos = [log(i) for i in lista_numeros_exponencial]\n",
    "print (lista_logaritmos)\n"
   ]
  },
  {
   "cell_type": "code",
   "execution_count": 18,
   "metadata": {},
   "outputs": [
    {
     "name": "stdout",
     "output_type": "stream",
     "text": [
      "7\n"
     ]
    }
   ],
   "source": [
    "lista1 = [1,2,3,4,54,56,6]\n",
    "lista2 = [1,2,3,4]\n",
    "\n",
    "print(max(len(lista1), len(lista2)))\n",
    "\n"
   ]
  },
  {
   "cell_type": "markdown",
   "metadata": {
    "slideshow": {
     "slide_type": "slide"
    }
   },
   "source": [
    "# Slicing\n",
    "\n",
    "- Se puede acceder a parte de los datos de una lista\n",
    "- Se le puede indicar dónde iniciar, dónde parar y el \"step\" que se quiere seguir\n",
    "  "
   ]
  },
  {
   "cell_type": "code",
   "execution_count": 9,
   "metadata": {
    "scrolled": true,
    "slideshow": {
     "slide_type": "slide"
    }
   },
   "outputs": [
    {
     "name": "stdout",
     "output_type": "stream",
     "text": [
      "[0, 1, 2, 3, 4, 5, 6, 7, 8, 9, 10, 11, 12, 13, 14, 15, 16, 17, 18, 19, 20]\n",
      "[2, 3, 4, 5, 6, 7, 8, 9, 10, 11, 12, 13, 14, 15, 16, 17, 18, 19]\n",
      "[8, 9, 10, 11, 12, 13, 14, 15, 16, 17, 18, 19, 20]\n",
      "[2, 5, 8, 11, 14, 17]\n"
     ]
    }
   ],
   "source": [
    "lista_numeros = [i for i in range(21)]\n",
    "print(lista_numeros)\n",
    "print(lista_numeros[2:20]) # Observe que el límite izquierdo sí se toma, pero el derecho no\n",
    "print(lista_numeros[8:]) # si alguno de los valores se deja en blanco, se toma como el límite de la lista\n",
    "print(lista_numeros[2:18:3]) # el tercer valor es el \"step\", cada cuántos elementos se deben de tomar"
   ]
  },
  {
   "cell_type": "markdown",
   "metadata": {
    "slideshow": {
     "slide_type": "slide"
    }
   },
   "source": [
    "## Básicamente son tres valores\n",
    "### Inicio, Final y Step\n",
    " - inicio: indica el índice inicial desde donde se van a tomar los datos, incluye este valor a menos de que sea igual al índice final, si se omite, por defecto se toma como el primer índice (o sea, 0)\n",
    " - final: $NO$ incluye este valor en el resultado, si se omite, por defecto se toma la lista hasta el final (incluyendo el último elemento)\n",
    " - step: la cantidad a la que el índice incrementa, por defecto es 1 si se omite. Si es negativo, se realizará en orden inverso"
   ]
  },
  {
   "cell_type": "markdown",
   "metadata": {
    "slideshow": {
     "slide_type": "slide"
    }
   },
   "source": [
    "# Índices negativos\n",
    "- Los índices negativos empiezan a contar desde el último valor hacia atrás\n",
    "\n",
    "<img src = index.jpeg>"
   ]
  },
  {
   "cell_type": "code",
   "execution_count": 16,
   "metadata": {
    "slideshow": {
     "slide_type": "slide"
    }
   },
   "outputs": [
    {
     "name": "stdout",
     "output_type": "stream",
     "text": [
      "20\n",
      "[16, 17, 18]\n",
      "[20, 16, 12, 8, 4, 0]\n"
     ]
    }
   ],
   "source": [
    "print(lista_numeros[-1]) # imprime el último número\n",
    "print(lista_numeros[-5:-2]) # imprime desde el 5to desde el final hasta el 2do desde el final\n",
    "print(lista_numeros[::-4]) # imprime desde el final cada 4 elementos recorriendo en orden inverso"
   ]
  },
  {
   "cell_type": "markdown",
   "metadata": {
    "slideshow": {
     "slide_type": "slide"
    }
   },
   "source": [
    "# Ejercicio \n",
    "\n",
    "- Tome las listas lista_numeros_cuadrado, lista_numeros_exponencial y lista_numeros_pares y obtenga el promedio de todos sus valores"
   ]
  },
  {
   "cell_type": "markdown",
   "metadata": {
    "slideshow": {
     "slide_type": "slide"
    }
   },
   "source": [
    "# Módulos de python\n",
    "\n",
    "- Algunos paquetes grandes de funcionalidades están divididos en sub-paquetes más pequeños llamados módulos\n",
    "- Por ejemplo en paquetes grandes como numpy y scipy existe una gran cantidad de módulos\n",
    "- Los módulos se importan dentro de un paquete se importan haciendo referencia primero al paquete donde están de esta forma:\n",
    "\n",
    "import  nombreDelPaquete.nombreDelModulo \n",
    "\n",
    "- También se puede importar funciones específicas de los módulos\n",
    "Ejemplo:\n",
    "\n",
    " _from numpy.linalg import inv_\n",
    "\n",
    "Esto importa la función inv que calcula la inversa de una matriz desde el módulo de álgebra lineal de numpy"
   ]
  },
  {
   "cell_type": "code",
   "execution_count": 19,
   "metadata": {},
   "outputs": [
    {
     "name": "stdout",
     "output_type": "stream",
     "text": [
      "La raíz de 9 es: 3.0\n",
      "9.0\n"
     ]
    }
   ],
   "source": [
    "from math import sqrt, pow\n",
    "\n",
    "x = 9\n",
    "print(\"La raíz de 9 es:\",sqrt(x))\n",
    "\n",
    "print(pow(sqrt(x), 2))\n"
   ]
  },
  {
   "cell_type": "markdown",
   "metadata": {
    "collapsed": true,
    "slideshow": {
     "slide_type": "slide"
    }
   },
   "source": [
    "# Manejo de archivos\n",
    "\n",
    "- Python tiene como parte de su biblioteca estándar un objeto para manejar archivos que se llama 'file'\n",
    " - Este es un objeto que implementa, entre otras cosas, métodos de lectura y escritura de archivos\n",
    " - Los archivos que maneja pueden ser binarios o texto"
   ]
  },
  {
   "cell_type": "code",
   "execution_count": null,
   "metadata": {
    "slideshow": {
     "slide_type": "slide"
    }
   },
   "outputs": [],
   "source": [
    "lista = [i**2 for i in range (1,11)] # Genera una lista de números\n",
    "\n",
    "f = open(\"output.txt\", \"w\")\n",
    "\n",
    "for elemento in lista:\n",
    "    f.write(str(elemento) + \"\\n\")\n",
    "    \n",
    "f.close()"
   ]
  },
  {
   "cell_type": "markdown",
   "metadata": {
    "slideshow": {
     "slide_type": "slide"
    }
   },
   "source": [
    "# La función open()\n",
    "\n",
    "- Esta función le dice al intérprete que abra un archivo llamado output.txt en modo \"w\" (este modo es el modo de escritura \"write\")\n",
    "- El resultado de esta función se guarda en un objeto 'file' que llamamos 'f' (puede tener cualquier nombre, como cualquier otra variable)\n",
    "- Esto abre el archivo en modo de escritura y lo deja listo para enviar datos al archivo\n",
    "- Siempre es necesario abrir el archivo antes de manipularlo (lectura o escritura)"
   ]
  },
  {
   "cell_type": "code",
   "execution_count": null,
   "metadata": {
    "collapsed": true
   },
   "outputs": [],
   "source": [
    "archivo = open(\"output.txt\", \"r\")\n",
    "\n",
    "# La función read() lee todo el archivo de una vez\n",
    "print (archivo.read())\n",
    "\n",
    "\n",
    "archivo.close()"
   ]
  },
  {
   "cell_type": "markdown",
   "metadata": {
    "slideshow": {
     "slide_type": "slide"
    }
   },
   "source": [
    "- Si queremos leer un archivo línea a línea en vez de tener una sola variable con todo el texto, se puede hacer de varias formas"
   ]
  },
  {
   "cell_type": "code",
   "execution_count": 24,
   "metadata": {},
   "outputs": [
    {
     "name": "stdout",
     "output_type": "stream",
     "text": [
      "Yo estoy bien\n",
      "\n"
     ]
    }
   ],
   "source": [
    "archivo = open(\"output.txt\", \"r\")\n",
    "# Crear una lista con todas las líneas de un archivo\n",
    "lista_lineas = archivo.readlines()\n",
    "print (lista_lineas[1])\n",
    "\n",
    "archivo.close()"
   ]
  },
  {
   "cell_type": "code",
   "execution_count": 26,
   "metadata": {},
   "outputs": [
    {
     "name": "stdout",
     "output_type": "stream",
     "text": [
      "[4.0, 3.0, 2.0, 1.0, 5.0, 6.0, 78787.33655, 8.0, 1.0, 2.0, 3.0, 3.0]\n",
      "16.0\n",
      "9.0\n",
      "4.0\n",
      "1.0\n",
      "25.0\n",
      "36.0\n",
      "6207444400.642967\n",
      "64.0\n",
      "1.0\n",
      "4.0\n",
      "9.0\n",
      "9.0\n"
     ]
    }
   ],
   "source": [
    "archivo = open(\"output.txt\", \"r\")\n",
    "lista_nums = []\n",
    "# O leer el archivo línea por línea de forma individual\n",
    "for linea in archivo:\n",
    "    for elemento in linea.split(\" \"):\n",
    "        lista_nums.append(float(elemento))\n",
    "    \n",
    "archivo.close() # Importante siempre cerrar el archivo\n",
    "print (lista_nums)\n",
    "for dato in lista_nums:\n",
    "    print (dato**2)"
   ]
  },
  {
   "cell_type": "markdown",
   "metadata": {
    "slideshow": {
     "slide_type": "slide"
    }
   },
   "source": [
    "# Importante\n",
    "- Si no se cierran los archivos, los cambios que se le hagan no se guardarán en la memoria permanente, sino que se todos los cambios quedarán únicamente en un buffer en la memoria volátil\n",
    "- El sistema operativo guardará automáticamente en memoria permanente todo lo que haya en buffers de memoria al acabarse el proceso que abrió un archivo, pero igual es buena práctica cerrarlo"
   ]
  },
  {
   "cell_type": "markdown",
   "metadata": {
    "slideshow": {
     "slide_type": "slide"
    }
   },
   "source": [
    "# 'With' y 'as'\n",
    "- Existe una forma de hacer que python cierre los archivos automáticamente por uno\n",
    "- Al utilizar 'with' y 'as' el programa cerrará los archivos después de utilizarlos\n"
   ]
  },
  {
   "cell_type": "code",
   "execution_count": 27,
   "metadata": {
    "collapsed": true,
    "slideshow": {
     "slide_type": "slide"
    }
   },
   "outputs": [],
   "source": [
    "with open(\"output.txt\", \"w\") as archivo:\n",
    "    archivo.write(\"No necesito cerrarlo :P\")"
   ]
  },
  {
   "cell_type": "markdown",
   "metadata": {
    "slideshow": {
     "slide_type": "slide"
    }
   },
   "source": [
    "- el atributo 'closed' de un objeto archivo nos dice si el archivo está abierto o cerrado"
   ]
  },
  {
   "cell_type": "code",
   "execution_count": null,
   "metadata": {
    "collapsed": true,
    "slideshow": {
     "slide_type": "slide"
    }
   },
   "outputs": [],
   "source": [
    "print (archivo.closed) # True es que está cerrado, False es que está abierto\n",
    "archivo = open(\"output.txt\", \"r\")\n",
    "print (archivo.closed)\n",
    "archivo.close()\n",
    "print (archivo.closed)"
   ]
  },
  {
   "cell_type": "markdown",
   "metadata": {
    "slideshow": {
     "slide_type": "slide"
    }
   },
   "source": [
    "# Modos de manejo de archivos\n",
    "- Hasta ahora sólo hemos visto \"w\" y \"r\" para escritura y lectura respectivamente\n",
    "    - Un problema con el modo \"w\" es que borra todos los datos que había en el archivo antes de abrirlo\n",
    "- Existen otros modos para manipular archivos\n",
    "    - \"a\" abre el archivo para adjuntar. Este modo no borra el contenido previo del archivo al abrirlo"
   ]
  },
  {
   "cell_type": "markdown",
   "metadata": {
    "slideshow": {
     "slide_type": "slide"
    }
   },
   "source": [
    "# Alguno modos existentes\n",
    "\n",
    "<img src=\"modes.png\">"
   ]
  },
  {
   "cell_type": "markdown",
   "metadata": {
    "slideshow": {
     "slide_type": "slide"
    }
   },
   "source": [
    "# Ejercicio\n",
    "\n",
    "Supongamos que un satélite debe de ser lanzado en una órbita circular alrededor de la Tierra, de manera que orbite el planeta cada T segundos\n",
    "\n",
    "\n",
    "$$ h = \\bigg(\\dfrac{GMT^2}{4\\pi^2}\\bigg)^{1/3} - R $$\n",
    "\n",
    "\n",
    "Donde $G = 6.67 \\times 10^{-11} m^3 kg^{-1} s^{-2}$ es la constante gravitacional de Newton, M es la masa de la tierra $M = 5.97 \\times 10^{24}$, y $R = 6371$ km es su radio.\n",
    "\n",
    "- Escriba un programa que le solicite al usuario el valor deseado de $T$ y calcule e imprima en un archivo de texto la altitud en metros\n",
    "\n",
    "- Haga que su programa lea una lista de números $T$ desde un archivo de texto e imprima en consola cada uno de los resultados\n"
   ]
  }
 ],
 "metadata": {
  "anaconda-cloud": {},
  "celltoolbar": "Slideshow",
  "kernelspec": {
   "display_name": "Python 3",
   "language": "python",
   "name": "python3"
  },
  "language_info": {
   "codemirror_mode": {
    "name": "ipython",
    "version": 3
   },
   "file_extension": ".py",
   "mimetype": "text/x-python",
   "name": "python",
   "nbconvert_exporter": "python",
   "pygments_lexer": "ipython3",
   "version": "3.6.0"
  },
  "nbpresent": {
   "slides": {
    "01d7f350-bfa0-4abb-9962-1887ccb6953f": {
     "id": "01d7f350-bfa0-4abb-9962-1887ccb6953f",
     "prev": "afbdd265-a3b9-47bc-963d-394b829c11e1",
     "regions": {
      "58a8859c-bcd3-44e5-af4a-27ca1d8a706d": {
       "attrs": {
        "height": 0.4,
        "width": 0.8,
        "x": 0.1,
        "y": 0.5
       },
       "content": {
        "cell": "387a865b-f946-400f-9a75-4d07d0d5af5e",
        "part": "whole"
       },
       "id": "58a8859c-bcd3-44e5-af4a-27ca1d8a706d"
      },
      "7f9025a3-58a5-4601-96f7-e5145f6acd08": {
       "attrs": {
        "height": 0.8,
        "width": 0.8,
        "x": 0.1,
        "y": 0.1
       },
       "content": {
        "cell": "6e724eab-df59-4a5e-a6bf-3ce95ac53d86",
        "part": "whole"
       },
       "id": "7f9025a3-58a5-4601-96f7-e5145f6acd08"
      }
     }
    },
    "58a6c566-62d5-4a2f-bcfb-ab4eedb29187": {
     "id": "58a6c566-62d5-4a2f-bcfb-ab4eedb29187",
     "prev": "f3bb5c96-8706-41c0-aefa-da8a1a172daa",
     "regions": {
      "7137813d-73ed-41b3-8830-a5f26add8b33": {
       "attrs": {
        "height": 0.8,
        "width": 0.8,
        "x": 0.1,
        "y": 0.1
       },
       "content": {
        "cell": "147da152-0943-426f-a4b9-d7e6dfa13d24",
        "part": "whole"
       },
       "id": "7137813d-73ed-41b3-8830-a5f26add8b33"
      }
     }
    },
    "a7d36527-a3c8-4752-b195-55794107e65d": {
     "id": "a7d36527-a3c8-4752-b195-55794107e65d",
     "prev": null,
     "regions": {
      "e0294f4d-8494-48d9-8418-439cc119f0df": {
       "attrs": {
        "height": 0.8,
        "width": 0.8,
        "x": 0.1,
        "y": 0.1
       },
       "content": {
        "cell": "eca6ffcd-a2b4-4788-811d-76770de6f527",
        "part": "whole"
       },
       "id": "e0294f4d-8494-48d9-8418-439cc119f0df"
      }
     }
    },
    "afbdd265-a3b9-47bc-963d-394b829c11e1": {
     "id": "afbdd265-a3b9-47bc-963d-394b829c11e1",
     "prev": "58a6c566-62d5-4a2f-bcfb-ab4eedb29187",
     "regions": {
      "9c26c931-4853-4829-bab7-62fd1e8bfbbf": {
       "attrs": {
        "height": 0.8,
        "width": 0.8,
        "x": 0.1,
        "y": 0.1
       },
       "content": {
        "cell": "97b73b72-10a7-4c02-9d6d-611b03f58223",
        "part": "whole"
       },
       "id": "9c26c931-4853-4829-bab7-62fd1e8bfbbf"
      }
     }
    },
    "f3bb5c96-8706-41c0-aefa-da8a1a172daa": {
     "id": "f3bb5c96-8706-41c0-aefa-da8a1a172daa",
     "prev": "a7d36527-a3c8-4752-b195-55794107e65d",
     "regions": {
      "8dad9295-34b6-420e-8518-a47b93d054c6": {
       "attrs": {
        "height": 0.8,
        "width": 0.8,
        "x": 0.1,
        "y": 0.1
       },
       "content": {
        "cell": "9e114694-4f0d-48b1-bb08-a2b4b3095b60",
        "part": "whole"
       },
       "id": "8dad9295-34b6-420e-8518-a47b93d054c6"
      }
     }
    }
   },
   "themes": {
    "default": "4e4ad9ae-f7b1-4c61-bd70-d3e549eaa665",
    "theme": {
     "09948703-8e16-4d40-a42b-96cbee4313df": {
      "id": "09948703-8e16-4d40-a42b-96cbee4313df",
      "palette": {
       "19cc588f-0593-49c9-9f4b-e4d7cc113b1c": {
        "id": "19cc588f-0593-49c9-9f4b-e4d7cc113b1c",
        "rgb": [
         252,
         252,
         252
        ]
       },
       "31af15d2-7e15-44c5-ab5e-e04b16a89eff": {
        "id": "31af15d2-7e15-44c5-ab5e-e04b16a89eff",
        "rgb": [
         68,
         68,
         68
        ]
       },
       "50f92c45-a630-455b-aec3-788680ec7410": {
        "id": "50f92c45-a630-455b-aec3-788680ec7410",
        "rgb": [
         155,
         177,
         192
        ]
       },
       "c5cc3653-2ee1-402a-aba2-7caae1da4f6c": {
        "id": "c5cc3653-2ee1-402a-aba2-7caae1da4f6c",
        "rgb": [
         43,
         126,
         184
        ]
       },
       "efa7f048-9acb-414c-8b04-a26811511a21": {
        "id": "efa7f048-9acb-414c-8b04-a26811511a21",
        "rgb": [
         25.118061674008803,
         73.60176211453744,
         107.4819383259912
        ]
       }
      },
      "rules": {
       "blockquote": {
        "color": "50f92c45-a630-455b-aec3-788680ec7410"
       },
       "code": {
        "font-family": "Anonymous Pro"
       },
       "h1": {
        "color": "c5cc3653-2ee1-402a-aba2-7caae1da4f6c",
        "font-family": "Lato",
        "font-size": 8
       },
       "h2": {
        "color": "c5cc3653-2ee1-402a-aba2-7caae1da4f6c",
        "font-family": "Lato",
        "font-size": 6
       },
       "h3": {
        "color": "50f92c45-a630-455b-aec3-788680ec7410",
        "font-family": "Lato",
        "font-size": 5.5
       },
       "h4": {
        "color": "c5cc3653-2ee1-402a-aba2-7caae1da4f6c",
        "font-family": "Lato",
        "font-size": 5
       },
       "h5": {
        "font-family": "Lato"
       },
       "h6": {
        "font-family": "Lato"
       },
       "h7": {
        "font-family": "Lato"
       },
       "pre": {
        "font-family": "Anonymous Pro",
        "font-size": 4
       }
      },
      "text-base": {
       "font-family": "Merriweather",
       "font-size": 4
      }
     },
     "4e4ad9ae-f7b1-4c61-bd70-d3e549eaa665": {
      "backgrounds": {
       "dc7afa04-bf90-40b1-82a5-726e3cff5267": {
        "background-color": "31af15d2-7e15-44c5-ab5e-e04b16a89eff",
        "id": "dc7afa04-bf90-40b1-82a5-726e3cff5267"
       }
      },
      "id": "4e4ad9ae-f7b1-4c61-bd70-d3e549eaa665",
      "palette": {
       "19cc588f-0593-49c9-9f4b-e4d7cc113b1c": {
        "id": "19cc588f-0593-49c9-9f4b-e4d7cc113b1c",
        "rgb": [
         252,
         252,
         252
        ]
       },
       "31af15d2-7e15-44c5-ab5e-e04b16a89eff": {
        "id": "31af15d2-7e15-44c5-ab5e-e04b16a89eff",
        "rgb": [
         68,
         68,
         68
        ]
       },
       "50f92c45-a630-455b-aec3-788680ec7410": {
        "id": "50f92c45-a630-455b-aec3-788680ec7410",
        "rgb": [
         197,
         226,
         245
        ]
       },
       "c5cc3653-2ee1-402a-aba2-7caae1da4f6c": {
        "id": "c5cc3653-2ee1-402a-aba2-7caae1da4f6c",
        "rgb": [
         43,
         126,
         184
        ]
       },
       "efa7f048-9acb-414c-8b04-a26811511a21": {
        "id": "efa7f048-9acb-414c-8b04-a26811511a21",
        "rgb": [
         25.118061674008803,
         73.60176211453744,
         107.4819383259912
        ]
       }
      },
      "rules": {
       "a": {
        "color": "19cc588f-0593-49c9-9f4b-e4d7cc113b1c"
       },
       "blockquote": {
        "color": "50f92c45-a630-455b-aec3-788680ec7410",
        "font-size": 3
       },
       "code": {
        "font-family": "Anonymous Pro"
       },
       "h1": {
        "color": "19cc588f-0593-49c9-9f4b-e4d7cc113b1c",
        "font-family": "Merriweather",
        "font-size": 8
       },
       "h2": {
        "color": "19cc588f-0593-49c9-9f4b-e4d7cc113b1c",
        "font-family": "Merriweather",
        "font-size": 6
       },
       "h3": {
        "color": "50f92c45-a630-455b-aec3-788680ec7410",
        "font-family": "Lato",
        "font-size": 5.5
       },
       "h4": {
        "color": "c5cc3653-2ee1-402a-aba2-7caae1da4f6c",
        "font-family": "Lato",
        "font-size": 5
       },
       "h5": {
        "font-family": "Lato"
       },
       "h6": {
        "font-family": "Lato"
       },
       "h7": {
        "font-family": "Lato"
       },
       "li": {
        "color": "50f92c45-a630-455b-aec3-788680ec7410",
        "font-size": 3.25
       },
       "pre": {
        "font-family": "Anonymous Pro",
        "font-size": 4
       }
      },
      "text-base": {
       "color": "19cc588f-0593-49c9-9f4b-e4d7cc113b1c",
       "font-family": "Lato",
       "font-size": 4
      }
     },
     "53464861-83a3-47ed-b142-cf3e50fe1d3c": {
      "backgrounds": {
       "backgroundColor": {
        "background-color": "backgroundColor",
        "id": "backgroundColor"
       }
      },
      "id": "53464861-83a3-47ed-b142-cf3e50fe1d3c",
      "palette": {
       "backgroundColor": {
        "id": "backgroundColor",
        "rgb": [
         43,
         43,
         43
        ]
       },
       "headingColor": {
        "id": "headingColor",
        "rgb": [
         238,
         238,
         238
        ]
       },
       "linkColor": {
        "id": "linkColor",
        "rgb": [
         19,
         218,
         236
        ]
       },
       "mainColor": {
        "id": "mainColor",
        "rgb": [
         238,
         238,
         238
        ]
       }
      },
      "rules": {
       "a": {
        "color": "linkColor"
       },
       "h1": {
        "color": "headingColor",
        "font-family": "Oswald",
        "font-size": 7
       },
       "h2": {
        "color": "headingColor",
        "font-family": "Oswald",
        "font-size": 5
       },
       "h3": {
        "color": "headingColor",
        "font-family": "Oswald",
        "font-size": 3.75
       },
       "h4": {
        "color": "headingColor",
        "font-family": "Oswald",
        "font-size": 3
       },
       "h5": {
        "color": "headingColor",
        "font-family": "Oswald"
       },
       "h6": {
        "color": "headingColor",
        "font-family": "Oswald"
       },
       "h7": {
        "color": "headingColor",
        "font-family": "Oswald"
       },
       "li": {
        "color": "mainColor",
        "font-family": "Lato",
        "font-size": 5
       },
       "p": {
        "color": "mainColor",
        "font-family": "Lato",
        "font-size": 5
       }
      },
      "text-base": {
       "color": "mainColor",
       "font-family": "Lato",
       "font-size": 5
      }
     },
     "61dbb9d3-740b-4c57-8dc4-b2949a8cc6ed": {
      "backgrounds": {
       "backgroundColor": {
        "background-color": "backgroundColor",
        "id": "backgroundColor"
       }
      },
      "id": "61dbb9d3-740b-4c57-8dc4-b2949a8cc6ed",
      "palette": {
       "backgroundColor": {
        "id": "backgroundColor",
        "rgb": [
         43,
         43,
         43
        ]
       },
       "headingColor": {
        "id": "headingColor",
        "rgb": [
         238,
         238,
         238
        ]
       },
       "linkColor": {
        "id": "linkColor",
        "rgb": [
         19,
         218,
         236
        ]
       },
       "mainColor": {
        "id": "mainColor",
        "rgb": [
         238,
         238,
         238
        ]
       }
      },
      "rules": {
       "a": {
        "color": "linkColor"
       },
       "h1": {
        "color": "headingColor",
        "font-family": "Oswald",
        "font-size": 7
       },
       "h2": {
        "color": "headingColor",
        "font-family": "Oswald",
        "font-size": 5
       },
       "h3": {
        "color": "headingColor",
        "font-family": "Oswald",
        "font-size": 3.75
       },
       "h4": {
        "color": "headingColor",
        "font-family": "Oswald",
        "font-size": 3
       },
       "h5": {
        "color": "headingColor",
        "font-family": "Oswald"
       },
       "h6": {
        "color": "headingColor",
        "font-family": "Oswald"
       },
       "h7": {
        "color": "headingColor",
        "font-family": "Oswald"
       },
       "li": {
        "color": "mainColor",
        "font-family": "Lato",
        "font-size": 5
       },
       "p": {
        "color": "mainColor",
        "font-family": "Lato",
        "font-size": 5
       }
      },
      "text-base": {
       "color": "mainColor",
       "font-family": "Lato",
       "font-size": 5
      }
     },
     "690b5da8-a3b3-4002-82ec-71dcf9a213dd": {
      "backgrounds": {
       "backgroundColor": {
        "background-color": "backgroundColor",
        "id": "backgroundColor"
       }
      },
      "id": "690b5da8-a3b3-4002-82ec-71dcf9a213dd",
      "palette": {
       "backgroundColor": {
        "id": "backgroundColor",
        "rgb": [
         240,
         241,
         235
        ]
       },
       "headingColor": {
        "id": "headingColor",
        "rgb": [
         56,
         61,
         61
        ]
       },
       "linkColor": {
        "id": "linkColor",
        "rgb": [
         81,
         72,
         61
        ]
       },
       "mainColor": {
        "id": "mainColor",
        "rgb": [
         0,
         0,
         0
        ]
       }
      },
      "rules": {
       "a": {
        "color": "linkColor"
       },
       "h1": {
        "color": "headingColor",
        "font-family": "EB Garamond",
        "font-size": 7
       },
       "h2": {
        "color": "headingColor",
        "font-family": "EB Garamond",
        "font-size": 5
       },
       "h3": {
        "color": "headingColor",
        "font-family": "EB Garamond",
        "font-size": 3.75
       },
       "h4": {
        "color": "headingColor",
        "font-family": "EB Garamond",
        "font-size": 3
       },
       "h5": {
        "color": "headingColor",
        "font-family": "EB Garamond"
       },
       "h6": {
        "color": "headingColor",
        "font-family": "EB Garamond"
       },
       "h7": {
        "color": "headingColor",
        "font-family": "EB Garamond"
       },
       "li": {
        "color": "mainColor",
        "font-family": "EB Garamond",
        "font-size": 5
       },
       "p": {
        "color": "mainColor",
        "font-family": "EB Garamond",
        "font-size": 5
       }
      },
      "text-base": {
       "color": "mainColor",
       "font-family": "EB Garamond",
       "font-size": 5
      }
     },
     "6afdbb4b-7357-4997-a59e-355aa924164c": {
      "id": "6afdbb4b-7357-4997-a59e-355aa924164c",
      "palette": {
       "19cc588f-0593-49c9-9f4b-e4d7cc113b1c": {
        "id": "19cc588f-0593-49c9-9f4b-e4d7cc113b1c",
        "rgb": [
         252,
         252,
         252
        ]
       },
       "31af15d2-7e15-44c5-ab5e-e04b16a89eff": {
        "id": "31af15d2-7e15-44c5-ab5e-e04b16a89eff",
        "rgb": [
         68,
         68,
         68
        ]
       },
       "50f92c45-a630-455b-aec3-788680ec7410": {
        "id": "50f92c45-a630-455b-aec3-788680ec7410",
        "rgb": [
         155,
         177,
         192
        ]
       },
       "c5cc3653-2ee1-402a-aba2-7caae1da4f6c": {
        "id": "c5cc3653-2ee1-402a-aba2-7caae1da4f6c",
        "rgb": [
         43,
         126,
         184
        ]
       },
       "efa7f048-9acb-414c-8b04-a26811511a21": {
        "id": "efa7f048-9acb-414c-8b04-a26811511a21",
        "rgb": [
         25.118061674008803,
         73.60176211453744,
         107.4819383259912
        ]
       }
      },
      "rules": {
       "blockquote": {
        "color": "50f92c45-a630-455b-aec3-788680ec7410"
       },
       "code": {
        "font-family": "Anonymous Pro"
       },
       "h1": {
        "color": "c5cc3653-2ee1-402a-aba2-7caae1da4f6c",
        "font-family": "Lato",
        "font-size": 8
       },
       "h2": {
        "color": "c5cc3653-2ee1-402a-aba2-7caae1da4f6c",
        "font-family": "Lato",
        "font-size": 6
       },
       "h3": {
        "color": "50f92c45-a630-455b-aec3-788680ec7410",
        "font-family": "Lato",
        "font-size": 5.5
       },
       "h4": {
        "color": "c5cc3653-2ee1-402a-aba2-7caae1da4f6c",
        "font-family": "Lato",
        "font-size": 5
       },
       "h5": {
        "font-family": "Lato"
       },
       "h6": {
        "font-family": "Lato"
       },
       "h7": {
        "font-family": "Lato"
       },
       "pre": {
        "font-family": "Anonymous Pro",
        "font-size": 4
       }
      },
      "text-base": {
       "font-family": "Merriweather",
       "font-size": 4
      }
     },
     "df0c314c-552c-4521-b8b1-f2a28ebcca2c": {
      "backgrounds": {
       "backgroundColor": {
        "background-color": "backgroundColor",
        "id": "backgroundColor"
       }
      },
      "id": "df0c314c-552c-4521-b8b1-f2a28ebcca2c",
      "palette": {
       "backgroundColor": {
        "id": "backgroundColor",
        "rgb": [
         43,
         43,
         43
        ]
       },
       "headingColor": {
        "id": "headingColor",
        "rgb": [
         238,
         238,
         238
        ]
       },
       "linkColor": {
        "id": "linkColor",
        "rgb": [
         19,
         218,
         236
        ]
       },
       "mainColor": {
        "id": "mainColor",
        "rgb": [
         238,
         238,
         238
        ]
       }
      },
      "rules": {
       "a": {
        "color": "linkColor"
       },
       "h1": {
        "color": "headingColor",
        "font-family": "Oswald",
        "font-size": 7
       },
       "h2": {
        "color": "headingColor",
        "font-family": "Oswald",
        "font-size": 5
       },
       "h3": {
        "color": "headingColor",
        "font-family": "Oswald",
        "font-size": 3.75
       },
       "h4": {
        "color": "headingColor",
        "font-family": "Oswald",
        "font-size": 3
       },
       "h5": {
        "color": "headingColor",
        "font-family": "Oswald"
       },
       "h6": {
        "color": "headingColor",
        "font-family": "Oswald"
       },
       "h7": {
        "color": "headingColor",
        "font-family": "Oswald"
       },
       "li": {
        "color": "mainColor",
        "font-family": "Lato",
        "font-size": 5
       },
       "p": {
        "color": "mainColor",
        "font-family": "Lato",
        "font-size": 5
       }
      },
      "text-base": {
       "color": "mainColor",
       "font-family": "Lato",
       "font-size": 5
      }
     }
    }
   }
  }
 },
 "nbformat": 4,
 "nbformat_minor": 1
}
