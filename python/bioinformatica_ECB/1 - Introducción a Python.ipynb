{
 "cells": [
  {
   "cell_type": "markdown",
   "metadata": {},
   "source": [
    "<img src=\"imagenes/python_logo.png\", width=400, height=300, align=\"center\">\n",
    "\n",
    "\n",
    "# Sesión 1 - Introducción\n",
    "\n",
    "Contenidos:\n",
    "+ Variables\n",
    "+ Tipos de datos\n",
    "+ Operadores\n",
    "+ Condicionales\n",
    "+ Listas\n",
    "+ Diccionarios\n",
    " \n",
    "\n",
    "## Python:\n",
    "\n",
    "+ Lenguaje de programación\n",
    "+ Alto nivel\n",
    "+ Sencillo\n",
    "+ Interpretado\n",
    "+ Multiplataforma\n",
    "+ Libre\n",
    "+ Amplio uso y documentación\n",
    "\n",
    "Librerías especializadas: \n",
    "[Top 15 liberías de Python para ciencias de datos 2017](https://activewizards.com/blog/top-15-libraries-for-data-science-in-python/)\n",
    "\n",
    "+ Manejo y análisis de datos: [Numpy](http://www.numpy.org/), [Pandas](https://pandas.pydata.org/), [Scipy](https://www.scipy.org/).\n",
    "+ Visualización: [Seaborn](https://seaborn.pydata.org/), [Matplotlib](https://matplotlib.org/index.html), [Bokeh](https://bokeh.pydata.org/en/latest/), [Plotty](https://plot.ly/python/).\n",
    "+ Machine learning: [SciKit-Learn](http://scikit-learn.org/stable/index.html), [Keras](https://keras.io/), [TensorFlow](https://www.tensorflow.org/).\n",
    "\n",
    "\n",
    "## ¿Por qué aprender Python?\n",
    "[![](http://img.youtube.com/vi/hxGB7LU4i1I/0.jpg)](http://www.youtube.com/watch?v=hxGB7LU4i1I \"\")\n",
    "\n",
    "\n",
    "\n",
    "## Jupyter:\n",
    "Plataforma web en la cual es posible combinar código, multimedia, textos, figuras y fórmulas en un sólo documento. Compatible con más de 40 lenguajes. Cuadernos de Jupyter se pueden exportar en formatos como PDF, LaTeX,HTML y diapositivas.\n",
    "\n",
    "### **Programar: \n",
    "Escribir instrucciones que serán ejecutadas por la computadora, en un lenguaje que pueda entender. \n"
   ]
  },
  {
   "cell_type": "markdown",
   "metadata": {},
   "source": [
    "# Funciones: Input( ) y Print() \n",
    "\n",
    "+ Input() se usa para solicitar un dato o valor al usuario, cuando se presiona \"Enter\" Python acepta el valor y el programa continua ejecutandose.\n",
    "\n",
    "+ Print() es una de las funciones más utilizadas, especialmente para hacer \"debugging\". Python regresa como resultado lo que se especifica entre parentesis.\n"
   ]
  },
  {
   "cell_type": "code",
   "execution_count": null,
   "metadata": {},
   "outputs": [],
   "source": [
    "#Cuando una línea empieza con \"#\" se le llama comentario y no es ejecutada por Python, es útil para hacer notas\n",
    "#Este es el primer ejemplo de un comentario, uso de print() y de input().\n",
    "\n",
    "nombre=input(\"Hola, ¿Cuál es tu nombre? \") # Esta línea crea la variable \"nombre\" y le asigna la respuesta\n",
    "print(\"Un placer conocerte, \"+ nombre)\n",
    "respuesta=input(\"\\n Quieres adivinar qué número tengo en mente?(si/no):\")#Asigna respuesta a la variable \"respuesta\"\n",
    "\n",
    "#El siguiente es un bloque condicional\n",
    "if respuesta == \"si\": # \"==\" es un operador de comparación\n",
    "    print(\"Genial, es número entre 1 y 50, juguemos!\")\n",
    "else:\n",
    "    print(\"Lo siento, en realidad no hay opción, jugaremos de todas maneras. Pista: es un número entre 1 y 50\")\n",
    "\n",
    "#Un juego:\n",
    "from random import randint #Del módulo random importamos la función randint=RandomInteger\n",
    "mi_numero= randint(1,50) # Escribir aquí para qué sirve esta línea de código\n",
    "tu_numero=0\n",
    "\n",
    "#El siguiente es un \"while\" loop\n",
    "while tu_numero != mi_numero: \n",
    "    tu_numero=int(input(\"Dime un número: \"))\n",
    "    \n",
    "    # Y este es un bloque condicional dentro de un \"while\" loop\n",
    "    if mi_numero > tu_numero:\n",
    "        print(\"Tu número es menor, intenta otro \\n \")\n",
    "    elif mi_numero < tu_numero:\n",
    "        print(\"Tu número es mayor, intenta de nuevo \\n\")\n",
    "    else:\n",
    "        print(\"¡Exacto, ese es!\")\n"
   ]
  },
  {
   "cell_type": "markdown",
   "metadata": {},
   "source": [
    "# Variables\n",
    "\n",
    "Para asignar un valor a una variable se utiliza el operador \" = \".\n",
    "\n",
    "Podemos pensar en las variables como cajas en las que se guardan elementos y que pueden ser utilizados después.\n",
    "\n",
    "### Nombrar variables\n",
    "\n",
    "Las variables pueden tener prácticamente cualquier nombre, pero es importante tener algunas reglas en mente:\n",
    "+ Deben empezar con una letra del alfabeto y pueden contener números\n",
    "+ Mayúsculas y minúsculas importan, \"Dato1\" es distinto de \"dato1\"\n",
    "+ Hay palabras reservadas que no se pueden usar, como: print, while, if, for ...\n",
    "+ Es importante que el nombre sea algo que podamos recordar después.\n",
    "+ No se pueden usar caracteres especiales, espacios ni guiones\n",
    "\n",
    "Son nombres inválidos: mi-variable, muestras1&2, ´sequencia´\n",
    "\n",
    "En el ejemplo anterior existen 4 variables: \"nombre\", \"respuesta\", \"mi_numero\" y \"tu_numero\". \n",
    "\n",
    "+ \"mi_numero\" y \"tu_numero\" corresponden a datos tipo \"integer\" o enteros.\n",
    "+ \"nombre\" y \"respuesta\" son variables que a apuntan a datos tipo \"string\" o cadena de texto.\n"
   ]
  },
  {
   "cell_type": "markdown",
   "metadata": {},
   "source": [
    "### En Python existen 4 tipos básicos de datos:\n",
    "\n",
    "| Tipo de Dato | Ejemplos |\n",
    "| :-: | :--- |\n",
    "| Integer(int) | -2, -1, 0, 1, 2, 3, 4000 |\n",
    "| Float(float) | -1.25, -0.5, 0.0, 1.0, 3.14 | \n",
    "| String(str) | 'a', 'ATC', 'bacteria', 'tres' |\n",
    "| Boolean(bool) | True, False |\n",
    "\n",
    "\n",
    "Para conocer de qué tipo es una variable se utiliza la función ```type() ``` colocando entre parentesis la variable.\n"
   ]
  },
  {
   "cell_type": "code",
   "execution_count": 11,
   "metadata": {},
   "outputs": [],
   "source": [
    "var1=\"proteina\"\n",
    "var2=\"32\"\n",
    "var3=32\n",
    "var4=75.2\n",
    "var5= 8 > 5\n",
    "\n",
    "#Utiliza type() en alguna de las variables anteriores\n"
   ]
  },
  {
   "cell_type": "markdown",
   "metadata": {},
   "source": [
    "Es importante tener presente el tipo de dato con el que se trabaja, puesto que el resultado de una operación puede ser diferente en un caso u otro. Por ejemplo:"
   ]
  },
  {
   "cell_type": "code",
   "execution_count": 12,
   "metadata": {},
   "outputs": [
    {
     "name": "stdout",
     "output_type": "stream",
     "text": [
      "3232\n",
      "64\n"
     ]
    },
    {
     "data": {
      "text/plain": [
       "False"
      ]
     },
     "execution_count": 12,
     "metadata": {},
     "output_type": "execute_result"
    }
   ],
   "source": [
    "print(var2 * 2)\n",
    "print(var3 * 2)\n",
    "var3 == var2"
   ]
  },
  {
   "cell_type": "markdown",
   "metadata": {},
   "source": [
    "¿Por qué var3 no es igual a var2?\n"
   ]
  },
  {
   "cell_type": "markdown",
   "metadata": {},
   "source": [
    "También es posible convertir un objeto de un tipo a otro tipo conlas siguientes funciones:\n",
    "+ int()\n",
    "+ str()\n",
    "+ float()"
   ]
  },
  {
   "cell_type": "code",
   "execution_count": 13,
   "metadata": {},
   "outputs": [
    {
     "name": "stdout",
     "output_type": "stream",
     "text": [
      "64\n",
      "64.0\n",
      "<class 'str'>\n"
     ]
    }
   ],
   "source": [
    "print(int(var2) * 2)\n",
    "print(float(var2) *2)\n",
    "print(type(str(var2)))"
   ]
  },
  {
   "cell_type": "markdown",
   "metadata": {},
   "source": [
    "Otro ejemplo:"
   ]
  },
  {
   "cell_type": "code",
   "execution_count": 11,
   "metadata": {},
   "outputs": [
    {
     "name": "stdout",
     "output_type": "stream",
     "text": [
      "Ingrese un número. a = 3\n",
      "Ingrese un número. b = 4\n",
      "7\n",
      "34\n"
     ]
    }
   ],
   "source": [
    "a = input(\"Ingrese un número. a = \")\n",
    "b = input(\"Ingrese un número. b = \")\n",
    "print(int(a) + int(b))\n",
    "print (a + b)"
   ]
  },
  {
   "cell_type": "markdown",
   "metadata": {},
   "source": [
    " __***__\n",
    " # Operadores "
   ]
  },
  {
   "cell_type": "markdown",
   "metadata": {},
   "source": [
    "### Operadores de comparación: ==, !=, <, >, <=, >=\n",
    "\n",
    "+ ``` == ```  igualdad\n",
    "+ ``` != ```  es diferente\n",
    "+ ``` > ```  y ``` < ```  mayor / menor que\n",
    "+ ``` >= ``` y ```<= ```  mayor / menor o igual que\n",
    "\n",
    "Utilizamos estos operadores en el primer ejemplo para comparar los valores asignados a las variables  ```mi_numero ``` y  ```tu_numero ```.\n",
    "### Operadores matemáticos + - * / % ** =+"
   ]
  },
  {
   "cell_type": "code",
   "execution_count": null,
   "metadata": {},
   "outputs": [
    {
     "name": "stdout",
     "output_type": "stream",
     "text": [
      "2\n",
      "3\n",
      "6\n"
     ]
    }
   ],
   "source": [
    "x = 2             # asignar\n",
    "print(x)\n",
    "\n",
    "3 + 2             # sumar\n",
    "3 - 2             # restar\n",
    "3 * 2             # multiplicar\n",
    "3 / 2             # division\n",
    "3 % 2             # cociente\n",
    "3 ** 2            # exponente\n",
    "\n",
    "x+=1              # sumar y reasignar\n",
    "print(x)\n",
    "x*=2              # multiplicar y reasignar\n",
    "print(x)\n",
    "    "
   ]
  },
  {
   "cell_type": "markdown",
   "metadata": {},
   "source": [
    "Los operadores aritméticos y de comparación también se pueden utilizar para otros tipos de datos:"
   ]
  },
  {
   "cell_type": "code",
   "execution_count": null,
   "metadata": {},
   "outputs": [],
   "source": [
    "print(\"Hola\" == 'Hola')\n",
    "print(\"Uno\" > \"Una\")\n",
    "print(\"Uno\" == 1)\n",
    "#print(\"Uno\" < 1)"
   ]
  },
  {
   "cell_type": "markdown",
   "metadata": {},
   "source": [
    "### Operadores booleanos: and, or, not, in\n",
    "\n",
    "En Python la verdad y la falsedad se representan mediante un tipo especial denominado booleano (bool). Las variables booleanas sólo pueden adquirir dos valores: True y False. Podemos evaluar expresiones lógicas mediante los operadores booleanos que nos indican si una expresión es verdad o falsa."
   ]
  },
  {
   "cell_type": "code",
   "execution_count": 19,
   "metadata": {},
   "outputs": [
    {
     "name": "stdout",
     "output_type": "stream",
     "text": [
      "False\n",
      "True\n",
      "False\n",
      "False\n"
     ]
    }
   ],
   "source": [
    "print(1>2 and 1==1) # ambas deben cumplirse para que sea verdad\n",
    "print(1>2 or 1==1)  # una debe debe cumplirse para que sea verdad\n",
    "print(not 1==1)   # negación lógica, imprime lo opuesto\n",
    "print(\"ACT\" in \"ATCCTTGGTG\")\n"
   ]
  },
  {
   "cell_type": "markdown",
   "metadata": {},
   "source": [
    "__***__\n",
    "## Condicionales: if, elif y else"
   ]
  },
  {
   "cell_type": "markdown",
   "metadata": {},
   "source": [
    "\n",
    "## if\n",
    "Permite elegir ejecutar un bloque del programa u otro en función de que la condición que evalúa sea cierta o falsa. Por ejemplo:\n",
    "\n",
    "```python\n",
    "if mi_numero > tu_numero: \n",
    "    print(\"Tu número es menor, intenta otro \")\n",
    "```\n",
    "\n",
    "La sintaxis general de las sentencias \"if\" es:\n",
    "\n",
    "```python\n",
    "if condición: \n",
    "    bloque de código indentado\n",
    "    si la condición se cumple, se ejecuta este código\n",
    "```\n",
    "\n",
    "+ Python utiliza indentación (espacios) para separar los bloques de código dentro de estas y otras sentencias\n",
    "+ Se evalúa la condición, y si se cumple, se ejecuta el código dentro del bloque\n"
   ]
  },
  {
   "cell_type": "markdown",
   "metadata": {},
   "source": [
    "## elif\n",
    "Es una abreviación de \"else if\". Se utiliza cuando existen más de dos posibilidades para una condición.\n",
    "\n",
    "```python\n",
    "elif mi_numero < tu_numero: \n",
    "    print(\"Tu número es mayor, intenta otro \")\n",
    "```\n",
    "## else\n",
    "\n",
    "Este bloque se ejecuta si la condición (o condiciones) if no se cumple.\n",
    "```python\n",
    "    else:\n",
    "        print(\"¡Exacto, ese es!\")\n",
    "```"
   ]
  },
  {
   "cell_type": "markdown",
   "metadata": {},
   "source": [
    "## <span style=color:#900099/> Ejercicio \n",
    "\n",
    "El sitio de reconocimiento para la enzima de restricción Sau3AI es \"GATC\". \n",
    "1. Crea una varible llamada ```sitio``` y asignale \"GATC\" como valor.\n",
    "2. Dada la secuencia ```sec1```, construye un bloque ```if``` para confirmar si ```sitio``` se encuentra dentro de ```sec1```. \n",
    "3. Si la condición se cumple, imprime \"Hey, encontré un sitio de reconocimiento para Sau3AI\".\n",
    "4. Si no se cumple, entonces imprime \"No se encontró un sitio de reconocimiento para Sau3AI\""
   ]
  },
  {
   "cell_type": "code",
   "execution_count": 18,
   "metadata": {},
   "outputs": [],
   "source": [
    "#Ejercicio\n",
    "\n",
    "sec1= \"AACTCGGCTGTGCACGATCGGTTCCGAGATCGTGTTTGGCCTGCAGTCACTAGGCTACTGGTA\"\n",
    "#define aqui sitio\n",
    "\n",
    "#evalua aquí si sitio esta dentro de sec1, recuerda usar if condición y :\n",
    "    #Si la condición es verdadera ejecuta esto\n",
    "#sino se cumple:\n",
    "    #Ejecuta esto otro\n"
   ]
  },
  {
   "cell_type": "markdown",
   "metadata": {},
   "source": [
    "#### <span style=color:#349753/>Curiosidad en Python:"
   ]
  },
  {
   "cell_type": "code",
   "execution_count": null,
   "metadata": {},
   "outputs": [],
   "source": [
    "#¿Qué pasa al ejecutar la siguiente línea?\n",
    "#import this "
   ]
  },
  {
   "cell_type": "markdown",
   "metadata": {},
   "source": [
    "***\n",
    "# Listas\n",
    "### Estructura de una lista \n",
    "\n",
    "<img src=\"imagenes/lista.png\", width=800, height=600>\n",
    "\n",
    "\n",
    "- Una lista es una colección ordenada de objetos mutables. \n",
    "- Los valores de una lista están agrupados en un solo objeto que corresponde al nombre de la lista.\n",
    "- Cada campo puede almacenar un valor y a cada uno se le asocia un entero conocido como “índice” que es la posición que ocupa dentro de la lista (comenzando desde cero).\n",
    "- (En Python) Pueden almacenarse valores de distintos tipos de datos en una misma lista.\n",
    "\n",
    "### Manipulación de listas\n",
    "Existen varias funciones que nos permiten manipular los elementos de una lista:\n",
    "\n",
    "```python\n",
    "      lista=[]             #crea una lista vacía llamada \"lista\"\n",
    "      lista[-1]            #regresa el último elemento de la lista\n",
    "      lista[i]=x           #define el elemento \"x\" en el índice (posición) \"i\"\n",
    "      lista[j]             #referencia al elemento índice \"j\"\n",
    "      lista[i:j]           #regresa los elementos en el rango de \"i\" a \"j\" \n",
    "```"
   ]
  },
  {
   "cell_type": "markdown",
   "metadata": {},
   "source": [
    "+ Se puede acceder a un dato dentro de una lista haciendo referencia a su posición dentro de la lista\n",
    "+ Cada dato tiene un índice que corresponde a esta posición\n",
    "+ Los índices de las listas comienzan en 0"
   ]
  },
  {
   "cell_type": "code",
   "execution_count": 41,
   "metadata": {},
   "outputs": [
    {
     "name": "stdout",
     "output_type": "stream",
     "text": [
      "Lista de medidas:\n",
      "[48, 64.3, 87, 'no aplica', 49, 56.8, 54.9, 57]\n",
      "\n",
      "El primer elemento de medidas es:\n",
      "48\n",
      "48\n",
      "\n",
      "Definiendo un elemento en la posición 3\n",
      "[48, 64.3, 87, 'dato perdido', 49, 56.8, 54.9, 57]\n",
      "\n",
      "Un subrango\n",
      "[49, 56.8, 54.9]\n"
     ]
    }
   ],
   "source": [
    "#Ejemplo\n",
    "print(\"Lista de medidas:\")\n",
    "medidas=[48,64.3,87,\"no aplica\",49,56.8,54.9,57]\n",
    "print(medidas)\n",
    "\n",
    "print(\"\\nEl primer elemento de medidas es:\")\n",
    "primera=medidas[0]\n",
    "print(primera)\n",
    "print(medidas[0])\n",
    "\n",
    "print(\"\\nDefiniendo un elemento en la posición 3\")\n",
    "medidas[3]=\"dato perdido\"\n",
    "print(medidas)\n",
    "\n",
    "print(\"\\nUn subrango\")\n",
    "print(medidas[4:7])\n",
    "\n"
   ]
  },
  {
   "cell_type": "markdown",
   "metadata": {},
   "source": [
    "## Métodos para listas\n",
    "\n",
    "Python tiene funciones especiales para manipular listas, por ejemplo:\n",
    "```python\n",
    "      lista.append(x)            #agrega el elemento \"x\" al final de la lista \n",
    "      lista.extend(L)            #toma los elementos de \"L\" y los agrega a lista\n",
    "      lista.remove(x)            #busca y elimina la primera ocurrencia de\"x\"\n",
    "      lista.index(x)             #regresa el índice del elemento \"x\"\n",
    "      lista.pop(i)               #elimina el elemento con el índice \"i\"\n",
    "      lista.count(x)             #cuenta las incidencias del elemento \"x\"\n",
    "      lista.sort()               #ordena la lista de forma creciente\n",
    "      lista.reverse()            #invierte los elementos de la lista\n",
    "      lista.clear()              #elimina todos los elementos de la lista\n",
    "```"
   ]
  },
  {
   "cell_type": "code",
   "execution_count": 35,
   "metadata": {},
   "outputs": [
    {
     "name": "stdout",
     "output_type": "stream",
     "text": [
      "['what', 89.234, 'el3', (1, 3, 5), 34]\n",
      "['what', 89.234, 'el3', (1, 3, 5)]\n",
      "['what', 'el3', (1, 3, 5)]\n"
     ]
    }
   ],
   "source": [
    "#Por ejemplo:\n",
    "\n",
    "orden=[pri]\n"
   ]
  },
  {
   "cell_type": "markdown",
   "metadata": {},
   "source": [
    "## <span style=color:#990099/> Ejercicio \n",
    "\n",
    " - Utilizando las listas vacías en la celda de abajo, y los datos que se le solicitan al usuario, llene las listas con los datos que le correspondan a cada una (los nombres en la lista de nombres y los números en la de números) y despliegue la información\n"
   ]
  },
  {
   "cell_type": "code",
   "execution_count": null,
   "metadata": {},
   "outputs": [],
   "source": [
    "lista_numeros = []\n",
    "lista_nombres = []\n",
    "\n",
    "numero1 = int(input(\"Ingrese el primer número \"))\n",
    "nombre1 = input(\"Ingrese el primer nombre \")\n",
    "nombre2 = input(\"Ingrese el segundo nombre \")\n",
    "numero2 = int(input(\"Ingrese el segundo número \"))"
   ]
  },
  {
   "cell_type": "markdown",
   "metadata": {},
   "source": [
    "## Strings"
   ]
  },
  {
   "cell_type": "code",
   "execution_count": 15,
   "metadata": {},
   "outputs": [
    {
     "name": "stdout",
     "output_type": "stream",
     "text": [
      "Uno Dos\n"
     ]
    }
   ],
   "source": [
    "var1 = \"Uno\"\n",
    "var2 = \"Dos\"\n",
    "varSuma = var1 + \" \" + var2\n",
    "print(varSuma)"
   ]
  },
  {
   "cell_type": "code",
   "execution_count": null,
   "metadata": {},
   "outputs": [],
   "source": [
    "(var1 + \" \") * 8"
   ]
  },
  {
   "cell_type": "code",
   "execution_count": null,
   "metadata": {},
   "outputs": [],
   "source": [
    "var * 3.0"
   ]
  },
  {
   "cell_type": "code",
   "execution_count": null,
   "metadata": {},
   "outputs": [],
   "source": [
    "nombre = \"Joaquin Sanabria Villalobos\"\n",
    "len(nombre)"
   ]
  },
  {
   "cell_type": "code",
   "execution_count": null,
   "metadata": {},
   "outputs": [],
   "source": [
    "nombre.upper()"
   ]
  },
  {
   "cell_type": "code",
   "execution_count": null,
   "metadata": {},
   "outputs": [],
   "source": [
    "nombre.split(' ')"
   ]
  },
  {
   "cell_type": "code",
   "execution_count": null,
   "metadata": {},
   "outputs": [],
   "source": [
    "nombre.startswith('Joa')"
   ]
  },
  {
   "cell_type": "code",
   "execution_count": null,
   "metadata": {},
   "outputs": [],
   "source": [
    "dna = \"atgctcagctaggcacacagctacg\"\n",
    "print(dna.count('t'))\n",
    "print(dna.count('a'))"
   ]
  },
  {
   "cell_type": "markdown",
   "metadata": {},
   "source": [
    "## Tuplas"
   ]
  },
  {
   "cell_type": "code",
   "execution_count": 16,
   "metadata": {},
   "outputs": [
    {
     "data": {
      "text/plain": [
       "2"
      ]
     },
     "execution_count": 16,
     "metadata": {},
     "output_type": "execute_result"
    }
   ],
   "source": [
    "t = 2,3         #tupla de dos elementos\n",
    "t[0]"
   ]
  },
  {
   "cell_type": "code",
   "execution_count": 17,
   "metadata": {},
   "outputs": [
    {
     "data": {
      "text/plain": [
       "(4, 5, 6)"
      ]
     },
     "execution_count": 17,
     "metadata": {},
     "output_type": "execute_result"
    }
   ],
   "source": [
    "t3 = 4,5,6      #tupla de tres elementos\n",
    "t3"
   ]
  },
  {
   "cell_type": "markdown",
   "metadata": {},
   "source": [
    "## Diccionarios\n",
    "\n",
    "\n",
    "### Estructura del un diccionario: llave (clave) -- valor\n",
    "\n",
    "<img src=\"imagenes/diccionario.png\", width=400, height=400>\n",
    "\n",
    "Son una estructura de datos que permite asignar valores a una llave para el acceso mucho más rápido de la información"
   ]
  },
  {
   "cell_type": "code",
   "execution_count": null,
   "metadata": {},
   "outputs": [],
   "source": [
    "telefonos = {'Jorge': 88475841, 'Sara': 74125544}\n",
    "telefonos['Guido'] = 27413310\n",
    "telefonos"
   ]
  },
  {
   "cell_type": "code",
   "execution_count": null,
   "metadata": {},
   "outputs": [],
   "source": [
    "del telefonos['Jorge']"
   ]
  },
  {
   "cell_type": "code",
   "execution_count": null,
   "metadata": {},
   "outputs": [],
   "source": [
    "list(telefonos.keys())"
   ]
  },
  {
   "cell_type": "code",
   "execution_count": null,
   "metadata": {},
   "outputs": [],
   "source": [
    "sorted(telefonos.keys())"
   ]
  },
  {
   "cell_type": "code",
   "execution_count": null,
   "metadata": {},
   "outputs": [],
   "source": [
    "'Sara' in telefonos"
   ]
  },
  {
   "cell_type": "code",
   "execution_count": null,
   "metadata": {},
   "outputs": [],
   "source": [
    "'Pedro' not in telefonos"
   ]
  },
  {
   "cell_type": "markdown",
   "metadata": {},
   "source": [
    "El constructor dict() crear un diccionario directamente a partir de los pares llave-valor"
   ]
  },
  {
   "cell_type": "code",
   "execution_count": null,
   "metadata": {},
   "outputs": [],
   "source": [
    "dict([('Cesar', 41391212), ('Ana', 22454127), ('Julio', 87654098)])"
   ]
  },
  {
   "cell_type": "markdown",
   "metadata": {},
   "source": [
    "## 'while' loops\n",
    "- Son ciclos que se repiten mientras se cumpla una condición"
   ]
  },
  {
   "cell_type": "code",
   "execution_count": null,
   "metadata": {},
   "outputs": [],
   "source": [
    "contador = 0\n",
    "while contador < 5:\n",
    "    print (contador)\n",
    "    contador += 1 # Esto es lo mismo que hacer contador = contador + 1"
   ]
  },
  {
   "cell_type": "code",
   "execution_count": null,
   "metadata": {},
   "outputs": [],
   "source": [
    "lista_numeros = []\n",
    "numero = int(input(\"Ingrese un numero (0 termina) \"))\n",
    "while numero != 0:\n",
    "    lista_numeros.append(numero)\n",
    "    numero = int(input(\"Ingrese un numero (0 termina) \"))\n",
    "    \n",
    "print(lista_numeros)"
   ]
  },
  {
   "cell_type": "markdown",
   "metadata": {},
   "source": [
    "## 'for' loops\n",
    "- Son estructuras que permiten repetir instrucciones por una cantidad determinada de veces\n",
    "- Estos ciclos recorren una lista"
   ]
  },
  {
   "cell_type": "code",
   "execution_count": null,
   "metadata": {},
   "outputs": [],
   "source": [
    "primos = [2,3,5,7,11,13,17,19,23,29,31,37,41,43,47,53,59,61,67,71,73,79,83,89,97]\n",
    "for num in primos:\n",
    "    print(num+8)"
   ]
  },
  {
   "cell_type": "markdown",
   "metadata": {},
   "source": [
    "- En este caso, num es una variable temporal que, en cada ciclo de repetición del código, tomará un valor distinto de la lista\n",
    "- Las instrucciones dentro del bloque se repiten una vez por cada elemento que haya en la lista\n",
    "- La diferencia es que la variable temporal ('num', en el caso del ejemplo anterior), será un dato distinto en cada una de esas repeticiones"
   ]
  },
  {
   "cell_type": "markdown",
   "metadata": {},
   "source": [
    "## Range\n",
    "\n",
    "- Se utiliza para que los ciclos 'for' recorran una secuencia de números"
   ]
  },
  {
   "cell_type": "code",
   "execution_count": null,
   "metadata": {},
   "outputs": [],
   "source": [
    "for x in range(5): # Por defecto empieza en cero\n",
    "    print(x)\n",
    "print(\" --- fin --- \\n\")\n",
    "for x in range(3, 6): # Se le indica un inicio y un final, excluye el valor final indicado\n",
    "    print(x)\n",
    "print(\" --- fin --- \\n\")\n",
    "for x in range(0, 10, 2): # Inicio, final y step, que indica cada cuántos recorre la secuencia\n",
    "    print(x)\n",
    "print(\" --- fin --- \\n\")"
   ]
  },
  {
   "cell_type": "markdown",
   "metadata": {},
   "source": [
    "## Funciones\n",
    "- Son una manera de modularizar el código (separarlo en secciones o bloques útiles)\n",
    "- Sirven para:\n",
    "    - Ordenar el código\n",
    "    - Reutilizarlo\n",
    "    \n",
    "- Tienen un encabezado y un bloque de código\n"
   ]
  },
  {
   "cell_type": "code",
   "execution_count": null,
   "metadata": {},
   "outputs": [],
   "source": [
    "def fun1():\n",
    "    print(\"My DNA is AGTGCTTGCAT ...\")"
   ]
  },
  {
   "cell_type": "code",
   "execution_count": null,
   "metadata": {},
   "outputs": [],
   "source": [
    "fun1()"
   ]
  },
  {
   "cell_type": "markdown",
   "metadata": {},
   "source": [
    "+ Cuando se escribe una función, se está escribiendo la definición de la función únicamente, no se ejecuta el código hasta que se llame a la función.\n",
    "+ Las funciones se llaman escribiendo su nombre seguido de parántesis, que llevan cualquier parámetro que necesite la función"
   ]
  },
  {
   "cell_type": "code",
   "execution_count": null,
   "metadata": {},
   "outputs": [],
   "source": [
    "def parseFile(filename):\n",
    "    print(\"Filename is \"+filename)\n",
    "    print(\" --- Doing stuff -----\")"
   ]
  },
  {
   "cell_type": "code",
   "execution_count": null,
   "metadata": {},
   "outputs": [],
   "source": [
    "parseFile(\"archivo.fa\")"
   ]
  },
  {
   "cell_type": "markdown",
   "metadata": {},
   "source": [
    "#### Las funciones también pueden retornar valores"
   ]
  },
  {
   "cell_type": "code",
   "execution_count": null,
   "metadata": {},
   "outputs": [],
   "source": [
    "# con valor de retorno\n",
    "def suma_numeros(a, b):\n",
    "    return a + b\n",
    "\n",
    "\n",
    "# sin valor de retorno\n",
    "def multiplicacion_numeros(a, b):\n",
    "    n = a * b\n",
    "    return n"
   ]
  },
  {
   "cell_type": "code",
   "execution_count": null,
   "metadata": {
    "scrolled": true
   },
   "outputs": [],
   "source": [
    "print(suma_numeros(4,5))\n",
    "\n",
    "## Si la función no tiene return, no tendrá valor de retorno\n",
    " \n",
    "n = multiplicacion_numeros(4,5)\n",
    "\n",
    "print(n)\n",
    "\n",
    "lista = []"
   ]
  },
  {
   "cell_type": "markdown",
   "metadata": {},
   "source": [
    "## <span style=color:#990099/> Ejercicio 2\n",
    "\n",
    "+ Cree una función que reciba una lista y un valor numérico y revise los elementos de la lista uno por uno y retorne **True** si el valor existe en la lista y **False** si no"
   ]
  },
  {
   "cell_type": "code",
   "execution_count": null,
   "metadata": {},
   "outputs": [],
   "source": [
    "def buscar(lista, numero):\n",
    "    #agregar solución aquí       \n",
    "    return False\n",
    "\n",
    "lista = [x for x in range(10)]\n",
    "\n",
    "buscar(lista, 6)"
   ]
  },
  {
   "cell_type": "markdown",
   "metadata": {},
   "source": [
    "## <span style=color:#990099/> Ejercicio 3\n",
    "\n",
    "Programe una función que revisa tres parametros: un string, y dos valores enteros\n",
    "El string es un conjunto de letras, el primer valor entero va a ser la cantidad de veces que se va a imprimir el string, el segundo entero es la cantidad de letras que le va a quitar al string cada vez que se imprima\n",
    "\n",
    "Ejemplo\n",
    "```ejercicio(\"esto no es real\", 6, 2) ```\n",
    "\n",
    "Resultado:\n",
    "```\n",
    "esto no es real\n",
    "esto no es re\n",
    "esto no es \n",
    "esto no e\n",
    "esto no\n",
    "esto \n",
    "```\n"
   ]
  },
  {
   "cell_type": "markdown",
   "metadata": {},
   "source": [
    "# Objetos\n",
    "- Los objetos son una encapsulación de variables y funciones en una sola entidad o contenedor\n",
    "- Se puede pensar en un objeto como si fuera una sola estructura de datos que contiene datos y funciones\n",
    "- Las variables definidas dentro los objetos se llaman \"atributos\"\n",
    "- Los objetos obtienen sus variables y funciones a partir de definiciones llamadas \"clases\""
   ]
  },
  {
   "cell_type": "code",
   "execution_count": null,
   "metadata": {},
   "outputs": [],
   "source": [
    "class Persona:\n",
    "    def __init__(self, nombre, edad, lenguaje_favorito, es_estudiante):\n",
    "        self.nombre = nombre\n",
    "        self.edad = edad\n",
    "        self.lenguaje_favorito = lenguaje_favorito\n",
    "        self.es_estudiante = es_estudiante"
   ]
  },
  {
   "cell_type": "markdown",
   "metadata": {},
   "source": [
    "- Se puede pensar en una clase como una plantilla para crear objetos\n",
    "- Se debe de tener clara la diferencia entre una clase y un objeto"
   ]
  },
  {
   "cell_type": "code",
   "execution_count": null,
   "metadata": {},
   "outputs": [],
   "source": [
    "objeto_persona = Persona (\"Alberto\", 38, \"Python\", False)"
   ]
  },
  {
   "cell_type": "code",
   "execution_count": null,
   "metadata": {},
   "outputs": [],
   "source": [
    "print(objeto_persona.nombre)"
   ]
  },
  {
   "cell_type": "markdown",
   "metadata": {},
   "source": [
    "####  Una vez que se tiene la definición de la clase \"Persona\", se pueden crear tantas instancias como se necesiten"
   ]
  },
  {
   "cell_type": "code",
   "execution_count": null,
   "metadata": {},
   "outputs": [],
   "source": [
    "persona1 = Persona(\"Marcela\", 26, \"Python\", True)\n",
    "persona2 = Persona(\"Carlos\", 33, \"Python\", False)\n",
    "persona3 = Persona(\"Alexa\", 22, \"Python\", True)\n",
    "lista_personas = [objeto_persona, persona1, persona2, persona3]\n",
    "\n",
    "for persona in lista_personas:\n",
    "    print(persona.nombre)"
   ]
  },
  {
   "cell_type": "markdown",
   "metadata": {},
   "source": [
    "+ Las funciones dentro de una clase se llaman \"métodos\"\n",
    "+ Se puede acceder a ellos de una manera similar a como se accede a los atributos"
   ]
  },
  {
   "cell_type": "code",
   "execution_count": null,
   "metadata": {},
   "outputs": [],
   "source": [
    "class Libro:\n",
    "    def __init__(self, titulo, autor, cant_paginas):\n",
    "        self.titulo = titulo\n",
    "        self.autor = autor\n",
    "        self.pagina_actual = 1\n",
    "        self.cant_paginas = cant_paginas\n",
    "        print(\"Creo un libro\")\n",
    "        \n",
    "    def pasar_pagina(self, cantidad_de_paginas):\n",
    "        self.pagina_actual += cantidad_de_paginas\n",
    "        \n",
    "        \n",
    "libro_nuevo = Libro(\"Etica\", \"Spinoza\", 315)\n",
    "\n",
    "print(libro_nuevo.pagina_actual)\n",
    "\n",
    "libro_nuevo.pasar_pagina(5)\n",
    "\n",
    "print(libro_nuevo.pagina_actual)"
   ]
  },
  {
   "cell_type": "markdown",
   "metadata": {},
   "source": [
    "### Método \\_\\_init\\_\\_()\n",
    "\n",
    "- Este método se utiliza para inicializar los objetos, en el momento en el que se crea la instancia, se ejecuta lo que está en el método init, a esto se le conoce como \"constructor\"\n",
    "- Como se ve en el ejemplo anterior, el constructor puede recibir parámetros para inicializar los valores en el objeto\n",
    "- El método constructor sólo puede llamarse \\_\\_init\\_\\_ --> No puede llamarse de ninguna otra forma"
   ]
  },
  {
   "cell_type": "markdown",
   "metadata": {},
   "source": [
    "### Algunos tips\n",
    "<details>\n",
    "  <summary> Ejercicio 1 </summary>  ``` append() ```\n",
    " </details>\n",
    " \n",
    " <details>\n",
    "  <summary> Ejercicio 2 </summary>  ```  \n",
    "    for elemento in lista:\n",
    "    if elemento == numero:\n",
    "             ```\n",
    " </details>\n",
    " \n",
    "\n",
    "            \n",
    "<details>\n",
    "  <summary> Ejercicio 3 </summary>\n",
    "    \n",
    "```\n",
    " mm = \"qwertyuiopasdflmnzxcvbgfd\"\n",
    " l = len(mm)\n",
    " l -= 2\n",
    " mm[:l]\n",
    "```\n",
    "\n",
    "</details>\n",
    "\n"
   ]
  },
  {
   "cell_type": "markdown",
   "metadata": {},
   "source": [
    "# t\n",
    "<details>\n",
    "  <summary> Ejercicio 1 </summary>  ``` append() ```\n",
    " </details>\n",
    " "
   ]
  },
  {
   "cell_type": "code",
   "execution_count": null,
   "metadata": {},
   "outputs": [],
   "source": []
  }
 ],
 "metadata": {
  "kernelspec": {
   "display_name": "Python 3",
   "language": "python",
   "name": "python3"
  },
  "language_info": {
   "codemirror_mode": {
    "name": "ipython",
    "version": 3
   },
   "file_extension": ".py",
   "mimetype": "text/x-python",
   "name": "python",
   "nbconvert_exporter": "python",
   "pygments_lexer": "ipython3",
   "version": "3.6.0"
  }
 },
 "nbformat": 4,
 "nbformat_minor": 2
}
