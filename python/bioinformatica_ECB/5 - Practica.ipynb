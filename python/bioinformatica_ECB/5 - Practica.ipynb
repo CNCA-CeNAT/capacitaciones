{
 "cells": [
  {
   "cell_type": "markdown",
   "metadata": {},
   "source": [
    "# Demultiplexing de Secuencias\n",
    "\n",
    "El ejercicio se basa en crear los métodos para hacer cada uno de los siguientes pasos.\n",
    "El proceso que importa aquí es el llamado demultiplexing de las secuencias, en donde vienen marcadas con identificadores específicos y deben ser separadas ya que son de muestras diferentes.\n",
    "\n",
    "1. Generar una secuencia con bases aleatorias\n",
    "2. Generar secuenias aleatorias con un marcador al inicio de la misma, el método por parámetro recibe el total de secuencias, el total de marcadores, el largo de las secuencias y el largo de los marcadores.\n",
    "3. Escribir las secuencias en un archivo fasta, generando un nombre para cada secuencia no el identificador\n",
    "4. Leer las secuencias con BioPython y separarlas con base en el marcador que la identifica, esto seria tener listas individuales para cada marcador   \n",
    "   \n",
    "     \n",
    "       Tip: usar choice para seleccionar una letra a la vez\n",
    "       Tip: from random import shuffle para mezclar la lista generada\n",
    "    \n",
    "Se puede crear los métodos en el cuaderno de Jupyper para facilitar las pruebas, pero al final vamos a crear un archivo .py con los métodos y correrlo en línea de comandos\n",
    " "
   ]
  },
  {
   "cell_type": "markdown",
   "metadata": {},
   "source": [
    "# Limpieza de Secuencias\n",
    "\n",
    "El siguiente codigo no va a funcionar, tiene partes faltantes, completelas y cree un archivo `.py` para poder ser ejecutado en la linea de comandos "
   ]
  },
  {
   "cell_type": "code",
   "execution_count": null,
   "metadata": {},
   "outputs": [],
   "source": [
    "import sys\n",
    "from ?? import SeqIO\n",
    "\n",
    "def sequence_cleaner(fasta_file, min_length=0, por_n=100):\n",
    "    # Create our hash table to add the sequences\n",
    "    sequences={}\n",
    "\n",
    "    # Using the Biopython fasta parse we can read our fasta input\n",
    "    for seq_record in SeqIO.parse(fasta_file, ??):\n",
    "        # Take the current sequence and convert to upper case\n",
    "        sequence = ??\n",
    "        # Check if the current sequence is according to the user parameters\n",
    "        if (?? and\n",
    "            (float(sequence.count(\"N\"))/float(len(sequence)))*100 <= por_n):\n",
    "        \n",
    "        # If the sequence passed in the test \"is it clean?\" and it isn't in the\n",
    "        # hash table, the sequence and its id are going to be in the hash\n",
    "            ??:\n",
    "                sequences[sequence] = seq_record.id\n",
    "       # If it is already in the hash table, we're just gonna concatenate the ID\n",
    "       # of the current sequence to another one that is already in the hash table\n",
    "            else:\n",
    "                sequences[sequence] += \"_\" + seq_record.id\n",
    "\n",
    "\n",
    "    # Write the clean sequences\n",
    "\n",
    "    # Create a file in the same directory where you ran this script\n",
    "    with open(\"clear_\" + fasta_file, ??) as output_file:\n",
    "        # Just read the hash table and write on the file as a fasta format\n",
    "        for sequence in sequences:\n",
    "            output_file.write(\">\" + sequences[sequence] + \"\\n\" + sequence + \"\\n\")\n",
    "\n",
    "    print(\"CLEAN!!!\\nPlease check clear_\" + fasta_file)\n",
    "\n",
    "\n",
    "userParameters = sys.argv[1:]\n",
    "\n",
    "try:\n",
    "    if len(userParameters) == 1:\n",
    "        sequence_cleaner(userParameters[0])\n",
    "    elif len(userParameters) == 2:\n",
    "        sequence_cleaner(userParameters[0], float(userParameters[1]))\n",
    "    elif len(userParameters) == 3:\n",
    "        sequence_cleaner(userParameters[0], ??, ??))\n",
    "    else:\n",
    "        print(??)\n",
    "except:\n",
    "    print(??)"
   ]
  },
  {
   "cell_type": "markdown",
   "metadata": {},
   "source": [
    "# Plotting\n",
    "\n",
    "El siguiente código grafica los tamaños de las secuencias del archivo `ls_orchid.fasta`. Utilice el mismo código para hacer una gráfica pero con la calidad de las lecturas del archivo `200reads.fastq`, donde exista un método que reciba el valor de la calida mínima a tomar en cuenta para la graficación.\n",
    "\n",
    "`pylab` es similiar a `pyplot` y se usa de la misma manera. Puede usar cualquiera de los dos. "
   ]
  },
  {
   "cell_type": "code",
   "execution_count": 10,
   "metadata": {},
   "outputs": [
    {
     "data": {
      "image/png": "[encoded data removed]",
      "text/plain": [
       "<matplotlib.figure.Figure at 0x7f493b2260f0>"
      ]
     },
     "metadata": {},
     "output_type": "display_data"
    }
   ],
   "source": [
    "from Bio import SeqIO\n",
    "import pylab\n",
    "\n",
    "sizes = [len(rec) for rec in SeqIO.parse(\"ls_orchid.fasta\", \"fasta\")]\n",
    "\n",
    "pylab.hist(sizes, bins=20)\n",
    "pylab.title(\"%i orchid sequences\\nLengths %i to %i\" \\\n",
    "            % (len(sizes),min(sizes),max(sizes)))\n",
    "pylab.xlabel(\"Sequence length (bp)\")\n",
    "pylab.ylabel(\"Count\")\n",
    "pylab.show()"
   ]
  },
  {
   "cell_type": "markdown",
   "metadata": {},
   "source": [
    "# Convertir Fastq a Fasta\n",
    "\n",
    "En el home existe un archivo llamado `convert_fastq_to_fasta.py`, contiene una notación mucho más compleja y es más elaborado, vamos a estudiarlo para ver a que nos podemos enfrentar cuando buscamos scripts de referencia. También para ver buenas prácticas de programación.\n"
   ]
  },
  {
   "cell_type": "code",
   "execution_count": null,
   "metadata": {},
   "outputs": [],
   "source": []
  }
 ],
 "metadata": {
  "kernelspec": {
   "display_name": "Python 3",
   "language": "python",
   "name": "python3"
  },
  "language_info": {
   "codemirror_mode": {
    "name": "ipython",
    "version": 3
   },
   "file_extension": ".py",
   "mimetype": "text/x-python",
   "name": "python",
   "nbconvert_exporter": "python",
   "pygments_lexer": "ipython3",
   "version": "3.6.0"
  }
 },
 "nbformat": 4,
 "nbformat_minor": 2
}
