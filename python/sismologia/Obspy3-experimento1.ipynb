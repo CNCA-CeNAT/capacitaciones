{
 "cells": [
  {
   "cell_type": "markdown",
   "metadata": {},
   "source": [
    "# Experimento 1: amplitud en función de la distancia\n",
    "\n",
    "Las ondas sísmicas son ondas mecánicas. A pesar de moverse en un medio muy complejo, exhibiendo comportamientos no lineales, podemos afirmar que siguen ciertas tendencias. Una de esas es la caída de la amplitud en función de la distancia. \n",
    "\n",
    "Para ilustrarlo, vamos a tomar las componentes verticales de todos los simómetros al momento del sismo de Jacó. Vamos a resumir su amplitud en un único valor y lo vamos a graficar contra la distancia. "
   ]
  },
  {
   "cell_type": "code",
   "execution_count": 25,
   "metadata": {},
   "outputs": [
    {
     "data": {
      "text/plain": [
       "29 Trace(s) in Stream:\n",
       "\n",
       "OV.DUNO..HHZ | 2017-11-13T02:27:00.008400Z - 2017-11-13T02:37:59.998400Z | 100.0 Hz, 66000 samples\n",
       "...\n",
       "(27 other traces)\n",
       "...\n",
       "OV.VTRT..HHZ | 2017-11-13T02:27:00.000000Z - 2017-11-13T02:38:00.000000Z | 100.0 Hz, 66001 samples\n",
       "\n",
       "[Use \"print(Stream.__str__(extended=True))\" to print all Traces]"
      ]
     },
     "execution_count": 25,
     "metadata": {},
     "output_type": "execute_result"
    }
   ],
   "source": [
    "# Importe los módulos necesarios: obspy, numpy, matplotlib\n",
    "import obspy \n",
    "import numpy as np\n",
    "import matplotlib.pyplot as plt \n",
    "\n",
    "# Cargue el Stream datos/jaco-todas_las_estaciones.tar.mseed \n",
    "jaco = obspy.read('datos/jaco-todas_las_estaciones.tar.mseed')\n",
    "\n",
    "# Preprocese la señal, recuerde hacer .merge()\n",
    "jaco_resp = obspy.read_inventory('datos/jaco-todas_las_estaciones.dataless')\n",
    "jaco.detrend(type='linear')\n",
    "jaco.merge()\n",
    "jaco.remove_response(inventory=jaco_resp, output='DISP', water_level=0)\n",
    "jaco.filter('lowpass', freq=0.1)"
   ]
  },
  {
   "cell_type": "markdown",
   "metadata": {},
   "source": [
    "Antes de proseguir, grafique algunas de las trazas. ¿Corresponden con lo esperado?"
   ]
  },
  {
   "cell_type": "code",
   "execution_count": 43,
   "metadata": {},
   "outputs": [
    {
     "name": "stdout",
     "output_type": "stream",
     "text": [
      "         network: OV\n",
      "         station: DUNO\n",
      "        location: \n",
      "         channel: HHZ\n",
      "       starttime: 2017-11-13T02:27:00.008400Z\n",
      "         endtime: 2017-11-13T02:37:59.998400Z\n",
      "   sampling_rate: 100.0\n",
      "           delta: 0.01\n",
      "            npts: 66000\n",
      "           calib: 1.0\n",
      "         _format: MSEED\n",
      "           mseed: AttribDict({'dataquality': 'M', 'number_of_records': 343, 'encoding': 'STEIM2', 'byteorder': '>', 'record_length': 512, 'filesize': 222208})\n",
      "      processing: [\"ObsPy 1.1.0: detrend(options={}::type='linear')\", \"ObsPy 1.1.0: remove_response(fig=None::inventory=<obspy.core.inventory.inventory.Inventory object at 0x7f34e7ac6e80>::output='DISP'::plot=False::pre_filt=None::taper=True::taper_fraction=0.05::water_level=0::zero_mean=True)\", \"ObsPy 1.1.0: filter(options={'freq': 0.1}::type='lowpass')\"]\n"
     ]
    },
    {
     "data": {
      "image/png": "[encoded data removed]",
      "text/plain": [
       "<matplotlib.figure.Figure at 0x7f34f69e7668>"
      ]
     },
     "metadata": {},
     "output_type": "display_data"
    }
   ],
   "source": [
    "n = 0\n",
    "print(jaco[n].stats)\n",
    "plt.plot(jaco[n].data)\n",
    "plt.show()"
   ]
  },
  {
   "cell_type": "markdown",
   "metadata": {},
   "source": [
    "Ahora vamos a intentar resumir la amplitud de la onda en un único valor. Para ello vamos a utilizar un diccionario, que asocia el nombre de cada estación con este valor. \n",
    "\n",
    "Para resumir el valor de la amplitud, simplemente vamos a tomar su valor absoluto y lo vamos a sumar."
   ]
  },
  {
   "cell_type": "code",
   "execution_count": 33,
   "metadata": {},
   "outputs": [
    {
     "name": "stdout",
     "output_type": "stream",
     "text": [
      "{'DUNO': nan, 'BATAN': 0.032235953393078477, 'CDITO': 0.007374039868347451, 'CDM': 0.053226108693493188, 'COVE': 0.0092586332456365879, 'CPMI': 0.015145743580316631, 'GRZA': 1.0731642344614215e-05, 'HDC3': 0.034004224405038509, 'INDI': 0.0097302955666883004, 'JACO': 0.045920388082932681, 'JUDI': 0.010375861740426495, 'LAFE': 0.016179119167176063, 'MRVA': 0.014864461273280671, 'NARJ': 0.0047918918409989115, 'OCHAL': 3.1809775656924659e-06, 'OCM': 0.010941556561839417, 'ORTG': 0.0076721179052158936, 'POTG': 0.012319425342906015, 'RIFO': 0.071661852673039067, 'RIMA': 0.016253575545235613, 'RIOS': 1.5352038329310996e-05, 'VACR': 0.034596142786376606, 'VIMO': 0.043554778950194439, 'VMAR': 0.0085762605746400981, 'VPTE': 0.039909836362906286, 'VTCV': 0.056104579995338813, 'VTLA': 0.043463573471828075, 'VTLO': 0.032329734840847932, 'VTRT': 0.0375363644256635}\n"
     ]
    }
   ],
   "source": [
    "amplitud = {}\n",
    "\n",
    "# utilice un for-loop para recorrer todas las estaciones. \n",
    "for estacion in jaco:\n",
    "    # tome el valor absoluto de la señal y súmela\n",
    "    value = np.sum(np.abs(estacion.data))\n",
    "    # Añada el valor al diccionario\n",
    "    amplitud[estacion.stats['station']] = value\n",
    "    \n",
    "print(amplitud)"
   ]
  },
  {
   "cell_type": "markdown",
   "metadata": {},
   "source": [
    "El epicentro del sismo se localizó a 9.53° de latitud y -84.51° de longitud. En el directorio datos puede encontrar el archivo `ov_stations`, el cual contiene todas las estaciones de la red del OVSICORI. Este es un archivo `csv` que utiliza el espacio en blanco como separador. Lea este archivo y calcule la distancia euclideana entre el epicentro y la posición de cada una de las estaciones. Es conveniente utilizar un diccionario para esta tareas. "
   ]
  },
  {
   "cell_type": "code",
   "execution_count": 36,
   "metadata": {},
   "outputs": [
    {
     "name": "stdout",
     "output_type": "stream",
     "text": [
      "{'ACHA': 0.79544867841992239, 'BATAN': 1.2681190992962867, 'CABA': 1.0923708161608845, 'CABS': 1.0923708161608845, 'CALV': 0.61445706115236942, 'CAO': 0.6142628834627647, 'CAO2': 0.61755404621781362, 'CAR': 1.0263655537867604, 'CCOL': 1.9029308474035567, 'CDITO': 1.8963695657756252, 'CDM': 0.74667622166505843, 'COVE': 1.1944018837895405, 'CPMI': 0.76299846657775228, 'CRPO': 0.72334175878349638, 'COVR': 1.8593946219132809, 'DUNO': 1.1265773386678781, 'EPA': 0.46414942637043027, 'GRZA': 1.189783850117315, 'HATI': 1.4166319070245439, 'HAYA': 0.80482659623052455, 'HDC3': 0.61786759908576083, 'HRIU': 1.5841873784372851, 'HZTE': 1.6060008872973839, 'INDI': 1.0477084947636888, 'IRZ2': 0.75345981312875232, 'JACO': 0.19969979969944104, 'JUD3': 1.2108837268705774, 'JUDI': 1.2094619671572895, 'LAFE': 0.48690854377388104, 'LAR': 0.52874146801627864, 'LEPA': 0.66642593737038258, 'LIBE': 1.4165762245639968, 'LORE': 0.93627979258339677, 'MANS': 1.0382622404768476, 'MRVA': 1.1072453431828111, 'MURC': 1.8352141073999984, 'NARJ': 1.1242329340488082, 'NICO': 1.1150736522759361, 'OCHAL': 0.96651803914878143, 'OCM': 0.65768084965278339, 'ORTG': 1.262269499750349, 'OVD3': 1.096923005502205, 'OVD4': 1.0595504140908008, 'OVD5': 1.0595504140908008, 'PAL': 0.73113227941324666, 'PBNC': 1.8040971065882283, 'PEZE': 0.84544840765123974, 'PICA': 0.87748839878371898, 'PIRO': 1.6263418367612688, 'PLAN': 1.1941320069406132, 'PNCB': 0.58483458345074069, 'PNE2': 1.4771104291825981, 'PNPB': 1.5354276016797499, 'PNUA': 1.2586994319534774, 'POA2': 0.69593621834188291, 'POA5': 0.73033105507023777, 'POPE': 0.92316510440982269, 'POTG': 1.4707703627691249, 'PUJE': 0.96038818193477504, 'QPSB': 0.41005465489370946, 'QPSR': 0.41005465489370946, 'RIFO': 0.98208333658606195, 'RIMA': 0.68834040997169432, 'RIN3': 1.5214091921636317, 'RIOS': 1.2959509018477504, 'SAJU': 1.3152534128448321, 'SRBA': 1.1878612797797581, 'TAM': 1.5260411167462045, 'TBLN': 0.58913001960518074, 'TERA': 0.71253937435064496, 'TIG2': 1.3127125237461656, 'TJAR': 0.66243807257735987, 'TLLA': 0.87303530856432487, 'VACR': 0.95634146621381932, 'VAVL': 0.92888863702814373, 'VICA': 0.80580854425850323, 'VICI1': 0.78630559580865578, 'VICI2': 0.78376173037474306, 'VIMO': 0.75199460104445015, 'VIRE': 0.75229680977657598, 'VMAR': 1.4203930793973911, 'VPTE': 0.71339995093916697, 'VPVF': 0.73042339776324683, 'VRLE': 1.5214091921636317, 'VOVE': 0.90107680027842818, 'VOVG': 0.89416779745191333, 'VOVV': 0.90490800637413882, 'VTLA': 0.87371410083620127, 'VTLO': 0.68834040997169432, 'VTRE': 0.85705045942465274, 'VTRT': 0.8586636652380335, 'VTCV': 0.90490800637413882, 'VTUC': 0.89640392680978742, 'VTUN': 0.89438079697633199}\n"
     ]
    }
   ],
   "source": [
    "import numpy as np\n",
    "\n",
    "distancias = {}\n",
    "\n",
    "# abra el archivo\n",
    "f = open('datos/ov_stations')\n",
    "\n",
    "# utilice un for-loop para recorrerlo \n",
    "for line in f:\n",
    "    line = line.split()\n",
    "    delta_lat  = 9.53 - float(line[2])\n",
    "    delta_long = -84.51 - float(line[3])\n",
    "    distancias[line[0]] = np.sqrt(np.power(delta_lat, 2) + np.power(delta_long, 2))\n",
    "\n",
    "# Recuerde cerrar el archivo!\n",
    "f.close()   \n",
    "print(distancias)\n"
   ]
  },
  {
   "cell_type": "markdown",
   "metadata": {},
   "source": [
    "Ahora, vamos a crear dos listas. La primera contiene las distancias al epicentro, la segunda la amplitud de la señal. Para ello iteramos sobre el diccionario de amplitud creado previamiente. "
   ]
  },
  {
   "cell_type": "code",
   "execution_count": 37,
   "metadata": {},
   "outputs": [
    {
     "name": "stdout",
     "output_type": "stream",
     "text": [
      "[1.1265773386678781, 1.2681190992962867, 1.8963695657756252, 0.74667622166505843, 1.1944018837895405, 0.76299846657775228, 1.189783850117315, 0.61786759908576083, 1.0477084947636888, 0.19969979969944104, 1.2094619671572895, 0.48690854377388104, 1.1072453431828111, 1.1242329340488082, 0.96651803914878143, 0.65768084965278339, 1.262269499750349, 1.4707703627691249, 0.98208333658606195, 0.68834040997169432, 1.2959509018477504, 0.95634146621381932, 0.75199460104445015, 1.4203930793973911, 0.71339995093916697, 0.90490800637413882, 0.87371410083620127, 0.68834040997169432, 0.8586636652380335]\n",
      "[nan, 0.032235953393078477, 0.007374039868347451, 0.053226108693493188, 0.0092586332456365879, 0.015145743580316631, 1.0731642344614215e-05, 0.034004224405038509, 0.0097302955666883004, 0.045920388082932681, 0.010375861740426495, 0.016179119167176063, 0.014864461273280671, 0.0047918918409989115, 3.1809775656924659e-06, 0.010941556561839417, 0.0076721179052158936, 0.012319425342906015, 0.071661852673039067, 0.016253575545235613, 1.5352038329310996e-05, 0.034596142786376606, 0.043554778950194439, 0.0085762605746400981, 0.039909836362906286, 0.056104579995338813, 0.043463573471828075, 0.032329734840847932, 0.0375363644256635]\n"
     ]
    }
   ],
   "source": [
    "dist = []\n",
    "amp  = []\n",
    "\n",
    "for k,v in amplitud.items():\n",
    "    amp.append(v)\n",
    "    dist.append(distancias[k])\n",
    "    \n",
    "print(dist)\n",
    "print(amp)"
   ]
  },
  {
   "cell_type": "markdown",
   "metadata": {},
   "source": [
    "Ahora, grafique la amplitud en función de la distancia"
   ]
  },
  {
   "cell_type": "code",
   "execution_count": 40,
   "metadata": {},
   "outputs": [
    {
     "data": {
      "image/png": "[encoded data removed]",
      "text/plain": [
       "<matplotlib.figure.Figure at 0x7f34e2a4c588>"
      ]
     },
     "metadata": {},
     "output_type": "display_data"
    }
   ],
   "source": [
    "plt.scatter(dist, amp)\n",
    "plt.show()"
   ]
  },
  {
   "cell_type": "markdown",
   "metadata": {},
   "source": [
    "¿No se ve como el patrón más claro del mundo, verdad? Calculemos una línea de tendencia. "
   ]
  },
  {
   "cell_type": "code",
   "execution_count": 42,
   "metadata": {},
   "outputs": [
    {
     "name": "stdout",
     "output_type": "stream",
     "text": [
      "[ nan  nan]\n"
     ]
    }
   ],
   "source": [
    "tendencia = np.polyfit(dist, amp, 1)\n",
    "print(tendencia)"
   ]
  }
 ],
 "metadata": {
  "kernelspec": {
   "display_name": "Python 3",
   "language": "python",
   "name": "python3"
  },
  "language_info": {
   "codemirror_mode": {
    "name": "ipython",
    "version": 3
   },
   "file_extension": ".py",
   "mimetype": "text/x-python",
   "name": "python",
   "nbconvert_exporter": "python",
   "pygments_lexer": "ipython3",
   "version": "3.6.0"
  }
 },
 "nbformat": 4,
 "nbformat_minor": 2
}
