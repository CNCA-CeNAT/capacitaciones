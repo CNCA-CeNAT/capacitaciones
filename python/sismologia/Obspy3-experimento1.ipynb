{
 "cells": [
  {
   "cell_type": "markdown",
   "metadata": {},
   "source": [
    "# Experimento 1: amplitud en función de la distancia\n",
    "\n",
    "Las ondas sísmicas son ondas mecánicas. A pesar de moverse en un medio muy complejo, exhibiendo comportamientos no lineales, podemos afirmar que siguen ciertas tendencias. Una de esas es la caída de la amplitud en función de la distancia. \n",
    "\n",
    "Para ilustrarlo, vamos a tomar las componentes verticales de todos los simómetros al momento del sismo de Jacó. Vamos a resumir su amplitud en un único valor y lo vamos a graficar contra la distancia. "
   ]
  },
  {
   "cell_type": "code",
   "execution_count": null,
   "metadata": {},
   "outputs": [],
   "source": [
    "# Importe los módulos necesarios: obspy, numpy, matplotlib\n",
    "\n",
    "\n",
    "# Cargue el Stream datos/jaco-todas_las_estaciones.tar.mseed \n",
    "jaco = \n",
    "\n",
    "# Preprocese la señal, recuerde hacer .merge(fill_value=0)\n"
   ]
  },
  {
   "cell_type": "markdown",
   "metadata": {},
   "source": [
    "Antes de proseguir, grafique algunas de las trazas. ¿Corresponden con lo esperado?"
   ]
  },
  {
   "cell_type": "code",
   "execution_count": null,
   "metadata": {},
   "outputs": [],
   "source": [
    "n = 2\n",
    "print(jaco[n].stats)\n",
    "jaco[n].plot()"
   ]
  },
  {
   "cell_type": "markdown",
   "metadata": {},
   "source": [
    "Ahora vamos a intentar resumir la amplitud de la onda en un único valor. Para ello vamos a utilizar un diccionario, que asocia el nombre de cada estación con este valor. \n",
    "\n",
    "Para resumir el valor de la amplitud, simplemente vamos a tomar su valor absoluto y lo vamos a sumar."
   ]
  },
  {
   "cell_type": "code",
   "execution_count": null,
   "metadata": {},
   "outputs": [],
   "source": [
    "amplitud = {}\n",
    "\n",
    "# utilice un for-loop para recorrer todas las estaciones. \n",
    "for estacion in jaco:\n",
    "    # tome el valor absoluto de la señal y súmela\n",
    "    \n",
    "    # Añada el valor al diccionario\n",
    "    \n",
    "    \n",
    "print(amplitud)"
   ]
  },
  {
   "cell_type": "markdown",
   "metadata": {},
   "source": [
    "El epicentro del sismo se localizó a 9.53° de latitud y -84.51° de longitud. En el directorio datos puede encontrar el archivo `ov_stations`, el cual contiene todas las estaciones de la red del OVSICORI. Este es un archivo `csv` que utiliza el espacio en blanco como separador. Lea este archivo y calcule la distancia euclideana entre el epicentro y la posición de cada una de las estaciones. Es conveniente utilizar un diccionario para esta tareas. "
   ]
  },
  {
   "cell_type": "code",
   "execution_count": null,
   "metadata": {},
   "outputs": [],
   "source": [
    "import numpy as np\n",
    "\n",
    "distancias = {}\n",
    "\n",
    "# abra el archivo\n",
    "f = \n",
    "\n",
    "# utilice un for-loop para recorrerlo \n",
    "for line in f:\n",
    "    # utilice split() para separar por espacio en blanco\n",
    "    line = line.split()\n",
    "    # reste la distancia del epicentro a la estación\n",
    "    delta_lat  = 9.53 - float(line[2])\n",
    "    delta_long = -84.51 - float(line[3])\n",
    "    # d = sqrt(x**2 + y**2)\n",
    "    distancias[line[0]] = np.sqrt(np.power(delta_lat, 2) + np.power(delta_long, 2))\n",
    "\n",
    "# Recuerde cerrar el archivo!\n",
    "f.close()   \n",
    "print(distancias)\n"
   ]
  },
  {
   "cell_type": "markdown",
   "metadata": {},
   "source": [
    "Ahora, vamos a crear dos listas. La primera contiene las distancias al epicentro, la segunda la amplitud de la señal. Para ello iteramos sobre el diccionario de amplitud creado previamiente. "
   ]
  },
  {
   "cell_type": "code",
   "execution_count": null,
   "metadata": {},
   "outputs": [],
   "source": [
    "dist = []\n",
    "amp  = []\n",
    "\n",
    "for k,v in amplitud.items():\n",
    "    amp.append(v)\n",
    "    dist.append(distancias[k])\n",
    "    \n",
    "print(dist)\n",
    "print(amp)"
   ]
  },
  {
   "cell_type": "markdown",
   "metadata": {},
   "source": [
    "Ahora, grafique la amplitud en función de la distancia"
   ]
  },
  {
   "cell_type": "code",
   "execution_count": null,
   "metadata": {},
   "outputs": [],
   "source": [
    "plt.scatter(dist, amp)\n",
    "plt.xlabel('Distancia (grados decimales)')\n",
    "plt.ylabel('Desplazamiento total (m)')\n",
    "plt.show()"
   ]
  },
  {
   "cell_type": "markdown",
   "metadata": {},
   "source": [
    "¿No se ve como el patrón más claro del mundo, verdad? Calculemos una línea de tendencia. "
   ]
  },
  {
   "cell_type": "code",
   "execution_count": null,
   "metadata": {},
   "outputs": [],
   "source": [
    "tendencia = np.polyfit(dist, amp, 1)\n",
    "print(tendencia)"
   ]
  },
  {
   "cell_type": "code",
   "execution_count": null,
   "metadata": {},
   "outputs": [],
   "source": [
    "t = np.poly1d(tendencia)\n",
    "x = np.linspace(0,1.75,40)\n",
    "t_y = np.array([t(y) for y in x])\n",
    "\n",
    "plt.scatter(dist, amp)\n",
    "plt.scatter(x, t_y)\n",
    "plt.xlabel('Distancia (grados decimales)')\n",
    "plt.ylabel('Desplazamiento total (m)')\n",
    "plt.show()"
   ]
  }
 ],
 "metadata": {
  "kernelspec": {
   "display_name": "Python 3",
   "language": "python",
   "name": "python3"
  },
  "language_info": {
   "codemirror_mode": {
    "name": "ipython",
    "version": 3
   },
   "file_extension": ".py",
   "mimetype": "text/x-python",
   "name": "python",
   "nbconvert_exporter": "python",
   "pygments_lexer": "ipython3",
   "version": "3.6.0"
  }
 },
 "nbformat": 4,
 "nbformat_minor": 2
}
