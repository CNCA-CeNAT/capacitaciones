{
 "cells": [
  {
   "cell_type": "markdown",
   "metadata": {},
   "source": [
    "# Experimento 2: ruido microsísmico \n",
    "\n",
    "En [Processing seismic ambient noise data to obtain reliable broad-band\n",
    "surface wave dispersion measurements](http://onlinelibrary.wiley.com/doi/10.1111/j.1365-246X.2007.03374.x/abstract), Bensen et al presentan una metodología para hacer inversiones a partir de ruido microsísmico. En este experimento vamos a transformar en código parte de esta metodología, para demostrar que programar es solo una herramienta más en el trabajo de invertigación. \n",
    "\n",
    "La metodología se puede resumir así: \n",
    "\n",
    "- Tome un día de señal de un par de estaciones. \n",
    "- Aplique el preprocesamiento a ambas: de-trend, de-mean, remove_response, filter...\n",
    "- Aplique un «moving average». \n",
    "- Calcule la cross-correlación entre ambas señales. \n",
    "- Sume la cross-correlación. \n",
    "\n",
    "Primero escriba una función que tome el nombre de un archivo, lo abra y preprocese la señal. Retorne solamente `Trace.data`, no el `Stream`. La banda del ruido microsísmico se encuentra entre 7s y 150s, utilice entonces un filtro pasa-banda. "
   ]
  },
  {
   "cell_type": "code",
   "execution_count": 6,
   "metadata": {},
   "outputs": [],
   "source": [
    "import obspy\n",
    "\n",
    "def pre_process(signal_name, resp):\n",
    "    signal = obspy.read(signal_name)\n",
    "    signal.detrend(type='linear')\n",
    "    signal.remove_response(resp, output='DISP', water_level=0)\n",
    "    signal.filter('bandpass', freqmin=1/150, freqmax=1/7)\n",
    "    return signal[0]"
   ]
  },
  {
   "cell_type": "markdown",
   "metadata": {},
   "source": [
    "Para al *moving average*, Bensen et al. recomienda utilizar la mitad del máximo periodo del filtro pasabanda, es decir, 75s. La señal se muestrea a 100 Hz, esto significa que la ventana será $N = 75 \\cdot 100 = 7500$. Para calcular esta operación, utilizaremos la función `cumsum` de Numpy, que calcula la suma acumulativa de un areglo:"
   ]
  },
  {
   "cell_type": "code",
   "execution_count": 4,
   "metadata": {},
   "outputs": [],
   "source": [
    "import numpy as np\n",
    "\n",
    "def moving_average(signal, N):\n",
    "    cumsum = np.cumsum(abs(signal))\n",
    "    signal_mean = (cumsum[N:] - cumsum[:-N]) / float(N)\n",
    "    return signal[N/2:-N/2] / signal_mean"
   ]
  },
  {
   "cell_type": "markdown",
   "metadata": {},
   "source": [
    "Ahora ya tenemos todo lo necesario para estimar la función de Green con ruido microsísmico. Revise el directorio *Home*, ahí debe encontrar un directorio llamado `ruido_microsismico`, donde se encuentra todo el mes de Marzo 2015 de las estaciones VTUN y VTCV (Crater central y Calle Vargas) de la red del OVSICORI. El número de los archivos va desde 0 hasta el 29. \n",
    "\n",
    "Para simplificar el código, escriba una función que tome el nombre de un archivo, se lo pase a `pre_process` y seguidamente calcule el *moving average*. Retorne este arreglo. \n"
   ]
  },
  {
   "cell_type": "code",
   "execution_count": 2,
   "metadata": {},
   "outputs": [],
   "source": [
    "def pre_noise(trace, resp, N):\n",
    "    signal = pre_process(trace, resp)\n",
    "    return moving_average(array, N)"
   ]
  },
  {
   "cell_type": "markdown",
   "metadata": {},
   "source": [
    "Con esta función, abra todos los pares de días de ambas estaciones, y calcule la cross-correlación. Sume la señal al arreglo `green`. Note que solo nos interesa la parte media del arreglo, unos 2000 s alrededor de la mitad."
   ]
  },
  {
   "cell_type": "code",
   "execution_count": 13,
   "metadata": {},
   "outputs": [
    {
     "ename": "TypeError",
     "evalue": "filter() takes 2 positional arguments but 4 were given",
     "output_type": "error",
     "traceback": [
      "\u001b[0;31m---------------------------------------------------------------------------\u001b[0m",
      "\u001b[0;31mTypeError\u001b[0m                                 Traceback (most recent call last)",
      "\u001b[0;32m<ipython-input-13-67f234cdc5c8>\u001b[0m in \u001b[0;36m<module>\u001b[0;34m()\u001b[0m\n\u001b[1;32m     11\u001b[0m \u001b[0;34m\u001b[0m\u001b[0m\n\u001b[1;32m     12\u001b[0m \u001b[0;32mfor\u001b[0m \u001b[0mi\u001b[0m \u001b[0;32min\u001b[0m \u001b[0mrange\u001b[0m\u001b[0;34m(\u001b[0m\u001b[0;36m1\u001b[0m\u001b[0;34m)\u001b[0m\u001b[0;34m:\u001b[0m\u001b[0;34m\u001b[0m\u001b[0m\n\u001b[0;32m---> 13\u001b[0;31m     \u001b[0msignal1\u001b[0m \u001b[0;34m=\u001b[0m \u001b[0mpre_noise\u001b[0m\u001b[0;34m(\u001b[0m\u001b[0;34m'/home/gmocornejos/ruido_microsismico/Turrialba-Calle_Vargas_%d.tar.mseed'\u001b[0m\u001b[0;34m%\u001b[0m\u001b[0mi\u001b[0m\u001b[0;34m,\u001b[0m \u001b[0minv\u001b[0m\u001b[0;34m,\u001b[0m \u001b[0mN\u001b[0m\u001b[0;34m)\u001b[0m\u001b[0;34m\u001b[0m\u001b[0m\n\u001b[0m\u001b[1;32m     14\u001b[0m     \u001b[0mplt\u001b[0m\u001b[0;34m.\u001b[0m\u001b[0mplot\u001b[0m\u001b[0;34m(\u001b[0m\u001b[0msignal1\u001b[0m\u001b[0;34m)\u001b[0m\u001b[0;34m\u001b[0m\u001b[0m\n\u001b[1;32m     15\u001b[0m     \u001b[0mplt\u001b[0m\u001b[0;34m.\u001b[0m\u001b[0mshow\u001b[0m\u001b[0;34m(\u001b[0m\u001b[0;34m)\u001b[0m\u001b[0;34m\u001b[0m\u001b[0m\n",
      "\u001b[0;32m<ipython-input-2-bf0c3d41b2f3>\u001b[0m in \u001b[0;36mpre_noise\u001b[0;34m(trace, resp, N)\u001b[0m\n\u001b[1;32m      1\u001b[0m \u001b[0;32mdef\u001b[0m \u001b[0mpre_noise\u001b[0m\u001b[0;34m(\u001b[0m\u001b[0mtrace\u001b[0m\u001b[0;34m,\u001b[0m \u001b[0mresp\u001b[0m\u001b[0;34m,\u001b[0m \u001b[0mN\u001b[0m\u001b[0;34m)\u001b[0m\u001b[0;34m:\u001b[0m\u001b[0;34m\u001b[0m\u001b[0m\n\u001b[0;32m----> 2\u001b[0;31m     \u001b[0msignal\u001b[0m \u001b[0;34m=\u001b[0m \u001b[0mpre_process\u001b[0m\u001b[0;34m(\u001b[0m\u001b[0mtrace\u001b[0m\u001b[0;34m,\u001b[0m \u001b[0mresp\u001b[0m\u001b[0;34m)\u001b[0m\u001b[0;34m\u001b[0m\u001b[0m\n\u001b[0m\u001b[1;32m      3\u001b[0m     \u001b[0;32mreturn\u001b[0m \u001b[0mmoving_average\u001b[0m\u001b[0;34m(\u001b[0m\u001b[0marray\u001b[0m\u001b[0;34m,\u001b[0m \u001b[0mN\u001b[0m\u001b[0;34m)\u001b[0m\u001b[0;34m\u001b[0m\u001b[0m\n",
      "\u001b[0;32m<ipython-input-6-a153b9b4f425>\u001b[0m in \u001b[0;36mpre_process\u001b[0;34m(signal_name, resp)\u001b[0m\n\u001b[1;32m      5\u001b[0m     \u001b[0msignal\u001b[0m\u001b[0;34m.\u001b[0m\u001b[0mdetrend\u001b[0m\u001b[0;34m(\u001b[0m\u001b[0mtype\u001b[0m\u001b[0;34m=\u001b[0m\u001b[0;34m'linear'\u001b[0m\u001b[0;34m)\u001b[0m\u001b[0;34m\u001b[0m\u001b[0m\n\u001b[1;32m      6\u001b[0m     \u001b[0msignal\u001b[0m\u001b[0;34m.\u001b[0m\u001b[0mremove_response\u001b[0m\u001b[0;34m(\u001b[0m\u001b[0mresp\u001b[0m\u001b[0;34m,\u001b[0m \u001b[0moutput\u001b[0m\u001b[0;34m=\u001b[0m\u001b[0;34m'DISP'\u001b[0m\u001b[0;34m,\u001b[0m \u001b[0mwater_level\u001b[0m\u001b[0;34m=\u001b[0m\u001b[0;36m0\u001b[0m\u001b[0;34m)\u001b[0m\u001b[0;34m\u001b[0m\u001b[0m\n\u001b[0;32m----> 7\u001b[0;31m     \u001b[0msignal\u001b[0m\u001b[0;34m.\u001b[0m\u001b[0mfilter\u001b[0m\u001b[0;34m(\u001b[0m\u001b[0;34m'bandpass'\u001b[0m\u001b[0;34m,\u001b[0m \u001b[0;36m1\u001b[0m\u001b[0;34m/\u001b[0m\u001b[0;36m150\u001b[0m\u001b[0;34m,\u001b[0m \u001b[0;36m1\u001b[0m\u001b[0;34m/\u001b[0m\u001b[0;36m7\u001b[0m\u001b[0;34m)\u001b[0m\u001b[0;34m\u001b[0m\u001b[0m\n\u001b[0m\u001b[1;32m      8\u001b[0m     \u001b[0;32mreturn\u001b[0m \u001b[0msignal\u001b[0m\u001b[0;34m[\u001b[0m\u001b[0;36m0\u001b[0m\u001b[0;34m]\u001b[0m\u001b[0;34m\u001b[0m\u001b[0m\n",
      "\u001b[0;31mTypeError\u001b[0m: filter() takes 2 positional arguments but 4 were given"
     ]
    }
   ],
   "source": [
    "import matplotlib.pyplot as plt \n",
    "\n",
    "# tamaño del arreglo para la función de green 2000s a 100 Hz\n",
    "w = 2000 * 100\n",
    "green = np.zeros(w)\n",
    "\n",
    "N = 7500 # Tamaño de la ventana para el moving_average \n",
    "\n",
    "# Inventario para eliminar la respuesta del instrumento. \n",
    "inv = obspy.read_inventory('/home/gmocornejos/ruido_microsismico/OV_resp_all.dataless')\n",
    "\n",
    "for i in range(1):\n",
    "    signal1 = pre_noise('/home/gmocornejos/ruido_microsismico/Turrialba-Calle_Vargas_%d.tar.mseed'%i, inv, N)\n",
    "    signal2 = pre_noise('/home/gmocornejos/ruido_microsismico/Turrialba-Crater_central_%d.tar.mseed'%i, inv, N)\n",
    "    cross = numpy.correlate(signal1, signal2, mode='same')[source]\n",
    "    mid = int(len(cross)/2)\n",
    "    green += cross[mid-w/2:mid+w/2]"
   ]
  }
 ],
 "metadata": {
  "kernelspec": {
   "display_name": "Python 3",
   "language": "python",
   "name": "python3"
  },
  "language_info": {
   "codemirror_mode": {
    "name": "ipython",
    "version": 3
   },
   "file_extension": ".py",
   "mimetype": "text/x-python",
   "name": "python",
   "nbconvert_exporter": "python",
   "pygments_lexer": "ipython3",
   "version": "3.6.0"
  }
 },
 "nbformat": 4,
 "nbformat_minor": 2
}
