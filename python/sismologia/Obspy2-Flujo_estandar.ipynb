{
 "cells": [
  {
   "cell_type": "markdown",
   "metadata": {},
   "source": [
    "# Flujo estándar\n",
    "\n",
    "Cada vez que se desea trabajar con las señales de los sismómetros, se debe aplicar una serie de operaciones. En procesamiento digital de señales, esto se conoce como pre-procesamiento. Tiene como fin de ajustar las señales a los requerimientos del sistema, separar la información relevante del resto, disminuir el ruído, entre otras. \n",
    "\n",
    "Lo pasos básicos son:\n",
    "\n",
    "- Ajustar el `sample rate` de todos los `traces` al mismo valor. En general es útil si se van a aplicar operaciones entre ellos, por ejemplo, calcular una cross-correlación. \n",
    "- Solucionar los *huecos* con operaciones `.merge()`.\n",
    "- Ajustar la longitud de la señal con `.trim()`.\n",
    "- Remover la línea de tendencia con `.detrend()`.\n",
    "- Remover la respuesta del instrumento con `.remove_response()`. En Obspy, esta función puede tambien remover la media. \n",
    "- Filtrar la señal a la banda deseada utilizando `.filter()`. \n",
    "\n",
    "El siguiente código aplica los pasos necesarios del flujo a la señal del sismómetro de Jacó:"
   ]
  },
  {
   "cell_type": "code",
   "execution_count": null,
   "metadata": {},
   "outputs": [],
   "source": [
    "import obspy \n",
    "\n",
    "# Carga la señal a memoria\n",
    "jaco_wave = obspy.read('datos/jaco-solo_jaco.tar.mseed')\n",
    "jaco_wave.merge()\n",
    "\n",
    "# Remueve la línea de tendencia\n",
    "jaco_wave.detrend(type='linear')\n",
    "\n",
    "# Carga el archivo con la respuesta del instrumento\n",
    "resp = obspy.read_inventory('datos/jaco-solo_jaco.dataless')\n",
    "# Remueve la respuesta del instrumento. Retorna el DESPlazamiento\n",
    "jaco_wave.remove_response(inventory=resp, output='DISP', water_level=0)\n",
    "\n",
    "# aplica un filtro paso-bajos a la señal, con frecuencia de corte 0.20 Hz\n",
    "jaco_wave.filter('lowpass', freq=0.1)\n",
    "jaco_wave.plot() "
   ]
  },
  {
   "cell_type": "markdown",
   "metadata": {},
   "source": [
    "### Ejercicio\n",
    "\n",
    "Escriba una functión llamda `pre_process` que tome un objeto `Trace` y un objeto `Inventory` y aplique el pre-procesamiento típico. Añada un argumento `key-value` para la frecuencia de corte del filtro paso bajo. Utilice la función para procesar de nuevo la señal del sismómetro de Jacó. "
   ]
  },
  {
   "cell_type": "code",
   "execution_count": 1,
   "metadata": {},
   "outputs": [],
   "source": [
    "def pre_process(signal, inventario, freq=0.1):\n",
    "    signal.merge()\n",
    "    signal.detrend(type='linear')\n",
    "    signal.remove_response(inventory=inventario, output='DISP', water_level=0)\n",
    "    signal.filter('lowpass', freq=freq)\n",
    "    return signal"
   ]
  },
  {
   "cell_type": "markdown",
   "metadata": {},
   "source": [
    "# Análisis en frecuencia\n",
    "\n",
    "Analizar las señales en el dominio de la frecuencia es una actividad muy común. Obspy incluye el método `.spectrogram()`, que grafica el espectrograma de la señal. Esto es, una representación en tiempo y frecuencia de la señal. Puede encontrar la documentación de la función [aquí](https://docs.obspy.org/packages/autogen/obspy.imaging.spectrogram.spectrogram.html#obspy.imaging.spectrogram.spectrogram)."
   ]
  },
  {
   "cell_type": "code",
   "execution_count": null,
   "metadata": {},
   "outputs": [],
   "source": [
    "# Preprocesar la señal con un filtro poco discriminante\n",
    "\n",
    "jaco_wave = obspy.read('datos/jaco-solo_jaco.tar.mseed')\n",
    "resp = obspy.read_inventory('datos/jaco-solo_jaco.dataless')\n",
    "\n",
    "#jaco_wave = pre_process(jaco_wave, resp, freq=25)\n",
    "\n",
    "jaco_wave.spectrogram()"
   ]
  },
  {
   "cell_type": "markdown",
   "metadata": {},
   "source": [
    "La función `.spectrogram()` es útil para darse una idea rápida de la señal. Sin embargo, si queremos aplicar nuestros propios análisis, debemos utilizar Numpy junto con Matplotlib. Por ejemplo, podemos calcular la Tansformada de Fourier del sismo y observar con más detalle como se distribuye en la frecuencia:"
   ]
  },
  {
   "cell_type": "code",
   "execution_count": null,
   "metadata": {},
   "outputs": [],
   "source": [
    "import numpy as np\n",
    "import matplotlib.pyplot as plt\n",
    "\n",
    "jaco_fft = np.fft.rfft(jaco_wave[0].data)\n",
    "print(jaco_fft)\n",
    "freq = np.array([i * jaco_wave[0].stats['sampling_rate'] / len(jaco_fft) for i in range(len(jaco_fft))])\n",
    "plt.semilogx(freq, np.absolute(jaco_fft))\n",
    "plt.xlabel('Frecuencia (Hz)')\n",
    "plt.ylabel('Potencia espectral')\n",
    "\n",
    "plt.show()"
   ]
  },
  {
   "cell_type": "markdown",
   "metadata": {},
   "source": [
    "¡Aparecen cosas interesantes! Por ejemplo:\n",
    "\n",
    "- La mayor parte de la energía de la señal está en las frecuencias bajas.\n",
    "- La señal parece estar compuesta de armónicos. \n",
    "- La razón señal a ruido empeora al aumentar la frecuencia.\n",
    "\n",
    "Además, parece ser una señal compuesta por funciones simples. Un seno para la oscilación, una exponencial negativa para hacer decaer la amplitud y una recta. ¿Qué tal ajustar la curva por inspección? "
   ]
  },
  {
   "cell_type": "code",
   "execution_count": null,
   "metadata": {},
   "outputs": [],
   "source": [
    "# Curva original\n",
    "plt.semilogx(freq, np.absolute(jaco_fft))\n",
    "plt.xlabel('Frecuencia (Hz)')\n",
    "plt.ylabel('Potencia espectral')\n",
    "\n",
    "# Por inspección\n",
    "match = (1e10 * np.sin(45*freq) + 1e10 - 0.4e10 * freq) * np.exp(-0.7*freq)\n",
    "plt.semilogx(freq, match)\n",
    "\n",
    "plt.show()"
   ]
  },
  {
   "cell_type": "markdown",
   "metadata": {},
   "source": [
    "Pasando de la frecuencia al tiempo:\n",
    "\n",
    "- Un exponencial sigue siendo un exponencial.\n",
    "- El seno es un impulso. \n",
    "- La recta es una función paso.\n",
    "\n",
    "Este *tanteo* en la frecuencia nos dice que en el tiempo, la señal la produce algo parecido a una explosión. "
   ]
  },
  {
   "cell_type": "markdown",
   "metadata": {},
   "source": [
    "# Transformada Wavelet continua\n",
    "\n",
    "El espectrograma nos permite visualizar como cambia el espectro de la señal en el tiempo. En ese sentido, la transformada wavelet nos permite hacer lo mismo, sin embargo, esta tiene mejor resolución espacial y temporal. \n",
    "El código a continuación calcula la transformada wavelet del sismo de Jacó. "
   ]
  },
  {
   "cell_type": "code",
   "execution_count": 3,
   "metadata": {},
   "outputs": [
    {
     "data": {
      "image/png": "[encoded data removed]",
      "text/plain": [
       "<matplotlib.figure.Figure at 0x7f35dc90d048>"
      ]
     },
     "metadata": {},
     "output_type": "display_data"
    },
    {
     "data": {
      "image/png": "[encoded data removed]",
      "text/plain": [
       "<matplotlib.figure.Figure at 0x7f35da0cef98>"
      ]
     },
     "metadata": {},
     "output_type": "display_data"
    }
   ],
   "source": [
    "import obspy\n",
    "from scipy import signal\n",
    "import matplotlib.pyplot as plt \n",
    "import numpy as np \n",
    "\n",
    "jaco_wave = obspy.read('datos/jaco-solo_jaco.tar.mseed')\n",
    "resp = obspy.read_inventory('datos/jaco-solo_jaco.dataless')\n",
    "\n",
    "jaco_wave = pre_process(jaco_wave, resp, freq=25) \n",
    "plt.plot(np.linspace(0,660, len(jaco_wave[0].data)), jaco_wave[0].data)\n",
    "plt.xlabel('Tiempo (s)')\n",
    "plt.ylabel('Desplazamiento (m)')\n",
    "plt.show()\n",
    "\n",
    "niveles = np.arange(1,100)\n",
    "jaco_cwt = signal.cwt(jaco_wave[0].data, signal.ricker, niveles)\n",
    "plt.imshow(jaco_cwt, aspect='auto', extent=[0,660,99,0], cmap='seismic', vmax=abs(jaco_cwt).max(), vmin=-abs(jaco_cwt).max())\n",
    "plt.xlabel('Tiempo (s)')\n",
    "plt.ylabel('Nivel (proporcional a la frecuencia)')\n",
    "plt.show()"
   ]
  },
  {
   "cell_type": "markdown",
   "metadata": {},
   "source": [
    "Observe ese evento alrededor de los $340 s$. También se puede observar en la transformada wavelet. Casi no tiene *componentes* de alta frecuencia ¿Será una réplica? \n",
    "\n",
    "Este tipo de análisis en tiempo-frecuencias es muy fácil de hacer utilizando la transformada wavelet. "
   ]
  }
 ],
 "metadata": {
  "kernelspec": {
   "display_name": "Python 3",
   "language": "python",
   "name": "python3"
  },
  "language_info": {
   "codemirror_mode": {
    "name": "ipython",
    "version": 3
   },
   "file_extension": ".py",
   "mimetype": "text/x-python",
   "name": "python",
   "nbconvert_exporter": "python",
   "pygments_lexer": "ipython3",
   "version": "3.6.0"
  }
 },
 "nbformat": 4,
 "nbformat_minor": 2
}
