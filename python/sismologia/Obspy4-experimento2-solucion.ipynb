{
 "cells": [
  {
   "cell_type": "markdown",
   "metadata": {},
   "source": [
    "# Experimento 2: ruido microsísmico \n",
    "\n",
    "En [Processing seismic ambient noise data to obtain reliable broad-band\n",
    "surface wave dispersion measurements](http://onlinelibrary.wiley.com/doi/10.1111/j.1365-246X.2007.03374.x/abstract), Bensen et al presentan una metodología para hacer inversiones a partir de ruido microsísmico. En este experimento vamos a transformar en código parte de esta metodología, para demostrar que programar es solo una herramienta más en el trabajo de invertigación. \n",
    "\n",
    "La metodología se puede resumir así: \n",
    "\n",
    "- Tome un día de señal de un par de estaciones. \n",
    "- Aplique el preprocesamiento a ambas: de-trend, de-mean, remove_response, filter...\n",
    "- Aplique un «moving average». \n",
    "- Calcule la cross-correlación entre ambas señales. \n",
    "- Sume la cross-correlación. \n",
    "\n",
    "Primero escriba una función que tome el nombre de un archivo, lo abra y preprocese la señal. Retorne solamente `Trace.data`, no el `Stream`. La banda del ruido microsísmico se encuentra entre 7s y 150s, utilice entonces un filtro pasa-banda. "
   ]
  },
  {
   "cell_type": "code",
   "execution_count": null,
   "metadata": {},
   "outputs": [],
   "source": [
    "import obspy\n",
    "\n",
    "def pre_process(signal_name, resp):\n",
    "    signal = obspy.read(signal_name)\n",
    "    signal.merge()\n",
    "    signal.detrend(type='linear')\n",
    "    signal.remove_response(resp, output='DISP', water_level=0)\n",
    "    signal.filter('bandpass', freqmin=1/150, freqmax=1/7)\n",
    "    return signal[0].data"
   ]
  },
  {
   "cell_type": "markdown",
   "metadata": {},
   "source": [
    "Para al *moving average*, Bensen et al. recomienda utilizar la mitad del máximo periodo del filtro pasabanda, es decir, 75s. La señal se muestrea a 100 Hz, esto significa que la ventana será $N = 75 \\cdot 100 = 7500$. Para calcular esta operación, utilizaremos la función `cumsum` de Numpy, que calcula la suma acumulativa de un areglo:"
   ]
  },
  {
   "cell_type": "code",
   "execution_count": null,
   "metadata": {},
   "outputs": [],
   "source": [
    "import numpy as np\n",
    "\n",
    "def moving_average(signal, N):\n",
    "    cumsum = np.cumsum(abs(signal))\n",
    "    signal_mean = (cumsum[N:] - cumsum[:-N]) / float(N)\n",
    "    return signal[N//2:-N//2] / signal_mean"
   ]
  },
  {
   "cell_type": "markdown",
   "metadata": {},
   "source": [
    "Ahora ya tenemos todo lo necesario para estimar la función de Green con ruido microsísmico. Revise el directorio *Home*, ahí debe encontrar un directorio llamado `ruido_microsismico`, donde se encuentra todo el mes de Marzo 2015 de las estaciones VTUN y VTCV (Crater central y Calle Vargas) de la red del OVSICORI. El número de los archivos va desde 0 hasta el 29. \n",
    "\n",
    "Para simplificar el código, escriba una función que tome el nombre de un archivo, se lo pase a `pre_process` y seguidamente calcule el *moving average*. Retorne este arreglo. \n"
   ]
  },
  {
   "cell_type": "code",
   "execution_count": null,
   "metadata": {},
   "outputs": [],
   "source": [
    "def pre_noise(trace, resp, N):\n",
    "    signal = pre_process(trace, resp)\n",
    "    return moving_average(signal, N)"
   ]
  },
  {
   "cell_type": "markdown",
   "metadata": {},
   "source": [
    "Con esta función, abra todos los pares de días de ambas estaciones, y calcule la cross-correlación. Sume la señal al arreglo `green`. Note que solo nos interesa la parte media del arreglo, unos 2000 s alrededor de la mitad."
   ]
  },
  {
   "cell_type": "code",
   "execution_count": null,
   "metadata": {},
   "outputs": [],
   "source": [
    "# tamaño del arreglo para la función de green 2000s a 100 Hz\n",
    "w = 2000 * 100\n",
    "green = np.zeros(w)\n",
    "\n",
    "N = 7500 # Tamaño de la ventana para el moving_average \n",
    "\n",
    "# Inventario para eliminar la respuesta del instrumento. \n",
    "inv = obspy.read_inventory('/home/gmocornejos/ruido_microsismico/OV_resp_all.dataless')\n",
    "\n",
    "for i in range(29):\n",
    "    signal1 = pre_noise('/home/gmocornejos/ruido_microsismico/Turrialba-Calle_Vargas_%d.tar.mseed'%i, inv, N)\n",
    "    signal2 = pre_noise('/home/gmocornejos/ruido_microsismico/Turrialba-Crater_central_%d.tar.mseed'%i, inv, N)\n",
    "    cross = np.correlate(signal1, signal2, mode='same')\n",
    "    mid = int(len(cross)/2)\n",
    "    green += cross[mid-w//2:mid+w//2]"
   ]
  },
  {
   "cell_type": "code",
   "execution_count": null,
   "metadata": {},
   "outputs": [],
   "source": [
    "import matplotlib.pyplot as plt \n",
    "\n",
    "plt.plot(green)\n",
    "plt.show()"
   ]
  }
 ],
 "metadata": {
  "kernelspec": {
   "display_name": "Python 3",
   "language": "python",
   "name": "python3"
  },
  "language_info": {
   "codemirror_mode": {
    "name": "ipython",
    "version": 3
   },
   "file_extension": ".py",
   "mimetype": "text/x-python",
   "name": "python",
   "nbconvert_exporter": "python",
   "pygments_lexer": "ipython3",
   "version": "3.6.0"
  }
 },
 "nbformat": 4,
 "nbformat_minor": 2
}
