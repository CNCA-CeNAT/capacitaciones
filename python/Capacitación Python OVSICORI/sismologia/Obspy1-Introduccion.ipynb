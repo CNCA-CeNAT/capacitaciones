{
 "cells": [
  {
   "cell_type": "markdown",
   "metadata": {},
   "source": [
    "![obspy logo](img/obspy-logo.png)\n",
    "\n",
    "# Introducción\n",
    "\n",
    "ObsPy es un módulo para Python que facilita procesar datos sismológicos. Provee rutinas para cargar archivos, descargarlos de respositorios y procesar las señales. Con él, vamos a poder desarrollar rápida y facilmente nuestros propios programas. \n",
    "\n",
    "Toda la documentación relacionada con el proyecto la podemos encontrar en este [enlace](http://docs.obspy.org/).\n",
    "\n",
    "Como todo módulo, para poder usarlo primero debemos importarlo. "
   ]
  },
  {
   "cell_type": "code",
   "execution_count": 1,
   "metadata": {},
   "outputs": [],
   "source": [
    "import obspy"
   ]
  },
  {
   "cell_type": "markdown",
   "metadata": {},
   "source": [
    "Hay dos formas de cargar un sismograma a memoria. Puede que ya lo tengamos local, entonces es como leer cualquier otro archivo. O bien, podemos utilizar las funciones de Obspy para descargarlo desde algún repositorio, como IRIS. \n",
    "\n",
    "Intentemos primero accederlo vía web. Vamos a utilzar de ejemplo el sismo de Jacó de hace unos días. Podemos utilizar [Wilber](http://ds.iris.edu/wilber3/find_event) para encontra el evento. De cualquier manera, los parámetros son:"
   ]
  },
  {
   "cell_type": "raw",
   "metadata": {},
   "source": [
    "#EventID |      Time         | Latitude | Longitude | Depth/km | Author | Catalog | Contributor | \n",
    "10485770 |2017-11-13T02:28:24|  9.5264  | -84.5054  |  19.79   |at,pt,us| NEIC PDE|       us    |\n",
    "-------------------------------------------------------------------------------------------------\n",
    "ContributorID                   | MagType | Magnitude | MagAuthor | EventLocationName\n",
    "us2000bmhe,at00ozc47b,pt17317000|   mww   |    6.5    |     us    | COSTA RICA"
   ]
  },
  {
   "cell_type": "markdown",
   "metadata": {},
   "source": [
    "Ahora vamos a utilizar esta información para descargar la forma de onda de la estación `JACO` 1 minuto antes del evento y 10 minutos después. Primero debemos crear un *cliente*. Seguidamente, vamos a utilizar el método `get_waveforms` para descargar la componente vertical de la onda. Puede encontrar más información del métido [aquí](https://docs.obspy.org/packages/autogen/obspy.clients.fdsn.client.Client.get_waveforms.html#obspy.clients.fdsn.client.Client.get_waveforms). "
   ]
  },
  {
   "cell_type": "code",
   "execution_count": 2,
   "metadata": {},
   "outputs": [],
   "source": [
    "import obspy.clients.fdsn as fdsn\n",
    "client = fdsn.Client('IRIS')\n",
    "\n",
    "# defino el momento del evento y el inicio y fin de la onda. \n",
    "event_time = obspy.UTCDateTime('20171113022824')\n",
    "start_time = event_time - 60\n",
    "end_time   = event_time + 60*10\n",
    "\n",
    "# Utilizo el cliente para obtener la onda\n",
    "jaco = client.get_waveforms('OV', 'JACO', '*', 'HHZ', start_time, end_time, attach_response=True)"
   ]
  },
  {
   "cell_type": "code",
   "execution_count": 3,
   "metadata": {},
   "outputs": [
    {
     "data": {
      "image/png": "[encoded data removed]",
      "text/plain": [
       "<matplotlib.figure.Figure at 0x7f478fa1cc88>"
      ]
     },
     "metadata": {},
     "output_type": "display_data"
    }
   ],
   "source": [
    "jaco.plot()"
   ]
  },
  {
   "cell_type": "markdown",
   "metadata": {},
   "source": [
    "Note el último parámetro del método, `attach_response`, con esto le pedimos al servidor que nos envíe también la información necesaria para eliminar la respuesta del instrumento. Esto lo haremos más tarde.\n",
    "\n",
    "### Ejercicio \n",
    "\n",
    "Seleccione alguna otra estación de la red del OVSICORI y visualize el evento. Solo requiere cambiar el parámetro `JACO` en el método anterior. Puede encontrar la lista completa de estaciones [aquí](http://www.ovsicori.una.ac.cr/index.php/sismologia/mapa-estaciones). También puede modificar cual componente de la onda quiere observar o incluso la red. El código de red de la RSN es `TC`, [aquí](http://rsn.ucr.ac.cr/rsn/doi) puede encontrar la lista de estaciones. "
   ]
  },
  {
   "cell_type": "code",
   "execution_count": 5,
   "metadata": {},
   "outputs": [
    {
     "ename": "FDSNNoDataException",
     "evalue": "No data available for request.\nDetailed response of server:\n\n",
     "output_type": "error",
     "traceback": [
      "\u001b[0;31m---------------------------------------------------------------------------\u001b[0m",
      "\u001b[0;31mFDSNNoDataException\u001b[0m                       Traceback (most recent call last)",
      "\u001b[0;32m<ipython-input-5-b4c6bd5d4f6d>\u001b[0m in \u001b[0;36m<module>\u001b[0;34m()\u001b[0m\n\u001b[0;32m----> 1\u001b[0;31m \u001b[0mwave\u001b[0m \u001b[0;34m=\u001b[0m \u001b[0mclient\u001b[0m\u001b[0;34m.\u001b[0m\u001b[0mget_waveforms\u001b[0m\u001b[0;34m(\u001b[0m\u001b[0;34m'?'\u001b[0m\u001b[0;34m,\u001b[0m \u001b[0;34m'PAS'\u001b[0m\u001b[0;34m,\u001b[0m \u001b[0;34m'*'\u001b[0m\u001b[0;34m,\u001b[0m \u001b[0;34m'HHZ'\u001b[0m\u001b[0;34m,\u001b[0m \u001b[0mstart_time\u001b[0m\u001b[0;34m,\u001b[0m \u001b[0mend_time\u001b[0m\u001b[0;34m,\u001b[0m \u001b[0mattach_response\u001b[0m\u001b[0;34m=\u001b[0m\u001b[0;32mTrue\u001b[0m\u001b[0;34m)\u001b[0m\u001b[0;34m\u001b[0m\u001b[0m\n\u001b[0m\u001b[1;32m      2\u001b[0m \u001b[0mwave\u001b[0m\u001b[0;34m.\u001b[0m\u001b[0mplot\u001b[0m\u001b[0;34m(\u001b[0m\u001b[0;34m)\u001b[0m\u001b[0;34m\u001b[0m\u001b[0m\n",
      "\u001b[0;32m/usr/local/lib/python3.6/site-packages/obspy/clients/fdsn/client.py\u001b[0m in \u001b[0;36mget_waveforms\u001b[0;34m(self, network, station, location, channel, starttime, endtime, quality, minimumlength, longestonly, filename, attach_response, **kwargs)\u001b[0m\n\u001b[1;32m    828\u001b[0m         \u001b[0;31m# Gzip not worth it for MiniSEED and most likely disabled for this\u001b[0m\u001b[0;34m\u001b[0m\u001b[0;34m\u001b[0m\u001b[0m\n\u001b[1;32m    829\u001b[0m         \u001b[0;31m# route in any case.\u001b[0m\u001b[0;34m\u001b[0m\u001b[0;34m\u001b[0m\u001b[0m\n\u001b[0;32m--> 830\u001b[0;31m         \u001b[0mdata_stream\u001b[0m \u001b[0;34m=\u001b[0m \u001b[0mself\u001b[0m\u001b[0;34m.\u001b[0m\u001b[0m_download\u001b[0m\u001b[0;34m(\u001b[0m\u001b[0murl\u001b[0m\u001b[0;34m,\u001b[0m \u001b[0muse_gzip\u001b[0m\u001b[0;34m=\u001b[0m\u001b[0;32mFalse\u001b[0m\u001b[0;34m)\u001b[0m\u001b[0;34m\u001b[0m\u001b[0m\n\u001b[0m\u001b[1;32m    831\u001b[0m         \u001b[0mdata_stream\u001b[0m\u001b[0;34m.\u001b[0m\u001b[0mseek\u001b[0m\u001b[0;34m(\u001b[0m\u001b[0;36m0\u001b[0m\u001b[0;34m,\u001b[0m \u001b[0;36m0\u001b[0m\u001b[0;34m)\u001b[0m\u001b[0;34m\u001b[0m\u001b[0m\n\u001b[1;32m    832\u001b[0m         \u001b[0;32mif\u001b[0m \u001b[0mfilename\u001b[0m\u001b[0;34m:\u001b[0m\u001b[0;34m\u001b[0m\u001b[0m\n",
      "\u001b[0;32m/usr/local/lib/python3.6/site-packages/obspy/clients/fdsn/client.py\u001b[0m in \u001b[0;36m_download\u001b[0;34m(self, url, return_string, data, use_gzip)\u001b[0m\n\u001b[1;32m   1380\u001b[0m             \u001b[0mdebug\u001b[0m\u001b[0;34m=\u001b[0m\u001b[0mself\u001b[0m\u001b[0;34m.\u001b[0m\u001b[0mdebug\u001b[0m\u001b[0;34m,\u001b[0m \u001b[0mreturn_string\u001b[0m\u001b[0;34m=\u001b[0m\u001b[0mreturn_string\u001b[0m\u001b[0;34m,\u001b[0m \u001b[0mdata\u001b[0m\u001b[0;34m=\u001b[0m\u001b[0mdata\u001b[0m\u001b[0;34m,\u001b[0m\u001b[0;34m\u001b[0m\u001b[0m\n\u001b[1;32m   1381\u001b[0m             timeout=self.timeout, use_gzip=use_gzip)\n\u001b[0;32m-> 1382\u001b[0;31m         \u001b[0mraise_on_error\u001b[0m\u001b[0;34m(\u001b[0m\u001b[0mcode\u001b[0m\u001b[0;34m,\u001b[0m \u001b[0mdata\u001b[0m\u001b[0;34m)\u001b[0m\u001b[0;34m\u001b[0m\u001b[0m\n\u001b[0m\u001b[1;32m   1383\u001b[0m         \u001b[0;32mreturn\u001b[0m \u001b[0mdata\u001b[0m\u001b[0;34m\u001b[0m\u001b[0m\n\u001b[1;32m   1384\u001b[0m \u001b[0;34m\u001b[0m\u001b[0m\n",
      "\u001b[0;32m/usr/local/lib/python3.6/site-packages/obspy/clients/fdsn/client.py\u001b[0m in \u001b[0;36mraise_on_error\u001b[0;34m(code, data)\u001b[0m\n\u001b[1;32m   1704\u001b[0m     \u001b[0;32mif\u001b[0m \u001b[0mcode\u001b[0m \u001b[0;34m==\u001b[0m \u001b[0;36m204\u001b[0m\u001b[0;34m:\u001b[0m\u001b[0;34m\u001b[0m\u001b[0m\n\u001b[1;32m   1705\u001b[0m         raise FDSNNoDataException(\"No data available for request.\",\n\u001b[0;32m-> 1706\u001b[0;31m                                   server_info)\n\u001b[0m\u001b[1;32m   1707\u001b[0m     \u001b[0;32melif\u001b[0m \u001b[0mcode\u001b[0m \u001b[0;34m==\u001b[0m \u001b[0;36m400\u001b[0m\u001b[0;34m:\u001b[0m\u001b[0;34m\u001b[0m\u001b[0m\n\u001b[1;32m   1708\u001b[0m         msg = (\"Bad request. If you think your request was valid \"\n",
      "\u001b[0;31mFDSNNoDataException\u001b[0m: No data available for request.\nDetailed response of server:\n\n"
     ]
    }
   ],
   "source": [
    "wave = client.get_waveforms('?', 'PAS', '*', 'HHZ', start_time, end_time, attach_response=True)\n",
    "wave.plot()"
   ]
  },
  {
   "cell_type": "markdown",
   "metadata": {},
   "source": [
    "Ahora, vamos a repetir el procedimiento, pero con datos locales. En este mismo directorio debería encontrar un directorio llamado `datos`. Ahí puede encontrar el archivo `jaco-solo_jaco.tar.mseed`. Es la forma de onda del mismo evento en formato mini-seed. Podemos cargarla con el siguiente código:"
   ]
  },
  {
   "cell_type": "code",
   "execution_count": 6,
   "metadata": {},
   "outputs": [
    {
     "data": {
      "image/png": "[encoded data removed]",
      "text/plain": [
       "<matplotlib.figure.Figure at 0x7f478fa944e0>"
      ]
     },
     "metadata": {},
     "output_type": "display_data"
    }
   ],
   "source": [
    "jaco = obspy.read('datos/jaco-solo_jaco.tar.mseed')\n",
    "jaco.plot()"
   ]
  },
  {
   "cell_type": "markdown",
   "metadata": {},
   "source": [
    "## Conversión de formatos\n",
    "\n",
    "Existen ya muchos programas para trabajar las señales de los sismómetros. En general, queremos usarlos tanto como podamos. Es común que las señales estén almacenadas en un formato, pero el programa las consuma en otro. Obspy nos puede ayudar a pasar de un formato a otro. Para ello utilizamos las funciones [read()](https://docs.obspy.org/packages/autogen/obspy.core.stream.read.html) y [write()](https://docs.obspy.org/packages/autogen/obspy.core.stream.Stream.write.html). \n",
    "\n",
    "### Ejercicio\n",
    "\n",
    "Abra el archivo `jaco-solo_jaco.tar.mseed` y guárdelo en formato `SAC`. "
   ]
  },
  {
   "cell_type": "code",
   "execution_count": 7,
   "metadata": {},
   "outputs": [],
   "source": [
    "name = 'jaco-solo_jaco.tar.mseed'\n",
    "\n",
    "# Abra el archivo con read()\n",
    "wave = obspy.read('datos/jaco-solo_jaco.tar.mseed')\n",
    "\n",
    "new_name = name.replace('tar.mseed', 'sac')\n",
    "# Guarde el archivo con write(), en formato SAC\n",
    "wave.write(new_name)"
   ]
  },
  {
   "cell_type": "markdown",
   "metadata": {},
   "source": [
    "## Objeto `Trace`\n",
    "\n",
    "Obspy nos ofrece dos objetos para manejar los datos. \n",
    "\n",
    "El objeto `Trace` es la base de todo Obspy. En esencia es un arreglo de Numpy con metadatos. [Aquí](https://docs.obspy.org/packages/autogen/obspy.core.trace.Trace.html#obspy.core.trace.Trace) puede encontrar la documentación del objeto. Tiene tres parámetros:\n",
    "\n",
    "| Parámetro | Descripción | \n",
    "|-----------|-------------|\n",
    "|`id`       | Identificador compatible con `SEED` |\n",
    "|`stats`    | Diccionario con metadatos |\n",
    "|`data`     | Arreglo de Numpy con los datos |\n",
    "\n",
    "\n",
    "### Ejercicio\n",
    "\n",
    "Carge de nuevo el archivo `jaco-solo_jaco.tar.mseed` y examine sus parámetros, en especial el diccionario `stats`."
   ]
  },
  {
   "cell_type": "code",
   "execution_count": 8,
   "metadata": {},
   "outputs": [
    {
     "name": "stdout",
     "output_type": "stream",
     "text": [
      "ID: OV.JACO..HHZ\n",
      "STATS:          network: OV\n",
      "         station: JACO\n",
      "        location: \n",
      "         channel: HHZ\n",
      "       starttime: 2017-11-13T02:27:00.008400Z\n",
      "         endtime: 2017-11-13T02:37:59.998400Z\n",
      "   sampling_rate: 100.0\n",
      "           delta: 0.01\n",
      "            npts: 66000\n",
      "           calib: 1.0\n",
      "         _format: MSEED\n",
      "           mseed: AttribDict({'dataquality': 'M', 'number_of_records': 434, 'encoding': 'STEIM2', 'byteorder': '>', 'record_length': 512, 'filesize': 222208})\n",
      "Data: [  14611   14609   14558 ..., -125282 -122561 -122301]\n"
     ]
    }
   ],
   "source": [
    "wave = obspy.read('datos/jaco-solo_jaco.tar.mseed')[0]\n",
    "print('ID: ' + str(wave.id))\n",
    "print('STATS: ' + str(wave.stats))\n",
    "print('Data: ' + str(wave.data))"
   ]
  },
  {
   "cell_type": "markdown",
   "metadata": {},
   "source": [
    "El objeto `Trace` incluye muchos métodos útiles. Usaremos varios de ellos en las siguienes secciones."
   ]
  },
  {
   "cell_type": "markdown",
   "metadata": {},
   "source": [
    "## Objeto `Stream`\n",
    "\n",
    "El objeto `Stream` se parece a una lista. Agrupa varias señales (objetos `Trace`) de diferentes sismómetros o del mismo sismómetro pero diferentes periodos. Puede encontrar la documentación [aquí](https://docs.obspy.org/packages/autogen/obspy.core.stream.Stream.html#obspy.core.stream.Stream). En general le vamos a aplicar el mismo procedimiento a muchas señales, por ejemplo, las vamos a filtrar con las mismas frecuencias de corte. El objeto `Stream` nos permite aplicar el mismo procedimiento a todos las señales con solo una línea de código. \n",
    "\n",
    "Podemos cargar todas las señales registradas en IRIS durante el sismo de Jacó, estas se encuentran en el archivo `jaco-todas_las_estaciones.tar.mseed`. "
   ]
  },
  {
   "cell_type": "code",
   "execution_count": 10,
   "metadata": {},
   "outputs": [
    {
     "name": "stdout",
     "output_type": "stream",
     "text": [
      "30 Trace(s) in Stream:\n",
      "OV.BATAN..HHZ | 2017-11-13T02:27:00.008400Z - 2017-11-13T02:37:59.998400Z | 100.0 Hz, 66000 samples\n",
      "OV.CDITO..HHZ | 2017-11-13T02:27:00.008400Z - 2017-11-13T02:37:59.998400Z | 100.0 Hz, 66000 samples\n",
      "OV.CDM..HHZ   | 2017-11-13T02:27:00.008400Z - 2017-11-13T02:37:59.998400Z | 100.0 Hz, 66000 samples\n",
      "OV.COVE..HHZ  | 2017-11-13T02:27:00.008400Z - 2017-11-13T02:37:59.998400Z | 100.0 Hz, 66000 samples\n",
      "OV.CPMI..HHZ  | 2017-11-13T02:27:00.008400Z - 2017-11-13T02:37:59.998400Z | 100.0 Hz, 66000 samples\n",
      "OV.DUNO..HHZ  | 2017-11-13T02:27:00.008400Z - 2017-11-13T02:35:16.958400Z | 100.0 Hz, 49696 samples\n",
      "OV.DUNO..HHZ  | 2017-11-13T02:35:18.968400Z - 2017-11-13T02:37:59.998400Z | 100.0 Hz, 16104 samples\n",
      "OV.GRZA..HHZ  | 2017-11-13T02:27:00.005000Z - 2017-11-13T02:37:59.995000Z | 100.0 Hz, 66000 samples\n",
      "OV.HDC3..HHZ  | 2017-11-13T02:27:00.000000Z - 2017-11-13T02:38:00.000000Z | 100.0 Hz, 66001 samples\n",
      "OV.INDI..HHZ  | 2017-11-13T02:27:00.005000Z - 2017-11-13T02:37:59.995000Z | 100.0 Hz, 66000 samples\n",
      "OV.JACO..HHZ  | 2017-11-13T02:27:00.008400Z - 2017-11-13T02:37:59.998400Z | 100.0 Hz, 66000 samples\n",
      "OV.JUDI..HHZ  | 2017-11-13T02:27:00.000000Z - 2017-11-13T02:38:00.000000Z | 100.0 Hz, 66001 samples\n",
      "OV.LAFE..HHZ  | 2017-11-13T02:27:00.000000Z - 2017-11-13T02:38:00.000000Z | 100.0 Hz, 66001 samples\n",
      "OV.MRVA..HHZ  | 2017-11-13T02:27:00.000000Z - 2017-11-13T02:38:00.000000Z | 100.0 Hz, 66001 samples\n",
      "OV.NARJ..HHZ  | 2017-11-13T02:27:00.005000Z - 2017-11-13T02:37:59.995000Z | 100.0 Hz, 66000 samples\n",
      "OV.OCHAL..HHZ | 2017-11-13T02:27:00.008400Z - 2017-11-13T02:37:59.998400Z | 100.0 Hz, 66000 samples\n",
      "OV.OCM..HHZ   | 2017-11-13T02:27:00.008400Z - 2017-11-13T02:37:59.998400Z | 100.0 Hz, 66000 samples\n",
      "OV.ORTG..HHZ  | 2017-11-13T02:27:00.008400Z - 2017-11-13T02:37:59.998400Z | 100.0 Hz, 66000 samples\n",
      "OV.POTG..HHZ  | 2017-11-13T02:27:00.008400Z - 2017-11-13T02:37:59.998400Z | 100.0 Hz, 66000 samples\n",
      "OV.RIFO..HHZ  | 2017-11-13T02:27:00.008400Z - 2017-11-13T02:37:59.998400Z | 100.0 Hz, 66000 samples\n",
      "OV.RIMA..HHZ  | 2017-11-13T02:27:00.008400Z - 2017-11-13T02:37:59.998400Z | 100.0 Hz, 66000 samples\n",
      "OV.RIOS..HHZ  | 2017-11-13T02:27:00.008400Z - 2017-11-13T02:37:59.998400Z | 100.0 Hz, 66000 samples\n",
      "OV.VACR..HHZ  | 2017-11-13T02:27:00.000000Z - 2017-11-13T02:38:00.000000Z | 100.0 Hz, 66001 samples\n",
      "OV.VIMO..HHZ  | 2017-11-13T02:27:00.000000Z - 2017-11-13T02:38:00.000000Z | 100.0 Hz, 66001 samples\n",
      "OV.VMAR..HHZ  | 2017-11-13T02:27:00.008400Z - 2017-11-13T02:37:59.998400Z | 100.0 Hz, 66000 samples\n",
      "OV.VPTE..HHZ  | 2017-11-13T02:27:00.000000Z - 2017-11-13T02:38:00.000000Z | 100.0 Hz, 66001 samples\n",
      "OV.VTCV..HHZ  | 2017-11-13T02:27:00.000000Z - 2017-11-13T02:38:00.000000Z | 100.0 Hz, 66001 samples\n",
      "OV.VTLA..HHZ  | 2017-11-13T02:27:00.000000Z - 2017-11-13T02:38:00.000000Z | 100.0 Hz, 66001 samples\n",
      "OV.VTLO..HHZ  | 2017-11-13T02:27:00.000000Z - 2017-11-13T02:38:00.000000Z | 100.0 Hz, 66001 samples\n",
      "OV.VTRT..HHZ  | 2017-11-13T02:27:00.000000Z - 2017-11-13T02:38:00.000000Z | 100.0 Hz, 66001 samples\n"
     ]
    }
   ],
   "source": [
    "jaco_waves = obspy.read('datos/jaco-todas_las_estaciones.tar.mseed')\n",
    "print(jaco_waves.__str__(extended=True))"
   ]
  },
  {
   "cell_type": "markdown",
   "metadata": {},
   "source": [
    " Al ser *como una lista*, el objeto `Stream` es iterable. El siguiente código recorre todos los `Trace` almacenados en `jaco_waves` e imprime su id y longitud de los datos"
   ]
  },
  {
   "cell_type": "code",
   "execution_count": 11,
   "metadata": {},
   "outputs": [
    {
     "name": "stdout",
     "output_type": "stream",
     "text": [
      "OV.BATAN..HHZ 66000\n",
      "OV.CDITO..HHZ 66000\n",
      "OV.CDM..HHZ 66000\n",
      "OV.COVE..HHZ 66000\n",
      "OV.CPMI..HHZ 66000\n",
      "OV.DUNO..HHZ 49696\n",
      "OV.DUNO..HHZ 16104\n",
      "OV.GRZA..HHZ 66000\n",
      "OV.HDC3..HHZ 66001\n",
      "OV.INDI..HHZ 66000\n",
      "OV.JACO..HHZ 66000\n",
      "OV.JUDI..HHZ 66001\n",
      "OV.LAFE..HHZ 66001\n",
      "OV.MRVA..HHZ 66001\n",
      "OV.NARJ..HHZ 66000\n",
      "OV.OCHAL..HHZ 66000\n",
      "OV.OCM..HHZ 66000\n",
      "OV.ORTG..HHZ 66000\n",
      "OV.POTG..HHZ 66000\n",
      "OV.RIFO..HHZ 66000\n",
      "OV.RIMA..HHZ 66000\n",
      "OV.RIOS..HHZ 66000\n",
      "OV.VACR..HHZ 66001\n",
      "OV.VIMO..HHZ 66001\n",
      "OV.VMAR..HHZ 66000\n",
      "OV.VPTE..HHZ 66001\n",
      "OV.VTCV..HHZ 66001\n",
      "OV.VTLA..HHZ 66001\n",
      "OV.VTLO..HHZ 66001\n",
      "OV.VTRT..HHZ 66001\n"
     ]
    }
   ],
   "source": [
    "for t in jaco_waves:\n",
    "    print(str(t.id) + ' ' + str(len(t.data)))  "
   ]
  },
  {
   "cell_type": "markdown",
   "metadata": {},
   "source": [
    "Note que la estación `DUNO` aparce dos veces. La suma de la longitud de las dos apariciones es 66000, el mismo número de muestras que contienen el resto de estaciones. Esto se debe a discontinuidades en la señal, puede ser por que se perdió o variaciones en la frecuencia de muestreo. Estos eventos aleatorios son comunes y Obspy incluye funciones para manejarlos. \n",
    "\n",
    "### Ejercicio\n",
    "\n",
    "Investigue la función `obspy.stream.merge()` y utilícela para resolver el asunto con la estación `DUNO`. Imprima de nuevo la lista de estaciones y la longitud de los datos. "
   ]
  },
  {
   "cell_type": "code",
   "execution_count": null,
   "metadata": {},
   "outputs": [],
   "source": [
    "# Utilice la función merge\n",
    "jaco_waves.merge()\n",
    "\n",
    "# Imprima las estaciones\n",
    "for t in jaco_waves:\n",
    "    print(str(t.id) + ' ' + str(len(t.data))) "
   ]
  }
 ],
 "metadata": {
  "kernelspec": {
   "display_name": "Python 3",
   "language": "python",
   "name": "python3"
  },
  "language_info": {
   "codemirror_mode": {
    "name": "ipython",
    "version": 3
   },
   "file_extension": ".py",
   "mimetype": "text/x-python",
   "name": "python",
   "nbconvert_exporter": "python",
   "pygments_lexer": "ipython3",
   "version": "3.6.0"
  }
 },
 "nbformat": 4,
 "nbformat_minor": 2
}
