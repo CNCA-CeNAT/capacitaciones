{
 "cells": [
  {
   "cell_type": "markdown",
   "metadata": {},
   "source": [
    "# Módulo 1: Principios de Python\n",
    "\n",
    "__Contenidos:__\n",
    "\n",
    "+ Variables\n",
    "+ Operadores\n",
    "+ Condicionales (if, elif, else)\n",
    "+ listas, for loops\n",
    "+ while loop\n",
    "+ Funciones"
   ]
  },
  {
   "cell_type": "markdown",
   "metadata": {},
   "source": [
    "## Definición de variables\n",
    "\n",
    "#### Para definir una variable, sólamente se le asigna un nombre y un valor con el operador \"=\""
   ]
  },
  {
   "cell_type": "code",
   "execution_count": 1,
   "metadata": {},
   "outputs": [],
   "source": [
    "nombre = \"Guillermo\" # Variable de texto o \"String\"\n",
    "edad = 25 # Variable numérica (int)\n",
    "altura_en_cm = 170.3 # Variable numérica (float)"
   ]
  },
  {
   "cell_type": "markdown",
   "metadata": {},
   "source": [
    "### Los operadores se pueden utilizar con variables o con valores constantes"
   ]
  },
  {
   "cell_type": "code",
   "execution_count": 2,
   "metadata": {},
   "outputs": [
    {
     "name": "stdout",
     "output_type": "stream",
     "text": [
      "100\n",
      "2.0\n",
      "1\n",
      "8\n",
      "174.3\n",
      "1\n"
     ]
    }
   ],
   "source": [
    "altura_de_zapatos = 4\n",
    "base = 2\n",
    "exponente = 3\n",
    "print(edad * 4) # Multiplicación\n",
    "print(16 / 8) # División\n",
    "print (45 % 4) # Módulo\n",
    "print (base ** exponente) # Potencia\n",
    "print(altura_en_cm + altura_de_zapatos)\n",
    "print(5-4)"
   ]
  },
  {
   "cell_type": "markdown",
   "metadata": {},
   "source": [
    "### Operadores con strings\n",
    " - Python soporta concatenación entre strings con el operador de suma\n",
    " - NO se puede utilizar el operador de suma mezclando datos de tipos distintos (a menos que sean numéricos)"
   ]
  },
  {
   "cell_type": "code",
   "execution_count": 3,
   "metadata": {},
   "outputs": [
    {
     "name": "stdout",
     "output_type": "stream",
     "text": [
      "Guillermo Cornejo Suarez\n"
     ]
    }
   ],
   "source": [
    "apellido = \"Cornejo\"\n",
    "print(nombre + \" \" + apellido + \" Suarez\")"
   ]
  },
  {
   "cell_type": "markdown",
   "metadata": {},
   "source": [
    "## Ejercicio:\n",
    "### Cree una variable numérica X y asígnele algún valor, y con ella calcule la siguiente función:\n",
    "### 6x² + 3x - 4"
   ]
  },
  {
   "cell_type": "markdown",
   "metadata": {},
   "source": [
    "# Condicionales\n",
    "\n",
    " - Python utiliza variables de tipo booleano para evaluar condiciones\n",
    " - Estas son variables que sólo pueden tomar valores binarios de \"True\" o \"False\"\n"
   ]
  },
  {
   "cell_type": "code",
   "execution_count": 4,
   "metadata": {},
   "outputs": [
    {
     "name": "stdout",
     "output_type": "stream",
     "text": [
      "True\n",
      "True\n",
      "True\n",
      "False\n"
     ]
    }
   ],
   "source": [
    "x = 2\n",
    "y = \"hola\"\n",
    "print(x == 2 or y == \"hola\")\n",
    "print(x == 3 or y == \"hola\")\n",
    "print(x < 3)\n",
    "print(y == \"Hola\")"
   ]
  },
  {
   "cell_type": "markdown",
   "metadata": {},
   "source": [
    "## Las sentencias \"if\" permiten manejar el flujo de ejecución de un programa mediante condicionales\n"
   ]
  },
  {
   "cell_type": "code",
   "execution_count": 5,
   "metadata": {},
   "outputs": [
    {
     "name": "stdout",
     "output_type": "stream",
     "text": [
      "Ingrese su altura en cm 120\n",
      "No puede subirse a la montaña rusa\n"
     ]
    }
   ],
   "source": [
    "altura = float(input(\"Ingrese su altura en cm \"))\n",
    "\n",
    "if altura <= 120:\n",
    "    print(\"No puede subirse a la montaña rusa\")"
   ]
  },
  {
   "cell_type": "markdown",
   "metadata": {},
   "source": [
    "## La sintaxis general de las sentencias \"if\" es:\n",
    "  #### if _condición_ :\n",
    "      bloque de código indentado\n",
    "\n",
    "   - Python utiliza indentación (espacios) para separar los bloques de código dentro de estas y otras sentencias\n",
    "\n",
    "   - Se evalúa la condición, y si se cumple, se ejecuta el código dentro del bloque"
   ]
  },
  {
   "cell_type": "markdown",
   "metadata": {},
   "source": [
    "### bloque \"else\"\n",
    "\n",
    "Este bloque se ejecuta si la condición del if no se cumple"
   ]
  },
  {
   "cell_type": "code",
   "execution_count": 6,
   "metadata": {},
   "outputs": [
    {
     "name": "stdout",
     "output_type": "stream",
     "text": [
      "Ingrese su altura en cm 155\n",
      "Sí puede subirse\n"
     ]
    }
   ],
   "source": [
    "altura = float(input(\"Ingrese su altura en cm \"))\n",
    "if altura < 120:\n",
    "    print(\"No puede subirse a la montaña rusa\")\n",
    "    if altura > 110:\n",
    "        print(\"Marino le regala un popi\")\n",
    "else:\n",
    "    print(\"Sí puede subirse\")\n",
    "\n",
    "\n"
   ]
  },
  {
   "cell_type": "markdown",
   "metadata": {},
   "source": [
    "### \"elif\"\n",
    "Es una abreviación de \"else if\". Se utiliza cuando existe más de dos posibilidades para una condición"
   ]
  },
  {
   "cell_type": "code",
   "execution_count": 7,
   "metadata": {},
   "outputs": [
    {
     "name": "stdout",
     "output_type": "stream",
     "text": [
      "Ingrese su altura en cm 155\n",
      "Sí puede subirse\n"
     ]
    }
   ],
   "source": [
    "altura = float(input(\"Ingrese su altura en cm \"))\n",
    "if altura < 120:\n",
    "    print(\"No puede subirse a la montaña rusa\")\n",
    "elif altura < 150:\n",
    "    print(\"Puede subirse en compañía de un adulto\")\n",
    "else:\n",
    "    print(\"Sí puede subirse\")"
   ]
  },
  {
   "cell_type": "markdown",
   "metadata": {},
   "source": [
    "## Ejercicios\n",
    " - Escriba un programa que reciba un número entero del usuario y le indique si el número es par o impar\n",
    " - Escriba otro programa que le pregunte al usuario la edad y le indique si puede votar o no"
   ]
  },
  {
   "cell_type": "code",
   "execution_count": 8,
   "metadata": {},
   "outputs": [
    {
     "name": "stdout",
     "output_type": "stream",
     "text": [
      "0.3000000000000007\n"
     ]
    }
   ],
   "source": [
    "x = 12.3\n",
    "print(x%3)"
   ]
  },
  {
   "cell_type": "markdown",
   "metadata": {},
   "source": [
    "# Listas"
   ]
  },
  {
   "cell_type": "markdown",
   "metadata": {},
   "source": [
    "## ¿Qué es una lista?\n",
    "\n",
    "- Es un conjunto de datos ordenados\n",
    "- Facilitan la administración de conjuntos de datos relacionados, ya que no se tienen que manipular individualmente"
   ]
  },
  {
   "cell_type": "markdown",
   "metadata": {},
   "source": [
    "# Estructura de una lista (vector)\n",
    "\n",
    "<img src=\"lista.png\", width=800, height=600>\n",
    "\n",
    "\n",
    "- Una lista(vector) es conjunto de valores que están agrupados en un solo objeto\n",
    "- Cada campo puede almacenar un valor y a cada uno se le asocia un entero conocido como “índice” que es la posición que ocupa dentro de la lista (comenzando desde cero)\n",
    "- (En Python) Pueden almacenarse valores de distintos tipos de datos en una misma lista"
   ]
  },
  {
   "cell_type": "code",
   "execution_count": 9,
   "metadata": {},
   "outputs": [
    {
     "name": "stdout",
     "output_type": "stream",
     "text": [
      "[4, 2.56, 'asdf']\n",
      "4\n",
      "2.56\n",
      "asdf\n"
     ]
    }
   ],
   "source": [
    "# Inicialización de una lista\n",
    "lista = []\n",
    "# Se puede inicializar con datos\n",
    "lista = [4, 2.56, \"asdf\"]\n",
    "print(lista)\n",
    "\n",
    "for elemento in lista:\n",
    "        print(elemento)"
   ]
  },
  {
   "cell_type": "markdown",
   "metadata": {},
   "source": [
    "- Se puede acceder a un dato dentro de una lista haciendo referencia a su posición dentro de la lista\n",
    "- Cada dato tiene un índice que corresponde a esta posición\n",
    "- Los índices de las listas comienzan en 0"
   ]
  },
  {
   "cell_type": "code",
   "execution_count": 10,
   "metadata": {},
   "outputs": [
    {
     "name": "stdout",
     "output_type": "stream",
     "text": [
      "4\n",
      "2.56\n",
      "asdf\n"
     ]
    }
   ],
   "source": [
    "print(lista[0])\n",
    "print(lista[1])\n",
    "print(lista[2])"
   ]
  },
  {
   "cell_type": "code",
   "execution_count": 11,
   "metadata": {},
   "outputs": [
    {
     "name": "stdout",
     "output_type": "stream",
     "text": [
      "[4, 2.56, 'asdf', 34]\n",
      "[4, 2.56, 'asdf']\n",
      "[4, 'asdf']\n"
     ]
    }
   ],
   "source": [
    "## Operaciones básicas con listas\n",
    "# Append: Se utiliza para agregar elementos al final de una lista\n",
    "lista.append(34)\n",
    "print(lista)\n",
    "\n",
    "#Remove: Elimina un elemento de la lista (lo busca por contenido y lo elimina, si existe más de uno que \n",
    "# cumple con el criterio de búsqueda, elimina sólamente el primero que encuentra)\n",
    "lista.remove(34)\n",
    "print(lista)\n",
    "\n",
    "\n",
    "lista.pop(1)\n",
    "print(lista)"
   ]
  },
  {
   "cell_type": "markdown",
   "metadata": {},
   "source": [
    "# Ejercicio\n",
    " - Utilizando las listas vacías en la celda de abajo, y los datos que se le solicitan al usuario, llene las listas con los datos que le correspondan a cada una (los nombres en la lista de nombres y los números en la de números)"
   ]
  },
  {
   "cell_type": "code",
   "execution_count": 12,
   "metadata": {},
   "outputs": [
    {
     "name": "stdout",
     "output_type": "stream",
     "text": [
      "Ingrese el primer número 15\n",
      "Ingrese el primer nombre D\n",
      "Ingrese el segundo nombre 15\n",
      "Ingrese el segundo número 15\n",
      "[15, 15]\n",
      "['D', '15']\n"
     ]
    }
   ],
   "source": [
    "lista_numeros = []\n",
    "lista_nombres = []\n",
    "\n",
    "numero1 = int(input(\"Ingrese el primer número \"))\n",
    "nombre1 = input(\"Ingrese el primer nombre \")\n",
    "nombre2 = input(\"Ingrese el segundo nombre \")\n",
    "numero2 = int(input(\"Ingrese el segundo número \"))\n",
    "\n",
    "lista_numeros.append(numero1)\n",
    "lista_numeros.append(numero2)\n",
    "lista_nombres.append(nombre1)\n",
    "lista_nombres.append(nombre2)\n",
    "\n",
    "print(lista_numeros)\n",
    "print(lista_nombres)"
   ]
  },
  {
   "cell_type": "markdown",
   "metadata": {},
   "source": [
    "## 'while' loops\n",
    "- Son ciclos que se repiten mientras se cumpla una condición"
   ]
  },
  {
   "cell_type": "code",
   "execution_count": 13,
   "metadata": {},
   "outputs": [
    {
     "name": "stdout",
     "output_type": "stream",
     "text": [
      "0\n",
      "1\n",
      "2\n",
      "3\n",
      "4\n"
     ]
    }
   ],
   "source": [
    "contador = 0\n",
    "while contador < 5:\n",
    "    print (contador)\n",
    "    contador += 1 # Esto es lo mismo que hacer contador = contador + 1"
   ]
  },
  {
   "cell_type": "code",
   "execution_count": 14,
   "metadata": {},
   "outputs": [
    {
     "name": "stdout",
     "output_type": "stream",
     "text": [
      "Ingrese un numero (0 termina) 0\n",
      "[]\n"
     ]
    }
   ],
   "source": [
    "lista_numeros = []\n",
    "numero = int(input(\"Ingrese un numero (0 termina) \"))\n",
    "while numero != 0:\n",
    "    lista_numeros.append(numero)\n",
    "    numero = int(input(\"Ingrese un numero (0 termina) \"))\n",
    "    \n",
    "print(lista_numeros)"
   ]
  },
  {
   "cell_type": "markdown",
   "metadata": {},
   "source": [
    "## 'for' loops\n",
    "- Son estructuras que permiten repetir instrucciones por una cantidad determinada de veces\n",
    "- Estos ciclos recorren una lista"
   ]
  },
  {
   "cell_type": "code",
   "execution_count": 15,
   "metadata": {},
   "outputs": [
    {
     "name": "stdout",
     "output_type": "stream",
     "text": [
      "10\n",
      "11\n",
      "13\n",
      "15\n",
      "19\n",
      "21\n",
      "25\n",
      "27\n",
      "31\n",
      "37\n",
      "39\n",
      "45\n",
      "49\n",
      "51\n",
      "55\n",
      "61\n",
      "67\n",
      "69\n",
      "75\n",
      "79\n",
      "81\n",
      "87\n",
      "91\n",
      "97\n",
      "105\n"
     ]
    }
   ],
   "source": [
    "primos = [2,3,5,7,11,13,17,19,23,29,31,37,41,43,47,53,59,61,67,71,73,79,83,89,97]\n",
    "for num in primos:\n",
    "    print(num+8)\n",
    "    \n"
   ]
  },
  {
   "cell_type": "markdown",
   "metadata": {},
   "source": [
    "- En este caso, num es una variable temporal que, en cada ciclo de repetición del código, tomará un valor distinto de la lista\n",
    "- Las instrucciones dentro del bloque se repiten una vez por cada elemento que haya en la lista\n",
    "- La diferencia es que la variable temporal ('num', en el caso del ejemplo anterior), será un dato distinto en cada una de esas repeticiones"
   ]
  },
  {
   "cell_type": "markdown",
   "metadata": {},
   "source": [
    "## Range\n",
    "\n",
    "- Se utiliza para que los ciclos 'for' recorran una secuencia de números"
   ]
  },
  {
   "cell_type": "code",
   "execution_count": 16,
   "metadata": {},
   "outputs": [
    {
     "name": "stdout",
     "output_type": "stream",
     "text": [
      "0\n",
      "1\n",
      "2\n",
      "3\n",
      "4\n",
      "---------------------------- FIN ----------------------------\n",
      "3\n",
      "4\n",
      "5\n",
      "---------------------------- FIN ----------------------------\n",
      "0\n",
      "2\n",
      "4\n",
      "6\n",
      "8\n",
      "---------------------------- FIN ----------------------------\n"
     ]
    }
   ],
   "source": [
    "for x in range(5): # Por defecto empieza en cero\n",
    "    print(x)\n",
    "print(\"---------------------------- FIN ----------------------------\")\n",
    "for x in range(3, 6): # Se le indica un inicio y un final, excluye el valor final indicado\n",
    "    print(x)\n",
    "print(\"---------------------------- FIN ----------------------------\")\n",
    "for x in range(0, 10, 2): # Inicio, final y step, que indica cada cuántos recorre la secuencia\n",
    "    print(x)\n",
    "print(\"---------------------------- FIN ----------------------------\")"
   ]
  },
  {
   "cell_type": "code",
   "execution_count": 17,
   "metadata": {},
   "outputs": [
    {
     "name": "stdout",
     "output_type": "stream",
     "text": [
      "8\n"
     ]
    }
   ],
   "source": [
    "print(x)"
   ]
  },
  {
   "cell_type": "markdown",
   "metadata": {},
   "source": [
    "# Ejercicio\n",
    "- Cree un programa que le solicite (mediante un for loop) 5 números al usuario y los ingrese en una lista, luego imprima los 5 números al cuadrado\n"
   ]
  },
  {
   "cell_type": "code",
   "execution_count": 18,
   "metadata": {},
   "outputs": [
    {
     "name": "stdout",
     "output_type": "stream",
     "text": [
      "4\n"
     ]
    }
   ],
   "source": [
    "lista_numeros = [8,7,2,4,5]\n",
    "\n",
    "print(lista_numeros[-2])"
   ]
  },
  {
   "cell_type": "markdown",
   "metadata": {},
   "source": [
    " # List Comprehension\n",
    " \n",
    " - Python tiene una manera sencilla de crear listas que es más cercana al lenguaje natural\n",
    " - De la misma forma en la que en lenguaje matemático se diría por ejemplo:\n",
    "  - lista_numeros_cuadrado = x^2 para todo x ε {0...,9}\n",
    "  - lista_numeros_exponencial = {1,2,4,8,...,2^12}\n",
    "  - lista_numeros_pares = {x|x ε lista_numeros_cuadrado y x es par}"
   ]
  },
  {
   "cell_type": "code",
   "execution_count": 19,
   "metadata": {},
   "outputs": [
    {
     "name": "stdout",
     "output_type": "stream",
     "text": [
      "[0, 1, 4, 9, 16, 25, 36, 49, 64, 81]\n",
      "[1, 2, 4, 8, 16, 32, 64, 128, 256, 512, 1024, 2048, 4096]\n",
      "[0, 4, 16, 36, 64]\n"
     ]
    }
   ],
   "source": [
    "lista_numeros_cuadrado = [x**2 for x in range(10)]\n",
    "lista_numeros_exponencial = [2**i for i in range(13)]\n",
    "lista_numeros_pares = [x for x in lista_numeros_cuadrado if x % 2 == 0]\n",
    "\n",
    "print (lista_numeros_cuadrado)\n",
    "print (lista_numeros_exponencial)\n",
    "print (lista_numeros_pares)"
   ]
  },
  {
   "cell_type": "code",
   "execution_count": 20,
   "metadata": {},
   "outputs": [
    {
     "name": "stdout",
     "output_type": "stream",
     "text": [
      "['adios', 'arándano', 'araña', 'avión']\n"
     ]
    }
   ],
   "source": [
    "lista_palabras = [\"hola\", \"adios\", \"arándano\", \"araña\", \"ropa\", \"numero\", \"avión\"]\n",
    "palabras_con_a = [palabra for palabra in lista_palabras if palabra[0] == \"a\"]\n",
    "\n",
    "print(palabras_con_a)"
   ]
  },
  {
   "cell_type": "markdown",
   "metadata": {},
   "source": [
    "# Ejercicio\n",
    "\n",
    "- Utilizando list comprehension, cree una nueva lista que contenga únicamente números positivos a partir de la lista especificada a continuación"
   ]
  },
  {
   "cell_type": "code",
   "execution_count": 21,
   "metadata": {},
   "outputs": [],
   "source": [
    "numeros = [34.6, -203.4, 44.9, 68.3, -12.2, 44.6, 12.7]"
   ]
  },
  {
   "cell_type": "markdown",
   "metadata": {},
   "source": [
    "# Funciones\n",
    "- Son una manera de modularizar el código (separarlo en secciones o bloques útiles)\n",
    "- Sirven para:\n",
    "    - Ordenar el código\n",
    "    - Reutilizarlo\n",
    "    \n",
    "- Tienen un encabezado y un bloque de código"
   ]
  },
  {
   "cell_type": "code",
   "execution_count": 22,
   "metadata": {},
   "outputs": [],
   "source": [
    "def mi_primera_funcion(n):\n",
    "    print(\"Hola, esta es mi primera función\")\n",
    "    for x in range(n):\n",
    "        print(\"Hola, esta funcion va por el numero \" + str(x))"
   ]
  },
  {
   "cell_type": "markdown",
   "metadata": {},
   "source": [
    "### Cuando se escribe una función, se está escribiendo la definición de la función únicamente, no se ejecuta el código hasta que se llame a la función.\n",
    "### Las funciones se llaman escribiendo su nombre seguido de parántesis, que llevan cualquier parámetro que necesite la función"
   ]
  },
  {
   "cell_type": "code",
   "execution_count": 23,
   "metadata": {},
   "outputs": [
    {
     "name": "stdout",
     "output_type": "stream",
     "text": [
      "Hola, esta es mi primera función\n",
      "Hola, esta funcion va por el numero 0\n",
      "Hola, esta funcion va por el numero 1\n",
      "Hola, esta funcion va por el numero 2\n",
      "Hola, esta funcion va por el numero 3\n",
      "Hola, esta funcion va por el numero 4\n",
      "Hola, esta funcion va por el numero 5\n",
      "Hola, esta funcion va por el numero 6\n",
      "Hola, esta funcion va por el numero 7\n"
     ]
    }
   ],
   "source": [
    "mi_primera_funcion(8)"
   ]
  },
  {
   "cell_type": "markdown",
   "metadata": {},
   "source": [
    "### Las funciones también pueden recibir parámetros o argumentos que se pueden utilizar localmente en la función"
   ]
  },
  {
   "cell_type": "code",
   "execution_count": 24,
   "metadata": {},
   "outputs": [],
   "source": [
    "def funcion_con_parametros(nombre, dia):\n",
    "    print(\"Hola \" + nombre+ \", le deseo un feliz \" + dia)"
   ]
  },
  {
   "cell_type": "code",
   "execution_count": 25,
   "metadata": {},
   "outputs": [
    {
     "name": "stdout",
     "output_type": "stream",
     "text": [
      "Hola Daniel, le deseo un feliz Lunes\n"
     ]
    }
   ],
   "source": [
    "funcion_con_parametros(\"Daniel\", \"Lunes\")"
   ]
  },
  {
   "cell_type": "markdown",
   "metadata": {},
   "source": [
    "### Las funciones también pueden retornar valores como resultado de sus llamados, por ejemplo"
   ]
  },
  {
   "cell_type": "code",
   "execution_count": 26,
   "metadata": {},
   "outputs": [],
   "source": [
    "# con valor de retorno\n",
    "def suma_numeros(a, b):\n",
    "    return a + b\n",
    "\n",
    "\n",
    "# sin valor de retorno\n",
    "def multiplicacion_numeros(a, b):\n",
    "    n = a * b\n",
    "    return n"
   ]
  },
  {
   "cell_type": "markdown",
   "metadata": {},
   "source": [
    "### Estos valores de retorno posteriormente se pueden utilizar para imprimirse, capturarse en una variable o utilizarlo en alguna operación"
   ]
  },
  {
   "cell_type": "code",
   "execution_count": 27,
   "metadata": {},
   "outputs": [
    {
     "name": "stdout",
     "output_type": "stream",
     "text": [
      "9\n",
      "20\n"
     ]
    }
   ],
   "source": [
    "print(suma_numeros(4,5))\n",
    "\n",
    "## Si la función no tiene return, no tendrá valor de retorno\n",
    " \n",
    "n = multiplicacion_numeros(4,5)\n",
    "\n",
    "print(n)\n",
    "\n",
    "lista = []"
   ]
  },
  {
   "cell_type": "code",
   "execution_count": 28,
   "metadata": {},
   "outputs": [],
   "source": [
    "def llenar_lista(inicio, final, step):\n",
    "    for x in range(inicio, final, step):\n",
    "        lista.append(x)"
   ]
  },
  {
   "cell_type": "code",
   "execution_count": 29,
   "metadata": {},
   "outputs": [
    {
     "name": "stdout",
     "output_type": "stream",
     "text": [
      "[]\n",
      "[1, 2, 3, 4, 5, 6, 7, 8, 9, 10]\n",
      "[1, 2, 3, 4, 5, 6, 7, 8, 9, 10, 56, 62, 68, 74]\n"
     ]
    }
   ],
   "source": [
    "lista = []\n",
    "print(lista)\n",
    "\n",
    "llenar_lista(1,11,1)\n",
    "print(lista)\n",
    "\n",
    "llenar_lista(56,80,6)\n",
    "\n",
    "print(lista)"
   ]
  },
  {
   "cell_type": "markdown",
   "metadata": {},
   "source": [
    "# Ejercicio\n",
    "### Cree una función que reciba una lista y un valor numérico y revise los elementos de la lista uno por uno y retorne True si el valor existe en la lista y False si no"
   ]
  },
  {
   "cell_type": "code",
   "execution_count": 30,
   "metadata": {},
   "outputs": [
    {
     "data": {
      "text/plain": [
       "False"
      ]
     },
     "execution_count": 30,
     "metadata": {},
     "output_type": "execute_result"
    }
   ],
   "source": [
    "def buscar(lista, numero):\n",
    "    contador = 0\n",
    "    for elemento in lista:\n",
    "        contador += 1\n",
    "        if elemento == numero:\n",
    "            return True, contador\n",
    "        \n",
    "    return False\n",
    "\n",
    "lista = [x for x in range(10)]\n",
    "\n",
    "buscar(lista, 89)"
   ]
  },
  {
   "cell_type": "markdown",
   "metadata": {},
   "source": [
    "# Objetos\n",
    "\n",
    "- Los objetos son una encapsulación de variables y funciones en una sola entidad o contenedor\n",
    "- Se puede pensar en un objeto como si fuera una sola estructura de datos que contiene datos y funciones\n",
    "- Las variables definidas dentro los objetos se llaman \"atributos\"\n",
    "- Los objetos obtienen sus variables y funciones a partir de definiciones llamadas \"clases\""
   ]
  },
  {
   "cell_type": "code",
   "execution_count": 31,
   "metadata": {},
   "outputs": [],
   "source": [
    "class Persona:\n",
    "    def __init__(self, nombre, edad, lenguaje_favorito, es_estudiante):\n",
    "        self.nombre = nombre\n",
    "        self.edad = edad\n",
    "        self.lenguaje_favorito = lenguaje_favorito\n",
    "        self.es_estudiante = es_estudiante\n",
    "        \n",
    "    "
   ]
  },
  {
   "cell_type": "markdown",
   "metadata": {},
   "source": [
    "- Se puede pensar en una clase como una plantilla para crear objetos\n",
    "- Se debe de tener clara la diferencia entre una clase y un objeto"
   ]
  },
  {
   "cell_type": "code",
   "execution_count": 32,
   "metadata": {},
   "outputs": [],
   "source": [
    "objeto_persona = Persona (\"Daniel\", 28, \"Python\", False)"
   ]
  },
  {
   "cell_type": "markdown",
   "metadata": {},
   "source": [
    "### Para acceder a los atributos de un objeto, se hace de la forma: objeto.atributo"
   ]
  },
  {
   "cell_type": "code",
   "execution_count": 33,
   "metadata": {},
   "outputs": [
    {
     "name": "stdout",
     "output_type": "stream",
     "text": [
      "Daniel\n"
     ]
    }
   ],
   "source": [
    "print(objeto_persona.nombre)"
   ]
  },
  {
   "cell_type": "markdown",
   "metadata": {},
   "source": [
    "### Una vez que se tiene la definición de la clase \"Persona\", se pueden crear tantas instancias como se necesiten"
   ]
  },
  {
   "cell_type": "code",
   "execution_count": 34,
   "metadata": {},
   "outputs": [
    {
     "name": "stdout",
     "output_type": "stream",
     "text": [
      "Daniel\n",
      "Marcela\n",
      "Carlos\n",
      "Alexa\n"
     ]
    }
   ],
   "source": [
    "persona1 = Persona(\"Marcela\", 26, \"Python\", True)\n",
    "persona2 = Persona(\"Carlos\", 33, \"Python\", False)\n",
    "persona3 = Persona(\"Alexa\", 22, \"Python\", True)\n",
    "lista_personas = [objeto_persona, persona1, persona2, persona3]\n",
    "\n",
    "for persona in lista_personas:\n",
    "    print(persona.nombre)"
   ]
  },
  {
   "cell_type": "markdown",
   "metadata": {},
   "source": [
    "### Las funciones dentro de una clase se llaman \"métodos\"\n",
    "### Se puede acceder a ellos de una manera similar a como se accede a los atributos"
   ]
  },
  {
   "cell_type": "code",
   "execution_count": 35,
   "metadata": {},
   "outputs": [
    {
     "name": "stdout",
     "output_type": "stream",
     "text": [
      "Creo un libro\n",
      "1\n",
      "6\n"
     ]
    }
   ],
   "source": [
    "class Libro:\n",
    "    def __init__(self, titulo, autor, cant_paginas):\n",
    "        self.titulo = titulo\n",
    "        self.autor = autor\n",
    "        self.pagina_actual = 1\n",
    "        self.cant_paginas = cant_paginas\n",
    "        print(\"Creo un libro\")\n",
    "        \n",
    "    def pasar_pagina(self, cantidad_de_paginas):\n",
    "        self.pagina_actual += cantidad_de_paginas\n",
    "        \n",
    "        \n",
    "libro_nuevo = Libro(\"Etica\", \"Spinoza\", 315)\n",
    "\n",
    "print(libro_nuevo.pagina_actual)\n",
    "\n",
    "libro_nuevo.pasar_pagina(5)\n",
    "\n",
    "print(libro_nuevo.pagina_actual)\n",
    "\n"
   ]
  },
  {
   "cell_type": "markdown",
   "metadata": {},
   "source": [
    "## Método \\_\\_init\\_\\_()\n",
    "\n",
    "- Este método se utiliza para inicializar los objetos, en el momento en el que se crea la instancia, se ejecuta lo que está en el método init, a esto se le conoce como \"constructor\"\n",
    "- Como se ve en el ejemplo anterior, el constructor puede recibir parámetros para inicializar los valores en el objeto\n",
    "- El método constructor sólo puede llamarse \\_\\_init\\_\\_ --> No puede llamarse de ninguna otra forma"
   ]
  },
  {
   "cell_type": "markdown",
   "metadata": {},
   "source": [
    "# Ejercicio\n",
    "\n",
    "### Cree una función que determine si las personas dentro de la lista \"lista_personas\" que creamos antes son mayores de 27 años\n",
    "\n",
    "### Modele una clase \"sismo\", e incluya en ella los atributos y métodos que considere necesarios"
   ]
  },
  {
   "cell_type": "markdown",
   "metadata": {},
   "source": [
    "# Manejo de archivos\n",
    "\n",
    "Los archivos de texto plano son la manera estándar más simple para almacenar y recuperar datos. \n",
    "\n",
    "En Python, los archivos se abren con la función `open(archivo, modo)`. El parámetro `archivo` es la dirección y nombre del archivo, el parámetro `modo` especifica para que se va a utiliar el archivo, la siguiente tabla muestra los posibles valores:\n",
    "\n",
    "| Modo | Descripción                                                        |\n",
    "|------|--------------------------------------------------------------------|\n",
    "| 'r'  | Solo lectura (opción por defecto)                                  |\n",
    "| 'w'  |  Solo escritura. Si el archivo existe, borra el contenido          |\n",
    "| 'x'  | Intenta crear un archivo, si ya existe, genera un error            |\n",
    "| 'a'  | Solo escritura. Si el archivo existe, comienza a escribir al final |\n",
    "| 'b'  | Modo binario                                                       |\n",
    "| 't'  | Modo texto (opción por defecto)                                    |\n",
    "| '+'  | Lectura y escritura                                                |\n",
    "\n",
    "Los modos puede combinarse, por ejemplo, abrir un archivo binario en modo escritura `wb` o abrir un archivo para lectura y escritura, pero borrando el contenido `w+`. \n",
    "\n",
    "La función `open()` retorna un objeto de clase `file` y debemos interactuar con él a través de sus métodos, puede explorarlos en el siguiente [enlace](https://docs.python.org/3.5/tutorial/inputoutput.html#methods-of-file-objects). \n",
    "\n",
    "Ahora, observe el siguiente ejemplo:"
   ]
  },
  {
   "cell_type": "code",
   "execution_count": 36,
   "metadata": {},
   "outputs": [],
   "source": [
    "lista = [str(i**2) for i in range (1,11)] # Genera una lista de números como strings\n",
    "\n",
    "f = open(\"output.txt\", \"w\")\n",
    "\n",
    "for elemento in lista:\n",
    "    f.write(elemento + \"\\n\")\n",
    "    \n",
    "f.close()"
   ]
  },
  {
   "cell_type": "markdown",
   "metadata": {},
   "source": [
    "__Atención:__ note el método `file.close()`. Cuando trabajamos con archivos, es muy importante recordar cerrarlos, de otra manera, podemos perder los datos. \n",
    "\n",
    "\n",
    "### Podemos también iterar sobre los objetos `file` para leerlos:"
   ]
  },
  {
   "cell_type": "code",
   "execution_count": 37,
   "metadata": {},
   "outputs": [
    {
     "name": "stdout",
     "output_type": "stream",
     "text": [
      "1\n",
      "4\n",
      "9\n",
      "16\n",
      "25\n",
      "36\n",
      "49\n",
      "64\n",
      "81\n",
      "100\n"
     ]
    }
   ],
   "source": [
    "f = open('output.txt')\n",
    "\n",
    "for line in f:\n",
    "    print(line, end = \"\")\n",
    "    \n",
    "f.close()"
   ]
  },
  {
   "cell_type": "markdown",
   "metadata": {},
   "source": [
    "# Ejercicio\n",
    "\n",
    "Tome los datos de las personas de la lista lista_personas y escríbalos en un archivo de texto llamado personas.csv\n",
    "- Separe cada dato por un punto y coma \";\" y separe cada persona por un cambio de línea \"\\n\""
   ]
  }
 ],
 "metadata": {
  "kernelspec": {
   "display_name": "Python 3",
   "language": "python",
   "name": "python3"
  },
  "language_info": {
   "codemirror_mode": {
    "name": "ipython",
    "version": 3
   },
   "file_extension": ".py",
   "mimetype": "text/x-python",
   "name": "python",
   "nbconvert_exporter": "python",
   "pygments_lexer": "ipython3",
   "version": "3.6.0"
  }
 },
 "nbformat": 4,
 "nbformat_minor": 2
}
