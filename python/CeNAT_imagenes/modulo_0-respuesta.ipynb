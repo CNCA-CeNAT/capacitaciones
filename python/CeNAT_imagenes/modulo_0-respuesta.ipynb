{
 "cells": [
  {
   "cell_type": "code",
   "execution_count": null,
   "metadata": {},
   "outputs": [],
   "source": [
    "import math\n",
    "\n",
    "primos = [2,3,5,7,11,13,17,19,23,29,31,37,41,43,47,53,59,61,67,71,73,79,83,89,97]\n",
    "\n",
    "def factores(num):\n",
    "    fact = []\n",
    "    if math.sqrt(num) < 97:\n",
    "        for p in primos:\n",
    "            while num != 1:\n",
    "                if num % p == 0:\n",
    "                    fact.append(p)\n",
    "                    num = num / p\n",
    "                else:\n",
    "                    break\n",
    "    return fact\n",
    "\n",
    "factores()            \n",
    "        "
   ]
  }
 ],
 "metadata": {
  "kernelspec": {
   "display_name": "Python 3",
   "language": "python",
   "name": "python3"
  },
  "language_info": {
   "codemirror_mode": {
    "name": "ipython",
    "version": 3
   },
   "file_extension": ".py",
   "mimetype": "text/x-python",
   "name": "python",
   "nbconvert_exporter": "python",
   "pygments_lexer": "ipython3",
   "version": "3.6.0"
  }
 },
 "nbformat": 4,
 "nbformat_minor": 2
}
