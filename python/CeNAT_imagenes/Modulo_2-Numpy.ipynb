{
 "cells": [
  {
   "cell_type": "markdown",
   "metadata": {},
   "source": [
    "# Numpy\n",
    "\n",
    "Numpy es un módulo de cálculo numérico. Está escrito en C, por lo tanto es muy rápido, sin embargo su interfaz está muy bien diseñada para trabajar de manera *pythonica*. \n",
    "\n",
    "\n",
    "__Contenidos:__\n",
    "\n",
    "+ Arreglos multidimensionales, atributos y métodos\n",
    "+ Cargar y salvar desde un archivo\n",
    "+ Operaciones con arreglos\n",
    "+ Funciones universales\n",
    "+ Slicing"
   ]
  },
  {
   "cell_type": "markdown",
   "metadata": {},
   "source": [
    "Para poder utilizar Numpy, debemos importar el módulo. Esto lo conseguimos con la siguiente línea:"
   ]
  },
  {
   "cell_type": "code",
   "execution_count": null,
   "metadata": {
    "collapsed": true
   },
   "outputs": [],
   "source": [
    "import numpy as np"
   ]
  },
  {
   "cell_type": "markdown",
   "metadata": {},
   "source": [
    "## Arreglos (arrays)\n",
    "\n",
    "La principal estructura de datos ofrecida por Numpy son los arreglos. Se parecen a una lista, pero tiene las siguientes diferencias:\n",
    "\n",
    "+ El número de elementos en un array es fijo (no se puede hacer `append()` o `remove()`)\n",
    "+ Todos los elementos deben ser del mismo tipo. \n",
    "\n",
    "Las principales ventajas sobre las listas son:\n",
    "\n",
    "+ Pueden ser n-dimensionales (vectores, matrices, tensores).\n",
    "+ Soportan operaciones algebráicas y aritméticas.\n",
    "+ Fueron pensados para cálculo científico, por lo tanto funcionan muy rápido."
   ]
  },
  {
   "cell_type": "code",
   "execution_count": null,
   "metadata": {
    "collapsed": true
   },
   "outputs": [],
   "source": [
    "# Crea un vector de ceros\n",
    "zeros_1d = np.zeros(10)\n",
    "print(zeros_1d)\n",
    "\n",
    "# Crea una matriz de ceros\n",
    "zeros_2d = np.zeros((3,3))\n",
    "print(zeros_2d)\n",
    "\n",
    "# Crea una matriz a partir de lista\n",
    "matrix = np.array([[1,2,3],[4,5,6],[7,8,9]])\n",
    "print(matrix)"
   ]
  },
  {
   "cell_type": "markdown",
   "metadata": {},
   "source": [
    "Hay muchas formas de crear arreglos en Numpy, puede explorarlas todas en este [enlace](https://docs.scipy.org/doc/numpy-1.13.0/reference/routines.array-creation.html). Las más comunes son:\n",
    "\n",
    "| Función | Descripción |\n",
    "|:--------|:------------|\n",
    "| `empty` | Arreglo vacio (con los datos basura que haya en memoria) |\n",
    "| `zeros` | Arreglo de ceros |\n",
    "| `ones`  | Arreglo de unos |\n",
    "| `full`  | Se especifica un valor para llenar todo el arreglo con él |\n",
    "| `identity` | Unos en la diagonal y cero en el resto |\n",
    "| `array` | Constructor genérico |\n",
    "| `fromfunction` | Según una función dada que retorna un valor para cada punto de la coordenada |\n",
    "| `loadtxt` | Carga los datos de un archivo |\n",
    "\n",
    "### Ejercicio\n",
    "\n",
    "Cree una matriz tamaño 4x4 y una matriz identidad. Compruebe que esta matriz es la identidad del producto de matrices. Súmele una matriz de unos. "
   ]
  },
  {
   "cell_type": "code",
   "execution_count": null,
   "metadata": {
    "collapsed": true
   },
   "outputs": [],
   "source": [
    "# Cree una matriz 4x4\n",
    "mat = np.array()\n",
    "\n",
    "# Cree la matriz identidad\n",
    "ident = \n",
    "\n",
    "# Multiplicación de matrices\n",
    "prod = np.dot(mat, ident)\n",
    "print(prod)\n",
    "\n",
    "# Sume una matriz de unos \n",
    "#    x += 1 equivale a decir a x = x + 1\n",
    "prod += \n",
    "print(prod)"
   ]
  },
  {
   "cell_type": "code",
   "execution_count": null,
   "metadata": {
    "collapsed": true
   },
   "outputs": [],
   "source": [
    "ident = np.identity(4)\n",
    "ident.shape "
   ]
  },
  {
   "cell_type": "markdown",
   "metadata": {},
   "source": [
    "## Atributos y métodos de array\n",
    "\n",
    "Los atributos de un objeto nos dicen cosas sobre él. Al igual que los métodos, se acceden con el operador punto. Los atributos más relevantes del objeto array se muestran en la tabla a continuación. Puede encontrar la documentación de los atributos [aquí](https://docs.scipy.org/doc/numpy-1.13.0/reference/arrays.ndarray.html#array-attributes). Para todos los efectos, `a` es un arreglo cualquiera de numpy. \n",
    "\n",
    "| Atributo | Descripción |\n",
    "|:-------|:------------|\n",
    "|`a.shape` | Retorna una tupla con el número de elementos por dimensión|\n",
    "|`a.ndim`  | Número de dimensiones | \n",
    "|`a.size`  | Número de elementos en el arreglo |\n",
    "| `a.dtype`| Tipo de datos almacenados en el arreglo |\n",
    "| `a.T`    | Transpuesta del arreglo |\n",
    "| `a.real` | Parte real del arreglo |\n",
    "| `a.imag` | Parte imaginaria del arreglo |\n",
    "| `a.flat` | Colapsa el arreglo a 1 dimesión |\n",
    "\n",
    "Existen otros métodos, que se exploran más adelante. Por ahora, la siguiente tabla muestra algunos tienen que ver con la *administración* del arreglo. Puede encontrar la documentación en este [enlace](https://docs.scipy.org/doc/numpy-1.13.0/reference/arrays.ndarray.html#array-methods). \n",
    "\n",
    "| Método | Descripción |\n",
    "|:-------|:------------|\n",
    "| `a.copy()` | Retorna una copia del arreglo |\n",
    "| `a.fill()` | Llena el arreglo con el valor dado |\n",
    "| `a.reshape()` | Retorna un arreglo con el shape solicitado, pero los mismos datos |\n",
    "| `a.resize()` | Cambia el tamaño y shape del arreglo sin crear una copia |\n",
    "| `a.sort()` | Ordena el arreglo |\n",
    "\n",
    "### Ejercicio"
   ]
  },
  {
   "cell_type": "code",
   "execution_count": null,
   "metadata": {
    "collapsed": true
   },
   "outputs": [],
   "source": [
    "# Cree una matriz NO cuadrada. Revice sus dimensiones con .shape\n",
    "mat = \n",
    "\n",
    "# Utilice .reshape() para cambiar la forma de la matriz\n",
    "mat_n = \n",
    "print(mat_n)\n",
    "\n",
    "# Compruebe que .size es igual a np.prod(a.shape) \n",
    "\n",
    "# Imprima el resultado de a.t, a.real, a.imag\n",
    "\n"
   ]
  },
  {
   "cell_type": "markdown",
   "metadata": {},
   "source": [
    "## Creación de rangos\n",
    "\n",
    "En muchas ocaciones es útil crear arreglos con rangos, por ejemplo, si se quiere modelar un fenómeno en función del tiempo de 1 a 10 s, es conveniente crear un arreglo `t` con pasos de 0.1s. Esto se consigue de la siguiente manera:"
   ]
  },
  {
   "cell_type": "code",
   "execution_count": null,
   "metadata": {
    "collapsed": true
   },
   "outputs": [],
   "source": [
    "t = np.arange(0, 10, 0.1)\n",
    "print(t)"
   ]
  },
  {
   "cell_type": "markdown",
   "metadata": {},
   "source": [
    "Puede explorar más sobre la creación de rangos en numpy en este [enlace](https://docs.scipy.org/doc/numpy-1.13.0/reference/routines.array-creation.html#numerical-ranges). Los más importantes son:\n",
    "\n",
    "| Función | Descripción |\n",
    "|:--------|:------------|\n",
    "| `np.arange() `   | Retorna valores homogeneamente espaciados en el rango dado, según el paso indicado |\n",
    "| `np.linspace()`  | Retorna el número de valores homogeneamente espaciados indicados en un intervalo dado |\n",
    "| `np.logspace()`  | Semejante a `linspace`, pero con espaciamiento logarítmico |\n",
    "| `np.geomspace()` | Semejante a `linspace`, siguiendo una progresión geométrica |\n",
    "| `np.meshgrid()`  | Retorna los valores de una grilla |"
   ]
  },
  {
   "cell_type": "markdown",
   "metadata": {},
   "source": [
    "## Leer y guardar datos de un archivo\n",
    "\n",
    "Muchas veces nuestros datos de entrada estarán almacenados en un archivo, posiblemente fueron la salida de otro programa. Numpy facilita cargar un archivo `csv` directamente a un arreglo. \n",
    "\n",
    "El formato `csv` no es un estándar, pero expresa una idea. Se parece a un archivo excel, donde cada valor está separado por un *caracter separador*, generalmente una coma, y cada línea tiene un *caracter de cambio de línea*, generalmente un `\\n`. Por ejemplo:"
   ]
  },
  {
   "cell_type": "raw",
   "metadata": {},
   "source": [
    "4,9,3,4,0,4,4,1,7,6\n",
    "0,0,9,1,8,4,2,5,7,9\n",
    "0,2,3,8,3,7,3,9,1,5\n",
    "2,5,0,7,0,7,8,3,5,5\n",
    "7,0,4,3,6,5,6,7,9,2\n",
    "1,1,4,4,7,5,4,0,7,5\n",
    "1,2,9,8,7,3,5,4,9,3\n",
    "3,5,6,5,0,9,5,4,8,1\n",
    "5,8,1,1,8,2,4,3,4,7\n",
    "1,6,7,0,0,7,1,4,7,3"
   ]
  },
  {
   "cell_type": "markdown",
   "metadata": {},
   "source": [
    "Para cargar un archivo `csv` se utiliza la función `loadtxt()`, puede encontrar la documentación en este [enlace](https://docs.scipy.org/doc/numpy/reference/generated/numpy.loadtxt.html). Intente carga el archivo `carga_test.csv` e imprimirlo:"
   ]
  },
  {
   "cell_type": "code",
   "execution_count": null,
   "metadata": {
    "collapsed": true
   },
   "outputs": [],
   "source": [
    "f = 'carga_test.txt'\n",
    "\n",
    "arr = np.loadtxt(f, delimiter=\",\")\n",
    "print(arr)"
   ]
  },
  {
   "cell_type": "markdown",
   "metadata": {},
   "source": [
    "Otra acción importante es poder guardar nuestros resultados en un archivo, para esto, numpy ofrece la función `savetxt`, que funciona de manera análoga a `loadtxt`. Puede encontrar la documentación [aquí](https://docs.scipy.org/doc/numpy/reference/generated/numpy.savetxt.html). Ahora cree un rango de 0 a 100 con 10 000 valores y guárdelos en un archivo llamado `tiempo_test.csv`. "
   ]
  },
  {
   "cell_type": "code",
   "execution_count": null,
   "metadata": {
    "collapsed": true
   },
   "outputs": [],
   "source": [
    "f = 'tiempo_test.txt'\n",
    "\n",
    "# Cree el vector con el rango\n",
    "arr = \n",
    "\n",
    "# Sálvelo usando np.savetxt, use la coma como separador\n",
    "np.savetxt(f, arr, )"
   ]
  },
  {
   "cell_type": "markdown",
   "metadata": {},
   "source": [
    "## Operaciones\n",
    "\n",
    "En términos generales, los arreglos de numpy se comportan como matrices de álgebra lineal. Solo tenga presente cuando una operación se realiza *entrada por entrada*. \n",
    "\n",
    "Algunos ejemplos:"
   ]
  },
  {
   "cell_type": "code",
   "execution_count": null,
   "metadata": {
    "scrolled": true
   },
   "outputs": [],
   "source": [
    "# Suma escalar, entrada por entrada\n",
    "a = np.ones(10)\n",
    "a = a + 10\n",
    "print('a + 10')\n",
    "print(a)\n",
    "\n",
    "# Suma de vectores\n",
    "b = np.full(10, 14)\n",
    "c = a + b\n",
    "print('c = a + b')\n",
    "print(c)\n",
    "\n",
    "# Multiplicacion escalar, entrada por entrada\n",
    "d = 0.5 *a\n",
    "print('d = 0.5 * a')\n",
    "print(d)\n",
    "\n",
    "# Multiplicación de vectores ¡Se hace entrada por entrada!\n",
    "e = np.array([0,1,2,3,4,5,6,7,8,9])\n",
    "f = np.ones((3,10))\n",
    "h = e * f\n",
    "print('h = e * f')\n",
    "print(h)\n",
    "\n",
    "# Multiplicación de matrices\n",
    "i = np.array([9,8,7])\n",
    "j = i.dot(h)\n",
    "print('j = i matmul j')\n",
    "print(j)"
   ]
  },
  {
   "cell_type": "markdown",
   "metadata": {},
   "source": [
    "## Operaciones de reducción\n",
    "\n",
    "Suelen expresarse como métodos del objeto array. En general, tienen como consecuencia disminuir las dimensiones del arreglo y son muy utilizados en matemáticas y física. Por ejemplo, el producto interno (producto punto) es una operación de reducción. \n",
    "\n",
    "La siguiente tabla muestra los más utilizados, puede encontrar la documentación [aquí](https://docs.scipy.org/doc/numpy-1.13.0/reference/arrays.ndarray.html#calculation).\n",
    "\n",
    "| Operación | Descripción |\n",
    "|:----------|:------------|\n",
    "| `a.argmax()` | Retorna el índice donde ocurren los valores máximos de cada eje |\n",
    "| `a.min()`    | Retorna el valor mínimo de un eje |\n",
    "| `a.argmin()` | Retorna el índice donde ocurren los valores mínimos de cada eje |\n",
    "| `a.ptp()`    | Valor pico a pico en un eje |\n",
    "| `a.conj()`   | Retorna el conjugado complejo de todos los elementos |\n",
    "| `a.round()`  | Retorna el valor redondeado de cada elemento |\n",
    "| `a.trace()`  | Retorna la suma de las diagonales del arreglo |\n",
    "| `a.sum()`    | Retorna la suma del arreglo en el eje dado |\n",
    "| `a.cumsum()` | Retorna la suma acumulativa en un eje dado |\n",
    "| `a.mean()`   | Retorna la media aritmética en un eje dado |\n",
    "| `a.var()`    | Retorna la varianza en un eje dado|\n",
    "| `a.std()`    | Retorna la desviación estándar en un eje dado |\n",
    "| `a.prod()`   | Retorna el producto en un eje dado |\n",
    "| `a.cumprod()`| Retorna el producto acumulativo en un eje dado |\n"
   ]
  },
  {
   "cell_type": "code",
   "execution_count": null,
   "metadata": {},
   "outputs": [],
   "source": [
    "edad_participantes = [10,13,17,48,75,21,32,98,75,54,66,84,12,9,32,67,56,29,45,70]\n",
    "\n",
    "# Transforme la lista a un arreglo de Python\n",
    "edad_participantes = np.array(edad_participantes)\n",
    "\n",
    "# Cambie la forma del arreglo \n",
    "edad_participantes = \n",
    "\n",
    "# Obtenga los siguientes valores GLOBALES:\n",
    "#    - Máxima\n",
    "#    - Mínima\n",
    "#    - Valor pico a pico\n",
    "#    - suma\n",
    "#    - media\n",
    "#    - desviación estándar\n",
    "\n",
    "\n",
    "# Repita la sección anterior pero en la dimensión 0 (por filas)\n"
   ]
  },
  {
   "cell_type": "markdown",
   "metadata": {},
   "source": [
    "## Funciones universales\n",
    "\n",
    "Son operaciones muy rápidas que se aplican a todas las entradas de un arreglo, por ejemplo, raíz cuadrada, seno, logaritmo. También incluyen los operadore de comparación y operadores lógicos (mayor que, menor que, and, or, ...). Deben usarse tanto como sea posible. Puede encontrar la lista completa de funciones universales en este [enlace](https://docs.scipy.org/doc/numpy-1.13.0/reference/ufuncs.html#math-operations)"
   ]
  },
  {
   "cell_type": "code",
   "execution_count": null,
   "metadata": {},
   "outputs": [],
   "source": [
    "a = np.linspace(0,10,11)\n",
    "print('Original: ' + str(a))\n",
    "a = np.power(a, 2)\n",
    "print('a^2: ' + str(a))\n",
    "a = np.sqrt(a)\n",
    "print('raiz cuadrada: ' + str(a))\n",
    "a = np.sin(a)\n",
    "print('sin(a): ' + str(a))"
   ]
  },
  {
   "cell_type": "markdown",
   "metadata": {},
   "source": [
    "### Ejercicios\n",
    "\n",
    "Muestre que la identidad\n",
    "\n",
    "$\\sin^2(\\theta) + \\cos^2(\\theta) = 1$\n",
    "\n",
    "Se cumple para todo $\\theta < 15 \\quad \\text{donde} \\quad \\theta \\in \\mathcal{N}$ "
   ]
  },
  {
   "cell_type": "code",
   "execution_count": null,
   "metadata": {},
   "outputs": [],
   "source": []
  },
  {
   "cell_type": "markdown",
   "metadata": {},
   "source": [
    "Muestre para un arreglo de flotantes con al menos 25 elementos, que la ecuación de de Euler es cierta:\n",
    "\n",
    "$e^{ix} = \\cos(\\theta) + i\\sin(\\theta)$\n",
    "\n",
    "Evalúe la ecuación en el punto $\\theta = \\pi$, ¿le parece esto un ejemplo de belleza matemática?"
   ]
  },
  {
   "cell_type": "code",
   "execution_count": null,
   "metadata": {
    "collapsed": true
   },
   "outputs": [],
   "source": []
  },
  {
   "cell_type": "markdown",
   "metadata": {},
   "source": [
    "## Sintaxis de *slicing*\n",
    "\n",
    "Al igual que las listas, los arreglos de numpy permiten acceso indexado y *slicing*, pero su modelo es superior y más flexible. Un slice se puede obtener siguiendo la construcción `inicio:final:paso`.  "
   ]
  },
  {
   "cell_type": "code",
   "execution_count": null,
   "metadata": {
    "collapsed": true
   },
   "outputs": [],
   "source": [
    "a = np.linspace(0, 10, 11)\n",
    "\n",
    "# todos\n",
    "print(a[:])\n",
    "\n",
    "# en la posición 4 = 11 - 7\n",
    "print(a[-7])\n",
    "\n",
    "# de 3 a 8\n",
    "print(a[3:8])\n",
    "\n",
    "# de 1 a 9 en pasos de dos (los impares)\n",
    "print(a[1:11:2])\n",
    "\n",
    "# También soporta índeces negativos \n",
    "print(a[3:-2:2])"
   ]
  },
  {
   "cell_type": "markdown",
   "metadata": {},
   "source": [
    "Una forma muy común de slicing es tomar todos los anteriores o todos los posteriores a un índice dado:"
   ]
  },
  {
   "cell_type": "code",
   "execution_count": null,
   "metadata": {
    "collapsed": true
   },
   "outputs": [],
   "source": [
    "# desde cero hasta 5-1\n",
    "print(a[:5])\n",
    "\n",
    "# desde 5 hasta el final\n",
    "print(a[5:])"
   ]
  },
  {
   "cell_type": "markdown",
   "metadata": {},
   "source": [
    "Una forma avanzada es utilizar una condición booleana para seleccionar los elementos:"
   ]
  },
  {
   "cell_type": "code",
   "execution_count": null,
   "metadata": {
    "collapsed": true
   },
   "outputs": [],
   "source": [
    "# todos los valores mayores a 4\n",
    "print(a[a > 4] + 6)"
   ]
  },
  {
   "cell_type": "markdown",
   "metadata": {},
   "source": [
    "Cuando los arreglos son multidimensionales, se utiliza coma para separar los índices dentro de los paréntesis cuadrados. A cada índice se le puede aplicar una operación de slicing. `:` significa todo. "
   ]
  },
  {
   "cell_type": "code",
   "execution_count": null,
   "metadata": {},
   "outputs": [],
   "source": [
    "mat = np.arange(0, 20, 1).reshape((4,5))\n",
    "print(mat)\n",
    "print(mat[1:4, 3:])"
   ]
  },
  {
   "cell_type": "markdown",
   "metadata": {},
   "source": [
    "### Ejercicio\n",
    "\n",
    "Utilize el *slicing booleano* para obtener todos los números divisibles por 2, 3, 5, 7, 9 y 11. Intente usar un ciclo for. "
   ]
  },
  {
   "cell_type": "code",
   "execution_count": null,
   "metadata": {
    "collapsed": true
   },
   "outputs": [],
   "source": [
    "a = np.linspace(1, 50, 50)\n",
    "div = [2,3,5,7,9,11]\n",
    "\n"
   ]
  }
 ],
 "metadata": {
  "kernelspec": {
   "display_name": "Python 3",
   "language": "python",
   "name": "python3"
  },
  "language_info": {
   "codemirror_mode": {
    "name": "ipython",
    "version": 3
   },
   "file_extension": ".py",
   "mimetype": "text/x-python",
   "name": "python",
   "nbconvert_exporter": "python",
   "pygments_lexer": "ipython3",
   "version": "3.6.0"
  }
 },
 "nbformat": 4,
 "nbformat_minor": 2
}
