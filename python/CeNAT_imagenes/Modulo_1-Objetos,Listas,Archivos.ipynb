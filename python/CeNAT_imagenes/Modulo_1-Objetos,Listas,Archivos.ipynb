{
 "cells": [
  {
   "cell_type": "markdown",
   "metadata": {},
   "source": [
    "# Modulo 1\n",
    "\n",
    "En este módulo exploraremos el concepto de *objeto*, aprenderemos a escribir código con *list comprehension*, abrir archivos y escribir en ellos. \n",
    "\n",
    "__Contenidos:__\n",
    "\n",
    "+ ¿Qué es un objeto?\n",
    "+ List comprehension\n",
    "+ Manejo de archivos"
   ]
  },
  {
   "cell_type": "markdown",
   "metadata": {},
   "source": [
    "# ¿Qué es un objeto?\n",
    "\n",
    "Es un concepto muy popular en computación, consiste en que los tipos, además de datos, tengan asociadas una serie de funciones. Por ejemplo, los objetos ``string`` tiene un método ``lower``, que convierte todas las letras a minúscula:"
   ]
  },
  {
   "cell_type": "code",
   "execution_count": null,
   "metadata": {},
   "outputs": [],
   "source": [
    "a = \"HOLA MUNDO\"\n",
    "print(a.lower())"
   ]
  },
  {
   "cell_type": "markdown",
   "metadata": {},
   "source": [
    "Puede revisar todos los métodos de la clase ``string`` en este [enlace](https://docs.python.org/3.5/library/stdtypes.html?#text-sequence-type-str). Un método muy útil de ``str`` es ``split()``, que retorna una lista de las palabras separadas por el parámetro dado, por ejemplo:"
   ]
  },
  {
   "cell_type": "code",
   "execution_count": null,
   "metadata": {},
   "outputs": [],
   "source": [
    "frase = \"fue el tiempo que pasaste con con con con tu rosa lo que la hizo tan importante\"\n",
    "print(frase.split())\n",
    "numeros = \"1,2,3,4,5,6\"\n",
    "print(numeros.split(','))"
   ]
  },
  {
   "cell_type": "markdown",
   "metadata": {},
   "source": [
    "### Ejercicio\n",
    "\n",
    "Tome la frase anterior y transfórmela, de manera que las palabras con la vocal `e` aparezcan en mayúscula."
   ]
  },
  {
   "cell_type": "code",
   "execution_count": null,
   "metadata": {},
   "outputs": [],
   "source": [
    "# sugerencia: en python, es posible sumar str, por ejemplo, 'uno' + ' y ' + 'dos' == 'uno y dos' \n",
    "\n",
    "nueva_frase = \"\"\n",
    "\n",
    "# su código\n",
    "        \n",
    "print(nueva_frase)"
   ]
  },
  {
   "cell_type": "markdown",
   "metadata": {},
   "source": [
    "# Listas\n",
    "\n",
    "Son un objeto que nos permite agrupar valores de diferente tipo, por ejemplo:"
   ]
  },
  {
   "cell_type": "code",
   "execution_count": null,
   "metadata": {},
   "outputs": [],
   "source": [
    "lista = [1,2,'tres',3+1, 'cinco']\n",
    "print(lista)\n",
    "\n",
    "for elemento in lista:\n",
    "        print(elemento)"
   ]
  },
  {
   "cell_type": "markdown",
   "metadata": {},
   "source": [
    "Al igual que los `str`, hay muchos métodos útiles para las listas, puede explorarlos en este [enlace](https://docs.python.org/3.5/tutorial/datastructures.html#more-on-lists). Un ejemplo:"
   ]
  },
  {
   "cell_type": "code",
   "execution_count": null,
   "metadata": {},
   "outputs": [],
   "source": [
    "\n",
    "f = frase.split() # ahora esto es una lista\n",
    "f.sort() # ordena la lista \n",
    "print(f)"
   ]
  },
  {
   "cell_type": "code",
   "execution_count": null,
   "metadata": {},
   "outputs": [],
   "source": [
    "# remueve las palabras de unión\n",
    "join_words = ['con', 'el', 'la', 'que', 'lo']\n",
    "for p in join_words:\n",
    "    while p in f:\n",
    "        f.remove(p)\n",
    "print(f)"
   ]
  },
  {
   "cell_type": "markdown",
   "metadata": {},
   "source": [
    "Las listas son objetos indexados, es decir, podemos acceder a sus elementos a través de índices, siguiendo esta idea \n",
    "\n",
    "__lista[indice_inicio:indice_final:pasos]__\n",
    "\n",
    "Siempre debe especificarse el `indice_final`, si los otros dos no se especifican el programa entiende que \n",
    "\n",
    "__lista[0:indice_final:1]__\n",
    "\n",
    "por ejemplo:"
   ]
  },
  {
   "cell_type": "code",
   "execution_count": null,
   "metadata": {},
   "outputs": [],
   "source": [
    "lista = [1,2,3,4,5,6,\"siete\", \"ocho\", 9, \"diez\"]\n",
    "\n",
    "print(lista)\n",
    "print(\"lista[0] \"   + str(lista[0]))\n",
    "print(\"lista[2] \"   + str(lista[2]))\n",
    "print(\"lista[4] \"   + str(lista[4]))\n",
    "print(\"lista[6] \"   + str(lista[6]))\n",
    "print(\"lista[8] \"   + str(lista[8]))\n",
    "print(\"lista[-1] \"  + str(lista[-1]))\n",
    "print(\"lista[3:6] \" + str(lista[3:6]))\n",
    "print(\"lista[0:-1:2] \" + str(lista[0:-1:2]))"
   ]
  },
  {
   "cell_type": "markdown",
   "metadata": {},
   "source": [
    "# List comprehension\n",
    "\n",
    "Hay una forma muy práctica de escribir operaciones sobre listas, se conoce como compresión de listas, para ilustrarlo, observe como se resuelven los ejercicios anteriores:"
   ]
  },
  {
   "cell_type": "code",
   "execution_count": null,
   "metadata": {
    "collapsed": true
   },
   "outputs": [],
   "source": [
    "# En mayúscula las palabras que incluyen la vocal e\n",
    "nueva_frase = [i.upper() if 'e' in i else i for i in frase.split()]\n",
    "nueva_frase = ' '.join(nueva_frase)\n",
    "print(nueva_frase)\n",
    "\n",
    "# Remover las palabas de unión\\\n",
    "f = [p for p in frase.split() if not p in join_words]\n",
    "print(f)"
   ]
  },
  {
   "cell_type": "markdown",
   "metadata": {},
   "source": [
    "List comprehension también facilita evaluar funciones, por ejemplo, la función  $f(x) = x^2 +1$ :"
   ]
  },
  {
   "cell_type": "code",
   "execution_count": null,
   "metadata": {
    "collapsed": true
   },
   "outputs": [],
   "source": [
    "def f(x):\n",
    "    return x**2 + 1\n",
    "\n",
    "t = [t for t in range(10)]\n",
    "y = [f(x) for x in t]\n",
    "\n",
    "print(t)\n",
    "print(y)"
   ]
  },
  {
   "cell_type": "markdown",
   "metadata": {},
   "source": [
    "### Ejercicios \n",
    "\n",
    "+ Escriba un programa que sume todos los números de una lista.\n",
    "+ Escriba un programa que encuentre el valor más alto de una lista. \n",
    "+ Escriba un programa que verifique si dos listas contienen los mismos elementos. \n",
    "+ Escriba un programa que remueva los elementos duplicados.\n",
    "+ Escriba un programa que retorne la intersección de dos listas. \n",
    "+ Escriba un programa que retorne la unión de dos listas, sin elementos repetidos. "
   ]
  },
  {
   "cell_type": "code",
   "execution_count": null,
   "metadata": {
    "collapsed": true
   },
   "outputs": [],
   "source": []
  },
  {
   "cell_type": "markdown",
   "metadata": {},
   "source": [
    "# Manejo de archivos\n",
    "\n",
    "Los archivos de texto plano son la manera estándar más simple para almacenar y recuperar datos. En este módulo aprenderemos a abrir un archivo, leer, escribir y cerrar archivos. \n",
    "\n",
    "En python, los archivos se abren con la función `open(archivo, modo)`. El parámetro `archivo` es la dirección y nombre del archivo, el parámetro `modo` especifica para que se va a utiliar el archivo, la siguiente tabla muestra los posibles valores:\n",
    "\n",
    "| Modo | Descripción                                                        |\n",
    "|------|--------------------------------------------------------------------|\n",
    "| 'r'  | Solo lectura (opción por defecto)                                  |\n",
    "| 'w'  |  Solo escritura. Si el archivo existe, borra el contenido          |\n",
    "| 'x'  | Intenta crear un archivo, si ya existe, crea un error              |\n",
    "| 'a'  | Solo escritura. Si el archivo existe, comienza a escribir al final |\n",
    "| 'b'  | Modo binario                                                       |\n",
    "| 't'  | Modo texto (opción por defecto)                                    |\n",
    "| '+'  | Lectura y escritura                                                |\n",
    "\n",
    "Los modos puede combinarse, por ejemplo, habrir un archivo binario en modo escritura `wb` o abrir un archivo para lectura y escritura, pero borrando el contenido `w+`. \n",
    "\n",
    "La función `open()` retorna un objeto `file` y debemos interactuar con él a través de sus métodos, puede explorarlos en el siguiente [enlace](https://docs.python.org/3.5/tutorial/inputoutput.html#methods-of-file-objects). \n",
    "\n",
    "Ahora, observe el siguiente ejemplo:"
   ]
  },
  {
   "cell_type": "code",
   "execution_count": null,
   "metadata": {
    "collapsed": true
   },
   "outputs": [],
   "source": [
    "margarita = '''Margarita está linda la mar,\n",
    "y el viento,\n",
    "lleva esencia sutil de azahar;\n",
    "yo siento\n",
    "en el alma una alondra cantar;\n",
    "tu acento:\n",
    "Margarita, te voy a contar\n",
    "un cuento: '''\n",
    "\n",
    "f = open(\"nuevo/prueba.txt\", 'w')\n",
    "\n",
    "for caracter in margarita:\n",
    "    f.write(caracter)\n",
    "\n",
    "f.close()"
   ]
  },
  {
   "cell_type": "markdown",
   "metadata": {},
   "source": [
    "Ahora vaya al *home* de Jupyter y comprebe que efectivamente exite un nuevo archivo llamado `prueba.txt`. Dando click en él puede examinar el contenido ¿Es igual que el texto anterior? \n",
    "\n",
    "Intente cambiando el nombre y el texto y compruebe que todo funciona según lo esperado.\n",
    "\n",
    "__Atención:__ note el método `file.close()`. Cuando trabajamos con archivos, es muy importante recordar cerrarlos, de otra manera, podemos perder los datos. \n",
    "\n",
    "\n",
    "Los objetos `file` tiene algún parecido con las listas, por ejemplo, podemos iterar sobre ellos para leerlos:"
   ]
  },
  {
   "cell_type": "code",
   "execution_count": null,
   "metadata": {},
   "outputs": [],
   "source": [
    "f = open('prueba.txt')\n",
    "\n",
    "for line in f:\n",
    "    print(line, end=\"\")\n",
    "    "
   ]
  },
  {
   "cell_type": "markdown",
   "metadata": {},
   "source": [
    "Sin embargo, los archivos no son indexados, es decir, `file[3]` no tiene sentido y provocará un error (¡inténtelo!). Los archivos solo se pueden leer de namera secuencial (como un pergamino), si queremos volver al inicio, debemos utilizar la funcion `file.seek()` (más info [aquí](https://docs.python.org/3.5/tutorial/inputoutput.html#methods-of-file-objects))"
   ]
  },
  {
   "cell_type": "code",
   "execution_count": null,
   "metadata": {
    "collapsed": true
   },
   "outputs": [],
   "source": [
    "# Ya llegamos al final del archivo, no hay nada más que leer\n",
    "\n",
    "for line in f:\n",
    "    print(f)"
   ]
  },
  {
   "cell_type": "code",
   "execution_count": null,
   "metadata": {
    "collapsed": true
   },
   "outputs": [],
   "source": [
    "# Utilizamos seek para volver al inicio\n",
    "f.seek(0)\n",
    "for line in f:\n",
    "    print(line, end=\"\")\n",
    "\n",
    "# Recuerde cerrar los archivos\n",
    "f.close()"
   ]
  },
  {
   "cell_type": "markdown",
   "metadata": {},
   "source": [
    "### Ejercicio \n",
    "\n",
    "Los sistems *nix comúnmente viene con un programa llamado `wc`, de `word count`. Este programa lee un archivo e imprime el número de líneas, palabras y caracteres en él. Intente crear una réplica de `wc` en python."
   ]
  },
  {
   "cell_type": "code",
   "execution_count": null,
   "metadata": {
    "collapsed": true
   },
   "outputs": [],
   "source": [
    "# asigne un nombre al archivo\n",
    "archivo = \"\"\n",
    "\n",
    "num_lineas     = 0\n",
    "num_palabras   = 0\n",
    "num_caracteres = 0\n",
    "\n",
    "# Abra el archivo\n",
    "\n",
    "\n",
    "# Construya su solulción de manera progresiva:\n",
    "#     Itere sobre el archivo, en cada iteración, sume +1 a num_lineas\n",
    "#     Divida cada linea en palabras, sume la longitud de esa lista a num_palabras\n",
    "#     Itere sobre la lista de palabras, para cada palabra, sume su longitud a num_caracteres\n",
    "\n"
   ]
  }
 ],
 "metadata": {
  "kernelspec": {
   "display_name": "Python 3",
   "language": "python",
   "name": "python3"
  },
  "language_info": {
   "codemirror_mode": {
    "name": "ipython",
    "version": 3
   },
   "file_extension": ".py",
   "mimetype": "text/x-python",
   "name": "python",
   "nbconvert_exporter": "python",
   "pygments_lexer": "ipython3",
   "version": "3.6.0"
  }
 },
 "nbformat": 4,
 "nbformat_minor": 2
}
