{
 "cells": [
  {
   "cell_type": "markdown",
   "metadata": {},
   "source": [
    "# Módulo 0: recordando Python\n",
    "\n",
    "En este módulo vamos a recordar, rápidamente, cómo escribir algunos *statments* de Python. \n",
    "\n",
    "__Contenidos:__\n",
    "\n",
    "+ Variables\n",
    "+ Operadores\n",
    "+ if, elif, else\n",
    "+ listas, for loops\n",
    "+ while loop\n",
    "+ funciones\n"
   ]
  },
  {
   "cell_type": "markdown",
   "metadata": {},
   "source": [
    "El operador % se conoce como *operador módulo*, significa el residuo de la división, por ejemplo:"
   ]
  },
  {
   "cell_type": "code",
   "execution_count": null,
   "metadata": {},
   "outputs": [],
   "source": [
    "print(4 % 2) \n",
    "print(25 % 3)"
   ]
  },
  {
   "cell_type": "markdown",
   "metadata": {},
   "source": [
    "Este es un operador binario, es decir, requiere dos elementos para funcionar, otros operadores binarios comunes son: +, -, \\*, /, \\*\\*. \n",
    "\n",
    "Utilizando el operador módulo, podemos hacer una función que decida si un número es par o impar:"
   ]
  },
  {
   "cell_type": "code",
   "execution_count": null,
   "metadata": {
    "collapsed": true
   },
   "outputs": [],
   "source": [
    "def es_par(num):\n",
    "    return num % 2 == 0"
   ]
  },
  {
   "cell_type": "markdown",
   "metadata": {},
   "source": [
    "Ahora, evalúe la función ``es_par()`` con varios argumentos:"
   ]
  },
  {
   "cell_type": "code",
   "execution_count": null,
   "metadata": {},
   "outputs": [],
   "source": [
    "print(es_par())\n",
    "print(es_par())\n",
    "print(es_par())\n",
    "print(es_par())\n",
    "print(es_par())"
   ]
  },
  {
   "cell_type": "markdown",
   "metadata": {},
   "source": [
    "Supongamos que deseamos evaluar la paridad de todos los números desde 0 hasta algún máximo, para esto, podemos utilizar un ``for loop`` junto con el iterador ``range()``, asigne a ``n`` un valor menor a 10 y observe: "
   ]
  },
  {
   "cell_type": "code",
   "execution_count": null,
   "metadata": {},
   "outputs": [],
   "source": [
    "n = \n",
    "for num in range(n):\n",
    "    print(\"Es \" + str(num) + \" par? \" + \"R/ \" + str(es_par(num)))"
   ]
  },
  {
   "cell_type": "markdown",
   "metadata": {},
   "source": [
    "En el pre-taller, nos presentaron las ``listas``, una estructura de datos que nos permitía agrupar cosas con un nombre, por ejemplo, el conjuno de los números primos menores que 10: "
   ]
  },
  {
   "cell_type": "code",
   "execution_count": null,
   "metadata": {
    "collapsed": true
   },
   "outputs": [],
   "source": [
    "primos = [2,3,5,7,11,13,17,19,23,29,31,37,41,43,47,53,59,61,67,71,73,79,83,89,97]"
   ]
  },
  {
   "cell_type": "markdown",
   "metadata": {},
   "source": [
    "Las listas las podemos recorrer elemento por elemento:"
   ]
  },
  {
   "cell_type": "code",
   "execution_count": null,
   "metadata": {},
   "outputs": [],
   "source": [
    "for num in primos:\n",
    "    print(str(num) + \" \", end=\"\")"
   ]
  },
  {
   "cell_type": "markdown",
   "metadata": {},
   "source": [
    "Con ayuda de la función ``es_par()`` podemos hacer una lista de todos los números impares menores que ``n`` e imprimirlos en pantalla: "
   ]
  },
  {
   "cell_type": "code",
   "execution_count": null,
   "metadata": {},
   "outputs": [],
   "source": [
    "impares = []\n",
    "n = \n",
    "for num in range(n):\n",
    "    if not es_par(num):\n",
    "        impares.append(num)\n",
    "\n",
    "for num in impares:\n",
    "    print(str(num) + \" \", end=\"\")"
   ]
  },
  {
   "cell_type": "markdown",
   "metadata": {},
   "source": [
    "## Ejercicios\n",
    "\n",
    "### 1.\n",
    "\n",
    "Modifique la función ``es_par`` para recibir dos parámetros y evalúe si el primero es divisible por el segundo, llámela ``es_div``, por ejemplo, ``es_div(10, 2)`` es ``true``, ``es_div(10,3)`` es ``false``."
   ]
  },
  {
   "cell_type": "code",
   "execution_count": null,
   "metadata": {
    "collapsed": true
   },
   "outputs": [],
   "source": [
    "def es_div(num, div):\n",
    "    # su código"
   ]
  },
  {
   "cell_type": "markdown",
   "metadata": {},
   "source": [
    "Utilice la función ``es_div`` para crear otra, que recibe un valor entero ``num`` y retorna una lista con todos sus divisores."
   ]
  },
  {
   "cell_type": "code",
   "execution_count": null,
   "metadata": {
    "collapsed": true
   },
   "outputs": [],
   "source": [
    "def divisores(num):\n",
    "    divisores = []\n",
    "    # su código\n",
    "    return divisores"
   ]
  },
  {
   "cell_type": "markdown",
   "metadata": {},
   "source": [
    "### 2.\n",
    "\n",
    "Cree una función que reciba un parámetro entero. Si la raíz cuadrada del número es mayor que 97, retorna una lista vacía, para los otros casos, retorne una lista con los factores primos del número. Puede encontrar la solución en el archivo ``modulo0_respuesta``. Usar la lista primos podría ser una buena idea. "
   ]
  },
  {
   "cell_type": "code",
   "execution_count": null,
   "metadata": {
    "collapsed": true
   },
   "outputs": [],
   "source": [
    "import math \n",
    "\n",
    "def factores(num):\n",
    "    fact = []\n",
    "    if math.sqrt(n) < 97:\n",
    "        # Su código\n",
    "    return fact"
   ]
  }
 ],
 "metadata": {
  "kernelspec": {
   "display_name": "Python 3",
   "language": "python",
   "name": "python3"
  },
  "language_info": {
   "codemirror_mode": {
    "name": "ipython",
    "version": 3
   },
   "file_extension": ".py",
   "mimetype": "text/x-python",
   "name": "python",
   "nbconvert_exporter": "python",
   "pygments_lexer": "ipython3",
   "version": "3.6.0"
  }
 },
 "nbformat": 4,
 "nbformat_minor": 2
}
