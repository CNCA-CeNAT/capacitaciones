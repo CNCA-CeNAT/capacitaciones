{
 "cells": [
  {
   "cell_type": "markdown",
   "metadata": {},
   "source": [
    "# Cuaderno de práctica\n",
    "![Programando](https://s-media-cache-ak0.pinimg.com/736x/ab/80/e9/ab80e9fc1f771001c8b48bddf74f92d2--emoticon-emoji.jpg \"No tengo idea de lo que estoy haciendo\")\n",
    "\n"
   ]
  },
  {
   "cell_type": "markdown",
   "metadata": {},
   "source": [
    "## Operaciones básicas\n",
    "\n",
    "1. Cargar una imagen de internet\n",
    "2. Visualizar la imagen usando matplotlib (editar los ejes, título, etc)\n",
    "3. Salvar la imagen"
   ]
  },
  {
   "cell_type": "code",
   "execution_count": null,
   "metadata": {
    "collapsed": true
   },
   "outputs": [],
   "source": []
  },
  {
   "cell_type": "markdown",
   "metadata": {},
   "source": [
    "## Preprocesamiento\n",
    "\n",
    "1. Cargar la imagen que se encuentra en este mismo directorio, llamada \"Prueba1.jpg\" \n",
    "2. Pasarla a escala de grises\n",
    "3. Aplicarle el operador erosión\n",
    "4. Visualizarla usando matplotlib"
   ]
  },
  {
   "cell_type": "code",
   "execution_count": null,
   "metadata": {
    "collapsed": true
   },
   "outputs": [],
   "source": []
  },
  {
   "cell_type": "markdown",
   "metadata": {},
   "source": [
    "## Segmentación\n",
    "\n",
    "1. Utilice la imagen y procedimiento del ejercicio anterior\n",
    "2. Cuente las partículas que hay en la imagen"
   ]
  },
  {
   "cell_type": "code",
   "execution_count": null,
   "metadata": {
    "collapsed": true
   },
   "outputs": [],
   "source": []
  },
  {
   "cell_type": "markdown",
   "metadata": {},
   "source": [
    "## Agrupamiento y clasificación\n",
    "1. Cargar la imagen que se encuentra en este mismo directorio, llamada \"Prueba2.jpg\"\n",
    "2. Utilizar el método de agrupamiento k-means\n",
    "3. Utilizar las técnicas de procesamiento necesarias para obtener un mejor agrupamiento"
   ]
  },
  {
   "cell_type": "code",
   "execution_count": null,
   "metadata": {
    "collapsed": true
   },
   "outputs": [],
   "source": []
  }
 ],
 "metadata": {
  "kernelspec": {
   "display_name": "Python 3",
   "language": "python",
   "name": "python3"
  },
  "language_info": {
   "codemirror_mode": {
    "name": "ipython",
    "version": 3
   },
   "file_extension": ".py",
   "mimetype": "text/x-python",
   "name": "python",
   "nbconvert_exporter": "python",
   "pygments_lexer": "ipython3",
   "version": "3.6.2"
  }
 },
 "nbformat": 4,
 "nbformat_minor": 2
}
