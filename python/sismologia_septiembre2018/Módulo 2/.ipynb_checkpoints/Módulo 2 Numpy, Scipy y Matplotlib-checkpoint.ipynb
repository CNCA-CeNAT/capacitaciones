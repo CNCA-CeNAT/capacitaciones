{
 "cells": [
  {
   "cell_type": "markdown",
   "metadata": {
    "slideshow": {
     "slide_type": "slide"
    }
   },
   "source": [
    "# Introducción a Numpy y Scipy\n",
    "\n",
    "- Numpy es la biblioteca central de computación científica en Python\n",
    "- Contiene (entre muchas otras cosas): \n",
    "  - Un poderoso objeto array (arreglo) multidimensional\n",
    "  - Funciones de álgebra linea, transformada de Fourier y otras funciones matemáticas de alto nivel para trabajar con estos arrays\n",
    "  \n",
    "<img src=\"numpy.jpg\">"
   ]
  },
  {
   "cell_type": "markdown",
   "metadata": {
    "slideshow": {
     "slide_type": "slide"
    }
   },
   "source": [
    "# Convención de importación\n",
    "- Existe un estándar de importación de numpy (no es obligatorio, pero en mucha de la documentación e información en línea se encontrará así)\n"
   ]
  },
  {
   "cell_type": "code",
   "execution_count": 21,
   "metadata": {
    "slideshow": {
     "slide_type": "slide"
    }
   },
   "outputs": [],
   "source": [
    "import numpy as np"
   ]
  },
  {
   "cell_type": "markdown",
   "metadata": {
    "slideshow": {
     "slide_type": "slide"
    }
   },
   "source": [
    "# Arrays\n",
    "- Al igual que una lista, es un conjunto ordenado de valores, pero existen algunas diferencias importantes entre listas y arrays:\n",
    "    - El número de elementos en un array es fijo\n",
    "    - Los elementos de un array deben de ser todos del mismo tipo. No se pueden mezclar distintos tipos de datos en un mismo array y una vez que se crea, el tipo de datos no se puede cambiar\n",
    "    \n",
    "- Las ventajas que presenta utilizar arrays sobre listas normales de python incluyen:\n",
    "    - Pueden ser n-dimensionales, desde matrices bidimensionales hasta estructuras más complejas. Por contraste, las listas siempre son unidimensionales\n",
    "    - Los arrays se comportan como vectores o matrices en álgebra: Se le pueden aplicar operaciones aritméticas\n",
    "    - Funcionan más rápido que las listas. Especialmente si se tiene una cantidad de datos muy grande"
   ]
  },
  {
   "cell_type": "code",
   "execution_count": 2,
   "metadata": {
    "slideshow": {
     "slide_type": "slide"
    }
   },
   "outputs": [
    {
     "name": "stdout",
     "output_type": "stream",
     "text": [
      "[ 0.  0.  0.  0.]\n",
      "float64\n",
      "------------------------------------------------\n",
      "[0 0 0 0]\n",
      "int64\n",
      "------------------------------------------------\n",
      "[ 0.+0.j  0.+0.j  0.+0.j  0.+0.j]\n",
      "complex128\n",
      "------------------------------------------------\n"
     ]
    }
   ],
   "source": [
    "# Creamos un array de una dimensión con cero en cada una de sus entradas\n",
    "a = np.zeros(4)\n",
    "print (a)\n",
    "print (a.dtype) ## Indica el tipo de datos del array\n",
    "print(\"------------------------------------------------\")\n",
    "a = np.zeros(4, int)\n",
    "print (a)\n",
    "print (a.dtype)\n",
    "print(\"------------------------------------------------\")\n",
    "a = np.zeros(4, complex)\n",
    "print(a)\n",
    "print (a.dtype)\n",
    "print(\"------------------------------------------------\")\n"
   ]
  },
  {
   "cell_type": "markdown",
   "metadata": {
    "slideshow": {
     "slide_type": "slide"
    }
   },
   "source": [
    "- Nótese que los arrays se imprimen en consola de manera distinta a las listas, no hay comas entre los valores, sólo espacios\n",
    "- No es necesario indicar el tipo de datos que se desea crear (como en el caso primero), por defecto se crean floats\n",
    "\n",
    "- También se pueden crear arreglos multidimensionales"
   ]
  },
  {
   "cell_type": "code",
   "execution_count": 7,
   "metadata": {},
   "outputs": [
    {
     "name": "stdout",
     "output_type": "stream",
     "text": [
      "[[ 0.  0.  0.]\n",
      " [ 0.  0.  0.]]\n",
      "------------------------------------------------\n",
      "[[[ 0.  0.  0.  0.  0.]\n",
      "  [ 0.  0.  0.  0.  0.]\n",
      "  [ 0.  0.  0.  0.  0.]]\n",
      "\n",
      " [[ 0.  0.  0.  0.  0.]\n",
      "  [ 0.  0.  0.  0.  0.]\n",
      "  [ 0.  0.  0.  0.  0.]]\n",
      "\n",
      " [[ 0.  0.  0.  0.  0.]\n",
      "  [ 0.  0.  0.  0.  0.]\n",
      "  [ 0.  0.  0.  0.  0.]]\n",
      "\n",
      " [[ 0.  0.  0.  0.  0.]\n",
      "  [ 0.  0.  0.  0.  0.]\n",
      "  [ 0.  0.  0.  0.  0.]]]\n"
     ]
    }
   ],
   "source": [
    "a = np.zeros((2,3))\n",
    "print(a)\n",
    "print(\"------------------------------------------------\")\n",
    "\n",
    "a = np.zeros((4,3,5))\n",
    "print (a)"
   ]
  },
  {
   "cell_type": "markdown",
   "metadata": {
    "slideshow": {
     "slide_type": "slide"
    }
   },
   "source": [
    "### Nótese que el argumento de tamaño es un único valor (lista o tupla) que contiene el tamaño del array en todas las dimensiones que se desee\n",
    "\n",
    "\n",
    "- Se le puede especificar un conjunto de valores a partir de los cuales se creará el array\n",
    "- O se puede crear especificándole un rango mediante la función arange\n"
   ]
  },
  {
   "cell_type": "code",
   "execution_count": 15,
   "metadata": {
    "scrolled": true,
    "slideshow": {
     "slide_type": "slide"
    }
   },
   "outputs": [
    {
     "name": "stdout",
     "output_type": "stream",
     "text": [
      "[[ 1.2  3.5  5.1]\n",
      " [ 4.4  6.3  9.8]]\n",
      "------------------------------------------------\n",
      "[ 0  1  2  3  4  5  6  7  8  9 10 11 12 13 14]\n",
      "------------------------------------------------\n",
      "[[ 0  1  2  3  4]\n",
      " [ 5  6  7  8  9]\n",
      " [10 11 12 13 14]]\n",
      "------------------------------------------------\n",
      "[[ 0.80525388  0.42434442]\n",
      " [ 0.6946299   0.60633299]]\n"
     ]
    }
   ],
   "source": [
    "lista = [[1.2, 3.5, 5.1],[4.4, 6.3, 9.8]]\n",
    "b = np.array(lista) # Creación a partir de valores\n",
    "print (b)\n",
    "print(\"------------------------------------------------\")\n",
    "c = np.arange(15)\n",
    "print(c)\n",
    "print(\"------------------------------------------------\")\n",
    "c = c.reshape((3,5))\n",
    "print(c)\n",
    "print(\"------------------------------------------------\")\n",
    "aleatorios = np.random.random((2,2))  # Creación a partir de números aleatorios\n",
    "print(aleatorios) "
   ]
  },
  {
   "cell_type": "markdown",
   "metadata": {},
   "source": [
    "# Ejercicio\n",
    "\n",
    "### Cree dos arrays de numpy de la misma longitud a partir de listas de números secuenciales, pero que tengan distintos números"
   ]
  },
  {
   "cell_type": "markdown",
   "metadata": {},
   "source": [
    "### Si utilizamos el operador suma (+) en listas, pasa lo siguiente:"
   ]
  },
  {
   "cell_type": "code",
   "execution_count": 20,
   "metadata": {},
   "outputs": [
    {
     "name": "stdout",
     "output_type": "stream",
     "text": [
      "[1, 2, 3, 4, 3, 22]\n"
     ]
    }
   ],
   "source": [
    "lista1 = [1,2,3]\n",
    "lista2 = [4,3,22]\n",
    "lista3 = lista1 + lista2\n",
    "\n",
    "print(lista3)"
   ]
  },
  {
   "cell_type": "markdown",
   "metadata": {},
   "source": [
    "### Con arrays de numpy pasa lo siguiente"
   ]
  },
  {
   "cell_type": "code",
   "execution_count": 21,
   "metadata": {},
   "outputs": [
    {
     "name": "stdout",
     "output_type": "stream",
     "text": [
      "[ 5  5 25]\n"
     ]
    }
   ],
   "source": [
    "array1 = np.array(lista1)\n",
    "array2 = np.array(lista2)\n",
    "array3 = array1 + array2\n",
    "\n",
    "print (array3)"
   ]
  },
  {
   "cell_type": "markdown",
   "metadata": {
    "slideshow": {
     "slide_type": "slide"
    }
   },
   "source": [
    "# Operaciones\n",
    "- Las operaciones de suma, resta, multiplicación y división de escalares se aplican a todos los elementos\n",
    "- Las operaciones entre arrays, se aplican elemento por elemento\n",
    "- También algunas de las operaciones que se aplican a las listas normales, y otras operaciones más complejas"
   ]
  },
  {
   "cell_type": "code",
   "execution_count": 25,
   "metadata": {
    "scrolled": false,
    "slideshow": {
     "slide_type": "slide"
    }
   },
   "outputs": [
    {
     "name": "stdout",
     "output_type": "stream",
     "text": [
      "[ 6  7  8  9 10 11 12 13 14 15 16 17]\n",
      "\n",
      "-------Suma---------\n",
      "138\n",
      "\n",
      "-------Máximo---------\n",
      "17\n",
      "\n",
      "--------Mínimo--------\n",
      "6\n",
      "\n",
      "--------Raíz Cuadrada--------\n",
      "[ 2.44948974  2.64575131  2.82842712  3.          3.16227766  3.31662479\n",
      "  3.46410162  3.60555128  3.74165739  3.87298335  4.          4.12310563]\n",
      "\n",
      "--------Cant. Datos--------\n",
      "12\n",
      "\n",
      "-------Forma del array---------\n",
      "Imprimo el len 1\n",
      "(12,)\n",
      "\n",
      "-------Cambiar el array de forma---------\n",
      "Tamaño: 12\n",
      "(3, 4)\n",
      "Tamaño en x: (12,)\n",
      "Tamaño en y: 4\n",
      "Imprimo el len2\n",
      "\n",
      "-------Así se ve el array luego de cambiar de forma---------\n",
      "[[ 6  7  8  9]\n",
      " [10 11 12 13]\n",
      " [14 15 16 17]]\n"
     ]
    }
   ],
   "source": [
    "a = np.array([1, 2, 3, 4, 5, 6, 7, 8, 9, 10, 11, 12])\n",
    "a = a+5 # le suma el número 5 a todas las entradas del array\n",
    "print (a)\n",
    "print(\"\\n-------Suma---------\")\n",
    "print (a.sum()) # suma todas las entradas del array\n",
    "print(\"\\n-------Máximo---------\")\n",
    "print (a.max()) # retorna el valor máximo\n",
    "print(\"\\n--------Mínimo--------\")\n",
    "print (a.min()) # retorna el valor mínimo\n",
    "print(\"\\n--------Raíz Cuadrada--------\")\n",
    "print (np.sqrt(a)) # retorna un array cuyos valores son la raíz cuadrada de cada uno de los valores del array original\n",
    "print(\"\\n--------Cant. Datos--------\")\n",
    "print (a.size) # retorna la cantidad de datos que tiene el array (independientemente de la forma)\n",
    "print(\"\\n-------Forma del array---------\")\n",
    "tamaño_x = a.shape\n",
    "print(len(tamaño_x))\n",
    "print (tamaño_x) # retorna la forma que tienen los datos en el array, si tiene más de una dimensión, devuelve la magnitud de cada dimensión\n",
    "print(\"\\n-------Cambiar el array de forma---------\")\n",
    "a = a.reshape((3,4))\n",
    "print (\"Tamaño: \" + str(a.size))\n",
    "tamaño_x, tamaño_y = a.shape\n",
    "print(\"Tamaño en x: \" + str(tamaño_x))\n",
    "print(\"Tamaño en y: \" + str(tamaño_y))\n",
    "print(a.shape)\n",
    "print(\"\\n-------Así se ve el array luego de cambiar de forma---------\")\n",
    "print (a)"
   ]
  },
  {
   "cell_type": "markdown",
   "metadata": {},
   "source": [
    "# Indexación en arrays\n",
    "### Para acceder a los elementos de un array, se puede utilizar una forma de indexación que es parecida a la que se utiliza en listas"
   ]
  },
  {
   "cell_type": "code",
   "execution_count": 26,
   "metadata": {
    "scrolled": true
   },
   "outputs": [
    {
     "name": "stdout",
     "output_type": "stream",
     "text": [
      "1\n",
      "[[ 1  2  3  4]\n",
      " [ 5 99  7  8]\n",
      " [ 9 10 11 12]]\n"
     ]
    }
   ],
   "source": [
    "a = np.array([[1,2,3,4], [5,6,7,8], [9,10,11,12]])\n",
    "# Para acceder al elemento en la posición 0, 0:\n",
    "print (a[0,0])\n",
    "\n",
    "# Se pueden hacer cambios en los datos accediéndolos mediante los índices\n",
    "a[1,1] = 99\n",
    "\n",
    "print(a)"
   ]
  },
  {
   "cell_type": "markdown",
   "metadata": {},
   "source": [
    "# Ejercicio\n",
    "### Cree una función que reciba como parámetro 2 arrays de numpy de 2 dimensiones (de igual forma y tamaño) y retorne un array nuevo que sea el mayor de las entradas comparándolas una a una.\n",
    "Por ejemplo, se compara la posición [0, 0] del primer array con el segundo, y se escoge el mayor para ponerlo en la posición [0, 0] del nuevo array"
   ]
  },
  {
   "cell_type": "code",
   "execution_count": 30,
   "metadata": {},
   "outputs": [
    {
     "name": "stdout",
     "output_type": "stream",
     "text": [
      "[[ 0.9242911   0.75932181  0.97576194  0.22011463]\n",
      " [ 0.92184219  0.66030474  0.95026202  0.26358248]\n",
      " [ 0.77033746  0.67362099  0.03232018  0.8883799 ]]\n",
      "------------------------------------------------\n",
      "[[ 0.7108384   0.24276432  0.28925321  0.93800711]\n",
      " [ 0.05042628  0.82972549  0.31819938  0.48343274]\n",
      " [ 0.50331832  0.23754635  0.03387236  0.47487488]]\n",
      "------------------------------------------------\n",
      "[[ 0.9242911   0.75932181  0.97576194  0.93800711]\n",
      " [ 0.92184219  0.82972549  0.95026202  0.48343274]\n",
      " [ 0.77033746  0.67362099  0.03387236  0.8883799 ]]\n"
     ]
    }
   ],
   "source": [
    "a = np.random.random((3,4))\n",
    "print(a)\n",
    "print(\"------------------------------------------------\")\n",
    "b = np.random.random((3,4))\n",
    "print(b)\n",
    "print(\"------------------------------------------------\")\n",
    "def mayores(arr1, arr2):\n",
    "    resultado = np.zeros(arr1.shape)\n",
    "    tam_x, tam_y = arr1.shape\n",
    "    for x in range(tam_x):\n",
    "        for y in range(tam_y):\n",
    "            if arr1[x,y] > arr2[x,y]:\n",
    "                resultado[x,y] = arr1[x,y]\n",
    "            else:\n",
    "                resultado[x,y] = arr2[x,y]\n",
    "            \n",
    "    return resultado\n",
    "\n",
    "print (mayores(a,b))\n",
    "        "
   ]
  },
  {
   "cell_type": "markdown",
   "metadata": {
    "slideshow": {
     "slide_type": "slide"
    }
   },
   "source": [
    "# Existen operaciones más complejas y combinaciones de varias operaciones\n",
    "### Por ejemplo, considere este cálculo de matrices\n",
    "<img src = mat2.png>"
   ]
  },
  {
   "cell_type": "code",
   "execution_count": 31,
   "metadata": {
    "slideshow": {
     "slide_type": "slide"
    }
   },
   "outputs": [
    {
     "name": "stdout",
     "output_type": "stream",
     "text": [
      "[[-3  5]\n",
      " [ 0  2]]\n"
     ]
    }
   ],
   "source": [
    "\n",
    "a = np.array([[1,3], [2,4]])\n",
    "b = np.array([[4,-2], [-3,1]])\n",
    "c = np.array([[1,2], [2,1]])\n",
    "\n",
    "# dot es la función de multiplicación de matrices, si la multiplicación se hiciera \n",
    "# a*b, sería una multiplicación elemento por elemento\n",
    "resultado = np.dot(a,b)+2*c\n",
    "print(resultado)"
   ]
  },
  {
   "cell_type": "code",
   "execution_count": 32,
   "metadata": {},
   "outputs": [
    {
     "name": "stdout",
     "output_type": "stream",
     "text": [
      "[[-3  0]\n",
      " [ 5  2]]\n"
     ]
    }
   ],
   "source": [
    "# Transpuesta de una matriz\n",
    "\n",
    "print(resultado.T)"
   ]
  },
  {
   "cell_type": "markdown",
   "metadata": {
    "slideshow": {
     "slide_type": "slide"
    }
   },
   "source": [
    "# Existen formas de crear datos secuenciales en rangos\n"
   ]
  },
  {
   "cell_type": "code",
   "execution_count": 33,
   "metadata": {
    "slideshow": {
     "slide_type": "slide"
    }
   },
   "outputs": [
    {
     "name": "stdout",
     "output_type": "stream",
     "text": [
      "[-1.   -0.75 -0.5  -0.25  0.    0.25  0.5   0.75  1.  ]\n"
     ]
    }
   ],
   "source": [
    "vector = np.linspace (-1, 1, 9)\n",
    "print(vector)"
   ]
  },
  {
   "cell_type": "code",
   "execution_count": 36,
   "metadata": {},
   "outputs": [
    {
     "name": "stdout",
     "output_type": "stream",
     "text": [
      "[array([[-1.  , -0.75, -0.5 , -0.25,  0.  ,  0.25,  0.5 ,  0.75,  1.  ],\n",
      "       [-1.  , -0.75, -0.5 , -0.25,  0.  ,  0.25,  0.5 ,  0.75,  1.  ],\n",
      "       [-1.  , -0.75, -0.5 , -0.25,  0.  ,  0.25,  0.5 ,  0.75,  1.  ],\n",
      "       [-1.  , -0.75, -0.5 , -0.25,  0.  ,  0.25,  0.5 ,  0.75,  1.  ],\n",
      "       [-1.  , -0.75, -0.5 , -0.25,  0.  ,  0.25,  0.5 ,  0.75,  1.  ],\n",
      "       [-1.  , -0.75, -0.5 , -0.25,  0.  ,  0.25,  0.5 ,  0.75,  1.  ],\n",
      "       [-1.  , -0.75, -0.5 , -0.25,  0.  ,  0.25,  0.5 ,  0.75,  1.  ],\n",
      "       [-1.  , -0.75, -0.5 , -0.25,  0.  ,  0.25,  0.5 ,  0.75,  1.  ],\n",
      "       [-1.  , -0.75, -0.5 , -0.25,  0.  ,  0.25,  0.5 ,  0.75,  1.  ],\n",
      "       [-1.  , -0.75, -0.5 , -0.25,  0.  ,  0.25,  0.5 ,  0.75,  1.  ],\n",
      "       [-1.  , -0.75, -0.5 , -0.25,  0.  ,  0.25,  0.5 ,  0.75,  1.  ],\n",
      "       [-1.  , -0.75, -0.5 , -0.25,  0.  ,  0.25,  0.5 ,  0.75,  1.  ],\n",
      "       [-1.  , -0.75, -0.5 , -0.25,  0.  ,  0.25,  0.5 ,  0.75,  1.  ],\n",
      "       [-1.  , -0.75, -0.5 , -0.25,  0.  ,  0.25,  0.5 ,  0.75,  1.  ],\n",
      "       [-1.  , -0.75, -0.5 , -0.25,  0.  ,  0.25,  0.5 ,  0.75,  1.  ],\n",
      "       [-1.  , -0.75, -0.5 , -0.25,  0.  ,  0.25,  0.5 ,  0.75,  1.  ],\n",
      "       [-1.  , -0.75, -0.5 , -0.25,  0.  ,  0.25,  0.5 ,  0.75,  1.  ],\n",
      "       [-1.  , -0.75, -0.5 , -0.25,  0.  ,  0.25,  0.5 ,  0.75,  1.  ],\n",
      "       [-1.  , -0.75, -0.5 , -0.25,  0.  ,  0.25,  0.5 ,  0.75,  1.  ],\n",
      "       [-1.  , -0.75, -0.5 , -0.25,  0.  ,  0.25,  0.5 ,  0.75,  1.  ]]), array([[ 0.        ,  0.        ,  0.        ,  0.        ,  0.        ,\n",
      "         0.        ,  0.        ,  0.        ,  0.        ],\n",
      "       [ 0.05263158,  0.05263158,  0.05263158,  0.05263158,  0.05263158,\n",
      "         0.05263158,  0.05263158,  0.05263158,  0.05263158],\n",
      "       [ 0.10526316,  0.10526316,  0.10526316,  0.10526316,  0.10526316,\n",
      "         0.10526316,  0.10526316,  0.10526316,  0.10526316],\n",
      "       [ 0.15789474,  0.15789474,  0.15789474,  0.15789474,  0.15789474,\n",
      "         0.15789474,  0.15789474,  0.15789474,  0.15789474],\n",
      "       [ 0.21052632,  0.21052632,  0.21052632,  0.21052632,  0.21052632,\n",
      "         0.21052632,  0.21052632,  0.21052632,  0.21052632],\n",
      "       [ 0.26315789,  0.26315789,  0.26315789,  0.26315789,  0.26315789,\n",
      "         0.26315789,  0.26315789,  0.26315789,  0.26315789],\n",
      "       [ 0.31578947,  0.31578947,  0.31578947,  0.31578947,  0.31578947,\n",
      "         0.31578947,  0.31578947,  0.31578947,  0.31578947],\n",
      "       [ 0.36842105,  0.36842105,  0.36842105,  0.36842105,  0.36842105,\n",
      "         0.36842105,  0.36842105,  0.36842105,  0.36842105],\n",
      "       [ 0.42105263,  0.42105263,  0.42105263,  0.42105263,  0.42105263,\n",
      "         0.42105263,  0.42105263,  0.42105263,  0.42105263],\n",
      "       [ 0.47368421,  0.47368421,  0.47368421,  0.47368421,  0.47368421,\n",
      "         0.47368421,  0.47368421,  0.47368421,  0.47368421],\n",
      "       [ 0.52631579,  0.52631579,  0.52631579,  0.52631579,  0.52631579,\n",
      "         0.52631579,  0.52631579,  0.52631579,  0.52631579],\n",
      "       [ 0.57894737,  0.57894737,  0.57894737,  0.57894737,  0.57894737,\n",
      "         0.57894737,  0.57894737,  0.57894737,  0.57894737],\n",
      "       [ 0.63157895,  0.63157895,  0.63157895,  0.63157895,  0.63157895,\n",
      "         0.63157895,  0.63157895,  0.63157895,  0.63157895],\n",
      "       [ 0.68421053,  0.68421053,  0.68421053,  0.68421053,  0.68421053,\n",
      "         0.68421053,  0.68421053,  0.68421053,  0.68421053],\n",
      "       [ 0.73684211,  0.73684211,  0.73684211,  0.73684211,  0.73684211,\n",
      "         0.73684211,  0.73684211,  0.73684211,  0.73684211],\n",
      "       [ 0.78947368,  0.78947368,  0.78947368,  0.78947368,  0.78947368,\n",
      "         0.78947368,  0.78947368,  0.78947368,  0.78947368],\n",
      "       [ 0.84210526,  0.84210526,  0.84210526,  0.84210526,  0.84210526,\n",
      "         0.84210526,  0.84210526,  0.84210526,  0.84210526],\n",
      "       [ 0.89473684,  0.89473684,  0.89473684,  0.89473684,  0.89473684,\n",
      "         0.89473684,  0.89473684,  0.89473684,  0.89473684],\n",
      "       [ 0.94736842,  0.94736842,  0.94736842,  0.94736842,  0.94736842,\n",
      "         0.94736842,  0.94736842,  0.94736842,  0.94736842],\n",
      "       [ 1.        ,  1.        ,  1.        ,  1.        ,  1.        ,\n",
      "         1.        ,  1.        ,  1.        ,  1.        ]])]\n"
     ]
    }
   ],
   "source": [
    "vector2 = np.linspace(0,1,20)\n",
    "#print(vector2)\n",
    "\n",
    "print(np.meshgrid(vector,vector2))"
   ]
  },
  {
   "cell_type": "markdown",
   "metadata": {
    "slideshow": {
     "slide_type": "slide"
    }
   },
   "source": [
    "## - Linspace crea un vector con valores entre el primer y segundo valor que recibe como parámetro\n",
    "## - Crea N valores (N siendo el tercer parámetro)\n",
    "## - Todos los valores adyacentes van a tener la misma distancia entre sí"
   ]
  },
  {
   "cell_type": "markdown",
   "metadata": {
    "slideshow": {
     "slide_type": "slide"
    }
   },
   "source": [
    "# Se puede mezclar la creación de matrices y vectores de numpy con list comprehension\n",
    "\n",
    "# Ejemplo:"
   ]
  },
  {
   "cell_type": "code",
   "execution_count": 37,
   "metadata": {
    "slideshow": {
     "slide_type": "slide"
    }
   },
   "outputs": [
    {
     "name": "stdout",
     "output_type": "stream",
     "text": [
      "[ 2.06155281  0.56833089  0.45825757]\n"
     ]
    }
   ],
   "source": [
    "a = [4.25, 0.323, 0.21]\n",
    "b = np.array([np.sqrt(i) for i in a])\n",
    "print (b)"
   ]
  },
  {
   "cell_type": "markdown",
   "metadata": {},
   "source": [
    "# Ejercicio\n",
    "Cree una matriz de tamaño 2 x 2 como array de numpy y calcule su determinante.\n",
    "\n"
   ]
  },
  {
   "cell_type": "code",
   "execution_count": 41,
   "metadata": {},
   "outputs": [
    {
     "name": "stdout",
     "output_type": "stream",
     "text": [
      "[[2 1]\n",
      " [3 1]]\n",
      "------------------------------------------------\n",
      "[[-1.  1.]\n",
      " [ 3. -2.]]\n",
      "------------------------------------------------\n",
      "[[ 1.  0.]\n",
      " [ 0.  1.]]\n"
     ]
    }
   ],
   "source": [
    "matriz = np.array([[2,1],[3,1]])\n",
    "\n",
    "def determinante(matriz):\n",
    "    return matriz[0,0]*matriz[1,1] - matriz[1,0]*matriz[0,1]\n",
    "\n",
    "def inversa(matriz):\n",
    "    mat_inversa = np.zeros(matriz.shape)\n",
    "    mat_inversa[0,0] = matriz[1,1]\n",
    "    mat_inversa[1,1] = matriz[0,0]\n",
    "    mat_inversa[0,1] = -matriz[0,1]\n",
    "    mat_inversa[1,0] = -matriz[1,0]\n",
    "    \n",
    "    return (1/determinante(matriz))*mat_inversa\n",
    "\n",
    "matriz_inversa = inversa(matriz)\n",
    "\n",
    "print(matriz)\n",
    "print(\"------------------------------------------------\")\n",
    "print(matriz_inversa)\n",
    "print(\"------------------------------------------------\")\n",
    "print(np.dot(matriz,matriz_inversa))"
   ]
  },
  {
   "cell_type": "markdown",
   "metadata": {
    "slideshow": {
     "slide_type": "slide"
    }
   },
   "source": [
    "# Datos desde un archivo\n",
    "- Numpy permite cargar valores desde un archivo de texto\n",
    "- Estos datos se almacenan en un array que puede ser posteriormente manipulado igual que cualquier otro array de numpy\n"
   ]
  },
  {
   "cell_type": "code",
   "execution_count": 54,
   "metadata": {
    "scrolled": false,
    "slideshow": {
     "slide_type": "slide"
    }
   },
   "outputs": [
    {
     "name": "stdout",
     "output_type": "stream",
     "text": [
      "---------------------------- Valor promedio -------------------------------\n",
      "-----------------------------------------------------------\n",
      " -------------- luego del cambio ---------------- \n"
     ]
    }
   ],
   "source": [
    "valores = np.loadtxt(open(\"entrada.csv\", \"r\"), delimiter=\",\")\n",
    "#print(valores)\n",
    "print (\"---------------------------- Valor promedio -------------------------------\")\n",
    "#promedio = np.average(valores) #la función average calcula el promedio de los valores de la matriz\n",
    "#print(\"Promedio: \" + str(promedio))\n",
    "\n",
    "#print(valores)\n",
    "\n",
    "print (\"-----------------------------------------------------------\")\n",
    "\n",
    "\n",
    "print(\" -------------- luego del cambio ---------------- \")\n",
    "matriz_nueva = valores*9\n",
    "#print (matriz_nueva)\n",
    "\n",
    "np.savetxt(\"archivo_salida.csv\", matriz_nueva, delimiter=\"*\")\n",
    "\n"
   ]
  },
  {
   "cell_type": "markdown",
   "metadata": {},
   "source": [
    "### Para cargar datos desde un csv con encabezados en las columnas, se puede utilizar genfromtxt\n",
    "\n",
    "- genfromtxt es un poco más poderoso que loadtxt\n",
    "- loadtxt recibe como 1er parámetro un objeto de tipo file, genfromtxt recibe la ruta del archivo"
   ]
  },
  {
   "cell_type": "code",
   "execution_count": 5,
   "metadata": {},
   "outputs": [
    {
     "name": "stdout",
     "output_type": "stream",
     "text": [
      "[( 1990.,   5.,   6.,   1.,  56.,  3.,  9.7489,  83.7534)\n",
      " ( 1991.,   4.,  30.,   1.,  55.,  5.,  9.7489,  83.7534)\n",
      " ( 1992.,   8.,  31.,   2.,  44.,  3.,  9.7489,  83.7534)\n",
      " ( 1993.,   7.,   3.,   3.,  21.,  4.,  9.7489,  83.7534)\n",
      " ( 1993.,   9.,  24.,   4.,  39.,  5.,  9.7489,  83.7534)\n",
      " ( 1993.,  11.,  15.,   5.,  17.,  3.,  9.7489,  83.7534)\n",
      " ( 1993.,   1.,  16.,   8.,  45.,  7.,  9.7489,  83.7534)\n",
      " ( 1997.,   2.,  22.,   9.,  44.,  4.,  9.7489,  83.7534)\n",
      " ( 1998.,   3.,  12.,  15.,  54.,  2.,  9.7489,  83.7534)\n",
      " ( 1999.,  11.,  13.,  15.,  21.,  3.,  9.7489,  83.7534)\n",
      " ( 2000.,   2.,  14.,  16.,  10.,  8.,  9.7489,  83.7534)]\n"
     ]
    }
   ],
   "source": [
    "import numpy as np\n",
    "datos = np.genfromtxt(\"prueba_sismos.csv\", dtype=float, delimiter=',', names=True)\n",
    "\n",
    "print(datos)"
   ]
  },
  {
   "cell_type": "code",
   "execution_count": 73,
   "metadata": {},
   "outputs": [
    {
     "name": "stdout",
     "output_type": "stream",
     "text": [
      "[( 1990.,   5.,   6.,   1.,  56.,  3.,  9.7489,  83.7534)\n",
      " ( 1991.,   4.,  30.,   1.,  55.,  5.,  9.7489,  83.7534)\n",
      " ( 1992.,   8.,  31.,   2.,  44.,  3.,  9.7489,  83.7534)\n",
      " ( 1993.,   7.,   3.,   3.,  21.,  4.,  9.7489,  83.7534)\n",
      " ( 1993.,   9.,  24.,   4.,  39.,  5.,  9.7489,  83.7534)\n",
      " ( 1993.,  11.,  15.,   5.,  17.,  3.,  9.7489,  83.7534)\n",
      " ( 1993.,   1.,  16.,   8.,  45.,  7.,  9.7489,  83.7534)\n",
      " ( 1997.,   2.,  22.,   9.,  44.,  4.,  9.7489,  83.7534)\n",
      " ( 1998.,   3.,  12.,  15.,  54.,  2.,  9.7489,  83.7534)\n",
      " ( 1999.,  11.,  13.,  15.,  21.,  3.,  9.7489,  83.7534)\n",
      " ( 2000.,   2.,  14.,  16.,  10.,  8.,  9.7489,  83.7534)]\n"
     ]
    }
   ],
   "source": [
    "tam_x = datos.size\n",
    "for x in range(tam_x):\n",
    "    datos[x][7] = -datos[x][7]\n",
    "\n",
    "print(datos)\n",
    "#np.savetxt(\"prueba_sismos.csv\", datos, delimiter=\",\")"
   ]
  },
  {
   "cell_type": "markdown",
   "metadata": {},
   "source": [
    "### Como lo cargamos con encabezados, podemos acceder a las columnas por los nombres que la función tomó desde el csv"
   ]
  },
  {
   "cell_type": "code",
   "execution_count": 15,
   "metadata": {},
   "outputs": [
    {
     "name": "stdout",
     "output_type": "stream",
     "text": [
      "[-83.7534 -83.7534 -83.7534 -83.7534 -83.7534 -83.7534 -83.7534 -83.7534\n",
      " -83.7534 -83.7534 -83.7534]\n"
     ]
    }
   ],
   "source": [
    "datos[\"longitud\"] = datos[\"longitud\"] * -1\n",
    "\n",
    "print(datos[\"longitud\"])"
   ]
  },
  {
   "cell_type": "markdown",
   "metadata": {},
   "source": [
    "#### Se puede acceder a los nombres de los encabezados de esta manera:"
   ]
  },
  {
   "cell_type": "code",
   "execution_count": 12,
   "metadata": {},
   "outputs": [
    {
     "data": {
      "text/plain": [
       "('anio', 'mes', 'dia', 'hora', 'minuto', 'escala', 'latitud', 'longitud')"
      ]
     },
     "execution_count": 12,
     "metadata": {},
     "output_type": "execute_result"
    }
   ],
   "source": [
    "datos.dtype.names"
   ]
  },
  {
   "cell_type": "code",
   "execution_count": 22,
   "metadata": {},
   "outputs": [
    {
     "name": "stdout",
     "output_type": "stream",
     "text": [
      "[['anio' 'mes' 'dia' 'hora' 'minuto' 'escala' 'latitud' '-longitud']\n",
      " ['1990' '5' '6' '1' '56' '3' '9.7489' '-83.7534']\n",
      " ['1991' '4' '30' '1' '55' '5' '9.7489' '-83.7534']\n",
      " ['1992' '8' '31' '2' '44' '3' '9.7489' '-83.7534']\n",
      " ['1993' '7' '3' '3' '21' '4' '9.7489' '-83.7534']\n",
      " ['1993' '9' '24' '4' '39' '5' '9.7489' '-83.7534']\n",
      " ['1993' '11' '15' '5' '17' '3' '9.7489' '-83.7534']\n",
      " ['1993' '1' '16' '8' '45' '7' '9.7489' '-83.7534']\n",
      " ['1997' '2' '22' '9' '44' '4' '9.7489' '-83.7534']\n",
      " ['1998' '3' '12' '15' '54' '2' '9.7489' '-83.7534']\n",
      " ['1999' '11' '13' '15' '21' '3' '9.7489' '-83.7534']\n",
      " ['2000' '2' '14' '16' '10' '8' '9.7489' '-83.7534']]\n"
     ]
    }
   ],
   "source": [
    "f = open(\"prueba_sismos.csv\", \"r\")\n",
    "\n",
    "texto = f.read()\n",
    "f.close()\n",
    "#print(texto)\n",
    "\n",
    "lineas = texto.splitlines()\n",
    "#print(lineas)\n",
    "for indice in range(len(lineas)):\n",
    "    lineas[indice] = lineas[indice].split(\",\")\n",
    "    \n",
    "for linea in lineas:\n",
    "    linea[7] = \"-\"+linea[7]\n",
    "#print(lineas)\n",
    "\n",
    "arr = np.array(lineas)\n",
    "print(arr)\n",
    "\n",
    "\n",
    "np.savetxt(\"prueba_sismos.csv\", arr, delimiter=\",\")"
   ]
  },
  {
   "cell_type": "markdown",
   "metadata": {
    "slideshow": {
     "slide_type": "slide"
    }
   },
   "source": [
    "# Ejercicio\n",
    "- Cargue los datos del archivo prueba_sismos.csv en objetos de tipo sismo (definidos por usted) \n",
    "- Luego ponga en un archivo nuevo (csv) los que sucedieron después del año 95 y fueron de magnitud 4 o más"
   ]
  },
  {
   "cell_type": "markdown",
   "metadata": {
    "slideshow": {
     "slide_type": "slide"
    }
   },
   "source": [
    "# SciPy\n",
    "## El paquete SciPy contiene varias herramientas dedicadas a resolver problemas comunes en computación científica\n",
    "## Esta biblioteca trabaja en conjunto con NumPy\n",
    "## Algunos de los módulos con los que cuenta esta biblioteca son\n",
    "- constants (constantes matemáticas y físicas)\n",
    "- fftpack (transformada de Fourier)\n",
    "- integrate (integración)\n",
    "- interpolate (interpolación)\n",
    "- io (entrada/salida de datos)\n",
    "- linalg (álgebra lineal)\n",
    "- ndimage (imágenes n-dimensionales)\n",
    "- optimize (optimización)\n",
    "- signal (procesamiento de señales)\n",
    "- stats (estadística)"
   ]
  },
  {
   "cell_type": "markdown",
   "metadata": {
    "slideshow": {
     "slide_type": "slide"
    }
   },
   "source": [
    "# Álgebra lineal\n",
    "### Tiene operaciones para inversión de matrices, cálculo de determinantes, etc."
   ]
  },
  {
   "cell_type": "code",
   "execution_count": null,
   "metadata": {
    "slideshow": {
     "slide_type": "slide"
    }
   },
   "outputs": [],
   "source": [
    "from scipy import linalg\n",
    "\n",
    "matriz = np.matrix([[1,2],\n",
    "                  [3,4]])\n",
    "\n",
    "############ Cálculo de determinante ############\n",
    "print (\"\\n ---------- Determinante ----------- \")\n",
    "print (linalg.det(matriz)) \n",
    "## Da error si se intenta computar el determinante de una matriz no cuadrada\n",
    "\n",
    "############ Cálculo de la inversa de una matriz cuadrada ############\n",
    "print (\"\\n ---------- Matriz Inversa ----------- \")\n",
    "matriz_inversa = linalg.inv(matriz)\n",
    "print (matriz_inversa)\n",
    "## Para asegurarnos de que es la inversa, la multiplicamos por la original\n",
    "## y observamos el resultado\n",
    "\n",
    "print (\"\\n ---------- Multiplicación de matrices ----------- \")\n",
    "matrices_multiplicadas = np.dot(matriz, matriz_inversa) # multiplicación matricial\n",
    "print(matrices_multiplicadas) ## Esto no va a dar exactamente la identidad\n"
   ]
  },
  {
   "cell_type": "markdown",
   "metadata": {},
   "source": [
    "# FFT\n",
    "\n",
    "### SciPy tiene un módulo para transformada de Fourier"
   ]
  },
  {
   "cell_type": "code",
   "execution_count": null,
   "metadata": {},
   "outputs": [],
   "source": [
    "%matplotlib inline\n",
    "from scipy.fftpack import fft\n",
    "# Cantidad de puntos de muestra\n",
    "N = 600\n",
    "# espaciado de la muestra\n",
    "T = 1.0 / 800.0\n",
    "x = np.linspace(0.0, N*T, N)\n",
    "y = np.sin(50.0 * 2.0*np.pi*x) + 0.5*np.sin(80.0 * 2.0*np.pi*x) #Función que vamos a transformar\n",
    "yf = fft(y) # Transformada de Fourier\n"
   ]
  },
  {
   "cell_type": "markdown",
   "metadata": {
    "slideshow": {
     "slide_type": "slide"
    }
   },
   "source": [
    "# Matplotlib\n",
    "### Es una biblioteca de graficación para Python\n",
    "### Provee una manera rápida de visualizar datos\n",
    "\n",
    "- En los cuadernos de jupyter es necesario indicar que la visualización se debe de hacer en las celdas del cuaderno de esta forma --> %matplotlib inline\n",
    "- Se pueden graficar funciones en dominios limitados (y discretos)"
   ]
  },
  {
   "cell_type": "code",
   "execution_count": null,
   "metadata": {},
   "outputs": [],
   "source": [
    "%matplotlib inline\n",
    "import numpy as np\n",
    "import matplotlib.pyplot as plt\n",
    "xf = np.linspace(0.0, 1.0/(2.0*T), N//2)\n",
    "import matplotlib.pyplot as plt #\n",
    "plt.plot(xf, 2.0/N * np.abs(yf[0:N//2]))\n",
    "plt.grid()\n",
    "plt.savefig(\"ejercicio_plt.png\", dpi=72) # Para salvar la figura como una imagen (dpi es la resolución en puntos por pulgada)\n",
    "plt.show()"
   ]
  },
  {
   "cell_type": "markdown",
   "metadata": {},
   "source": [
    "# Ejercicio\n",
    "\n",
    "Grafique la FFT de una función que usted creó (o si tiene datos reales que puede graficar, ¡úselos!)"
   ]
  }
 ],
 "metadata": {
  "anaconda-cloud": {},
  "celltoolbar": "Slideshow",
  "kernelspec": {
   "display_name": "Python 3",
   "language": "python",
   "name": "python3"
  },
  "language_info": {
   "codemirror_mode": {
    "name": "ipython",
    "version": 3
   },
   "file_extension": ".py",
   "mimetype": "text/x-python",
   "name": "python",
   "nbconvert_exporter": "python",
   "pygments_lexer": "ipython3",
   "version": "3.6.0"
  }
 },
 "nbformat": 4,
 "nbformat_minor": 1
}
