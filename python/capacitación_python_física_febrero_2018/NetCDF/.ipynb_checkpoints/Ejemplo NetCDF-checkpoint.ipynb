{
 "cells": [
  {
   "cell_type": "code",
   "execution_count": 4,
   "metadata": {},
   "outputs": [
    {
     "ename": "ModuleNotFoundError",
     "evalue": "No module named 'netCDF4'",
     "output_type": "error",
     "traceback": [
      "\u001b[0;31m---------------------------------------------------------------------------\u001b[0m",
      "\u001b[0;31mModuleNotFoundError\u001b[0m                       Traceback (most recent call last)",
      "\u001b[0;32m<ipython-input-4-a4cc0e2b5068>\u001b[0m in \u001b[0;36m<module>\u001b[0;34m()\u001b[0m\n\u001b[1;32m      2\u001b[0m \u001b[0;32mimport\u001b[0m \u001b[0mnumpy\u001b[0m \u001b[0;32mas\u001b[0m \u001b[0mnp\u001b[0m\u001b[0;34m\u001b[0m\u001b[0m\n\u001b[1;32m      3\u001b[0m \u001b[0;32mimport\u001b[0m \u001b[0mdatetime\u001b[0m \u001b[0;32mas\u001b[0m \u001b[0mdt\u001b[0m\u001b[0;34m\u001b[0m\u001b[0m\n\u001b[0;32m----> 4\u001b[0;31m \u001b[0;32mfrom\u001b[0m \u001b[0mnetCDF4\u001b[0m \u001b[0;32mimport\u001b[0m \u001b[0mDataset\u001b[0m\u001b[0;34m\u001b[0m\u001b[0m\n\u001b[0m\u001b[1;32m      5\u001b[0m \u001b[0;32mimport\u001b[0m \u001b[0mmatplotlib\u001b[0m\u001b[0;34m.\u001b[0m\u001b[0mpyplot\u001b[0m \u001b[0;32mas\u001b[0m \u001b[0mplt\u001b[0m\u001b[0;34m\u001b[0m\u001b[0m\n\u001b[1;32m      6\u001b[0m \u001b[0;32mfrom\u001b[0m \u001b[0mmpl_toolkits\u001b[0m\u001b[0;34m.\u001b[0m\u001b[0mbasemap\u001b[0m \u001b[0;32mimport\u001b[0m \u001b[0mBasemap\u001b[0m\u001b[0;34m,\u001b[0m \u001b[0maddcyclic\u001b[0m\u001b[0;34m,\u001b[0m \u001b[0mshiftgrid\u001b[0m\u001b[0;34m\u001b[0m\u001b[0m\n",
      "\u001b[0;31mModuleNotFoundError\u001b[0m: No module named 'netCDF4'"
     ]
    }
   ],
   "source": [
    "%matplotlib inline\n",
    "import numpy as np\n",
    "import datetime as dt\n",
    "from netCDF4 import Dataset  \n",
    "import matplotlib.pyplot as plt\n",
    "from mpl_toolkits.basemap import Basemap, addcyclic, shiftgrid\n",
    "\n",
    "def ncdump(nc_fid, verb=True):\n",
    "    def print_ncattr(key):\n",
    "        try:\n",
    "            print (\"\\t\\ttype:\", repr(nc_fid.variables[key].dtype))\n",
    "            for ncattr in nc_fid.variables[key].ncattrs():\n",
    "                print ('\\t\\t%s:' % ncattr, repr(nc_fid.variables[key].getncattr(ncattr)))\n",
    "        except KeyError:\n",
    "            print (\"\\t\\tWARNING: %s does not contain variable attributes\" % key)\n",
    "\n",
    "    # NetCDF global attributes\n",
    "    nc_attrs = nc_fid.ncattrs()\n",
    "    if verb:\n",
    "        print (\"NetCDF Global Attributes:\")\n",
    "        for nc_attr in nc_attrs:\n",
    "            print ('\\t%s:' % nc_attr, repr(nc_fid.getncattr(nc_attr)))\n",
    "    nc_dims = [dim for dim in nc_fid.dimensions]  # list of nc dimensions\n",
    "    # Dimension shape information.\n",
    "    if verb:\n",
    "        print (\"NetCDF dimension information:\")\n",
    "        for dim in nc_dims:\n",
    "            print (\"\\tName:\", dim )\n",
    "            print (\"\\t\\tsize:\", len(nc_fid.dimensions[dim]))\n",
    "            print_ncattr(dim)\n",
    "    # Variable information.\n",
    "    nc_vars = [var for var in nc_fid.variables]  # list of nc variables\n",
    "    if verb:\n",
    "        print (\"NetCDF variable information:\")\n",
    "        for var in nc_vars:\n",
    "            if var not in nc_dims:\n",
    "                print ('\\tName:', var)\n",
    "                print (\"\\t\\tdimensions:\", nc_fid.variables[var].dimensions)\n",
    "                print (\"\\t\\tsize:\", nc_fid.variables[var].size)\n",
    "                print_ncattr(var)\n",
    "    return nc_attrs, nc_dims, nc_vars\n",
    "\n",
    "nc_f = 'air.nc'  # Your filename\n",
    "nc_fid = Dataset(nc_f, 'r')  # Dataset is the class behavior to open the file\n",
    "#############\n",
    "nc_attrs, nc_dims, nc_vars = ncdump(nc_fid)\n",
    "# Extract data from NetCDF file\n",
    "lats = nc_fid.variables['lat'][:]  # extract/copy the data\n",
    "lons = nc_fid.variables['lon'][:]\n",
    "time = nc_fid.variables['time'][:]\n",
    "air = nc_fid.variables['air'][:]  # shape is time, lat, lon as shown above\n",
    "\n",
    "time_idx = 237  # some random day in 2012\n",
    "# Python and the renalaysis are slightly off in time so this fixes that problem\n",
    "offset = dt.timedelta(hours=48)\n",
    "# List of all times in the file as datetime objects\n",
    "dt_time = [dt.date(1, 1, 1) + dt.timedelta(hours=t) - offset\\\n",
    "           for t in time]\n",
    "cur_time = dt_time[time_idx]\n",
    "\n",
    "# Plot of global temperature on our random day\n",
    "fig = plt.figure()\n",
    "fig.subplots_adjust(left=0., right=1., bottom=0., top=0.9)\n",
    "# Setup the map. See http://matplotlib.org/basemap/users/mapsetup.html\n",
    "# for other projections.\n",
    "m = Basemap(projection='moll', llcrnrlat=-90, urcrnrlat=90,\\\n",
    "            llcrnrlon=0, urcrnrlon=360, resolution='c', lon_0=0)\n",
    "m.drawcoastlines()\n",
    "m.drawmapboundary()\n",
    "# Make the plot continuous\n",
    "air_cyclic, lons_cyclic = addcyclic(air[time_idx, :, :], lons)\n",
    "# Shift the grid so lons go from -180 to 180 instead of 0 to 360.\n",
    "air_cyclic, lons_cyclic = shiftgrid(180., air_cyclic, lons_cyclic, start=False)\n",
    "# Create 2D lat/lon arrays for Basemap\n",
    "lon2d, lat2d = np.meshgrid(lons_cyclic, lats)\n",
    "# Transforms lat/lon into plotting coordinates for projection\n",
    "x, y = m(lon2d, lat2d)\n",
    "# Plot of air temperature with 11 contour intervals\n",
    "cs = m.contourf(x, y, air_cyclic, 11, cmap=plt.cm.Spectral_r)\n",
    "cbar = plt.colorbar(cs, orientation='horizontal', shrink=0.5)\n",
    "cbar.set_label(\"%s (%s)\" % (nc_fid.variables['air'].var_desc,\\\n",
    "                            nc_fid.variables['air'].units))\n",
    "plt.title(\"%s on %s\" % (nc_fid.variables['air'].var_desc, cur_time))"
   ]
  },
  {
   "cell_type": "markdown",
   "metadata": {
    "collapsed": true,
    "slideshow": {
     "slide_type": "slide"
    }
   },
   "source": [
    "# Material de netcdf\n",
    "## http://basemaptutorial.readthedocs.io/en/latest/basic_functions.html\n",
    "## http://unidata.github.io/netcdf4-python/"
   ]
  },
  {
   "cell_type": "code",
   "execution_count": null,
   "metadata": {},
   "outputs": [],
   "source": []
  }
 ],
 "metadata": {
  "celltoolbar": "Slideshow",
  "kernelspec": {
   "display_name": "Python 3",
   "language": "python",
   "name": "python3"
  },
  "language_info": {
   "codemirror_mode": {
    "name": "ipython",
    "version": 3
   },
   "file_extension": ".py",
   "mimetype": "text/x-python",
   "name": "python",
   "nbconvert_exporter": "python",
   "pygments_lexer": "ipython3",
   "version": "3.6.0"
  }
 },
 "nbformat": 4,
 "nbformat_minor": 2
}
