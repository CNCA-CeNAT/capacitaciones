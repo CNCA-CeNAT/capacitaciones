{
 "cells": [
  {
   "cell_type": "markdown",
   "metadata": {},
   "source": [
    "#  Ejemplos de matplotlib "
   ]
  },
  {
   "cell_type": "code",
   "execution_count": null,
   "metadata": {},
   "outputs": [],
   "source": [
    "%matplotlib inline\n",
    "import numpy as np\n",
    "from scipy.integrate import odeint\n",
    "import matplotlib.pyplot as plt\n",
    "\n",
    "def calc_derivada(ypos, tiempo):\n",
    "    return -2*ypos\n",
    "\n",
    "vec_tiempo = np.linspace(0, 4, 40)\n",
    "yvec = odeint(calc_derivada, 1, vec_tiempo) # integra un sistema de ODE's\n",
    "\n",
    "plt.plot(vec_tiempo, yvec)\n",
    "plt.xlabel('Tiempo [s]')\n",
    "plt.ylabel('posición y [m]')"
   ]
  },
  {
   "cell_type": "code",
   "execution_count": null,
   "metadata": {},
   "outputs": [],
   "source": [
    "import mpl_toolkits.mplot3d.axes3d as p3\n",
    "from matplotlib.mlab import bivariate_normal\n",
    "delta = 0.025\n",
    "x = np.arange(-3.0, 3.0, delta)\n",
    "y = np.arange(-2.0, 2.0, delta)\n",
    "X, Y = np.meshgrid(x, y)\n",
    "Z1 = bivariate_normal(X, Y, 1.0, 1.0, 0.0, 0.0) #Distribución gaussiana bivariable\n",
    "Z2 = bivariate_normal(X, Y, 1.5, 0.5, 1, 1)\n",
    "# diferencia de Gaussianos\n",
    "Z = 10.0 * (Z2 - Z1)\n",
    "fig=plt.figure()\n",
    "ax = p3.Axes3D(fig)\n",
    "ax.contour3D(X,Y,Z)\n",
    "ax.set_xlabel('X')\n",
    "ax.set_ylabel('Y')\n",
    "ax.set_zlabel('Z')\n",
    "plt.show()"
   ]
  },
  {
   "cell_type": "code",
   "execution_count": null,
   "metadata": {},
   "outputs": [],
   "source": [
    "fig = plt.figure()\n",
    "ax = p3.Axes3D(fig)\n",
    "ax.contourf3D(X,Y,Z)\n",
    "ax.set_xlabel('X')\n",
    "ax.set_ylabel('Y')\n",
    "ax.set_zlabel('Z')\n",
    "fig.add_axes(ax)\n",
    "plt.show()"
   ]
  },
  {
   "cell_type": "code",
   "execution_count": null,
   "metadata": {},
   "outputs": [],
   "source": [
    "# Ejemplo de gráfico interactivo\n",
    "\n",
    "from numpy import pi, sin\n",
    "import numpy as np\n",
    "import matplotlib.pyplot as plt\n",
    "from matplotlib.widgets import Slider, Button, RadioButtons\n",
    "\n",
    "def signal(amp, freq):\n",
    "    return amp * sin(2 * pi * freq * t)\n",
    "\n",
    "axis_color = 'lightgoldenrodyellow'\n",
    "fig = plt.figure()\n",
    "\n",
    "# Draw the plot\n",
    "ax = fig.add_subplot(111)\n",
    "fig.subplots_adjust(left=0.25, bottom=0.25)\n",
    "t = np.arange(0.0, 1.0, 0.001)\n",
    "amp_0 = 5\n",
    "freq_0 = 3\n",
    "[line] = ax.plot(t, signal(amp_0, freq_0), linewidth=2, color='red')\n",
    "ax.set_xlim([0, 1])\n",
    "ax.set_ylim([-10, 10])\n",
    "\n",
    "# Add two sliders for tweaking the parameters\n",
    "amp_slider_ax  = fig.add_axes([0.25, 0.15, 0.65, 0.03], axisbg=axis_color)\n",
    "amp_slider = Slider(amp_slider_ax, 'Amp', 0.1, 10.0, valinit=amp_0)\n",
    "freq_slider_ax = fig.add_axes([0.25, 0.1, 0.65, 0.03], axisbg=axis_color)\n",
    "freq_slider = Slider(freq_slider_ax, 'Freq', 0.1, 30.0, valinit=freq_0)\n",
    "def sliders_on_changed(val):\n",
    "    line.set_ydata(signal(amp_slider.val, freq_slider.val))\n",
    "    fig.canvas.draw_idle()\n",
    "amp_slider.on_changed(sliders_on_changed)\n",
    "freq_slider.on_changed(sliders_on_changed)\n",
    "\n",
    "# Add a button for resetting the parameters\n",
    "reset_button_ax = fig.add_axes([0.8, 0.025, 0.1, 0.04])\n",
    "reset_button = Button(reset_button_ax, 'Reset', color=axis_color, hovercolor='0.975')\n",
    "def reset_button_on_clicked(mouse_event):\n",
    "    freq_slider.reset()\n",
    "    amp_slider.reset()\n",
    "reset_button.on_clicked(reset_button_on_clicked)\n",
    "\n",
    "# Add a set of radio buttons for changing color\n",
    "color_radios_ax = fig.add_axes([0.025, 0.5, 0.15, 0.15], axisbg=axis_color)\n",
    "color_radios = RadioButtons(color_radios_ax, ('red', 'blue', 'green'), active=0)\n",
    "def color_radios_on_clicked(label):\n",
    "    line.set_color(label)\n",
    "    fig.canvas.draw_idle()\n",
    "color_radios.on_clicked(color_radios_on_clicked)\n",
    "\n",
    "plt.show()"
   ]
  },
  {
   "cell_type": "code",
   "execution_count": null,
   "metadata": {},
   "outputs": [],
   "source": [
    "%matplotlib inline\n",
    "from math import sqrt,sin,pi\n",
    "from numpy import empty\n",
    "from matplotlib.pyplot import imshow,gray,show\n",
    "wavelength = 5.0\n",
    "k = 2*pi/wavelength\n",
    "xi0 = 1.0\n",
    "separation = 20.0      # Separation of centers in cm\n",
    "side = 100.0           # Side of the square in cm\n",
    "points = 500           # Number of grid points along each side\n",
    "spacing = side/points  # Spacing of points in cm\n",
    "# Calculate the positions of the centers of the circles\n",
    "x1 = side/2 + separation/2\n",
    "y1 = side/2\n",
    "x2 = side/2 - separation/2\n",
    "y2 = side/2\n",
    "# Make an array to store the heights\n",
    "xi = empty([points,points],float)\n",
    "# Calculate the values in the array\n",
    "for i in range(points):\n",
    "    y = spacing*i\n",
    "    for j in range(points):\n",
    "        x = spacing*j\n",
    "        r1 = sqrt((x-x1)**2+(y-y1)**2)\n",
    "        r2 = sqrt((x-x2)**2+(y-y2)**2)\n",
    "        xi[i,j] = xi0*sin(k*r1) + xi0*sin(k*r2)\n",
    "# Make the plot\n",
    "imshow(xi,origin=\"lower\",extent=[0,side,0,side])\n",
    "show()"
   ]
  },
  {
   "cell_type": "code",
   "execution_count": null,
   "metadata": {},
   "outputs": [],
   "source": [
    "%matplotlib inline\n",
    "from mpl_toolkits.mplot3d import Axes3D\n",
    "import matplotlib.pyplot as plt\n",
    "import numpy as np\n",
    "\n",
    "\n",
    "def f(t):\n",
    "    s1 = np.cos(2*np.pi*t)\n",
    "    e1 = np.exp(-t)\n",
    "    return np.multiply(s1, e1)\n",
    "\n",
    "\n",
    "################\n",
    "# First subplot\n",
    "################\n",
    "t1 = np.arange(0.0, 5.0, 0.1)\n",
    "t2 = np.arange(0.0, 5.0, 0.02)\n",
    "t3 = np.arange(0.0, 2.0, 0.01)\n",
    "\n",
    "# Twice as tall as it is wide.\n",
    "fig = plt.figure(figsize=plt.figaspect(2.))\n",
    "fig.suptitle('A tale of 2 subplots')\n",
    "ax = fig.add_subplot(2, 1, 1)\n",
    "l = ax.plot(t1, f(t1), 'bo',\n",
    "            t2, f(t2), 'k--', markerfacecolor='green')\n",
    "ax.grid(True)\n",
    "ax.set_ylabel('Damped oscillation')\n",
    "\n",
    "\n",
    "#################\n",
    "# Second subplot\n",
    "#################\n",
    "ax = fig.add_subplot(2, 1, 2, projection='3d')\n",
    "X = np.arange(-5, 5, 0.25)\n",
    "xlen = len(X)\n",
    "Y = np.arange(-5, 5, 0.25)\n",
    "ylen = len(Y)\n",
    "X, Y = np.meshgrid(X, Y)\n",
    "R = np.sqrt(X**2 + Y**2)\n",
    "Z = np.sin(R)\n",
    "\n",
    "surf = ax.plot_surface(X, Y, Z, rstride=1, cstride=1,\n",
    "                       linewidth=0, antialiased=False)\n",
    "\n",
    "ax.set_zlim3d(-1, 1)\n",
    "\n",
    "plt.show()\n"
   ]
  },
  {
   "cell_type": "code",
   "execution_count": 20,
   "metadata": {},
   "outputs": [],
   "source": [
    "%matplotlib inline\n",
    "import numpy as np\n",
    "import datetime as dt\n",
    "from netCDF4 import Dataset  \n",
    "import matplotlib.pyplot as plt"
   ]
  },
  {
   "cell_type": "code",
   "execution_count": 21,
   "metadata": {},
   "outputs": [
    {
     "name": "stdout",
     "output_type": "stream",
     "text": [
      "longitude float32 ('longitude',) (144,)\n",
      "latitude float32 ('latitude',) (73,)\n",
      "time int32 ('time',) (62,)\n",
      "tcw int16 ('time', 'latitude', 'longitude') (62, 73, 144)\n",
      "tcwv int16 ('time', 'latitude', 'longitude') (62, 73, 144)\n",
      "lsp int16 ('time', 'latitude', 'longitude') (62, 73, 144)\n",
      "cp int16 ('time', 'latitude', 'longitude') (62, 73, 144)\n",
      "msl int16 ('time', 'latitude', 'longitude') (62, 73, 144)\n",
      "blh int16 ('time', 'latitude', 'longitude') (62, 73, 144)\n",
      "tcc int16 ('time', 'latitude', 'longitude') (62, 73, 144)\n",
      "p10u int16 ('time', 'latitude', 'longitude') (62, 73, 144)\n",
      "p10v int16 ('time', 'latitude', 'longitude') (62, 73, 144)\n",
      "p2t int16 ('time', 'latitude', 'longitude') (62, 73, 144)\n",
      "p2d int16 ('time', 'latitude', 'longitude') (62, 73, 144)\n",
      "e int16 ('time', 'latitude', 'longitude') (62, 73, 144)\n",
      "lcc int16 ('time', 'latitude', 'longitude') (62, 73, 144)\n",
      "mcc int16 ('time', 'latitude', 'longitude') (62, 73, 144)\n",
      "hcc int16 ('time', 'latitude', 'longitude') (62, 73, 144)\n",
      "tco3 int16 ('time', 'latitude', 'longitude') (62, 73, 144)\n",
      "tp int16 ('time', 'latitude', 'longitude') (62, 73, 144)\n"
     ]
    }
   ],
   "source": [
    "from netCDF4 import Dataset\n",
    "d = Dataset(\"datos.nc\", \"r\")\n",
    "\n",
    "for nomb_var in d.variables.keys():\n",
    "    variable = d.variables[nomb_var]\n",
    "    print(nomb_var, variable.dtype, variable.dimensions, variable.shape)"
   ]
  },
  {
   "cell_type": "code",
   "execution_count": null,
   "metadata": {},
   "outputs": [],
   "source": [
    "d.variables[\"tp\"][:].shape\n"
   ]
  },
  {
   "cell_type": "code",
   "execution_count": 9,
   "metadata": {},
   "outputs": [],
   "source": [
    "a = Dataset(\"prueba.nc\", \"w\")"
   ]
  },
  {
   "cell_type": "code",
   "execution_count": 10,
   "metadata": {},
   "outputs": [],
   "source": [
    "lat = a.createDimension(\"lat\", 73)\n",
    "lon = a.createDimension(\"lon\", 144)"
   ]
  },
  {
   "cell_type": "code",
   "execution_count": 11,
   "metadata": {},
   "outputs": [
    {
     "data": {
      "text/plain": [
       "<class 'netCDF4._netCDF4.Variable'>\n",
       "float32 longitud(lon)\n",
       "unlimited dimensions: \n",
       "current shape = (144,)\n",
       "filling on, default _FillValue of 9.969209968386869e+36 used"
      ]
     },
     "execution_count": 11,
     "metadata": {},
     "output_type": "execute_result"
    }
   ],
   "source": [
    "a.createVariable(\"latitud\", np.float32, ('lat',))\n",
    "a.createVariable(\"longitud\", np.float32, ('lon',))"
   ]
  },
  {
   "cell_type": "code",
   "execution_count": 12,
   "metadata": {},
   "outputs": [
    {
     "data": {
      "text/plain": [
       "<class 'netCDF4._netCDF4.Variable'>\n",
       "float64 prec(lat, lon)\n",
       "unlimited dimensions: \n",
       "current shape = (73, 144)\n",
       "filling on, default _FillValue of 9.969209968386869e+36 used"
      ]
     },
     "execution_count": 12,
     "metadata": {},
     "output_type": "execute_result"
    }
   ],
   "source": [
    "a.createVariable(\"prec\", np.float64, ('lat', 'lon'))"
   ]
  },
  {
   "cell_type": "code",
   "execution_count": 13,
   "metadata": {},
   "outputs": [
    {
     "name": "stdout",
     "output_type": "stream",
     "text": [
      "[[0.83528671 0.46778406 0.89194941 ... 0.0677197  0.33515848 0.56262551]\n",
      " [0.51521282 0.45117637 0.51228661 ... 0.46902807 0.73749249 0.83877751]\n",
      " [0.3041822  0.85033801 0.3676619  ... 0.09049099 0.51076845 0.55540871]\n",
      " ...\n",
      " [0.75332929 0.77388981 0.28627367 ... 0.21800193 0.63483866 0.83724282]\n",
      " [0.27400367 0.54947137 0.72818285 ... 0.18286187 0.18017545 0.76756369]\n",
      " [0.55484703 0.87602754 0.60731367 ... 0.23126345 0.67544655 0.95387304]]\n"
     ]
    }
   ],
   "source": [
    "a.variables[\"latitud\"] = np.linspace(8,12,73)\n",
    "a.variables[\"longitud\"] = np.linspace(-86,-82,144)\n",
    "a.variables[\"prec\"] = np.random.uniform(size=(73,144)) \n",
    "\n",
    "print(a.variables[\"prec\"])\n",
    "a.close()"
   ]
  },
  {
   "cell_type": "code",
   "execution_count": 14,
   "metadata": {},
   "outputs": [
    {
     "name": "stdout",
     "output_type": "stream",
     "text": [
      "[[-- -- -- ... -- -- --]\n",
      " [-- -- -- ... -- -- --]\n",
      " [-- -- -- ... -- -- --]\n",
      " ...\n",
      " [-- -- -- ... -- -- --]\n",
      " [-- -- -- ... -- -- --]\n",
      " [-- -- -- ... -- -- --]]\n"
     ]
    }
   ],
   "source": [
    "a = Dataset(\"prueba.nc\", \"r\")\n",
    "for nomb_var in a.variables.keys():\n",
    "    if nomb_var == \"prec\":\n",
    "        print(a.variables[nomb_var][:])\n",
    "    \n",
    "    #print(nomb_var, variable.dtype, variable.dimensions, variable.shape)"
   ]
  },
  {
   "cell_type": "code",
   "execution_count": 17,
   "metadata": {
    "scrolled": true
   },
   "outputs": [
    {
     "name": "stderr",
     "output_type": "stream",
     "text": [
      "/usr/local/lib/python3.6/site-packages/mpl_toolkits/basemap/__init__.py:1707: MatplotlibDeprecationWarning: The axesPatch function was deprecated in version 2.1. Use Axes.patch instead.\n",
      "  if limb is not ax.axesPatch:\n"
     ]
    },
    {
     "ename": "NameError",
     "evalue": "name 'addcyclic' is not defined",
     "output_type": "error",
     "traceback": [
      "\u001b[0;31m---------------------------------------------------------------------------\u001b[0m",
      "\u001b[0;31mNameError\u001b[0m                                 Traceback (most recent call last)",
      "\u001b[0;32m<ipython-input-17-7590ce913b31>\u001b[0m in \u001b[0;36m<module>\u001b[0;34m()\u001b[0m\n\u001b[1;32m     12\u001b[0m \u001b[0;34m\u001b[0m\u001b[0m\n\u001b[1;32m     13\u001b[0m \u001b[0;31m# Hacer contínuo al mapa\u001b[0m\u001b[0;34m\u001b[0m\u001b[0;34m\u001b[0m\u001b[0m\n\u001b[0;32m---> 14\u001b[0;31m \u001b[0mair_cyclic\u001b[0m\u001b[0;34m,\u001b[0m \u001b[0mlons_cyclic\u001b[0m \u001b[0;34m=\u001b[0m \u001b[0maddcyclic\u001b[0m\u001b[0;34m(\u001b[0m\u001b[0mair\u001b[0m\u001b[0;34m[\u001b[0m\u001b[0;36m237\u001b[0m\u001b[0;34m,\u001b[0m \u001b[0;34m:\u001b[0m\u001b[0;34m,\u001b[0m \u001b[0;34m:\u001b[0m\u001b[0;34m]\u001b[0m\u001b[0;34m,\u001b[0m \u001b[0mlons\u001b[0m\u001b[0;34m)\u001b[0m\u001b[0;34m\u001b[0m\u001b[0m\n\u001b[0m\u001b[1;32m     15\u001b[0m \u001b[0;31m# Hace que las longitudes vayan de -180 a 180 en vez de de 0 a 360.\u001b[0m\u001b[0;34m\u001b[0m\u001b[0;34m\u001b[0m\u001b[0m\n\u001b[1;32m     16\u001b[0m \u001b[0mair_cyclic\u001b[0m\u001b[0;34m,\u001b[0m \u001b[0mlons_cyclic\u001b[0m \u001b[0;34m=\u001b[0m \u001b[0mshiftgrid\u001b[0m\u001b[0;34m(\u001b[0m\u001b[0;36m180.\u001b[0m\u001b[0;34m,\u001b[0m \u001b[0mair_cyclic\u001b[0m\u001b[0;34m,\u001b[0m \u001b[0mlons_cyclic\u001b[0m\u001b[0;34m,\u001b[0m \u001b[0mstart\u001b[0m\u001b[0;34m=\u001b[0m\u001b[0;32mFalse\u001b[0m\u001b[0;34m)\u001b[0m\u001b[0;34m\u001b[0m\u001b[0m\n",
      "\u001b[0;31mNameError\u001b[0m: name 'addcyclic' is not defined"
     ]
    },
    {
     "data": {
      "image/png": "[encoded data removed]",
      "text/plain": [
       "<matplotlib.figure.Figure at 0x7f173991cfd0>"
      ]
     },
     "metadata": {},
     "output_type": "display_data"
    }
   ],
   "source": [
    "from mpl_toolkits.basemap import Basemap\n",
    "\n",
    "nc = Dataset(\"prueba.nc\", \"r\")\n",
    "lats = nc.variables['latitud'][:]\n",
    "lons = nc.variables['longitud'][:]\n",
    "prec = nc.variables['prec'][:]\n",
    "print(prec)\n",
    "mapa = Basemap(projection='stere', llcrnrlat=lats[0], urcrnrlat=lats[-1],\\\n",
    "            llcrnrlon=lons[0], urcrnrlon=lons[-1], resolution='i', lon_0=lons[0], lat_0=lats[0])\n",
    "\n",
    "mapa.drawmapboundary(fill_color='aqua')\n",
    "mapa.fillcontinents(color='coral',lake_color='aqua')\n",
    "mapa.drawcoastlines()\n",
    "mapa.drawcountries()\n",
    "\n",
    "lon2d, lat2d = np.meshgrid(lons, lats)\n",
    "x, y = mapa(lon2d, lat2d)\n",
    "\n",
    "cs = mapa.pcolormesh(x, y, prec)\n",
    "nc.close()"
   ]
  },
  {
   "cell_type": "code",
   "execution_count": null,
   "metadata": {},
   "outputs": [],
   "source": [
    "print(prec)"
   ]
  },
  {
   "cell_type": "code",
   "execution_count": null,
   "metadata": {},
   "outputs": [],
   "source": [
    "nc.close()"
   ]
  },
  {
   "cell_type": "code",
   "execution_count": null,
   "metadata": {},
   "outputs": [],
   "source": [
    "a.close()"
   ]
  },
  {
   "cell_type": "code",
   "execution_count": 19,
   "metadata": {},
   "outputs": [
    {
     "name": "stdout",
     "output_type": "stream",
     "text": [
      "longitude float32 ('longitude',) (144,)\n",
      "latitude float32 ('latitude',) (73,)\n",
      "time int32 ('time',) (62,)\n",
      "tcw int16 ('time', 'latitude', 'longitude') (62, 73, 144)\n",
      "tcwv int16 ('time', 'latitude', 'longitude') (62, 73, 144)\n",
      "lsp int16 ('time', 'latitude', 'longitude') (62, 73, 144)\n",
      "cp int16 ('time', 'latitude', 'longitude') (62, 73, 144)\n",
      "msl int16 ('time', 'latitude', 'longitude') (62, 73, 144)\n",
      "blh int16 ('time', 'latitude', 'longitude') (62, 73, 144)\n",
      "tcc int16 ('time', 'latitude', 'longitude') (62, 73, 144)\n",
      "p10u int16 ('time', 'latitude', 'longitude') (62, 73, 144)\n",
      "p10v int16 ('time', 'latitude', 'longitude') (62, 73, 144)\n",
      "p2t int16 ('time', 'latitude', 'longitude') (62, 73, 144)\n",
      "p2d int16 ('time', 'latitude', 'longitude') (62, 73, 144)\n",
      "e int16 ('time', 'latitude', 'longitude') (62, 73, 144)\n",
      "lcc int16 ('time', 'latitude', 'longitude') (62, 73, 144)\n",
      "mcc int16 ('time', 'latitude', 'longitude') (62, 73, 144)\n",
      "hcc int16 ('time', 'latitude', 'longitude') (62, 73, 144)\n",
      "tco3 int16 ('time', 'latitude', 'longitude') (62, 73, 144)\n",
      "tp int16 ('time', 'latitude', 'longitude') (62, 73, 144)\n"
     ]
    }
   ],
   "source": [
    "nc = Dataset(\"datos.nc\", \"r\")\n",
    "for nomb_var in nc.variables.keys():\n",
    "    variable = nc.variables[nomb_var]\n",
    "    print(nomb_var, variable.dtype, variable.dimensions, variable.shape)"
   ]
  },
  {
   "cell_type": "code",
   "execution_count": null,
   "metadata": {},
   "outputs": [],
   "source": []
  }
 ],
 "metadata": {
  "kernelspec": {
   "display_name": "Python 3",
   "language": "python",
   "name": "python3"
  },
  "language_info": {
   "codemirror_mode": {
    "name": "ipython",
    "version": 3
   },
   "file_extension": ".py",
   "mimetype": "text/x-python",
   "name": "python",
   "nbconvert_exporter": "python",
   "pygments_lexer": "ipython3",
   "version": "3.6.0"
  }
 },
 "nbformat": 4,
 "nbformat_minor": 2
}
