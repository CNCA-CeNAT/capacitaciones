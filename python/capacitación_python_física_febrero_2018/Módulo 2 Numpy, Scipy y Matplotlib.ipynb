{
 "cells": [
  {
   "cell_type": "markdown",
   "metadata": {
    "slideshow": {
     "slide_type": "slide"
    }
   },
   "source": [
    "# Introducción a Numpy y Scipy\n",
    "\n",
    "- Numpy es la biblioteca central de computación científica en Python\n",
    "- Contiene (entre muchas otras cosas): \n",
    "  - Un poderoso objeto array (arreglo) multidimensional\n",
    "  - Funciones de álgebra lineal, transformada de Fourier y otras funciones matemáticas de alto nivel para trabajar con estos arrays\n",
    "  \n",
    "<img src=\"numpy.jpg\">"
   ]
  },
  {
   "cell_type": "markdown",
   "metadata": {
    "slideshow": {
     "slide_type": "slide"
    }
   },
   "source": [
    "# Convención de importación\n",
    "- Existe un estándar de importación de numpy (no es obligatorio, pero en mucha de la documentación e información en línea se encontrará así)\n"
   ]
  },
  {
   "cell_type": "code",
   "execution_count": null,
   "metadata": {
    "slideshow": {
     "slide_type": "slide"
    }
   },
   "outputs": [],
   "source": [
    "import numpy as np"
   ]
  },
  {
   "cell_type": "markdown",
   "metadata": {
    "slideshow": {
     "slide_type": "slide"
    }
   },
   "source": [
    "# Arrays\n",
    "- Al igual que una lista, es un conjunto ordenado de valores, pero existen algunas diferencias importantes entre listas y arrays:\n",
    "    - El número de elementos en un array es fijo\n",
    "    - Los elementos de un array deben de ser todos del mismo tipo. No se pueden mezclar distintos tipos de datos en un mismo array y una vez que se crea, el tipo de datos no se puede cambiar\n",
    "    \n",
    "- Las ventajas que presenta utilizar arrays sobre listas normales de python incluyen:\n",
    "    - Pueden ser n-dimensionales, desde matrices bidimensionales hasta estructuras más complejas. Por contraste, las listas siempre son unidimensionales\n",
    "    - Los arrays se comportan como vectores o matrices en álgebra: Se le pueden aplicar operaciones aritméticas\n",
    "    - Funcionan más rápido que las listas. Especialmente si se tiene una cantidad de datos muy grande"
   ]
  },
  {
   "cell_type": "code",
   "execution_count": null,
   "metadata": {
    "slideshow": {
     "slide_type": "slide"
    }
   },
   "outputs": [],
   "source": [
    "# Creamos un array de una dimensión con cero en cada una de sus entradas\n",
    "a = np.zeros(4)\n",
    "print (a)\n",
    "a = np.zeros(4, int)\n",
    "print (a)\n",
    "a = np.zeros(4, complex)\n",
    "print(a)\n",
    "a = np.zeros((5, 4, 6))\n",
    "print(a)"
   ]
  },
  {
   "cell_type": "markdown",
   "metadata": {
    "slideshow": {
     "slide_type": "slide"
    }
   },
   "source": [
    "- Nótese que los arrays se imprimen en consola de manera distinta a las listas, no hay comas entre los valores, sólo espacios\n",
    "- No es necesario indicar el tipo de datos que se desea crear (como en el caso primero), por defecto se crean floats\n",
    "\n",
    "- También se pueden crear arreglos multidimensionales"
   ]
  },
  {
   "cell_type": "markdown",
   "metadata": {
    "slideshow": {
     "slide_type": "slide"
    }
   },
   "source": [
    "### Nótese que el argumento de tamaño es un único valor (lista o tupla) que contiene el tamaño del array en todas las dimensiones que se desee\n",
    "\n",
    "\n",
    "- Se le puede especificar un conjunto de valores a partir de los cuales se creará el array\n",
    "- O se puede crear especificándole un rango mediante la función arange\n"
   ]
  },
  {
   "cell_type": "code",
   "execution_count": null,
   "metadata": {
    "scrolled": false,
    "slideshow": {
     "slide_type": "slide"
    }
   },
   "outputs": [],
   "source": [
    "b = np.array([[1.2, 3.5, 5.1],[4.4, 6.3, 9.8]]) # Creación a partir de valores\n",
    "print (b)\n",
    "\n",
    "c = np.arange(15)\n",
    "print(c)\n",
    "c = c.reshape((3,5))\n",
    "print(c)\n",
    "\n",
    "\n",
    "# --------------- Creación a partir de una lista ------------------\n",
    "a = np.array([1,2,3])\n",
    "\n",
    "print(a)\n",
    "\n",
    "# --------------- Creación a partir de números aleatorios ---------------\n",
    "r = np.random.random((5,3))\n",
    "print(r)"
   ]
  },
  {
   "cell_type": "markdown",
   "metadata": {
    "slideshow": {
     "slide_type": "slide"
    }
   },
   "source": [
    "# Operaciones\n",
    "- Las operaciones de suma, resta, multiplicación y división de escalares se aplican a todos los elementos\n",
    "- También algunas de las operaciones que se aplican a las listas normales, y otras operaciones más complejas"
   ]
  },
  {
   "cell_type": "code",
   "execution_count": null,
   "metadata": {
    "scrolled": false,
    "slideshow": {
     "slide_type": "slide"
    }
   },
   "outputs": [],
   "source": [
    "from numpy import array\n",
    "\n",
    "a = array([1, 2, 3, 4, 5, 6, 7, 8, 9, 10, 11, 12])\n",
    "a = a+5 # le suma el número 5 a todas las entradas del array\n",
    "print (a)\n",
    "print(\"\\n-------Suma---------\")\n",
    "print (a.sum()) # suma todas las entradas del array\n",
    "print(\"\\n-------Máximo---------\")\n",
    "print (a.max()) # retorna el valor máximo\n",
    "print(\"\\n--------Mínimo--------\")\n",
    "print (a.min()) # retorna el valor mínimo\n",
    "print(\"\\n--------Raíz Cuadrada--------\")\n",
    "print (np.sqrt(a)) # retorna un array cuyos valores son la raíz cuadrada de cada uno de los valores del array original\n",
    "print(\"\\n--------Cant. Datos--------\")\n",
    "print (a.size) # retorna la cantidad de datos que tiene el array\n",
    "print(\"\\n-------Forma del array---------\")\n",
    "tamaño_x = a.shape\n",
    "print(len(tamaño_x))\n",
    "print (tamaño_x) # retorna la forma que tienen los datos en el array, si tiene más de una dimensión, devuelve la magnitud máxima de cada una\n",
    "print(\"\\n-------Cambiar el array de forma---------\")\n",
    "a = a.reshape((3,4))\n",
    "print(a.shape)\n",
    "print (a.size)\n",
    "tamaño_x, tamaño_y = a.shape\n",
    "print(tamaño_x)\n",
    "print(tamaño_y)\n",
    "print(\"\\n-------Así se ve el array luego de cambiar de forma---------\")\n",
    "print (a)"
   ]
  },
  {
   "cell_type": "markdown",
   "metadata": {},
   "source": [
    "# Ejercicio \n",
    "\n",
    "### Generar 2 matrices de 5 x 7 con números aleatorios (entre 0 y 100). Sumar ambas matrices y obtener la raíz cuadrada de la suma de las matrices."
   ]
  },
  {
   "cell_type": "code",
   "execution_count": null,
   "metadata": {},
   "outputs": [],
   "source": [
    "matriz1 = np.random.random([5,7])*100\n",
    "matriz2 = np.random.random([5,7])*100\n",
    "\n",
    "matriz3 = np.sqrt(matriz1 + matriz2)\n",
    "\n",
    "print(matriz3)"
   ]
  },
  {
   "cell_type": "markdown",
   "metadata": {
    "slideshow": {
     "slide_type": "slide"
    }
   },
   "source": [
    "# Existen formas de crear datos secuenciales en rangos\n"
   ]
  },
  {
   "cell_type": "markdown",
   "metadata": {
    "slideshow": {
     "slide_type": "slide"
    }
   },
   "source": [
    "## - Linspace crea un vector con valores entre el primer y segundo valor que recibe como parámetro\n",
    "## - Crea N valores (N siendo el tercer parámetro)\n",
    "## - Todos los valores adyacentes van a tener la misma distancia entre sí"
   ]
  },
  {
   "cell_type": "code",
   "execution_count": null,
   "metadata": {
    "slideshow": {
     "slide_type": "slide"
    }
   },
   "outputs": [],
   "source": [
    "vector = np.linspace (-1, 1, 9)\n",
    "print(vector)"
   ]
  },
  {
   "cell_type": "markdown",
   "metadata": {
    "slideshow": {
     "slide_type": "slide"
    }
   },
   "source": [
    "- Meshgrid es útil para evaluar funciones en una malla (grid)\n",
    "- Retorna matrices de coordenadas a partir de vectores de coordenadas\n",
    "- En el ejemplo, z contiene todas las combinaciones de x y y\n"
   ]
  },
  {
   "cell_type": "code",
   "execution_count": null,
   "metadata": {
    "scrolled": false,
    "slideshow": {
     "slide_type": "slide"
    }
   },
   "outputs": [],
   "source": [
    "from numpy import meshgrid\n",
    "import numpy as np\n",
    "vector = np.linspace(0,1,2)\n",
    "print(\"----------------- vector 1 -----------------\")\n",
    "print(vector)\n",
    "vector2 = np.linspace(0,1,3)\n",
    "print(\"----------------- vector 2 -----------------\")\n",
    "print (vector2)\n",
    "\n",
    "xv, yv = meshgrid(vector, vector2)\n",
    "print (\"----------------- matriz resultante en x -----------------\")\n",
    "print (xv)\n",
    "print (\"----------------- matriz resultante en y -----------------\")\n",
    "print (yv)\n",
    "\n",
    "z = xv + yv\n",
    "print (\"----------------- resultado -----------------\")\n",
    "print (z)"
   ]
  },
  {
   "cell_type": "markdown",
   "metadata": {
    "slideshow": {
     "slide_type": "slide"
    }
   },
   "source": [
    "# Existen operaciones más complejas y combinaciones de varias operaciones\n",
    "### Por ejemplo, considere este cálculo de matrices\n",
    "<img src = mat2.png>"
   ]
  },
  {
   "cell_type": "code",
   "execution_count": null,
   "metadata": {
    "slideshow": {
     "slide_type": "slide"
    }
   },
   "outputs": [],
   "source": [
    "from numpy import dot\n",
    "\n",
    "a = array([[1,3], [2,4]])\n",
    "b = array([[4,-2], [-3,1]])\n",
    "c = array([[1,2], [2,1]])\n",
    "\n",
    "b = b[:,1]\n",
    "#b.shape\n",
    "print(b)\n",
    "\n",
    "# dot es la función de multiplicación de matrices, si la multiplicación se hiciera \n",
    "# a*b, sería una multiplicación elemento por elemento\n",
    "print(dot(a,b)+2*c)"
   ]
  },
  {
   "cell_type": "markdown",
   "metadata": {
    "slideshow": {
     "slide_type": "slide"
    }
   },
   "source": [
    "# Se puede mezclar la creación de matrices y vectores de numpy con list comprehension\n",
    "\n",
    "# Ejemplo:"
   ]
  },
  {
   "cell_type": "code",
   "execution_count": null,
   "metadata": {
    "slideshow": {
     "slide_type": "slide"
    }
   },
   "outputs": [],
   "source": [
    "import math\n",
    "a = [4.25, 0.323, 0.21]\n",
    "b = array([math.sqrt(i) for i in a])\n",
    "print (b)"
   ]
  },
  {
   "cell_type": "markdown",
   "metadata": {
    "slideshow": {
     "slide_type": "slide"
    }
   },
   "source": [
    "# Datos desde un archivo\n",
    "- Numpy permite cargar valores desde un archivo de texto\n",
    "- Estos datos se almacenan en un array que puede ser posteriormente manipulado igual que cualquier otro array de numpy\n"
   ]
  },
  {
   "cell_type": "code",
   "execution_count": null,
   "metadata": {
    "scrolled": true,
    "slideshow": {
     "slide_type": "slide"
    }
   },
   "outputs": [],
   "source": [
    "from numpy import loadtxt, average, savetxt\n",
    "valores = loadtxt(open(\"archivo_prueba.csv\", \"r\"), delimiter=\";\", skiprows=1)\n",
    "promedio = average(valores) #la función average calcula el promedio de los valores de la matriz\n",
    "#print(promedio)\n",
    "print(valores)\n",
    "\n",
    "'''print(\" -------------- luego del cambio ---------------- \")\n",
    "matriz_nueva = valores*9\n",
    "print (matriz_nueva)\n",
    "\n",
    "savetxt(\"archivo_prueba.csv\", matriz_nueva, delimiter=\";\")\n",
    "'''"
   ]
  },
  {
   "cell_type": "code",
   "execution_count": null,
   "metadata": {},
   "outputs": [],
   "source": [
    "valores[:,1]"
   ]
  },
  {
   "cell_type": "markdown",
   "metadata": {
    "collapsed": true,
    "slideshow": {
     "slide_type": "slide"
    }
   },
   "source": [
    "# A los arrays de numpy también se les puede hacer slicing\n",
    "## Funciona igual a como funciona con listas\n"
   ]
  },
  {
   "cell_type": "code",
   "execution_count": null,
   "metadata": {
    "slideshow": {
     "slide_type": "slide"
    }
   },
   "outputs": [],
   "source": [
    "valores[,3]# con esto se obtiene sólo la cuarta columna \n"
   ]
  },
  {
   "cell_type": "markdown",
   "metadata": {
    "slideshow": {
     "slide_type": "slide"
    }
   },
   "source": [
    "# Matplotlib\n",
    "### Es una biblioteca de graficación para Python\n",
    "### Provee una manera rápida de visualizar datos\n",
    "\n",
    "- En los cuadernos de jupyter es necesario indicar que la visualización se debe de hacer en las celdas del cuaderno de esta forma --> %matplotlib inline\n",
    "- Se pueden graficar funciones en dominios limitados (y discretos)"
   ]
  },
  {
   "cell_type": "code",
   "execution_count": null,
   "metadata": {
    "slideshow": {
     "slide_type": "slide"
    }
   },
   "outputs": [],
   "source": [
    "%matplotlib inline\n",
    "import matplotlib.pyplot as plt\n",
    "plt.plot([1,2,3,4])\n",
    "plt.ylabel('algunos numeritos')\n",
    "plt.show()"
   ]
  },
  {
   "cell_type": "markdown",
   "metadata": {},
   "source": [
    "### Noten que el eje X tiene un rango automático porque si se provee una única lista de números, se asume que es una secuencia de valores en 'y', los valores en 'x' se generan de forma automática (empezando desde 0)"
   ]
  },
  {
   "cell_type": "markdown",
   "metadata": {},
   "source": [
    "## plot() es un comando muy versátil, puede tomar un conjunto arbitratio de argumentos. Por ejemplo, para graficar x contra y, se puede hacer de la siguiente forma:"
   ]
  },
  {
   "cell_type": "code",
   "execution_count": null,
   "metadata": {},
   "outputs": [],
   "source": [
    "plt.plot([1, 2, 3, 4], [1, 4, 9, 16])\n",
    "plt.show()"
   ]
  },
  {
   "cell_type": "markdown",
   "metadata": {},
   "source": [
    "## Para cada par x,y existe un tercer parámetro (opcional), que es un string que indica el color y el tipo de línea del gráfico, el valor por defecto es 'b-', que es una línea azul, pero se puede especificar cualquier otra opción dentro de un conjunto de posibilidades:\n",
    "\n",
    "<img src=\"lines.png\", width=300, height=300>\n",
    "<img src=\"colors.png\", width=200, height=200>"
   ]
  },
  {
   "cell_type": "code",
   "execution_count": null,
   "metadata": {},
   "outputs": [],
   "source": [
    "plt.plot([1,2,3,4], [1,4,9,16], 'g^')\n",
    "plt.show()"
   ]
  },
  {
   "cell_type": "markdown",
   "metadata": {},
   "source": [
    "## El comando plt.axis() recibe una lista con 4 argumentos que nos ayuda a delimitar el rango de los ejes de los gráficos"
   ]
  },
  {
   "cell_type": "code",
   "execution_count": null,
   "metadata": {},
   "outputs": [],
   "source": [
    "plt.plot([1,2,3,4], [1,4,9,16], 'm:')\n",
    "plt.axis([0, 6, 0, 20])\n",
    "plt.show()"
   ]
  },
  {
   "cell_type": "markdown",
   "metadata": {},
   "source": [
    "# Hasta ahora sólo hemos utilizado listas para ingresar los datos de los gráficos \n",
    "# :(\n",
    "# Pero matplotlib funciona también con arrays de NumPy :D"
   ]
  },
  {
   "cell_type": "code",
   "execution_count": 1,
   "metadata": {},
   "outputs": [
    {
     "data": {
      "text/plain": [
       "<matplotlib.figure.Figure at 0x7f3500c49a58>"
      ]
     },
     "metadata": {},
     "output_type": "display_data"
    }
   ],
   "source": [
    "import numpy as np\n",
    "import matplotlib.pyplot as plt\n",
    "\n",
    "# intervalos\n",
    "t = np.arange(0.0, 5.0, 0.2)\n",
    "\n",
    "# líneas punteadas rojas, cuadrados azules and triángulos verdes\n",
    "plt.plot(t, t, 'r--', t, t**2, 'bs', t, t**3, 'g^')\n",
    "plt.show()"
   ]
  },
  {
   "cell_type": "markdown",
   "metadata": {},
   "source": [
    "# Para trabajar con múltiples figuras, se pueden utilizar subplots:"
   ]
  },
  {
   "cell_type": "code",
   "execution_count": null,
   "metadata": {},
   "outputs": [],
   "source": [
    "def f(t):\n",
    "    return np.exp(-t) * np.cos(2*np.pi*t)\n",
    "\n",
    "t1 = np.arange(0.0, 5.0, 0.1)\n",
    "t2 = np.arange(0.0, 5.0, 0.02)\n",
    "\n",
    "plt.subplot(211)\n",
    "plt.plot(t1, f(t1), 'bo', t2, f(t2), 'k')\n",
    "\n",
    "plt.subplot(212)\n",
    "plt.plot(t2, np.cos(2*np.pi*t2), 'r--')\n",
    "plt.show()"
   ]
  },
  {
   "cell_type": "markdown",
   "metadata": {},
   "source": [
    "### El comando subplot acomoda las figuras en una matriz, los parámetros son num_filas, num_columnas, num_figura. Donde num_figura va desde 1 hasta num_filas * num_columnas.\n",
    "\n",
    "\n",
    "# Las figuras generadas se pueden guardar como archivos"
   ]
  },
  {
   "cell_type": "code",
   "execution_count": 2,
   "metadata": {
    "slideshow": {
     "slide_type": "slide"
    }
   },
   "outputs": [
    {
     "data": {
      "image/png": "[encoded data removed]",
      "text/plain": [
       "<matplotlib.figure.Figure at 0x7f34418ad5c0>"
      ]
     },
     "metadata": {},
     "output_type": "display_data"
    }
   ],
   "source": [
    "%matplotlib inline\n",
    "import numpy as np\n",
    "import matplotlib.pyplot as plt\n",
    "X = np.linspace(-np.pi, np.pi, 256)\n",
    "c,s = np.cos(X), np.sin(X)\n",
    "plt.plot(X,c)\n",
    "plt.plot(X,s)\n",
    "plt.savefig(\"ejercicio_plt.png\", dpi=72)\n",
    "plt.show()\n"
   ]
  },
  {
   "cell_type": "markdown",
   "metadata": {},
   "source": [
    "## Se pueden hacer desde cosas simples, hasta gráficos más complejos en 3D"
   ]
  },
  {
   "cell_type": "code",
   "execution_count": null,
   "metadata": {
    "scrolled": true
   },
   "outputs": [],
   "source": [
    "%matplotlib inline \n",
    "#Necesario para que se visualice en el navegador con Jupyter\n",
    "import numpy as np\n",
    "from mpl_toolkits.mplot3d import Axes3D\n",
    "# definición de la función\n",
    "def f(x,y):\n",
    "    return (4 - 2.1*x**2 + x**4 / 3.) * x**2 + x * y + (-4 + 4*y**2) * y **2\n",
    "# código para graficarla\n",
    "x = np.linspace(-2, 2) # Retorna 50 números entre -2 y 2\n",
    "y = np.linspace(-1, 1) # Retorna 50 números entre -1 y 1\n",
    "xg, yg = np.meshgrid(x, y) # Crea una malla de puntos\n",
    "\n",
    "\n",
    "fig = plt.figure()\n",
    "ax = fig.add_subplot(111, projection='3d')\n",
    "surf = ax.plot_surface(xg, yg, f(xg, yg), rstride=1, cstride=1,\n",
    "                       cmap=plt.cm.jet, linewidth=0, antialiased=False)\n",
    "\n",
    "ax.set_xlabel('$\\lambda$')\n",
    "ax.set_ylabel('$\\delta$')\n",
    "ax.set_zlabel('f(x, y)')\n",
    "ax.set_title('Función de ejemplo')"
   ]
  },
  {
   "cell_type": "markdown",
   "metadata": {
    "slideshow": {
     "slide_type": "slide"
    }
   },
   "source": [
    "## Los datos que se grafican podrían venir desde un archivo de texto"
   ]
  },
  {
   "cell_type": "code",
   "execution_count": 3,
   "metadata": {},
   "outputs": [
    {
     "ename": "OSError",
     "evalue": "../prueba1.csv not found.",
     "output_type": "error",
     "traceback": [
      "\u001b[0;31m---------------------------------------------------------------------------\u001b[0m",
      "\u001b[0;31mOSError\u001b[0m                                   Traceback (most recent call last)",
      "\u001b[0;32m<ipython-input-3-51dce6492d26>\u001b[0m in \u001b[0;36m<module>\u001b[0;34m()\u001b[0m\n\u001b[1;32m      1\u001b[0m \u001b[0mget_ipython\u001b[0m\u001b[0;34m(\u001b[0m\u001b[0;34m)\u001b[0m\u001b[0;34m.\u001b[0m\u001b[0mrun_line_magic\u001b[0m\u001b[0;34m(\u001b[0m\u001b[0;34m'matplotlib'\u001b[0m\u001b[0;34m,\u001b[0m \u001b[0;34m'inline'\u001b[0m\u001b[0;34m)\u001b[0m\u001b[0;34m\u001b[0m\u001b[0m\n\u001b[1;32m      2\u001b[0m \u001b[0;32mfrom\u001b[0m \u001b[0mnumpy\u001b[0m \u001b[0;32mimport\u001b[0m \u001b[0mloadtxt\u001b[0m\u001b[0;34m\u001b[0m\u001b[0m\n\u001b[0;32m----> 3\u001b[0;31m \u001b[0mdatos\u001b[0m \u001b[0;34m=\u001b[0m \u001b[0mloadtxt\u001b[0m\u001b[0;34m(\u001b[0m\u001b[0;34m\"../prueba1.csv\"\u001b[0m\u001b[0;34m)\u001b[0m\u001b[0;34m\u001b[0m\u001b[0m\n\u001b[0m\u001b[1;32m      4\u001b[0m \u001b[0mx\u001b[0m \u001b[0;34m=\u001b[0m \u001b[0mdatos\u001b[0m\u001b[0;34m[\u001b[0m\u001b[0;34m:\u001b[0m\u001b[0;34m,\u001b[0m\u001b[0;36m0\u001b[0m\u001b[0;34m]\u001b[0m\u001b[0;34m\u001b[0m\u001b[0m\n\u001b[1;32m      5\u001b[0m \u001b[0my\u001b[0m \u001b[0;34m=\u001b[0m \u001b[0mdatos\u001b[0m\u001b[0;34m[\u001b[0m\u001b[0;34m:\u001b[0m\u001b[0;34m,\u001b[0m\u001b[0;36m1\u001b[0m\u001b[0;34m]\u001b[0m\u001b[0;34m\u001b[0m\u001b[0m\n",
      "\u001b[0;32m/usr/local/lib/python3.6/site-packages/numpy/lib/npyio.py\u001b[0m in \u001b[0;36mloadtxt\u001b[0;34m(fname, dtype, comments, delimiter, converters, skiprows, usecols, unpack, ndmin, encoding)\u001b[0m\n\u001b[1;32m    915\u001b[0m             \u001b[0mfname\u001b[0m \u001b[0;34m=\u001b[0m \u001b[0mstr\u001b[0m\u001b[0;34m(\u001b[0m\u001b[0mfname\u001b[0m\u001b[0;34m)\u001b[0m\u001b[0;34m\u001b[0m\u001b[0m\n\u001b[1;32m    916\u001b[0m         \u001b[0;32mif\u001b[0m \u001b[0m_is_string_like\u001b[0m\u001b[0;34m(\u001b[0m\u001b[0mfname\u001b[0m\u001b[0;34m)\u001b[0m\u001b[0;34m:\u001b[0m\u001b[0;34m\u001b[0m\u001b[0m\n\u001b[0;32m--> 917\u001b[0;31m             \u001b[0mfh\u001b[0m \u001b[0;34m=\u001b[0m \u001b[0mnp\u001b[0m\u001b[0;34m.\u001b[0m\u001b[0mlib\u001b[0m\u001b[0;34m.\u001b[0m\u001b[0m_datasource\u001b[0m\u001b[0;34m.\u001b[0m\u001b[0mopen\u001b[0m\u001b[0;34m(\u001b[0m\u001b[0mfname\u001b[0m\u001b[0;34m,\u001b[0m \u001b[0;34m'rt'\u001b[0m\u001b[0;34m,\u001b[0m \u001b[0mencoding\u001b[0m\u001b[0;34m=\u001b[0m\u001b[0mencoding\u001b[0m\u001b[0;34m)\u001b[0m\u001b[0;34m\u001b[0m\u001b[0m\n\u001b[0m\u001b[1;32m    918\u001b[0m             \u001b[0mfencoding\u001b[0m \u001b[0;34m=\u001b[0m \u001b[0mgetattr\u001b[0m\u001b[0;34m(\u001b[0m\u001b[0mfh\u001b[0m\u001b[0;34m,\u001b[0m \u001b[0;34m'encoding'\u001b[0m\u001b[0;34m,\u001b[0m \u001b[0;34m'latin1'\u001b[0m\u001b[0;34m)\u001b[0m\u001b[0;34m\u001b[0m\u001b[0m\n\u001b[1;32m    919\u001b[0m             \u001b[0mfh\u001b[0m \u001b[0;34m=\u001b[0m \u001b[0miter\u001b[0m\u001b[0;34m(\u001b[0m\u001b[0mfh\u001b[0m\u001b[0;34m)\u001b[0m\u001b[0;34m\u001b[0m\u001b[0m\n",
      "\u001b[0;32m/usr/local/lib/python3.6/site-packages/numpy/lib/_datasource.py\u001b[0m in \u001b[0;36mopen\u001b[0;34m(path, mode, destpath, encoding, newline)\u001b[0m\n\u001b[1;32m    258\u001b[0m \u001b[0;34m\u001b[0m\u001b[0m\n\u001b[1;32m    259\u001b[0m     \u001b[0mds\u001b[0m \u001b[0;34m=\u001b[0m \u001b[0mDataSource\u001b[0m\u001b[0;34m(\u001b[0m\u001b[0mdestpath\u001b[0m\u001b[0;34m)\u001b[0m\u001b[0;34m\u001b[0m\u001b[0m\n\u001b[0;32m--> 260\u001b[0;31m     \u001b[0;32mreturn\u001b[0m \u001b[0mds\u001b[0m\u001b[0;34m.\u001b[0m\u001b[0mopen\u001b[0m\u001b[0;34m(\u001b[0m\u001b[0mpath\u001b[0m\u001b[0;34m,\u001b[0m \u001b[0mmode\u001b[0m\u001b[0;34m,\u001b[0m \u001b[0mencoding\u001b[0m\u001b[0;34m=\u001b[0m\u001b[0mencoding\u001b[0m\u001b[0;34m,\u001b[0m \u001b[0mnewline\u001b[0m\u001b[0;34m=\u001b[0m\u001b[0mnewline\u001b[0m\u001b[0;34m)\u001b[0m\u001b[0;34m\u001b[0m\u001b[0m\n\u001b[0m\u001b[1;32m    261\u001b[0m \u001b[0;34m\u001b[0m\u001b[0m\n\u001b[1;32m    262\u001b[0m \u001b[0;34m\u001b[0m\u001b[0m\n",
      "\u001b[0;32m/usr/local/lib/python3.6/site-packages/numpy/lib/_datasource.py\u001b[0m in \u001b[0;36mopen\u001b[0;34m(self, path, mode, encoding, newline)\u001b[0m\n\u001b[1;32m    614\u001b[0m                                       encoding=encoding, newline=newline)\n\u001b[1;32m    615\u001b[0m         \u001b[0;32melse\u001b[0m\u001b[0;34m:\u001b[0m\u001b[0;34m\u001b[0m\u001b[0m\n\u001b[0;32m--> 616\u001b[0;31m             \u001b[0;32mraise\u001b[0m \u001b[0mIOError\u001b[0m\u001b[0;34m(\u001b[0m\u001b[0;34m\"%s not found.\"\u001b[0m \u001b[0;34m%\u001b[0m \u001b[0mpath\u001b[0m\u001b[0;34m)\u001b[0m\u001b[0;34m\u001b[0m\u001b[0m\n\u001b[0m\u001b[1;32m    617\u001b[0m \u001b[0;34m\u001b[0m\u001b[0m\n\u001b[1;32m    618\u001b[0m \u001b[0;34m\u001b[0m\u001b[0m\n",
      "\u001b[0;31mOSError\u001b[0m: ../prueba1.csv not found."
     ]
    }
   ],
   "source": [
    "%matplotlib inline \n",
    "from numpy import loadtxt\n",
    "datos = loadtxt(\"../prueba1.csv\")\n",
    "x = datos[:,0]\n",
    "y = datos[:,1]\n",
    "plt.plot(x,y)\n",
    "plt.show()"
   ]
  },
  {
   "cell_type": "markdown",
   "metadata": {
    "slideshow": {
     "slide_type": "slide"
    }
   },
   "source": [
    "# SciPy\n",
    "## El paquete SciPy contiene varias herramientas dedicadas a resolver problemas comunes en computación científica\n",
    "## Esta biblioteca trabaja en conjunto con NumPy\n",
    "## Algunos de los módulos con los que cuenta esta biblioteca son\n",
    "- constants (constantes matemáticas y físicas)\n",
    "- fftpack (transformada de Fourier)\n",
    "- integrate (integración)\n",
    "- interpolate (interpolación)\n",
    "- io (entrada/salida de datos)\n",
    "- linalg (álgebra lineal)\n",
    "- ndimage (imágenes n-dimensionales)\n",
    "- optimize (optimización)\n",
    "- signal (procesamiento de señales)\n",
    "- stats (estadística)"
   ]
  },
  {
   "cell_type": "markdown",
   "metadata": {
    "slideshow": {
     "slide_type": "slide"
    }
   },
   "source": [
    "# Álgebra lineal\n",
    "### Tiene operaciones para inversión de matrices, cálculo de determinantes, etc."
   ]
  },
  {
   "cell_type": "code",
   "execution_count": null,
   "metadata": {
    "slideshow": {
     "slide_type": "slide"
    }
   },
   "outputs": [],
   "source": [
    "from scipy import linalg\n",
    "\n",
    "matriz = np.matrix([[1,2],\n",
    "                  [3,4]])\n",
    "\n",
    "############ Cálculo de determinante ############\n",
    "print (\"\\n ---------- Determinante ----------- \")\n",
    "print (linalg.det(matriz)) \n",
    "## Da error si se intenta computar el determinante de una matriz no cuadrada\n",
    "\n",
    "############ Cálculo de la inversa de una matriz cuadrada ############\n",
    "print (\"\\n ---------- Matriz Inversa ----------- \")\n",
    "matriz_inversa = linalg.inv(matriz)\n",
    "print (matriz_inversa)\n",
    "## Para asegurarnos de que es la inversa, la multiplicamos por la original\n",
    "## y observamos el resultado\n",
    "\n",
    "print (\"\\n ---------- Multiplicación de matrices ----------- \")\n",
    "matrices_multiplicadas = dot(matriz, matriz_inversa) # multiplicación matricial\n",
    "print(matrices_multiplicadas)\n"
   ]
  },
  {
   "cell_type": "markdown",
   "metadata": {
    "slideshow": {
     "slide_type": "slide"
    }
   },
   "source": [
    "# Optimización\n",
    "### Se puede utilizar para encontrar soluciones numéricas a minimizaciones o igualdades\n",
    "### Por ejemplo, para encontrar el mínimo local de una función escalar:"
   ]
  },
  {
   "cell_type": "code",
   "execution_count": null,
   "metadata": {
    "slideshow": {
     "slide_type": "slide"
    }
   },
   "outputs": [],
   "source": [
    "from scipy import optimize\n",
    "import matplotlib.pyplot as plt\n",
    "import numpy as np\n",
    "\n",
    "def f(x):\n",
    "    return x**2 + 10*np.sin(x)\n",
    "x = np.arange(-10, 10, 0.1)\n",
    "plt.plot(x, f(x))\n",
    "plt.show()"
   ]
  },
  {
   "cell_type": "code",
   "execution_count": null,
   "metadata": {
    "slideshow": {
     "slide_type": "slide"
    }
   },
   "outputs": [],
   "source": [
    "optimize.fmin_bfgs(f, 0)"
   ]
  },
  {
   "cell_type": "markdown",
   "metadata": {
    "slideshow": {
     "slide_type": "slide"
    }
   },
   "source": [
    "### Existen otros métodos de optimización dentro de ese paquete, como basinhopping y differential_evolution\n"
   ]
  },
  {
   "cell_type": "markdown",
   "metadata": {
    "slideshow": {
     "slide_type": "slide"
    }
   },
   "source": [
    "# Solución de ecuaciones diferenciales\n",
    "\n",
    "Las ecuaciones diferenciales se pueden resolver con ayuda del paquete scipy.integrate utilizando la función ODEINT, la cual requiere tres datos:\n",
    " - modelo: la función que se desea integrar\n",
    " - y0: las condiciones iniciales para los diferentes estados\n",
    " - t: puntos temporales en los que se calcula una solución"
   ]
  },
  {
   "cell_type": "markdown",
   "metadata": {
    "slideshow": {
     "slide_type": "slide"
    }
   },
   "source": [
    "## Por ejemplo, considere la siguiente ODE con parámetro k = 0.3:\n",
    "$$ \\frac{\\partial y}{\\partial t} = -k y(t) $$"
   ]
  },
  {
   "cell_type": "code",
   "execution_count": 4,
   "metadata": {
    "slideshow": {
     "slide_type": "slide"
    }
   },
   "outputs": [],
   "source": [
    "def modelo (y,t):\n",
    "    k = 0.3\n",
    "    dydt = -k * y\n",
    "    return dydt\n",
    "\n",
    "y0 = 5\n",
    "\n",
    "# Puntos en el tiempo\n",
    "t = np.linspace(0,20)\n"
   ]
  },
  {
   "cell_type": "code",
   "execution_count": 5,
   "metadata": {
    "slideshow": {
     "slide_type": "slide"
    }
   },
   "outputs": [
    {
     "data": {
      "image/png": "[encoded data removed]",
      "text/plain": [
       "<matplotlib.figure.Figure at 0x7f34418438d0>"
      ]
     },
     "metadata": {},
     "output_type": "display_data"
    }
   ],
   "source": [
    "from scipy.integrate import odeint\n",
    "\n",
    "#resolver la ODE\n",
    "y = odeint(modelo, y0, t)\n",
    "plt.plot(t,y)\n",
    "plt.xlabel('tiempo')\n",
    "plt.ylabel('y(t)')\n",
    "plt.show()"
   ]
  },
  {
   "cell_type": "markdown",
   "metadata": {
    "slideshow": {
     "slide_type": "slide"
    }
   },
   "source": [
    "# Ejercicio\n",
    "## Encuentre la solución numérica de la siguiente ODE con sus respectivas condiciones iniciales\n",
    "\n",
    "# 1\n",
    "\n",
    "$$ \\frac{\\partial y}{\\partial t} = -y(t) + 1  $$\n",
    "\n",
    "$$ y(0) = 0 $$"
   ]
  },
  {
   "cell_type": "markdown",
   "metadata": {
    "slideshow": {
     "slide_type": "slide"
    }
   },
   "source": [
    "# 2 \n",
    "## Muestre la solución para x(t) y para y(t), y muestre que las soluciones son equivalentes\n",
    "\n",
    "$$ \\frac{\\partial x}{\\partial t} = 3 exp(-t) $$\n",
    "$$ \\frac{\\partial y}{\\partial t} = 3 - y(t) $$\n",
    "\n",
    "$$ x(0) = 0 $$\n",
    "$$ y(0) = 0 $$"
   ]
  },
  {
   "cell_type": "markdown",
   "metadata": {
    "slideshow": {
     "slide_type": "slide"
    }
   },
   "source": [
    "# Solución ejercicio 1"
   ]
  },
  {
   "cell_type": "code",
   "execution_count": null,
   "metadata": {},
   "outputs": [],
   "source": [
    "import numpy as np\n",
    "from scipy.integrate import odeint\n",
    "import matplotlib.pyplot as plt\n",
    "\n",
    "# función que retorna dy/dt\n",
    "def modelo(y,t):\n",
    "    dydt = -y + 1.0\n",
    "    return dydt\n",
    "\n",
    "# condición inicial\n",
    "y0 = 0\n",
    "\n",
    "# puntos temporales\n",
    "t = np.linspace(0,5)\n",
    "\n",
    "# solución de la ode\n",
    "y = odeint(modelo,y0,t)\n",
    "\n",
    "# graficar resultados\n",
    "plt.plot(t,y)\n",
    "plt.xlabel('tiempo')\n",
    "plt.ylabel('y(t)')\n",
    "plt.show()"
   ]
  },
  {
   "cell_type": "markdown",
   "metadata": {},
   "source": [
    "# Solución ejercicio 2"
   ]
  },
  {
   "cell_type": "code",
   "execution_count": 6,
   "metadata": {},
   "outputs": [
    {
     "data": {
      "image/png": "[encoded data removed]",
      "text/plain": [
       "<matplotlib.figure.Figure at 0x7f343bfab828>"
      ]
     },
     "metadata": {},
     "output_type": "display_data"
    }
   ],
   "source": [
    "import numpy as np\n",
    "from scipy.integrate import odeint\n",
    "import matplotlib.pyplot as plt\n",
    "\n",
    "# función que retorna dz/dt\n",
    "def modelo(z,t):\n",
    "    dxdt = 3.0 * np.exp(-t)\n",
    "    dydt = -z[1] + 3\n",
    "    dzdt = [dxdt,dydt]\n",
    "    return dzdt\n",
    "\n",
    "# condición inicial\n",
    "z0 = [0,0]\n",
    "\n",
    "# puntos temporales\n",
    "t = np.linspace(0,5)\n",
    "\n",
    "# solución de ODE\n",
    "z = odeint(modelo,z0,t)\n",
    "\n",
    "# graficar resultados\n",
    "plt.plot(t,z[:,0],'b-',label=r'$\\frac{dx}{dt}=3 \\; \\exp(-t)$')\n",
    "plt.plot(t,z[:,1],'r--',label=r'$\\frac{dy}{dt}=-y+3$')\n",
    "plt.ylabel('respuesta')\n",
    "plt.xlabel('tiempo')\n",
    "plt.legend(loc='best')\n",
    "plt.show()"
   ]
  },
  {
   "cell_type": "code",
   "execution_count": null,
   "metadata": {},
   "outputs": [],
   "source": []
  }
 ],
 "metadata": {
  "anaconda-cloud": {},
  "celltoolbar": "Slideshow",
  "kernelspec": {
   "display_name": "Python 3",
   "language": "python",
   "name": "python3"
  },
  "language_info": {
   "codemirror_mode": {
    "name": "ipython",
    "version": 3
   },
   "file_extension": ".py",
   "mimetype": "text/x-python",
   "name": "python",
   "nbconvert_exporter": "python",
   "pygments_lexer": "ipython3",
   "version": "3.6.0"
  }
 },
 "nbformat": 4,
 "nbformat_minor": 1
}
