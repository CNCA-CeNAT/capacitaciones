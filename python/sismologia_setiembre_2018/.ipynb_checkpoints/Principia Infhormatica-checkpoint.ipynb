{
 "cells": [
  {
   "cell_type": "markdown",
   "metadata": {},
   "source": [
    "# Módulo 1: Principios de Python\n",
    "\n",
    "__Contenidos:__\n",
    "\n",
    "+ Variables\n",
    "+ Operadores\n",
    "+ Condicionales (if, elif, else)\n",
    "+ listas, for loops\n",
    "+ while loop\n",
    "+ Funciones"
   ]
  },
  {
   "cell_type": "markdown",
   "metadata": {},
   "source": [
    "## Definición de variables\n",
    "\n",
    "#### Para definir una variable, sólamente se le asigna un nombre y un valor con el operador \"=\""
   ]
  },
  {
   "cell_type": "code",
   "execution_count": null,
   "metadata": {},
   "outputs": [],
   "source": [
    "nombre = \"Guillermo\" # Variable de texto o \"String\"\n",
    "edad = 25 # Variable numérica (int)\n",
    "altura_en_cm = 170.3 # Variable numérica (float)"
   ]
  },
  {
   "cell_type": "markdown",
   "metadata": {},
   "source": [
    "### Los operadores se pueden utilizar con variables o con valores constantes"
   ]
  },
  {
   "cell_type": "code",
   "execution_count": null,
   "metadata": {},
   "outputs": [],
   "source": [
    "altura_de_zapatos = 4\n",
    "base = 2\n",
    "exponente = 3\n",
    "print(edad * 4) # Multiplicación\n",
    "print(16 / 8) # División\n",
    "print (45 % 4) # Módulo\n",
    "print (base ** exponente) # Potencia\n",
    "print(altura_en_cm + altura_de_zapatos)\n",
    "print(5-4)"
   ]
  },
  {
   "cell_type": "markdown",
   "metadata": {},
   "source": [
    "### Operadores con strings\n",
    " - Python soporta concatenación entre strings con el operador de suma\n",
    " - NO se puede utilizar el operador de suma mezclando datos de tipos distintos (a menos que sean numéricos)"
   ]
  },
  {
   "cell_type": "code",
   "execution_count": null,
   "metadata": {},
   "outputs": [],
   "source": [
    "apellido = \"Cornejo\"\n",
    "print(nombre + \" \" + apellido + \" Suarez\")"
   ]
  },
  {
   "cell_type": "markdown",
   "metadata": {},
   "source": [
    "## Ejercicio # 1:\n",
    "### Cree una variable numérica X y asígnele algún valor, y con ella calcule la siguiente función:\n",
    "### 6x² + 3x - 4"
   ]
  },
  {
   "cell_type": "markdown",
   "metadata": {},
   "source": [
    "# Condicionales\n",
    "\n",
    " - Python utiliza variables de tipo booleano para evaluar condiciones\n",
    " - Estas son variables que sólo pueden tomar valores binarios de \"True\" o \"False\"\n"
   ]
  },
  {
   "cell_type": "code",
   "execution_count": null,
   "metadata": {},
   "outputs": [],
   "source": [
    "x = 2\n",
    "y = \"hola\"\n",
    "print(x == 2 or y == \"hola\")\n",
    "print(x == 3 or y == \"hola\")\n",
    "print(x < 3)\n",
    "print(y == \"Hola\")"
   ]
  },
  {
   "cell_type": "markdown",
   "metadata": {},
   "source": [
    "## Las sentencias \"if\" permiten manejar el flujo de ejecución de un programa mediante condicionales\n"
   ]
  },
  {
   "cell_type": "code",
   "execution_count": null,
   "metadata": {},
   "outputs": [],
   "source": [
    "altura = float(input(\"Ingrese su altura en cm \"))\n",
    "\n",
    "if altura <= 120:\n",
    "    print(\"No puede subirse a la montaña rusa\")"
   ]
  },
  {
   "cell_type": "markdown",
   "metadata": {},
   "source": [
    "## La sintaxis general de las sentencias \"if\" es:\n",
    "  #### if _condición_ :\n",
    "      bloque de código indentado\n",
    "\n",
    "   - Python utiliza indentación (4 espacios en blanco) para separar los bloques de código dentro de estas y otras sentencias\n",
    "\n",
    "   - Se evalúa la condición, y si se cumple, se ejecuta el código dentro del bloque"
   ]
  },
  {
   "cell_type": "markdown",
   "metadata": {},
   "source": [
    "### bloque \"else\"\n",
    "\n",
    "Este bloque se ejecuta si la condición del if no se cumple"
   ]
  },
  {
   "cell_type": "code",
   "execution_count": null,
   "metadata": {},
   "outputs": [],
   "source": [
    "altura = float(input(\"Ingrese su altura en cm \"))\n",
    "if altura < 120:\n",
    "    print(\"No puede subirse a la montaña rusa\")\n",
    "else:\n",
    "    print(\"Sí puede subirse\")\n",
    "    "
   ]
  },
  {
   "cell_type": "markdown",
   "metadata": {},
   "source": [
    "### \"elif\"\n",
    "Es una abreviación de \"else if\". Se utiliza cuando existe más de dos posibilidades para una condición"
   ]
  },
  {
   "cell_type": "code",
   "execution_count": null,
   "metadata": {},
   "outputs": [],
   "source": [
    "altura = float(input(\"Ingrese su altura en cm \"))\n",
    "if altura < 120:\n",
    "    print(\"No puede subirse a la montaña rusa\")\n",
    "elif altura < 150:\n",
    "    print(\"Puede subirse en compañía de un adulto\")\n",
    "else:\n",
    "    print(\"Sí puede subirse\")"
   ]
  },
  {
   "cell_type": "markdown",
   "metadata": {},
   "source": [
    "## Ejercicios #2 y #3\n",
    " - Escriba un programa que reciba un número entero del usuario y le indique si el número es par o impar\n",
    " - Escriba otro programa que le pregunte al usuario la edad y le indique si puede votar o no"
   ]
  },
  {
   "cell_type": "markdown",
   "metadata": {},
   "source": [
    "# Listas"
   ]
  },
  {
   "cell_type": "markdown",
   "metadata": {},
   "source": [
    "## ¿Qué es una lista?\n",
    "\n",
    "- Es un conjunto de datos ordenados\n",
    "- Facilitan la administración de conjuntos de datos relacionados, ya que no se tienen que manipular individualmente"
   ]
  },
  {
   "cell_type": "markdown",
   "metadata": {},
   "source": [
    "# Estructura de una lista (vector)\n",
    "\n",
    "<img src=\"lista.png\", width=800, height=600>\n",
    "\n",
    "\n",
    "- Una lista(vector) es conjunto de valores que están agrupados en un solo objeto\n",
    "- Cada campo puede almacenar un valor y a cada uno se le asocia un entero conocido como “índice” que es la posición que ocupa dentro de la lista (comenzando desde cero)\n",
    "- (En Python) Pueden almacenarse valores de distintos tipos de datos en una misma lista"
   ]
  },
  {
   "cell_type": "code",
   "execution_count": null,
   "metadata": {},
   "outputs": [],
   "source": [
    "# Inicialización de una lista\n",
    "lista = []\n",
    "# Se puede inicializar con datos\n",
    "lista = [4, 2.56, \"asdf\"]\n",
    "print(lista)\n",
    "\n",
    "for elemento in lista:\n",
    "        print(elemento)"
   ]
  },
  {
   "cell_type": "markdown",
   "metadata": {},
   "source": [
    "- Se puede acceder a un dato dentro de una lista haciendo referencia a su posición dentro de la lista\n",
    "- Cada dato tiene un índice que corresponde a esta posición\n",
    "- Los índices de las listas comienzan en 0"
   ]
  },
  {
   "cell_type": "code",
   "execution_count": null,
   "metadata": {},
   "outputs": [],
   "source": [
    "print(lista[0])\n",
    "print(lista[1])\n",
    "print(lista[2])"
   ]
  },
  {
   "cell_type": "code",
   "execution_count": null,
   "metadata": {},
   "outputs": [],
   "source": [
    "## Operaciones básicas con listas\n",
    "# Append: Se utiliza para agregar elementos al final de una lista\n",
    "lista.append(34)\n",
    "print(lista)\n",
    "\n",
    "#Remove: Elimina un elemento de la lista (lo busca por contenido y lo elimina, si existe más de uno que \n",
    "# cumple con el criterio de búsqueda, elimina sólamente el primero que encuentra)\n",
    "lista.remove(34)\n",
    "print(lista)\n",
    "\n",
    "\n",
    "lista.pop(1)\n",
    "print(lista)"
   ]
  },
  {
   "cell_type": "markdown",
   "metadata": {},
   "source": [
    "# Ejercicio #4\n",
    " - Utilizando las listas vacías en la celda de abajo, y los datos que se le solicitan al usuario, llene las listas con los datos que le correspondan a cada una (los nombres en la lista de nombres y los números en la de números)"
   ]
  },
  {
   "cell_type": "code",
   "execution_count": null,
   "metadata": {},
   "outputs": [],
   "source": [
    "lista_numeros = []\n",
    "lista_nombres = []\n",
    "\n",
    "numero1 = int(input(\"Ingrese el primer número \"))\n",
    "nombre1 = input(\"Ingrese el primer nombre \")\n",
    "nombre2 = input(\"Ingrese el segundo nombre \")\n",
    "numero2 = int(input(\"Ingrese el segundo número \"))"
   ]
  },
  {
   "cell_type": "markdown",
   "metadata": {},
   "source": [
    "## 'while' loops\n",
    "- Son ciclos que se repiten mientras se cumpla una condición"
   ]
  },
  {
   "cell_type": "code",
   "execution_count": null,
   "metadata": {},
   "outputs": [],
   "source": [
    "contador = 0\n",
    "while contador < 5:\n",
    "    print (contador)\n",
    "    contador += 1 # Esto es lo mismo que hacer contador = contador + 1"
   ]
  },
  {
   "cell_type": "code",
   "execution_count": null,
   "metadata": {},
   "outputs": [],
   "source": [
    "lista_numeros = []\n",
    "numero = int(input(\"Ingrese un numero (0 termina) \"))\n",
    "while numero != 0:\n",
    "    lista_numeros.append(numero)\n",
    "    numero = int(input(\"Ingrese un numero (0 termina) \"))\n",
    "    \n",
    "print(lista_numeros)"
   ]
  },
  {
   "cell_type": "markdown",
   "metadata": {},
   "source": [
    "## 'for' loops\n",
    "- Son estructuras que permiten repetir instrucciones por una cantidad determinada de veces\n",
    "- Estos ciclos recorren una lista"
   ]
  },
  {
   "cell_type": "code",
   "execution_count": null,
   "metadata": {},
   "outputs": [],
   "source": [
    "primos = [2,3,5,7,11,13,17,19,23,29,31,37,41,43,47,53,59,61,67,71,73,79,83,89,97]\n",
    "for num in primos:\n",
    "    print(num+8)\n",
    "    \n"
   ]
  },
  {
   "cell_type": "markdown",
   "metadata": {},
   "source": [
    "- En este caso, num es una variable temporal que, en cada ciclo de repetición del código, tomará un valor distinto de la lista\n",
    "- Las instrucciones dentro del bloque se repiten una vez por cada elemento que haya en la lista\n",
    "- La diferencia es que la variable temporal ('num', en el caso del ejemplo anterior), será un dato distinto en cada una de esas repeticiones"
   ]
  },
  {
   "cell_type": "markdown",
   "metadata": {},
   "source": [
    "## Range\n",
    "\n",
    "- Se utiliza para que los ciclos 'for' recorran una secuencia de números"
   ]
  },
  {
   "cell_type": "code",
   "execution_count": null,
   "metadata": {},
   "outputs": [],
   "source": [
    "for x in range(5): # Por defecto empieza en cero\n",
    "    print(x)\n",
    "print(\"---------------------------- FIN ----------------------------\")\n",
    "for x in range(3, 6): # Se le indica un inicio y un final, excluye el valor final indicado\n",
    "    print(x)\n",
    "print(\"---------------------------- FIN ----------------------------\")\n",
    "for x in range(0, 10, 2): # Inicio, final y step, que indica cada cuántos recorre la secuencia\n",
    "    print(x)\n",
    "print(\"---------------------------- FIN ----------------------------\")"
   ]
  },
  {
   "cell_type": "code",
   "execution_count": null,
   "metadata": {},
   "outputs": [],
   "source": [
    "print(x)"
   ]
  },
  {
   "cell_type": "markdown",
   "metadata": {},
   "source": [
    "# Ejercicio #5\n",
    "- Cree un programa que le solicite (mediante un for loop) 5 números al usuario y los ingrese en una lista, luego imprima los 5 números al cuadrado\n"
   ]
  },
  {
   "cell_type": "code",
   "execution_count": null,
   "metadata": {},
   "outputs": [],
   "source": [
    "lista_numeros = [8,7,2,4,5]\n",
    "\n",
    "print(lista_numeros[-2])"
   ]
  },
  {
   "cell_type": "markdown",
   "metadata": {},
   "source": [
    " # List Comprehension\n",
    " \n",
    " - Python tiene una manera sencilla de crear listas que es más cercana al lenguaje natural\n",
    " - De la misma forma en la que en lenguaje matemático se diría por ejemplo:\n",
    "  - lista_numeros_cuadrado = $x^2\\;|\\; x \\in [0,9]$\n",
    "  - lista_numeros_exponencial = $2^x\\; |\\; x \\in [1, 12]$\n",
    "  - lista_numeros_pares = $x\\; |\\; x \\in \\text{lista_numeros_cuadrado y x es par}$"
   ]
  },
  {
   "cell_type": "code",
   "execution_count": null,
   "metadata": {},
   "outputs": [],
   "source": [
    "lista_numeros_cuadrado = [x**2 for x in range(10)]\n",
    "lista_numeros_exponencial = [2**i for i in range(13)]\n",
    "lista_numeros_pares = [x for x in lista_numeros_cuadrado if x % 2 == 0]\n",
    "\n",
    "print (lista_numeros_cuadrado)\n",
    "print (lista_numeros_exponencial)\n",
    "print (lista_numeros_pares)"
   ]
  },
  {
   "cell_type": "code",
   "execution_count": null,
   "metadata": {},
   "outputs": [],
   "source": [
    "lista_palabras = [\"hola\", \"adios\", \"arándano\", \"araña\", \"ropa\", \"numero\", \"avión\"]\n",
    "palabras_con_a = [palabra for palabra in lista_palabras if palabra[0] == \"a\"]\n",
    "\n",
    "print(palabras_con_a)"
   ]
  },
  {
   "cell_type": "markdown",
   "metadata": {},
   "source": [
    "## Si quisiéramos hacer lo mismo sin list comprehension, tendríamos que escribir más código y de una manera menos intuitiva"
   ]
  },
  {
   "cell_type": "code",
   "execution_count": null,
   "metadata": {},
   "outputs": [],
   "source": [
    "lista_palabras = [\"hola\", \"adios\", \"arándano\", \"araña\", \"ropa\", \"numero\", \"avión\"]\n",
    "lista_nueva = []\n",
    "for palabra in lista_palabras:\n",
    "    if palabra[0] == \"a\":\n",
    "        lista_nueva.append(palabra)\n",
    "        \n",
    "print(lista_nueva)"
   ]
  },
  {
   "cell_type": "markdown",
   "metadata": {},
   "source": [
    "# Sirve también para aplicarle una función a todos los elementos de una lista"
   ]
  },
  {
   "cell_type": "code",
   "execution_count": null,
   "metadata": {},
   "outputs": [],
   "source": [
    "from math import log\n",
    "lista_logaritmos = [log(i) for i in lista_numeros_exponencial]\n",
    "print (lista_logaritmos)\n"
   ]
  },
  {
   "cell_type": "markdown",
   "metadata": {},
   "source": [
    "# Ejercicio #6\n",
    "\n",
    "- Utilizando list comprehension, cree una nueva lista que contenga únicamente los números positivos de la lista especificada a continuación"
   ]
  },
  {
   "cell_type": "code",
   "execution_count": null,
   "metadata": {},
   "outputs": [],
   "source": [
    "numeros = [34.6, -203.4, 44.9, 68.3, -12.2, 44.6, 12.7]"
   ]
  },
  {
   "cell_type": "markdown",
   "metadata": {},
   "source": [
    "# Slicing\n",
    "\n",
    "- Se puede acceder a parte de los datos de una lista\n",
    "- Se le puede indicar dónde iniciar, dónde parar y el \"step\" que se quiere seguir\n",
    "  "
   ]
  },
  {
   "cell_type": "code",
   "execution_count": null,
   "metadata": {},
   "outputs": [],
   "source": [
    "lista_numeros = [i for i in range(21)]\n",
    "print(lista_numeros)\n",
    "print(lista_numeros[2:20]) # Observe que el límite izquierdo sí se toma, pero el derecho no\n",
    "print(lista_numeros[8:]) # si alguno de los valores se deja en blanco, se toma como el límite de la lista\n",
    "print(lista_numeros[2:18:3]) # el tercer valor es el \"step\", cada cuántos elementos se deben de tomar"
   ]
  },
  {
   "cell_type": "markdown",
   "metadata": {},
   "source": [
    "## Básicamente son tres valores\n",
    "### Inicio, Final y Step\n",
    " - inicio: indica el índice inicial desde donde se van a tomar los datos, incluye este valor a menos de que sea igual al índice final, si se omite, por defecto se toma como el primer índice (o sea, 0)\n",
    " - final: $NO$ incluye este valor en el resultado, si se omite, por defecto se toma la lista hasta el final (incluyendo el último elemento)\n",
    " - step: la cantidad a la que el índice incrementa, por defecto es 1 si se omite. Si es negativo, se realizará en orden inverso"
   ]
  },
  {
   "cell_type": "markdown",
   "metadata": {},
   "source": [
    "# Índices negativos\n",
    "- Los índices negativos empiezan a contar desde el último valor hacia atrás\n",
    "\n",
    "<img src = index.png>"
   ]
  },
  {
   "cell_type": "code",
   "execution_count": null,
   "metadata": {},
   "outputs": [],
   "source": [
    "print(lista_numeros[-1]) # imprime el último número\n",
    "print(lista_numeros[-5:-2]) # imprime desde el 5to desde el final hasta el 2do desde el final\n",
    "print(lista_numeros[::-4]) # imprime desde el final cada 4 elementos recorriendo en orden inverso"
   ]
  },
  {
   "cell_type": "markdown",
   "metadata": {},
   "source": [
    "# Ejercicio #7\n",
    "\n",
    "- Tome las listas lista_numeros_cuadrado y lista_numeros_exponencial y obtenga el promedio de los valores en posiciones pares de cada lista"
   ]
  },
  {
   "cell_type": "markdown",
   "metadata": {},
   "source": [
    "# Funciones\n",
    "- Son una manera de modularizar el código (separarlo en secciones o bloques útiles)\n",
    "- Sirven para:\n",
    "    - Ordenar el código\n",
    "    - Reutilizarlo\n",
    "    \n",
    "- Tienen un encabezado y un bloque de código"
   ]
  },
  {
   "cell_type": "code",
   "execution_count": null,
   "metadata": {},
   "outputs": [],
   "source": [
    "def mi_primera_funcion(n):\n",
    "    print(\"Hola, esta es mi primera función\")\n",
    "    for x in range(n):\n",
    "        print(\"Hola, esta funcion va por el numero \" + str(x))"
   ]
  },
  {
   "cell_type": "markdown",
   "metadata": {},
   "source": [
    "### Cuando se escribe una función, se está escribiendo la definición de la función únicamente, no se ejecuta el código hasta que se llame a la función.\n",
    "### Las funciones se llaman escribiendo su nombre seguido de parántesis, que llevan cualquier parámetro que necesite la función"
   ]
  },
  {
   "cell_type": "code",
   "execution_count": null,
   "metadata": {},
   "outputs": [],
   "source": [
    "mi_primera_funcion(8)"
   ]
  },
  {
   "cell_type": "markdown",
   "metadata": {},
   "source": [
    "### Las funciones también pueden recibir parámetros o argumentos que se pueden utilizar localmente en la función"
   ]
  },
  {
   "cell_type": "code",
   "execution_count": null,
   "metadata": {},
   "outputs": [],
   "source": [
    "def funcion_con_parametros(nombre, dia):\n",
    "    print(\"Hola \" + nombre + \", le deseo un feliz \" + dia)"
   ]
  },
  {
   "cell_type": "code",
   "execution_count": null,
   "metadata": {},
   "outputs": [],
   "source": [
    "funcion_con_parametros(\"Daniel\", \"Lunes\")"
   ]
  },
  {
   "cell_type": "markdown",
   "metadata": {},
   "source": [
    "### Las funciones también pueden retornar valores como resultado de sus llamados, por ejemplo"
   ]
  },
  {
   "cell_type": "code",
   "execution_count": null,
   "metadata": {},
   "outputs": [],
   "source": [
    "# con valor de retorno\n",
    "def suma_numeros(a, b):\n",
    "    return a + b\n",
    "\n",
    "\n",
    "# sin valor de retorno\n",
    "def multiplicacion_numeros(a, b):\n",
    "    n = a * b\n",
    "    print (n)"
   ]
  },
  {
   "cell_type": "markdown",
   "metadata": {},
   "source": [
    "### Estos valores de retorno posteriormente se pueden utilizar para imprimirse, capturarse en una variable o utilizarlo en alguna operación"
   ]
  },
  {
   "cell_type": "code",
   "execution_count": null,
   "metadata": {},
   "outputs": [],
   "source": [
    "print(suma_numeros(4,5))\n",
    "\n",
    "## Si la función no tiene return, no tendrá valor de retorno\n",
    " \n",
    "n = multiplicacion_numeros(4,5)\n",
    "\n",
    "print(n)\n",
    "\n",
    "lista = []"
   ]
  },
  {
   "cell_type": "code",
   "execution_count": null,
   "metadata": {},
   "outputs": [],
   "source": [
    "def llenar_lista(inicio, final, step):\n",
    "    for x in range(inicio, final, step):\n",
    "        lista.append(x)"
   ]
  },
  {
   "cell_type": "code",
   "execution_count": null,
   "metadata": {},
   "outputs": [],
   "source": [
    "lista = []\n",
    "print(lista)\n",
    "\n",
    "llenar_lista(1,11,1)\n",
    "print(lista)\n",
    "\n",
    "llenar_lista(56,80,6)\n",
    "\n",
    "print(lista)"
   ]
  },
  {
   "cell_type": "markdown",
   "metadata": {},
   "source": [
    "# Ejercicio #8\n",
    "### Cree una función que reciba una lista y un valor numérico y revise los elementos de la lista uno por uno y retorne True si el valor existe en la lista y False si no"
   ]
  },
  {
   "cell_type": "markdown",
   "metadata": {},
   "source": [
    "# Objetos\n",
    "\n",
    "- Los objetos son una encapsulación de variables y funciones en una sola entidad o contenedor\n",
    "- Se puede pensar en un objeto como si fuera una sola estructura de datos que contiene datos y funciones\n",
    "- Las variables definidas dentro los objetos se llaman \"atributos\"\n",
    "- Los objetos obtienen sus variables y funciones a partir de definiciones llamadas \"clases\""
   ]
  },
  {
   "cell_type": "code",
   "execution_count": null,
   "metadata": {},
   "outputs": [],
   "source": [
    "class Persona:\n",
    "    def __init__(self, nombre, edad, lenguaje_favorito, es_estudiante):\n",
    "        self.nombre = nombre\n",
    "        self.edad = edad\n",
    "        self.lenguaje_favorito = lenguaje_favorito\n",
    "        self.es_estudiante = es_estudiante\n",
    "        \n",
    "    def cambio_nombre(self, nombre_nuevo):\n",
    "        self.nombre = nombre_nuevo\n",
    "    \n",
    "    def descripcion(self):\n",
    "        if (self.es_estudiante):\n",
    "            est = \"soy estudiante\"\n",
    "        else:\n",
    "            est = \"no soy estudiante\"\n",
    "        print(\"Hola, soy %s, tengo %s años, mi lenguaje favorito es %s y %s\" % (self.nombre, str(self.edad), self.lenguaje_favorito, est))\n",
    "        \n",
    "    "
   ]
  },
  {
   "cell_type": "markdown",
   "metadata": {},
   "source": [
    "- Se puede pensar en una clase como una plantilla para crear objetos\n",
    "- Se debe de tener clara la diferencia entre una clase y un objeto"
   ]
  },
  {
   "cell_type": "code",
   "execution_count": null,
   "metadata": {},
   "outputs": [],
   "source": [
    "objeto_persona = Persona (\"Daniel\", 28, \"Python\", False)"
   ]
  },
  {
   "cell_type": "markdown",
   "metadata": {},
   "source": [
    "### Para acceder a los atributos de un objeto, se hace de la forma: objeto.atributo"
   ]
  },
  {
   "cell_type": "code",
   "execution_count": null,
   "metadata": {},
   "outputs": [],
   "source": [
    "print(objeto_persona.nombre)"
   ]
  },
  {
   "cell_type": "markdown",
   "metadata": {},
   "source": [
    "### Una vez que se tiene la definición de la clase \"Persona\", se pueden crear tantas instancias como se necesiten"
   ]
  },
  {
   "cell_type": "code",
   "execution_count": null,
   "metadata": {},
   "outputs": [],
   "source": [
    "persona1 = Persona(\"Marcela\", 26, \"Python\", True)\n",
    "persona2 = Persona(\"Carlos\", 33, \"Python\", False)\n",
    "persona3 = Persona(\"Alexa\", 22, \"Python\", True)\n",
    "lista_personas = [objeto_persona, persona1, persona2, persona3]\n",
    "\n",
    "for persona in lista_personas:\n",
    "    print(persona.nombre)"
   ]
  },
  {
   "cell_type": "markdown",
   "metadata": {},
   "source": [
    "### Las funciones dentro de una clase se llaman \"métodos\"\n",
    "### Se puede acceder a ellos de una manera similar a como se accede a los atributos"
   ]
  },
  {
   "cell_type": "code",
   "execution_count": null,
   "metadata": {},
   "outputs": [],
   "source": [
    "class Libro:\n",
    "    def __init__(self, titulo, autor, cant_paginas):\n",
    "        self.titulo = titulo\n",
    "        self.autor = autor\n",
    "        self.pagina_actual = 1\n",
    "        self.cant_paginas = cant_paginas\n",
    "        print(\"Creo un libro\")\n",
    "        \n",
    "    def pasar_pagina(self, cantidad_de_paginas):\n",
    "        self.pagina_actual += cantidad_de_paginas\n",
    "        \n",
    "        \n",
    "libro_nuevo = Libro(\"Etica\", \"Spinoza\", 315)\n",
    "\n",
    "print(libro_nuevo.pagina_actual)\n",
    "\n",
    "libro_nuevo.pasar_pagina(5)\n",
    "\n",
    "print(libro_nuevo.pagina_actual)\n",
    "\n"
   ]
  },
  {
   "cell_type": "markdown",
   "metadata": {},
   "source": [
    "## Método \\_\\_init\\_\\_()\n",
    "\n",
    "- Este método se utiliza para inicializar los objetos, en el momento en el que se crea la instancia, se ejecuta lo que está en el método init, a esto se le conoce como \"constructor\"\n",
    "- Como se ve en el ejemplo anterior, el constructor puede recibir parámetros para inicializar los valores en el objeto\n",
    "- El método constructor sólo puede llamarse \\_\\_init\\_\\_ --> No puede llamarse de ninguna otra forma\n",
    "\n",
    "### Una vez que se tiene la definición de la clase, se pueden crear tantas instancias como se necesiten"
   ]
  },
  {
   "cell_type": "markdown",
   "metadata": {},
   "source": [
    "# Ejercicio #9\n",
    "\n",
    "### Cree una función que imprima el nombre y el lenguaje de las personas dentro de la lista \"lista_personas\" que creamos antes pero únicamente si son mayores de 27 años\n",
    "\n",
    "### Modele una clase \"sismo\", e incluya en ella los atributos y métodos que considere necesarios"
   ]
  },
  {
   "cell_type": "markdown",
   "metadata": {},
   "source": [
    "# Manejo de archivos\n",
    "\n",
    "Los archivos de texto plano son la manera estándar más simple para almacenar y recuperar datos. \n",
    "\n",
    "En Python, los archivos se abren con la función `open(archivo, modo)`. El parámetro `archivo` es la dirección y nombre del archivo, el parámetro `modo` especifica para que se va a utiliar el archivo, la siguiente tabla muestra los posibles valores:\n",
    "\n",
    "| Modo | Descripción                                                        |\n",
    "|------|--------------------------------------------------------------------|\n",
    "| 'r'  | Solo lectura (opción por defecto)                                  |\n",
    "| 'w'  |  Solo escritura. Si el archivo existe, borra el contenido          |\n",
    "| 'x'  | Intenta crear un archivo, si ya existe, genera un error            |\n",
    "| 'a'  | Solo escritura. Si el archivo existe, comienza a escribir al final |\n",
    "| 'b'  | Modo binario                                                       |\n",
    "| 't'  | Modo texto (opción por defecto)                                    |\n",
    "| '+'  | Lectura y escritura                                                |\n",
    "\n",
    "Los modos puede combinarse, por ejemplo, abrir un archivo binario en modo escritura `wb` o abrir un archivo para lectura y escritura, pero borrando el contenido `w+`. \n",
    "\n",
    "La función `open()` retorna un objeto de clase `file` y debemos interactuar con él a través de sus métodos, puede explorarlos en el siguiente [enlace](https://docs.python.org/3.5/tutorial/inputoutput.html#methods-of-file-objects). \n",
    "\n",
    "Ahora, observe el siguiente ejemplo:"
   ]
  },
  {
   "cell_type": "code",
   "execution_count": null,
   "metadata": {},
   "outputs": [],
   "source": [
    "lista = [str(i**2) for i in range (1,11)] # Genera una lista de números como strings\n",
    "\n",
    "f = open(\"output.txt\", \"w\")\n",
    "\n",
    "for elemento in lista:\n",
    "    f.write(elemento + \"\\n\")\n",
    "    \n",
    "f.close()"
   ]
  },
  {
   "cell_type": "markdown",
   "metadata": {},
   "source": [
    "__Atención:__ note el método `file.close()`. Cuando trabajamos con archivos, es muy importante recordar cerrarlos, de otra manera, podemos perder los datos. \n",
    "\n",
    "\n",
    "### Podemos también iterar sobre los objetos `file` para leerlos:"
   ]
  },
  {
   "cell_type": "code",
   "execution_count": null,
   "metadata": {},
   "outputs": [],
   "source": [
    "f = open('output.txt')\n",
    "\n",
    "for line in f:\n",
    "    print(line)\n",
    "f.close()"
   ]
  },
  {
   "cell_type": "markdown",
   "metadata": {},
   "source": [
    "# Ejercicio #10\n",
    "\n",
    "Tome los datos de las personas de la lista lista_personas y escríbalos en un archivo de texto llamado personas.csv\n",
    "- Separe cada dato por un punto y coma \";\" y separe cada persona por un cambio de línea \"\\n\""
   ]
  },
  {
   "cell_type": "markdown",
   "metadata": {},
   "source": [
    "# Soluciones de ejercicios"
   ]
  },
  {
   "cell_type": "markdown",
   "metadata": {},
   "source": [
    "## Solución Ejercicio 1"
   ]
  },
  {
   "cell_type": "code",
   "execution_count": null,
   "metadata": {},
   "outputs": [],
   "source": [
    "x = 0.83\n",
    "print(x**2 + 3*x - 4)"
   ]
  },
  {
   "cell_type": "markdown",
   "metadata": {},
   "source": [
    "## Solución Ejercicio 2"
   ]
  },
  {
   "cell_type": "code",
   "execution_count": null,
   "metadata": {},
   "outputs": [],
   "source": [
    "num = int(input(\"Escriba el número: \\n\"))\n",
    "if num%2 == 0:\n",
    "    print(\"El número es par\")\n",
    "else:\n",
    "    print(\"El número NO es par\")"
   ]
  },
  {
   "cell_type": "markdown",
   "metadata": {},
   "source": [
    "## Solución Ejercicio 3"
   ]
  },
  {
   "cell_type": "code",
   "execution_count": null,
   "metadata": {},
   "outputs": [],
   "source": [
    "edad = int(input(\"Digite su edad: \\n\"))\n",
    "if edad >= 18:\n",
    "    print(\"Usted puede votar\")\n",
    "else:\n",
    "    print(\"Aún no puede votar\")"
   ]
  },
  {
   "cell_type": "markdown",
   "metadata": {},
   "source": [
    "## Solución Ejercicio 4"
   ]
  },
  {
   "cell_type": "code",
   "execution_count": null,
   "metadata": {},
   "outputs": [],
   "source": [
    "lista_numeros = []\n",
    "lista_nombres = []\n",
    "\n",
    "numero1 = int(input(\"Ingrese el primer número \"))\n",
    "nombre1 = input(\"Ingrese el primer nombre \")\n",
    "nombre2 = input(\"Ingrese el segundo nombre \")\n",
    "numero2 = int(input(\"Ingrese el segundo número \"))\n",
    "\n",
    "lista_numeros.append(numero1)\n",
    "lista_numeros.append(numero2)\n",
    "lista_nombres.append(nombre1)\n",
    "lista_nombres.append(nombre2)\n",
    "\n",
    "print(lista_numeros)\n",
    "print(lista_nombres)"
   ]
  },
  {
   "cell_type": "markdown",
   "metadata": {},
   "source": [
    "## Solución Ejercicio 5"
   ]
  },
  {
   "cell_type": "code",
   "execution_count": null,
   "metadata": {},
   "outputs": [],
   "source": [
    "lista_numeros = []\n",
    "for i in range(5):\n",
    "    numero = int(input(\"Ingrese un número para la lista: \\n\"))\n",
    "    lista_numeros.append(numero)\n",
    "    \n",
    "    \n",
    "print(\"\\n La lista de números al cuadrado es: \\n\")\n",
    "for i in range(5):\n",
    "    print(lista_numeros[i]**2)"
   ]
  },
  {
   "cell_type": "markdown",
   "metadata": {},
   "source": [
    "## Solución Ejercicio 6"
   ]
  },
  {
   "cell_type": "code",
   "execution_count": null,
   "metadata": {},
   "outputs": [],
   "source": [
    "numeros = [34.6, -203.4, 44.9, 68.3, -12.2, 44.6, 12.7]\n",
    "nueva_lista = [n for n in numeros if n > 0]\n",
    "\n",
    "print(nueva_lista)"
   ]
  },
  {
   "cell_type": "markdown",
   "metadata": {},
   "source": [
    "## Solución Ejercicio 7"
   ]
  },
  {
   "cell_type": "code",
   "execution_count": null,
   "metadata": {},
   "outputs": [],
   "source": [
    "# Tome las listas lista_numeros_cuadrado y lista_numeros_exponencial \n",
    "# y obtenga el promedio de los valores en posiciones pares de cada lista\n",
    "lista_temp = lista_numeros_cuadrado[::2]\n",
    "print(\"Promedio números cuadrados:\", sum(lista_temp)/len(lista_temp))\n",
    "lista_temp = lista_numeros_exponencial[::2]\n",
    "print(\"Promedio números exponenciales:\", sum(lista_temp)/len(lista_temp))"
   ]
  },
  {
   "cell_type": "markdown",
   "metadata": {},
   "source": [
    "## Solución Ejercicio 8"
   ]
  },
  {
   "cell_type": "code",
   "execution_count": null,
   "metadata": {},
   "outputs": [],
   "source": [
    "def buscar(lista, numero):\n",
    "    contador = 0\n",
    "    for elemento in lista:\n",
    "        contador += 1\n",
    "        if elemento == numero:\n",
    "            return True\n",
    "        \n",
    "    return False\n"
   ]
  },
  {
   "cell_type": "markdown",
   "metadata": {},
   "source": [
    "## Solución Ejercicio 9"
   ]
  },
  {
   "cell_type": "code",
   "execution_count": null,
   "metadata": {},
   "outputs": [],
   "source": [
    "def mayores_de_27():\n",
    "    for persona in lista_personas:\n",
    "        if persona.edad > 27:\n",
    "            print(persona.nombre + \" \" + persona.lenguaje_favorito)"
   ]
  },
  {
   "cell_type": "markdown",
   "metadata": {},
   "source": [
    "## Solución Ejercicio 10"
   ]
  },
  {
   "cell_type": "code",
   "execution_count": null,
   "metadata": {},
   "outputs": [],
   "source": [
    "f = fopen(\"personas.csv\")\n",
    "for persona in lista_personas:\n",
    "    f.write(persona.nombre+\";\"+persona.edad+\";\"+persona.lenguaje_favorito+\";\"+persona.es_estudiante+\"\\n\")\n",
    "    \n",
    "f.close()"
   ]
  }
 ],
 "metadata": {
  "kernelspec": {
   "display_name": "Python 3",
   "language": "python",
   "name": "python3"
  },
  "language_info": {
   "codemirror_mode": {
    "name": "ipython",
    "version": 3
   },
   "file_extension": ".py",
   "mimetype": "text/x-python",
   "name": "python",
   "nbconvert_exporter": "python",
   "pygments_lexer": "ipython3",
   "version": "3.6.0"
  }
 },
 "nbformat": 4,
 "nbformat_minor": 2
}
