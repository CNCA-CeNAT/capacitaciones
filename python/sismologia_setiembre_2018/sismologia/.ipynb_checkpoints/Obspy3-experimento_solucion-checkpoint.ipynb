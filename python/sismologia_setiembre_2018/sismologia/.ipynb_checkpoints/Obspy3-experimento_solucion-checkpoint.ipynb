{
 "cells": [
  {
   "cell_type": "markdown",
   "metadata": {},
   "source": [
    "# Experimento: amplitud en función de la distancia\n",
    "\n",
    "Las ondas sísmicas son ondas mecánicas. A pesar de moverse en un medio muy complejo, exhibiendo comportamientos no lineales, podemos afirmar que siguen ciertas tendencias. Una de esas es el decaimiento de la amplitud en función de la distancia. \n",
    "\n",
    "Para ilustrarlo, vamos a tomar las componentes verticales de todos los sismómetros al momento del sismo de Jacó. Vamos a resumir su amplitud en un único valor y lo vamos a graficar contra la distancia. "
   ]
  },
  {
   "cell_type": "code",
   "execution_count": null,
   "metadata": {},
   "outputs": [],
   "source": [
    "# Importe los módulos necesarios: obspy, numpy, matplotlib\n",
    "import obspy\n",
    "import numpy as np\n",
    "import matplotlib.pyplot as plt\n",
    "\n",
    "# Inventario con la respuesta del instrumento y la posición\n",
    "inv = obspy.read_inventory('datos/tc_stations.xml') + obspy.read_inventory('datos/ov_stations.xml')\n",
    "\n",
    "def pre_process(file, inventory):\n",
    "    # Cargue el Stream \n",
    "    stream = obspy.read(file)\n",
    "\n",
    "    # Pre-process\n",
    "    stream.merge(fill_value=0)\n",
    "    stream.detrend(type='linear')\n",
    "    stream.remove_response(inventory, output='DISP',  taper_fraction=0.1, water_level=0)\n",
    "    stream.filter('lowpass', freq=0.2)\n",
    "    return stream\n",
    "\n",
    "jaco = pre_process('datos/sismo_jaco.mseed', inv) + pre_process('datos/ov-sismo_jaco.mseed', inv)\n",
    "print(jaco.__str__(extended=True))"
   ]
  },
  {
   "cell_type": "markdown",
   "metadata": {},
   "source": [
    "Ahora vamos a intentar resumir la amplitud de la onda en un único valor. Para ello vamos a tomar su valor absoluto y lo vamos a sumar por la duración de la señal.\n",
    "\n",
    "El epicentro del sismo se localizó a 9.53° de latitud y -84.51° de longitud. Utilice el método `get_coordinates()` del objeto `inventary` para obtener la posición de cada estación. Calcule la distancia euclideana entre el epicentro y la posición de cada una de las estaciones."
   ]
  },
  {
   "cell_type": "code",
   "execution_count": null,
   "metadata": {},
   "outputs": [],
   "source": [
    "amplitud  = []\n",
    "distancia = []\n",
    "\n",
    "\n",
    "# utilice un for-loop para recorrer todas las estaciones. \n",
    "for estacion in jaco:\n",
    "    nombre = '.'.join([estacion.stats[i] for i in ['network', 'station', 'location', 'channel']])\n",
    "    \n",
    "    # tome el valor absoluto de la señal y súmela\n",
    "    amplitud.append(np.sum(abs(estacion.data)))\n",
    "    \n",
    "    # Calcule la distancia al hipocentro\n",
    "    delta_lat  = inv.get_coordinates(nombre)['latitude'] - 9.53\n",
    "    delta_long = inv.get_coordinates(nombre)['longitude'] - (-84.51)\n",
    "    distancia.append(np.hypot(delta_lat, delta_long))\n",
    "    \n",
    "outliers = amplitud < np.mean(amplitud) + 4 * np.std(amplitud)\n",
    "\n",
    "amplitud  = [amplitud[i] for i in range(len(outliers)) if outliers[i]]\n",
    "distancia = [distancia[i] for i in range(len(outliers)) if outliers[i]]\n",
    "    \n",
    "print(amplitud)\n",
    "print(distancia)"
   ]
  },
  {
   "cell_type": "markdown",
   "metadata": {},
   "source": [
    "Ahora, grafique la amplitud en función de la distancia"
   ]
  },
  {
   "cell_type": "code",
   "execution_count": null,
   "metadata": {},
   "outputs": [],
   "source": [
    "plt.scatter(distancia, amplitud)\n",
    "plt.xlabel('Distancia (grados decimales)')\n",
    "plt.ylabel('Desplazamiento total (m)')\n",
    "plt.show()"
   ]
  },
  {
   "cell_type": "markdown",
   "metadata": {},
   "source": [
    "Calculemos una línea de tendencia. "
   ]
  },
  {
   "cell_type": "code",
   "execution_count": null,
   "metadata": {},
   "outputs": [],
   "source": [
    "tendencia = np.polyfit(distancia, amplitud, 1)\n",
    "print(tendencia)"
   ]
  },
  {
   "cell_type": "code",
   "execution_count": null,
   "metadata": {},
   "outputs": [],
   "source": [
    "t = np.poly1d(tendencia)\n",
    "x = np.linspace(0,1.75,40)\n",
    "t_y = np.array([t(y) for y in x])\n",
    "\n",
    "plt.scatter(distancia, amplitud)\n",
    "plt.scatter(x, t_y)\n",
    "plt.xlabel('Distancia (grados decimales)')\n",
    "plt.ylabel('Desplazamiento total (m)')\n",
    "plt.show()"
   ]
  }
 ],
 "metadata": {
  "kernelspec": {
   "display_name": "Python 3",
   "language": "python",
   "name": "python3"
  },
  "language_info": {
   "codemirror_mode": {
    "name": "ipython",
    "version": 3
   },
   "file_extension": ".py",
   "mimetype": "text/x-python",
   "name": "python",
   "nbconvert_exporter": "python",
   "pygments_lexer": "ipython3",
   "version": "3.6.0"
  }
 },
 "nbformat": 4,
 "nbformat_minor": 2
}
