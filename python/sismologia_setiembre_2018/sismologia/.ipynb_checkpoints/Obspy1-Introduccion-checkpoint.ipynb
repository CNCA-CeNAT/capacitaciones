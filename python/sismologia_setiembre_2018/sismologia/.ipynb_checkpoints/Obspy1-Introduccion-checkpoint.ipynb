{
 "cells": [
  {
   "cell_type": "markdown",
   "metadata": {},
   "source": [
    "![obspy logo](img/obspy-logo.png)\n",
    "\n",
    "# Introducción\n",
    "\n",
    "ObsPy es un módulo de Python que facilita procesar datos sismológicos. Provee rutinas para cargar archivos, descargarlos de respositorios y procesar las señales. Con él, vamos a poder desarrollar rápida y facilmente nuestros propios programas. \n",
    "\n",
    "Toda la documentación relacionada con el proyecto la podemos encontrar en este [enlace](http://docs.obspy.org/).\n",
    "\n",
    "Como todo módulo, para poder usarlo primero debemos importarlo. "
   ]
  },
  {
   "cell_type": "code",
   "execution_count": null,
   "metadata": {},
   "outputs": [],
   "source": [
    "import obspy"
   ]
  },
  {
   "cell_type": "markdown",
   "metadata": {},
   "source": [
    "Hay dos formas de cargar un sismograma a memoria. Puede que ya lo tengamos local, entonces es como leer cualquier otro archivo. O bien, podemos utilizar las funciones de Obspy para descargarlo desde algún repositorio, como IRIS. \n",
    "\n",
    "Intentemos primero accederlo vía web. Vamos a utilzar de ejemplo el sismo de Jacó de 2017. Podemos utilizar [Wilber](http://ds.iris.edu/wilber3/find_event) para encontra el evento. De cualquier manera, los parámetros son:"
   ]
  },
  {
   "cell_type": "raw",
   "metadata": {},
   "source": [
    "#EventID |      Time         | Latitude | Longitude | Depth/km | Author | Catalog | Contributor | \n",
    "10485770 |2017-11-13T02:28:24|  9.5264  | -84.5054  |  19.79   |at,pt,us| NEIC PDE|       us    |\n",
    "-------------------------------------------------------------------------------------------------\n",
    "ContributorID                   | MagType | Magnitude | MagAuthor | EventLocationName\n",
    "us2000bmhe,at00ozc47b,pt17317000|   mww   |    6.5    |     us    | COSTA RICA"
   ]
  },
  {
   "cell_type": "markdown",
   "metadata": {},
   "source": [
    "Ahora vamos a utilizar esta información para descargar la forma de onda de la estación `TRT2` 1 minuto antes del evento y 10 minutos después. Primero debemos crear un *cliente*. Seguidamente, vamos a utilizar el método `get_waveforms` para descargar la componente vertical de la onda. Puede encontrar más información del método [aquí](https://docs.obspy.org/packages/autogen/obspy.clients.fdsn.client.Client.get_waveforms.html#obspy.clients.fdsn.client.Client.get_waveforms). "
   ]
  },
  {
   "cell_type": "code",
   "execution_count": null,
   "metadata": {},
   "outputs": [],
   "source": [
    "import obspy.clients.fdsn as fdsn\n",
    "client = fdsn.Client('IRIS')\n",
    "\n",
    "# defino el momento del evento y el inicio y fin de la onda. \n",
    "event_time = obspy.UTCDateTime('20171113022824')\n",
    "start_time = event_time - 60\n",
    "end_time   = event_time + 60*10\n",
    "\n",
    "# Utilizo el cliente para obtener la onda, estación de Tortuguero\n",
    "jaco = client.get_waveforms('TC', 'TRT2', '*', 'HHZ', start_time, end_time, attach_response=True)"
   ]
  },
  {
   "cell_type": "code",
   "execution_count": null,
   "metadata": {
    "scrolled": true
   },
   "outputs": [],
   "source": [
    "jaco.plot()"
   ]
  },
  {
   "cell_type": "markdown",
   "metadata": {},
   "source": [
    "Note el último parámetro del método, `attach_response`, con esto le pedimos al servidor que nos envíe también la información necesaria para eliminar la respuesta del instrumento. Esto lo haremos más tarde.\n",
    "\n",
    "### Ejercicio \n",
    "\n",
    "Seleccione alguna otra estación de la RSN y visualize el evento. Solo requiere cambiar el parámetro `TRT2` en el método anterior. Puede encontrar la lista completa de estaciones [aquí](http://rsn.ucr.ac.cr/rsn/doi). También puede modificar cual componente de la onda quiere observar o incluso la red. El código del OVSICORI es `OV`, [aquí](http://www.ovsicori.una.ac.cr/index.php/sismologia/mapa-estaciones) puede encontrar la lista de estaciones. "
   ]
  },
  {
   "cell_type": "code",
   "execution_count": null,
   "metadata": {},
   "outputs": [],
   "source": [
    "wave = client.get_waveforms('TC', 'TRT2', '*', 'HHZ', start_time, end_time, attach_response=True)\n",
    "wave.plot()"
   ]
  },
  {
   "cell_type": "markdown",
   "metadata": {},
   "source": [
    "Ahora, vamos a repetir el procedimiento, pero con datos locales. En este mismo directorio debería encontrar un directorio llamado `datos`. Ahí puede encontrar el archivo `jaco-solo_jaco.tar.mseed`. Es la forma de onda del mismo evento en formato mini-seed. Podemos cargarla con el siguiente código:"
   ]
  },
  {
   "cell_type": "code",
   "execution_count": null,
   "metadata": {},
   "outputs": [],
   "source": [
    "jaco = obspy.read('datos/tortugero-sismo_jaco.mseed')\n",
    "jaco.plot()"
   ]
  },
  {
   "cell_type": "markdown",
   "metadata": {},
   "source": [
    "## Conversión de formatos\n",
    "\n",
    "Existen ya muchos programas para trabajar las señales de los sismómetros. En general, queremos usarlos tanto como podamos. Es común que las señales estén almacenadas en un formato, pero el programa las consuma en otro. Obspy nos puede ayudar a pasar de un formato a otro. Para ello utilizamos las funciones [read()](https://docs.obspy.org/packages/autogen/obspy.core.stream.read.html) y [write()](https://docs.obspy.org/packages/autogen/obspy.core.stream.Stream.write.html). \n",
    "\n",
    "### Ejercicio\n",
    "\n",
    "Abra el archivo `jaco-solo_jaco.tar.mseed` y guárdelo en formato `SAC`. "
   ]
  },
  {
   "cell_type": "code",
   "execution_count": null,
   "metadata": {},
   "outputs": [],
   "source": [
    "name = 'tortugero-sismo_jaco.mseed'\n",
    "\n",
    "# Abra el archivo con read()\n",
    "wave = obspy.read('datos/' + name)\n",
    "\n",
    "new_name = name.replace('mseed', 'sac')\n",
    "# Guarde el archivo con write(), en formato SAC\n",
    "wave.write('datos/' + new_name)"
   ]
  },
  {
   "cell_type": "markdown",
   "metadata": {},
   "source": [
    "## Objeto `Trace`\n",
    "\n",
    "Obspy nos ofrece dos objetos para manejar los datos. \n",
    "\n",
    "El objeto `Trace` es la base de todo Obspy. En esencia es un arreglo de Numpy con metadatos. [Aquí](https://docs.obspy.org/packages/autogen/obspy.core.trace.Trace.html#obspy.core.trace.Trace) puede encontrar la documentación del objeto. Tiene tres parámetros:\n",
    "\n",
    "| Parámetro | Descripción | \n",
    "|-----------|-------------|\n",
    "|`id`       | Identificador compatible con `SEED` |\n",
    "|`stats`    | Diccionario con metadatos |\n",
    "|`data`     | Arreglo de Numpy con los datos |\n",
    "\n",
    "\n",
    "### Ejercicio\n",
    "\n",
    "Carge de nuevo el archivo `tortugero-sismo_jaco.mseed` y examine sus parámetros, en especial el diccionario `stats`."
   ]
  },
  {
   "cell_type": "code",
   "execution_count": null,
   "metadata": {},
   "outputs": [],
   "source": [
    "wave = obspy.read('datos/tortugero-sismo_jaco.mseed')[0]\n",
    "print('ID: ' + str(wave.id))\n",
    "print('STATS: ' + str(wave.stats))\n",
    "print('Data: ' + str(wave.data))"
   ]
  },
  {
   "cell_type": "markdown",
   "metadata": {},
   "source": [
    "El objeto `Trace` incluye muchos métodos útiles. Usaremos varios de ellos en las siguienes secciones."
   ]
  },
  {
   "cell_type": "markdown",
   "metadata": {},
   "source": [
    "## Objeto `Stream`\n",
    "\n",
    "El objeto `Stream` se parece a una lista. Agrupa varias señales (objetos `Trace`) de diferentes sismómetros o del mismo sismómetro pero diferentes periodos. Puede encontrar la documentación [aquí](https://docs.obspy.org/packages/autogen/obspy.core.stream.Stream.html#obspy.core.stream.Stream). En general le vamos a aplicar el mismo procedimiento a muchas señales, por ejemplo, las vamos a filtrar con las mismas frecuencias de corte. El objeto `Stream` nos permite aplicar el mismo procedimiento a todos las señales con solo una línea de código. \n",
    "\n",
    "Podemos cargar todas las señales registradas por la RSN durante el sismo de Jacó y que se encuentrenen IRIS, estas se encuentran en el archivo `sismo_jaco.mseed`. "
   ]
  },
  {
   "cell_type": "code",
   "execution_count": null,
   "metadata": {},
   "outputs": [],
   "source": [
    "jaco_waves = obspy.read('datos/sismo_jaco.mseed')\n",
    "print(jaco_waves.__str__(extended=True))"
   ]
  },
  {
   "cell_type": "markdown",
   "metadata": {},
   "source": [
    " Al ser *como una lista*, el objeto `Stream` es iterable. El siguiente código recorre todos los `Trace` almacenados en `jaco_waves` e imprime su id y longitud de los datos"
   ]
  },
  {
   "cell_type": "code",
   "execution_count": null,
   "metadata": {},
   "outputs": [],
   "source": [
    "for t in jaco_waves:\n",
    "    print(str(t.id) + ' ' + str(len(t.data)))  "
   ]
  },
  {
   "cell_type": "markdown",
   "metadata": {},
   "source": [
    "Note que la estación `DUNO` aparce dos veces. La suma de la longitud de las dos apariciones es 66000, el mismo número de muestras que contienen el resto de estaciones. Esto se debe a discontinuidades en la señal, puede ser por que se perdió o variaciones en la frecuencia de muestreo. Estos eventos aleatorios son comunes y Obspy incluye funciones para manejarlos. \n",
    "\n",
    "### Ejercicio\n",
    "\n",
    "Investigue la función `obspy.stream.merge()` y utilícela para resolver el asunto con la estación `TCS1`. Imprima de nuevo la lista de estaciones y la longitud de los datos. "
   ]
  },
  {
   "cell_type": "code",
   "execution_count": null,
   "metadata": {},
   "outputs": [],
   "source": [
    "# Utilice la función merge\n",
    "jaco_waves.merge()\n",
    "\n",
    "# Imprima las estaciones\n",
    "for t in jaco_waves:\n",
    "    print(str(t.id) + ' ' + str(len(t.data))) "
   ]
  }
 ],
 "metadata": {
  "kernelspec": {
   "display_name": "Python 3",
   "language": "python",
   "name": "python3"
  },
  "language_info": {
   "codemirror_mode": {
    "name": "ipython",
    "version": 3
   },
   "file_extension": ".py",
   "mimetype": "text/x-python",
   "name": "python",
   "nbconvert_exporter": "python",
   "pygments_lexer": "ipython3",
   "version": "3.6.0"
  }
 },
 "nbformat": 4,
 "nbformat_minor": 2
}
