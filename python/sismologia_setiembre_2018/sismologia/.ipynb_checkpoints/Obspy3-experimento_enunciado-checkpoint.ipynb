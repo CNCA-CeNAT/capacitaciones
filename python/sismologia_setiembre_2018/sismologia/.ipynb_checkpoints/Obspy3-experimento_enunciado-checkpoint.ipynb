{
 "cells": [
  {
   "cell_type": "markdown",
   "metadata": {},
   "source": [
    "# Experimento: amplitud en función de la distancia\n",
    "\n",
    "Las ondas sísmicas son ondas mecánicas. A pesar de moverse en un medio muy complejo, exhibiendo comportamientos no lineales, podemos afirmar que siguen ciertas tendencias. Una de esas es el decaimiento de la amplitud en función de la distancia. Para ilustrarlo, vamos a tomar las componentes verticales de todos los sismómetros al momento del sismo de Jacó. Vamos a resumir su amplitud en un único valor y lo vamos a graficar contra la distancia. \n",
    "\n",
    "1) Cargue el inventario de las estaciones (`tc_stations.xml` y `ov_stations`). Estos archivos en formato StationXML contiene la información sobre la respuesta del instrumento y la ubicación de cada estación. \n",
    "\n",
    "2) Cargue a memoria la señal de las estaciones durante el sismo (`sismo_jaco.mseed` y `ov-sismo_jaco.mseed`).\n",
    "\n",
    "3) Preprocese la señal tal como se estudió en el módulo 2 de Obspy (la sugerencia es crear una función)."
   ]
  },
  {
   "cell_type": "code",
   "execution_count": null,
   "metadata": {},
   "outputs": [],
   "source": [
    "# Importe los módulos necesarios: obspy, numpy, matplotlib\n",
    "\n",
    "\n",
    "# Inventario con la respuesta del instrumento y la posición. Se pueden \"sumar\" inventarios\n",
    "\n",
    "\n",
    "# Función de preprocesamiento, toma el nombre del archivo y el inventario\n",
    "def pre_process(file, inventory):\n",
    "    pass\n",
    "\n",
    "jaco = pre_process('datos/sismo_jaco.mseed', inv) + pre_process('datos/ov-sismo_jaco.mseed', inv)\n",
    "\n",
    "print(jaco.__str__(extended=True))"
   ]
  },
  {
   "cell_type": "markdown",
   "metadata": {},
   "source": [
    "Ahora vamos a intentar resumir la amplitud de la onda en un único valor. Para ello vamos a tomar su valor absoluto y lo vamos a sumar por la duración de la señal.\n",
    "\n",
    "Seguidamente, vamos calcular la distancia euclideana de cada estación al epicentro del sismo (9.53° de latitud y -84.51° de longitud). Utilice el método `get_coordinates()` del objeto `inventary` para obtener la posición de cada estación. "
   ]
  },
  {
   "cell_type": "code",
   "execution_count": null,
   "metadata": {},
   "outputs": [],
   "source": [
    "# Para cada estación, coloque en estas listas la amplitud de la señal y la distancia\n",
    "amplitud  = []\n",
    "distancia = []\n",
    "\n",
    "\n",
    "# utilice un for-loop para recorrer todas las estaciones. \n",
    "for estacion in jaco:\n",
    "    # nombre de cada estación para el método get_coordinates()\n",
    "    nombre = '.'.join([estacion.stats[i] for i in ['network', 'station', 'location', 'channel']])\n",
    "    \n",
    "    # tome el valor absoluto de la señal y súmela\n",
    "        \n",
    "    # Calcule la distancia al hipocentro\n",
    "    \n",
    "    \n",
    "    \n",
    "# Estas ĺineas eliminan los outliers.     \n",
    "outliers = amplitud < np.mean(amplitud) + 4 * np.std(amplitud)\n",
    "amplitud  = [amplitud[i] for i in range(len(outliers)) if outliers[i]]\n",
    "distancia = [distancia[i] for i in range(len(outliers)) if outliers[i]]\n",
    "    \n",
    "print(amplitud)\n",
    "print(distancia)"
   ]
  },
  {
   "cell_type": "markdown",
   "metadata": {},
   "source": [
    "Ahora, grafique la amplitud en función de la distancia"
   ]
  },
  {
   "cell_type": "code",
   "execution_count": null,
   "metadata": {},
   "outputs": [],
   "source": [
    "# utilice plt.scatter()"
   ]
  },
  {
   "cell_type": "markdown",
   "metadata": {},
   "source": [
    "Calculemos una línea de tendencia. "
   ]
  },
  {
   "cell_type": "code",
   "execution_count": null,
   "metadata": {},
   "outputs": [],
   "source": [
    "# calcula los coeficientes de una línea de tendencia \n",
    "tendencia = np.polyfit(distancia, amplitud, 1)\n",
    "# tranforma la tendencia en un polinomio\n",
    "t = np.poly1d(tendencia)\n",
    "x = np.linspace(0,1.75,40)\n",
    "t_y = np.array([t(y) for y in x])\n",
    "plt.scatter(x, t_y)\n",
    "\n",
    "# reescriba el código para graficar la amplitud en función de la distancia"
   ]
  }
 ],
 "metadata": {
  "kernelspec": {
   "display_name": "Python 3",
   "language": "python",
   "name": "python3"
  },
  "language_info": {
   "codemirror_mode": {
    "name": "ipython",
    "version": 3
   },
   "file_extension": ".py",
   "mimetype": "text/x-python",
   "name": "python",
   "nbconvert_exporter": "python",
   "pygments_lexer": "ipython3",
   "version": "3.6.0"
  }
 },
 "nbformat": 4,
 "nbformat_minor": 2
}
