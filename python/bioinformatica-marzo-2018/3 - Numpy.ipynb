{
 "cells": [
  {
   "cell_type": "markdown",
   "metadata": {},
   "source": [
    "# Numpy\n",
    "\n",
    "Numpy es un módulo de cálculo numérico. Está escrito en C, por lo tanto es muy rápido, sin embargo su interfaz está muy bien diseñada para trabajar de manera *pythonica*. \n",
    "\n",
    "\n",
    "__Contenidos:__\n",
    "\n",
    "+ Arreglos multidimensionales, atributos y métodos\n",
    "+ Cargar y salvar desde un archivo\n",
    "+ Operaciones con arreglos\n",
    "+ Funciones universales\n",
    "+ Slicing"
   ]
  },
  {
   "cell_type": "markdown",
   "metadata": {},
   "source": [
    "Para poder utilizar Numpy, debemos importar el módulo. Esto lo conseguimos con la siguiente línea:"
   ]
  },
  {
   "cell_type": "code",
   "execution_count": 1,
   "metadata": {},
   "outputs": [],
   "source": [
    "import numpy as np"
   ]
  },
  {
   "cell_type": "markdown",
   "metadata": {},
   "source": [
    "## Arreglos (arrays)\n",
    "\n",
    "La principal estructura de datos ofrecida por Numpy son los arreglos. Se parecen a una lista, pero tiene las siguientes diferencias:\n",
    "\n",
    "+ El número de elementos en un array es fijo (no se puede hacer `append()` o `remove()`)\n",
    "+ Todos los elementos deben ser del mismo tipo. \n",
    "+ No se pueden mezclar distintos tipos de datos en un mismo array y una vez que se crea, el tipo de datos no se puede cambiar\n",
    "\n",
    "Las principales ventajas sobre las listas son:\n",
    "\n",
    "+ Pueden ser n-dimensionales (vectores, matrices, tensores).\n",
    "+ Soportan operaciones algebráicas y aritméticas.\n",
    "+ Fueron pensados para cálculo científico, por lo tanto funcionan muy rápido."
   ]
  },
  {
   "cell_type": "code",
   "execution_count": 2,
   "metadata": {},
   "outputs": [
    {
     "name": "stdout",
     "output_type": "stream",
     "text": [
      "[0. 0. 0. 0. 0. 0. 0. 0. 0. 0.]\n",
      "[[0. 0. 0.]\n",
      " [0. 0. 0.]\n",
      " [0. 0. 0.]]\n",
      "[[1 2 3]\n",
      " [4 5 6]\n",
      " [7 8 9]]\n"
     ]
    }
   ],
   "source": [
    "# Crea un vector de ceros\n",
    "zeros_1d = np.zeros(10)\n",
    "print(zeros_1d)\n",
    "\n",
    "# Crea una matriz de ceros\n",
    "zeros_2d = np.zeros((3,3))\n",
    "print(zeros_2d)\n",
    "\n",
    "# Crea una matriz a partir de lista\n",
    "matrix = np.array([[1,2,3],[4,5,6],[7,8,9]])\n",
    "print(matrix)"
   ]
  },
  {
   "cell_type": "markdown",
   "metadata": {},
   "source": [
    "- Nótese que los arrays se imprimen en consola de manera distinta a las listas, no hay comas entre los valores, sólo espacios\n",
    "- No es necesario indicar el tipo de datos que se desea crear (como en el caso primero), por defecto se crean floats\n",
    "\n",
    "- También se pueden crear arreglos multidimensionales"
   ]
  },
  {
   "cell_type": "markdown",
   "metadata": {},
   "source": [
    "Hay muchas formas de crear arreglos en Numpy, puede explorarlas todas en este [enlace](https://docs.scipy.org/doc/numpy-1.13.0/reference/routines.array-creation.html). Las más comunes son:\n",
    "\n",
    "| Función | Descripción |\n",
    "|:--------|:------------|\n",
    "| `empty` | Arreglo vacio (con los datos basura que haya en memoria) |\n",
    "| `zeros` | Arreglo de ceros |\n",
    "| `ones`  | Arreglo de unos |\n",
    "| `full`  | Se especifica un valor para llenar todo el arreglo con él |\n",
    "| `identity` | Unos en la diagonal y cero en el resto |\n",
    "| `array` | Constructor genérico |\n",
    "| `fromfunction` | Según una función dada que retorna un valor para cada punto de la coordenada |\n",
    "| `loadtxt` | Carga los datos de un archivo |\n",
    "\n",
    "### Ejemplo\n",
    "\n",
    "Crear una matriz tamaño 4x4 y una matriz identidad. Comprobar que esta matriz es la identidad del producto de matrices."
   ]
  },
  {
   "cell_type": "code",
   "execution_count": 3,
   "metadata": {},
   "outputs": [
    {
     "name": "stdout",
     "output_type": "stream",
     "text": [
      "[[4. 5. 2. 3.]\n",
      " [4. 5. 2. 3.]\n",
      " [4. 5. 2. 3.]\n",
      " [4. 5. 2. 3.]]\n",
      "[[5. 6. 3. 4.]\n",
      " [5. 6. 3. 4.]\n",
      " [5. 6. 3. 4.]\n",
      " [5. 6. 3. 4.]]\n"
     ]
    }
   ],
   "source": [
    "# Cree una matriz 4x4\n",
    "mat = np.array([[4,5,2,3],[4,5,2,3],[4,5,2,3],[4,5,2,3]])\n",
    "\n",
    "# Cree la matriz identidad\n",
    "ident = np.identity(4)\n",
    "\n",
    "# Multiplicación de matrices\n",
    "prod = np.dot(mat, ident)\n",
    "print(prod)\n",
    "\n",
    "# Sume una matriz de unos \n",
    "#    x += 1 equivale a decir a x = x + 1\n",
    "prod += 1\n",
    "print(prod)"
   ]
  },
  {
   "cell_type": "code",
   "execution_count": 4,
   "metadata": {},
   "outputs": [
    {
     "data": {
      "text/plain": [
       "(4, 4)"
      ]
     },
     "execution_count": 4,
     "metadata": {},
     "output_type": "execute_result"
    }
   ],
   "source": [
    "ident = np.identity(4)\n",
    "ident.shape "
   ]
  },
  {
   "cell_type": "markdown",
   "metadata": {},
   "source": [
    "## Atributos y métodos de array\n",
    "\n",
    "Los atributos de un objeto nos dicen cosas sobre él. Al igual que los métodos, se acceden con el operador punto. Los atributos más relevantes del objeto array se muestran en la tabla a continuación. Puede encontrar la documentación de los atributos [aquí](https://docs.scipy.org/doc/numpy-1.13.0/reference/arrays.ndarray.html#array-attributes). Para todos los efectos, `a` es un arreglo cualquiera de numpy. \n",
    "\n",
    "| Atributo | Descripción |\n",
    "|:-------|:------------|\n",
    "|`a.shape` | Retorna una tupla con el número de elementos por dimensión|\n",
    "|`a.ndim`  | Número de dimensiones | \n",
    "|`a.size`  | Número de elementos en el arreglo |\n",
    "| `a.dtype`| Tipo de datos almacenados en el arreglo |\n",
    "| `a.T`    | Transpuesta del arreglo |\n",
    "| `a.real` | Parte real del arreglo |\n",
    "| `a.imag` | Parte imaginaria del arreglo |\n",
    "| `a.flat` | Colapsa el arreglo a 1 dimesión |\n",
    "\n",
    "Existen otros métodos, que se exploran más adelante. Por ahora, la siguiente tabla muestra algunos tienen que ver con la *administración* del arreglo. Puede encontrar la documentación en este [enlace](https://docs.scipy.org/doc/numpy-1.13.0/reference/arrays.ndarray.html#array-methods). \n",
    "\n",
    "| Método | Descripción |\n",
    "|:-------|:------------|\n",
    "| `a.copy()` | Retorna una copia del arreglo |\n",
    "| `a.fill()` | Llena el arreglo con el valor dado |\n",
    "| `a.reshape()` | Retorna un arreglo con el shape solicitado, pero los mismos datos |\n",
    "| `a.resize()` | Cambia el tamaño y shape del arreglo sin crear una copia |\n",
    "| `a.sort()` | Ordena el arreglo |\n",
    "\n",
    "### Ejemplo"
   ]
  },
  {
   "cell_type": "code",
   "execution_count": null,
   "metadata": {},
   "outputs": [],
   "source": [
    "# Cree una matriz NO cuadrada. Revise sus dimensiones con .shape\n",
    "mat = np.array([[2,3,4],[6,8,1]])\n",
    "\n",
    "# Utilice .reshape() para cambiar la forma de la matriz\n",
    "mat_n = mat.reshape((3,2))\n",
    "print(mat_n)\n",
    "\n",
    "# Compruebe que .size es igual a np.prod(a.shape) \n",
    "c = (mat_n.size == np.prod(mat_n.shape))\n",
    "print(c)\n",
    "\n"
   ]
  },
  {
   "cell_type": "markdown",
   "metadata": {},
   "source": [
    "## Creación de rangos\n",
    "\n",
    "En muchas ocaciones es útil crear arreglos con rangos, por ejemplo, si se quiere modelar un fenómeno en función del tiempo de 1 a 10 s, es conveniente crear un arreglo `t` con pasos de 0.1s. Esto se consigue de la siguiente manera:"
   ]
  },
  {
   "cell_type": "code",
   "execution_count": null,
   "metadata": {},
   "outputs": [],
   "source": [
    "t = np.arange(0, 10, 0.1)\n",
    "print(t)"
   ]
  },
  {
   "cell_type": "markdown",
   "metadata": {},
   "source": [
    "Puede explorar más sobre la creación de rangos en numpy en este [enlace](https://docs.scipy.org/doc/numpy-1.13.0/reference/routines.array-creation.html#numerical-ranges). Los más importantes son:\n",
    "\n",
    "| Función | Descripción |\n",
    "|:--------|:------------|\n",
    "| `np.arange() `   | Retorna valores homogeneamente espaciados en el rango dado, según el paso indicado |\n",
    "| `np.linspace()`  | Retorna el número de valores homogeneamente espaciados indicados en un intervalo dado |\n",
    "| `np.logspace()`  | Semejante a `linspace`, pero con espaciamiento logarítmico |\n",
    "| `np.geomspace()` | Semejante a `linspace`, siguiendo una progresión geométrica |\n",
    "| `np.meshgrid()`  | Retorna los valores de una cuadricula |"
   ]
  },
  {
   "cell_type": "markdown",
   "metadata": {},
   "source": [
    "## Operaciones \n",
    "\n",
    "- Las operaciones de suma, resta, multiplicación y división de escalares se aplican a todos los elementos\n",
    "- También algunas de las operaciones que se aplican a las listas normales, y otras operaciones más complejas"
   ]
  },
  {
   "cell_type": "code",
   "execution_count": null,
   "metadata": {},
   "outputs": [],
   "source": [
    "from numpy import array\n",
    "\n",
    "a = array([1, 2, 3, 4, 5, 6, 7, 8, 9, 10, 11, 12])\n",
    "a = a+5 # le suma el número 5 a todas las entradas del array\n",
    "print (a)\n",
    "print(\"\\n-------Suma---------\")\n",
    "print (a.sum()) # suma todas las entradas del array\n",
    "print(\"\\n-------Máximo---------\")\n",
    "print (a.max()) # retorna el valor máximo\n",
    "print(\"\\n--------Mínimo--------\")\n",
    "print (a.min()) # retorna el valor mínimo\n",
    "print(\"\\n--------Raíz Cuadrada--------\")\n",
    "print (np.sqrt(a)) # retorna un array cuyos valores son la raíz cuadrada de cada uno de los valores del array original\n",
    "print(\"\\n--------Cant. Datos--------\")\n",
    "print (a.size) # retorna la cantidad de datos que tiene el array\n",
    "print(\"\\n-------Forma del array---------\")\n",
    "tamaño_x = a.shape\n",
    "print(len(tamaño_x))\n",
    "print (tamaño_x) # retorna la forma que tienen los datos en el array, si tiene más de una dimensión, devuelve la magnitud máxima de cada una\n",
    "print(\"\\n-------Cambiar el array de forma---------\")\n",
    "a = a.reshape((3,4))\n",
    "print(a.shape)\n",
    "print (a.size)\n",
    "tamaño_x, tamaño_y = a.shape\n",
    "print(tamaño_x)\n",
    "print(tamaño_y)\n",
    "print(\"\\n-------Así se ve el array luego de cambiar de forma---------\")\n",
    "print (a)"
   ]
  },
  {
   "cell_type": "markdown",
   "metadata": {},
   "source": [
    "## Leer y guardar datos de un archivo\n",
    "\n",
    "Muchas veces nuestros datos de entrada estarán almacenados en un archivo, posiblemente fueron la salida de otro programa. Numpy facilita cargar un archivo `csv` directamente a un arreglo. \n",
    "\n",
    "El formato `csv` no es un estándar, pero expresa una idea. Se parece a un archivo excel, donde cada valor está separado por un *caracter separador*, generalmente una coma, y cada línea tiene un *caracter de cambio de línea*, generalmente un `\\n`. Por ejemplo:"
   ]
  },
  {
   "cell_type": "raw",
   "metadata": {},
   "source": [
    "4,9,3,4,0,4,4,1,7,6\n",
    "0,0,9,1,8,4,2,5,7,9\n",
    "0,2,3,8,3,7,3,9,1,5\n",
    "2,5,0,7,0,7,8,3,5,5\n",
    "7,0,4,3,6,5,6,7,9,2\n",
    "1,1,4,4,7,5,4,0,7,5\n",
    "1,2,9,8,7,3,5,4,9,3\n",
    "3,5,6,5,0,9,5,4,8,1\n",
    "5,8,1,1,8,2,4,3,4,7\n",
    "1,6,7,0,0,7,1,4,7,3"
   ]
  },
  {
   "cell_type": "markdown",
   "metadata": {},
   "source": [
    "Para cargar un archivo `csv` se utiliza la función `loadtxt()`, puede encontrar la documentación en este [enlace](https://docs.scipy.org/doc/numpy/reference/generated/numpy.loadtxt.html). Intente carga el archivo `prueba_cargar.csv` e imprimirlo:"
   ]
  },
  {
   "cell_type": "code",
   "execution_count": null,
   "metadata": {},
   "outputs": [],
   "source": [
    "f = 'prueba_cargar.txt'\n",
    "\n",
    "arr = np.loadtxt(f, delimiter=\",\")\n",
    "print(arr)"
   ]
  },
  {
   "cell_type": "markdown",
   "metadata": {},
   "source": [
    "Otra acción importante es poder guardar nuestros resultados en un archivo, para esto, numpy ofrece la función `savetxt`, que funciona de manera análoga a `loadtxt`. Puede encontrar la documentación [aquí](https://docs.scipy.org/doc/numpy/reference/generated/numpy.savetxt.html). Ahora cree un rango de 0 a 100 con 10 000 valores y guárdelos en un archivo llamado `tiempo_test.csv`. "
   ]
  },
  {
   "cell_type": "code",
   "execution_count": null,
   "metadata": {},
   "outputs": [],
   "source": [
    "f = 'tiempo_test.txt'\n",
    "\n",
    "# Cree el vector con el rango\n",
    "arr = np.arange(0, 1000, 0.01)\n",
    "\n",
    "# Sálvelo usando np.savetxt, use la coma como separador\n",
    "np.savetxt(f, arr, delimiter=\",\")"
   ]
  },
  {
   "cell_type": "markdown",
   "metadata": {},
   "source": [
    "## Operaciones\n",
    "\n",
    "En términos generales, los arreglos de numpy se comportan como matrices de álgebra lineal. Solo tenga presente cuando una operación se realiza *entrada por entrada*. \n",
    "\n",
    "Algunos ejemplos:"
   ]
  },
  {
   "cell_type": "code",
   "execution_count": 3,
   "metadata": {
    "scrolled": true
   },
   "outputs": [
    {
     "name": "stdout",
     "output_type": "stream",
     "text": [
      "a + 10\n",
      "[11. 11. 11. 11. 11. 11. 11. 11. 11. 11.]\n",
      "c = a + b\n",
      "[25. 25. 25. 25. 25. 25. 25. 25. 25. 25.]\n",
      "d = 0.5 * a\n",
      "[5.5 5.5 5.5 5.5 5.5 5.5 5.5 5.5 5.5 5.5]\n",
      "h = e * f\n",
      "[[0. 1. 2. 3. 4. 5. 6. 7. 8. 9.]\n",
      " [0. 1. 2. 3. 4. 5. 6. 7. 8. 9.]\n",
      " [0. 1. 2. 3. 4. 5. 6. 7. 8. 9.]]\n",
      "j = i matmul j\n",
      "[  0.  24.  48.  72.  96. 120. 144. 168. 192. 216.]\n"
     ]
    }
   ],
   "source": [
    "# Suma escalar, entrada por entrada\n",
    "a = np.ones(10)\n",
    "a = a + 10\n",
    "print('a + 10')\n",
    "print(a)\n",
    "\n",
    "# Suma de vectores\n",
    "b = np.full(10, 14)\n",
    "c = a + b\n",
    "print('c = a + b')\n",
    "print(c)\n",
    "\n",
    "# Multiplicacion escalar, entrada por entrada\n",
    "d = 0.5 *a\n",
    "print('d = 0.5 * a')\n",
    "print(d)\n",
    "\n",
    "# Multiplicación de vectores ¡Se hace entrada por entrada!\n",
    "e = np.array([0,1,2,3,4,5,6,7,8,9])\n",
    "f = np.ones((3,10))\n",
    "h = e * f\n",
    "print('h = e * f')\n",
    "print(h)\n",
    "\n",
    "# Multiplicación de matrices\n",
    "i = np.array([9,8,7])\n",
    "j = i.dot(h)\n",
    "print('j = i matmul j')\n",
    "print(j)"
   ]
  },
  {
   "cell_type": "markdown",
   "metadata": {},
   "source": [
    "## Operaciones de reducción\n",
    "\n",
    "Suelen expresarse como métodos del objeto array. En general, tienen como consecuencia disminuir las dimensiones del arreglo y son muy utilizados en matemáticas y física. Por ejemplo, el producto interno (producto punto) es una operación de reducción. \n",
    "\n",
    "La siguiente tabla muestra los más utilizados, puede encontrar la documentación [aquí](https://docs.scipy.org/doc/numpy-1.13.0/reference/arrays.ndarray.html#calculation).\n",
    "\n",
    "| Operación | Descripción |\n",
    "|:----------|:------------|\n",
    "| `a.argmax()` | Retorna el índice donde ocurren los valores máximos de cada eje |\n",
    "| `a.min()`    | Retorna el valor mínimo de un eje |\n",
    "| `a.argmin()` | Retorna el índice donde ocurren los valores mínimos de cada eje |\n",
    "| `a.ptp()`    | Valor pico a pico en un eje |\n",
    "| `a.conj()`   | Retorna el conjugado complejo de todos los elementos |\n",
    "| `a.round()`  | Retorna el valor redondeado de cada elemento |\n",
    "| `a.trace()`  | Retorna la suma de las diagonales del arreglo |\n",
    "| `a.sum()`    | Retorna la suma del arreglo en el eje dado |\n",
    "| `a.cumsum()` | Retorna la suma acumulativa en un eje dado |\n",
    "| `a.mean()`   | Retorna la media aritmética en un eje dado |\n",
    "| `a.var()`    | Retorna la varianza en un eje dado|\n",
    "| `a.std()`    | Retorna la desviación estándar en un eje dado |\n",
    "| `a.prod()`   | Retorna el producto en un eje dado |\n",
    "| `a.cumprod()`| Retorna el producto acumulativo en un eje dado |\n"
   ]
  },
  {
   "cell_type": "code",
   "execution_count": 19,
   "metadata": {},
   "outputs": [
    {
     "name": "stdout",
     "output_type": "stream",
     "text": [
      "45.65\n",
      "44.3\n"
     ]
    }
   ],
   "source": [
    "edad_participantes = [10,13,17,48,75,21,32,98,75,54,66,84,12,9,32,67,56,29,45,70]\n",
    "\n",
    "# Transforme la lista a un arreglo de Python\n",
    "edad_participantes = np.array(edad_participantes)\n",
    "\n",
    "\n",
    "# Cambie la forma del arreglo \n",
    "edad_participantes2x10 = \n",
    "\n",
    "# Obtenga los siguientes valores GLOBALES:\n",
    "#    - Máxima\n",
    "#    - Mínima\n",
    "#    - Valor pico a pico\n",
    "#    - suma\n",
    "#    - media\n",
    "#    - desviación estándar\n",
    "\n",
    "\n",
    "\n",
    "# Repita la sección anterior pero en la dimensión 0 (por filas)\n",
    "\n"
   ]
  },
  {
   "cell_type": "markdown",
   "metadata": {},
   "source": [
    "## <span style=color:#009933> Aplicación\n",
    "    \n",
    "Podemos utilizar los métodos de los modulos de SciPy para encontrar la frecuencia de las bases en una secuencia."
   ]
  },
  {
   "cell_type": "code",
   "execution_count": 67,
   "metadata": {},
   "outputs": [
    {
     "name": "stdout",
     "output_type": "stream",
     "text": [
      "[['a' '11']\n",
      " ['c' '16']\n",
      " ['g' '20']\n",
      " ['t' '13']] 60\n"
     ]
    },
    {
     "data": {
      "text/plain": [
       "array([18.33333333, 26.66666667, 33.33333333, 21.66666667])"
      ]
     },
     "execution_count": 67,
     "metadata": {},
     "output_type": "execute_result"
    }
   ],
   "source": [
    "from scipy import stats\n",
    "\n",
    "seq = \"atgtgacccatgagatcagagctagctactgggctgggcttcgtgctgcgcgcaccagtg\"\n",
    "\n",
    "#convertir a array\n",
    "seqA = np.array(list(seq))\n",
    "\n",
    "#usar scipy para encontrar la frecuencia de los elementos\n",
    "f = stats.itemfreq(seqA)\n",
    "print(f, len(seq))\n",
    "\n",
    "#calcular el porcentaje\n",
    "f[:,1].astype(float) / len(seq) * 100.0\n"
   ]
  },
  {
   "cell_type": "markdown",
   "metadata": {},
   "source": [
    "## Funciones universales\n",
    "\n",
    "Son operaciones muy rápidas que se aplican a todas las entradas de un arreglo, por ejemplo, raíz cuadrada, seno, logaritmo. También incluyen los operadore de comparación y operadores lógicos (mayor que, menor que, and, or, ...). Deben usarse tanto como sea posible. Puede encontrar la lista completa de funciones universales en este [enlace](https://docs.scipy.org/doc/numpy-1.13.0/reference/ufuncs.html#math-operations)"
   ]
  },
  {
   "cell_type": "code",
   "execution_count": null,
   "metadata": {},
   "outputs": [],
   "source": [
    "a = np.linspace(0,10,11)\n",
    "print('Original: ' + str(a))\n",
    "a = np.power(a, 2)\n",
    "print('a^2: ' + str(a))\n",
    "a = np.sqrt(a)\n",
    "print('raiz cuadrada: ' + str(a))\n",
    "a = np.sin(a)\n",
    "print('sin(a): ' + str(a))"
   ]
  },
  {
   "cell_type": "markdown",
   "metadata": {},
   "source": [
    "## Sintaxis de *slicing*\n",
    "\n",
    "Al igual que las listas, los arreglos de numpy permiten acceso indexado y *slicing*, pero su modelo es superior y más flexible. Un slice se puede obtener siguiendo la construcción `inicio:final:paso`.  "
   ]
  },
  {
   "cell_type": "code",
   "execution_count": 40,
   "metadata": {},
   "outputs": [
    {
     "name": "stdout",
     "output_type": "stream",
     "text": [
      "[ 0.  1.  2.  3.  4.  5.  6.  7.  8.  9. 10.]\n",
      "4.0\n",
      "[3. 4. 5. 6. 7.]\n",
      "[1. 3. 5. 7. 9.]\n",
      "[3. 5. 7.]\n"
     ]
    }
   ],
   "source": [
    "a = np.linspace(0, 10, 11)\n",
    "\n",
    "# todos\n",
    "print(a[:])\n",
    "\n",
    "# en la posición 4 = 11 - 7\n",
    "print(a[-7])\n",
    "\n",
    "# de 3 a 8\n",
    "print(a[3:8])\n",
    "\n",
    "# de 1 a 9 en pasos de dos (los impares)\n",
    "print(a[1:11:2])\n",
    "\n",
    "# También soporta índeces negativos \n",
    "print(a[3:-2:2])"
   ]
  },
  {
   "cell_type": "markdown",
   "metadata": {},
   "source": [
    "Una forma muy común de slicing es tomar todos los anteriores o todos los posteriores a un índice dado:"
   ]
  },
  {
   "cell_type": "code",
   "execution_count": null,
   "metadata": {},
   "outputs": [],
   "source": [
    "# desde cero hasta 5-1\n",
    "print(a[:5])\n",
    "\n",
    "# desde 5 hasta el final\n",
    "print(a[5:])"
   ]
  },
  {
   "cell_type": "markdown",
   "metadata": {},
   "source": [
    "Una forma avanzada es utilizar una condición booleana para seleccionar los elementos:"
   ]
  },
  {
   "cell_type": "code",
   "execution_count": 41,
   "metadata": {},
   "outputs": [
    {
     "name": "stdout",
     "output_type": "stream",
     "text": [
      "[11. 12. 13. 14. 15. 16.]\n"
     ]
    }
   ],
   "source": [
    "# todos los valores mayores a 4\n",
    "print(a[a > 4] + 6)"
   ]
  },
  {
   "cell_type": "markdown",
   "metadata": {},
   "source": [
    "Cuando los arreglos son multidimensionales, se utiliza coma para separar los índices dentro de los paréntesis cuadrados. A cada índice se le puede aplicar una operación de slicing. `:` significa todo. "
   ]
  },
  {
   "cell_type": "code",
   "execution_count": 68,
   "metadata": {},
   "outputs": [
    {
     "name": "stdout",
     "output_type": "stream",
     "text": [
      "[[ 0  1  2  3  4]\n",
      " [ 5  6  7  8  9]\n",
      " [10 11 12 13 14]\n",
      " [15 16 17 18 19]]\n",
      "[[ 8  9]\n",
      " [13 14]\n",
      " [18 19]]\n"
     ]
    }
   ],
   "source": [
    "mat = np.arange(0, 20, 1).reshape((4,5))\n",
    "print(mat)\n",
    "print(mat[1:4, 3:])"
   ]
  },
  {
   "cell_type": "markdown",
   "metadata": {},
   "source": [
    "# Matplotlib\n",
    "\n",
    "### Es una biblioteca de graficación para Python\n",
    "### Provee una manera rápida de visualizar datos\n",
    "\n",
    "- En los cuadernos de jupyter es necesario indicar que la visualización se debe de hacer en las celdas del cuaderno de esta forma --> %matplotlib inline\n",
    "- Se pueden graficar funciones en dominios limitados (y discretos)\n"
   ]
  },
  {
   "cell_type": "code",
   "execution_count": 1,
   "metadata": {},
   "outputs": [
    {
     "data": {
      "image/png": "[encoded data removed]",
      "text/plain": [
       "<matplotlib.figure.Figure at 0x7f1a0004c4e0>"
      ]
     },
     "metadata": {},
     "output_type": "display_data"
    }
   ],
   "source": [
    "%matplotlib inline\n",
    "import matplotlib.pyplot as plt\n",
    "plt.plot([1,2,3,4])\n",
    "plt.ylabel('algunos numeritos')\n",
    "plt.show()"
   ]
  },
  {
   "cell_type": "markdown",
   "metadata": {},
   "source": [
    "+ Noten que el eje X tiene un rango automático porque si se provee una única lista de números, se asume que es una secuencia de valores en 'y', los valores en 'x' se generan de forma automática (empezando desde 0)\n",
    "\n",
    "`plot()` es un comando muy versátil, puede tomar un conjunto arbitratio de argumentos. Por ejemplo, para graficar x contra y, se puede hacer de la siguiente forma:"
   ]
  },
  {
   "cell_type": "code",
   "execution_count": 2,
   "metadata": {},
   "outputs": [
    {
     "data": {
      "image/png": "[encoded data removed]",
      "text/plain": [
       "<matplotlib.figure.Figure at 0x7f193fcc1a90>"
      ]
     },
     "metadata": {},
     "output_type": "display_data"
    }
   ],
   "source": [
    "plt.plot([1, 2, 3, 4], [1, 4, 9, 16])\n",
    "plt.show()"
   ]
  },
  {
   "cell_type": "markdown",
   "metadata": {},
   "source": [
    "+ Para cada par x,y existe un tercer parámetro (opcional), que es un string que indica el color y el tipo de línea del gráfico, el valor por defecto es 'b-', que es una línea azul, pero se puede especificar cualquier otra opción dentro de un conjunto de posibilidades:\n",
    "\n",
    "\n",
    "<img src=\"imagenes/lines.png\", width=300, height=300>\n",
    "<img src=\"imagenes/colors.png\", width=120, height=120>\n"
   ]
  },
  {
   "cell_type": "code",
   "execution_count": 3,
   "metadata": {},
   "outputs": [
    {
     "data": {
      "image/png": "[encoded data removed]",
      "text/plain": [
       "<matplotlib.figure.Figure at 0x7f193fbf6588>"
      ]
     },
     "metadata": {},
     "output_type": "display_data"
    }
   ],
   "source": [
    "plt.plot([1,2,3,4], [1,4,9,16], 'g^')\n",
    "plt.show()"
   ]
  },
  {
   "cell_type": "markdown",
   "metadata": {},
   "source": [
    "+ El comando **`plt.axis()`** recibe una lista con 4 argumentos que nos ayuda a delimitar el rango de los ejes de los gráficos"
   ]
  },
  {
   "cell_type": "code",
   "execution_count": 4,
   "metadata": {},
   "outputs": [
    {
     "data": {
      "image/png": "[encoded data removed]",
      "text/plain": [
       "<matplotlib.figure.Figure at 0x7f193fb644e0>"
      ]
     },
     "metadata": {},
     "output_type": "display_data"
    }
   ],
   "source": [
    "plt.plot([1,2,3,4], [1,4,9,16], 'm:')\n",
    "plt.axis([0, 6, 0, 20])\n",
    "plt.show()"
   ]
  },
  {
   "cell_type": "markdown",
   "metadata": {},
   "source": [
    "### Claro que matplotlib también funciona con los arreglos de NumPy"
   ]
  },
  {
   "cell_type": "code",
   "execution_count": 5,
   "metadata": {},
   "outputs": [
    {
     "data": {
      "image/png": "[encoded data removed]",
      "text/plain": [
       "<matplotlib.figure.Figure at 0x7f193fb59390>"
      ]
     },
     "metadata": {},
     "output_type": "display_data"
    }
   ],
   "source": [
    "import numpy as np\n",
    "import matplotlib.pyplot as plt\n",
    "\n",
    "# intervalos\n",
    "t = np.arange(0.0, 5.0, 0.2)\n",
    "\n",
    "# líneas punteadas rojas, cuadrados azules and triángulos verdes\n",
    "plt.plot(t, t, 'r--', t, t**2, 'bs', t, t**3, 'g^')\n",
    "plt.show()"
   ]
  },
  {
   "cell_type": "markdown",
   "metadata": {},
   "source": [
    "Para trabajar con múltiples figuras, se pueden utilizar subplots:"
   ]
  },
  {
   "cell_type": "code",
   "execution_count": 8,
   "metadata": {},
   "outputs": [
    {
     "data": {
      "image/png": "[encoded data removed]",
      "text/plain": [
       "<matplotlib.figure.Figure at 0x7f193f936be0>"
      ]
     },
     "metadata": {},
     "output_type": "display_data"
    }
   ],
   "source": [
    "def f(t):\n",
    "    return np.exp(-t) * np.cos(2*np.pi*t)\n",
    "\n",
    "t1 = np.arange(0.0, 5.0, 0.1)\n",
    "t2 = np.arange(0.0, 5.0, 0.02)\n",
    "\n",
    "plt.subplot(211)\n",
    "plt.plot(t1, f(t1), 'bo', t2, f(t2), 'k')\n",
    "\n",
    "plt.subplot(212)\n",
    "plt.plot(t2, np.cos(2*np.pi*t2), 'r--')\n",
    "plt.show()"
   ]
  },
  {
   "cell_type": "markdown",
   "metadata": {},
   "source": [
    "Los datos pueden ser leidos de un archivo y de una vez graficados"
   ]
  },
  {
   "cell_type": "code",
   "execution_count": 14,
   "metadata": {},
   "outputs": [
    {
     "name": "stdout",
     "output_type": "stream",
     "text": [
      "[[ 1.  4.]\n",
      " [ 2. 19.]\n",
      " [ 3. 65.]\n",
      " [ 4. 23.]\n",
      " [ 5. 43.]\n",
      " [ 6. 23.]]\n"
     ]
    },
    {
     "data": {
      "image/png": "[encoded data removed]",
      "text/plain": [
       "<matplotlib.figure.Figure at 0x7f193f8cfe10>"
      ]
     },
     "metadata": {},
     "output_type": "display_data"
    }
   ],
   "source": [
    "%matplotlib inline \n",
    "from numpy import loadtxt\n",
    "datos = loadtxt(\"prueba.csv\")\n",
    "print(datos)\n",
    "x = datos[:,0]\n",
    "y = datos[:,1]\n",
    "plt.plot(x,y)\n",
    "plt.show()"
   ]
  },
  {
   "cell_type": "markdown",
   "metadata": {},
   "source": [
    "Utilizando la función **`plt.savefig(filename, dpi=72)`** se pueden guardan las figuras generadas a archivos para su uso fuera de python."
   ]
  },
  {
   "cell_type": "code",
   "execution_count": null,
   "metadata": {},
   "outputs": [],
   "source": []
  }
 ],
 "metadata": {
  "kernelspec": {
   "display_name": "Python 3",
   "language": "python",
   "name": "python3"
  },
  "language_info": {
   "codemirror_mode": {
    "name": "ipython",
    "version": 3
   },
   "file_extension": ".py",
   "mimetype": "text/x-python",
   "name": "python",
   "nbconvert_exporter": "python",
   "pygments_lexer": "ipython3",
   "version": "3.6.0"
  }
 },
 "nbformat": 4,
 "nbformat_minor": 2
}
