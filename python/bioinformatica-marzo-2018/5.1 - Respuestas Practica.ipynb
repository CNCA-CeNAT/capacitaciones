{
 "cells": [
  {
   "cell_type": "markdown",
   "metadata": {},
   "source": [
    "# Demultiplexing de Secuencias\n",
    "\n",
    "El ejercicio se basa en crear los métodos para hacer cada uno de los siguientes pasos.\n",
    "El proceso que importa aquí es el llamado demultiplexing de las secuencias, en donde vienen marcadas con identificadores específicos y deben ser separadas ya que son de muestras diferentes.\n",
    "\n",
    "1. Generar una secuencia con bases aleatorias\n",
    "2. Generar secuenias aleatorias con un marcador al inicio de la misma, el método por parámetro recibe el total de secuencias, el total de marcadores, el largo de las secuencias y el largo de los marcadores.\n",
    "3. Escribir las secuencias en un archivo fasta, generando un nombre para cada secuencia no el identificador\n",
    "4. Leer las secuencias con BioPython y separarlas con base en el marcador que la identifica, esto seria tener listas individuales para cada marcador   \n",
    "   \n",
    "     \n",
    "       Tip: usar choice para seleccionar una letra a la vez\n",
    "    \n",
    " "
   ]
  },
  {
   "cell_type": "code",
   "execution_count": 101,
   "metadata": {},
   "outputs": [],
   "source": [
    "\n",
    "from random import choice\n",
    "from random import shuffle\n",
    "from Bio import SeqIO\n",
    "    \n",
    "    \n",
    "barcodes, reads = [], []\n",
    "    \n",
    "def randomSequence(length):\n",
    "    \"\"\"\n",
    "    Hace tal cosa\n",
    "    \n",
    "    @param: length Length of the new sequence\n",
    "    \"\"\"\n",
    "    read=\"\"\n",
    "    for count in range(length):\n",
    "        read += choice(\"CGTA\")\n",
    "    return read\n",
    "\n",
    "# generar las secuencias, y agregar los barcodes a la cantidad necesaria de secuencias\n",
    "def generateSequences(totalReads, totalBarcodes, readLength, barcodeLength):\n",
    "    s = int(totalReads/totalBarcodes)\n",
    "    for i in range(totalBarcodes):\n",
    "        tempBarcode = randomSequence(barcodeLength)\n",
    "        barcodes.append(tempBarcode)\n",
    "        \n",
    "        for j in range(s):\n",
    "            tempRead = tempBarcode + randomSequence(readLength)\n",
    "            reads.append(tempRead)\n",
    "            \n",
    "    shuffle(reads)\n",
    "    return reads\n",
    "\n",
    "def writeSequencesInFasta(reads):\n",
    "    with open(\"allreads.fasta\", \"w\") as save_to:\n",
    "        save_to.writelines(\">sequence%d\\n%s\\n\" %  (idx, read) for idx, read in enumerate(reads))\n",
    "\n",
    "def demultiplexSequences():\n",
    "    records = list(SeqIO.parse(\"allreads.fasta\", \"fasta\"))\n",
    "    \n",
    "    sep = {}\n",
    "    for i in barcodes:\n",
    "        for sec in records:\n",
    "            if str(sec.seq).startswith(i):\n",
    "                if i in sep:\n",
    "                    sep[i].append(sec)\n",
    "                else:\n",
    "                    sep[i] = [sec,]\n",
    "        \n",
    "    return sep\n",
    "\n"
   ]
  },
  {
   "cell_type": "code",
   "execution_count": 97,
   "metadata": {},
   "outputs": [],
   "source": [
    "writeSequencesInFasta(generateSequences(100, 5, 140, 12))"
   ]
  },
  {
   "cell_type": "code",
   "execution_count": 100,
   "metadata": {},
   "outputs": [
    {
     "data": {
      "text/plain": [
       "{}"
      ]
     },
     "execution_count": 100,
     "metadata": {},
     "output_type": "execute_result"
    }
   ],
   "source": [
    "demultiplexSequences()"
   ]
  },
  {
   "cell_type": "code",
   "execution_count": null,
   "metadata": {},
   "outputs": [],
   "source": [
    "# %load random_seq.py"
   ]
  },
  {
   "cell_type": "code",
   "execution_count": 48,
   "metadata": {},
   "outputs": [
    {
     "name": "stdout",
     "output_type": "stream",
     "text": [
      "There is a problem!\n"
     ]
    }
   ],
   "source": [
    "import sys\n",
    "from Bio import SeqIO\n",
    "\n",
    "def sequence_cleaner(fasta_file, min_length=0, por_n=100):\n",
    "    # Create our hash table to add the sequences\n",
    "    sequences={}\n",
    "\n",
    "    # Using the Biopython fasta parse we can read our fasta input\n",
    "    for seq_record in SeqIO.parse(fasta_file, \"fasta\"):\n",
    "        # Take the current sequence\n",
    "        sequence = str(seq_record.seq).upper()\n",
    "        # Check if the current sequence is according to the user parameters\n",
    "        if (len(sequence) >= min_length and\n",
    "            (float(sequence.count(\"N\"))/float(len(sequence)))*100 <= por_n):\n",
    "        # If the sequence passed in the test \"is it clean?\" and it isn't in the\n",
    "        # hash table, the sequence and its id are going to be in the hash\n",
    "            if sequence not in sequences:\n",
    "                sequences[sequence] = seq_record.id\n",
    "       # If it is already in the hash table, we're just gonna concatenate the ID\n",
    "       # of the current sequence to another one that is already in the hash table\n",
    "            else:\n",
    "                sequences[sequence] += \"_\" + seq_record.id\n",
    "\n",
    "\n",
    "    # Write the clean sequences\n",
    "\n",
    "    # Create a file in the same directory where you ran this script\n",
    "    with open(\"clear_\" + fasta_file, \"w+\") as output_file:\n",
    "        # Just read the hash table and write on the file as a fasta format\n",
    "        for sequence in sequences:\n",
    "            output_file.write(\">\" + sequences[sequence] + \"\\n\" + sequence + \"\\n\")\n",
    "\n",
    "    print(\"CLEAN!!!\\nPlease check clear_\" + fasta_file)\n",
    "\n",
    "\n",
    "userParameters = sys.argv[1:]\n",
    "\n",
    "try:\n",
    "    if len(userParameters) == 1:\n",
    "        sequence_cleaner(userParameters[0])\n",
    "    elif len(userParameters) == 2:\n",
    "        sequence_cleaner(userParameters[0], float(userParameters[1]))\n",
    "    elif len(userParameters) == 3:\n",
    "        sequence_cleaner(userParameters[0], float(userParameters[1]),\n",
    "                         float(userParameters[2]))\n",
    "    else:\n",
    "        print(\"There is a problem!\")\n",
    "except:\n",
    "    print(\"There is a problem!\")"
   ]
  },
  {
   "cell_type": "code",
   "execution_count": 74,
   "metadata": {},
   "outputs": [
    {
     "data": {
      "image/png": "[encoded data removed]",
      "text/plain": [
       "<matplotlib.figure.Figure at 0x7f0a76a26358>"
      ]
     },
     "metadata": {},
     "output_type": "display_data"
    },
    {
     "name": "stdout",
     "output_type": "stream",
     "text": [
      "[22, 30, 30, 31, 24, 37, 24, 30, 30, 30, 34, 22, 28, 30, 30, 36, 33, 29, 33, 32, 21, 33, 36, 37, 36, 32, 27, 25, 29, 20, 35, 34, 33, 29, 33, 25, 36, 32, 34]\n"
     ]
    }
   ],
   "source": [
    "%matplotlib inline\n",
    "from Bio import SeqIO\n",
    "import matplotlib.pyplot as plt\n",
    "\n",
    "sizes = [len(rec) for rec in SeqIO.parse(\"ls_orchid.fasta\", \"fasta\")]\n",
    "\n",
    "data = (min(rec.letter_annotations[\"phred_quality\"]) for rec in \\\n",
    "              SeqIO.parse(\"200reads.fastq\", \"fastq\") \\\n",
    "              if min(rec.letter_annotations[\"phred_quality\"]) >= 20)\n",
    "\n",
    "good_reads = list(data)\n",
    "plt.hist(good_reads, bins=10)\n",
    "plt.title(\"%i orchid sequences\\nLengths %i to %i\" \\\n",
    "            % (len(sizes),min(sizes),max(sizes)))\n",
    "plt.xlabel(\"Quality (phread score)\")\n",
    "plt.ylabel(\"Count\")\n",
    "plt.show()\n",
    "print(good_reads)"
   ]
  },
  {
   "cell_type": "code",
   "execution_count": null,
   "metadata": {},
   "outputs": [],
   "source": []
  }
 ],
 "metadata": {
  "kernelspec": {
   "display_name": "Python 3",
   "language": "python",
   "name": "python3"
  },
  "language_info": {
   "codemirror_mode": {
    "name": "ipython",
    "version": 3
   },
   "file_extension": ".py",
   "mimetype": "text/x-python",
   "name": "python",
   "nbconvert_exporter": "python",
   "pygments_lexer": "ipython3",
   "version": "3.6.0"
  }
 },
 "nbformat": 4,
 "nbformat_minor": 2
}
