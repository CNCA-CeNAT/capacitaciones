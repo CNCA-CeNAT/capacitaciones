{
 "cells": [
  {
   "cell_type": "markdown",
   "metadata": {},
   "source": [
    "<img src=\"imagenes/python_logo.png\", width=400, height=300, align=\"center\">\n",
    "\n",
    "\n",
    "# Modulo 1 - Introducción a Python\n",
    "\n",
    "Objetivos\n",
    "\n",
    "+ Notación: Operadores y Varibles\n",
    "+ Condicionales\n",
    "+ Strings\n",
    "+ Tuplas y Listas\n",
    "+ Loops (for y whiles)\n",
    "+ Funciones\n"
   ]
  },
  {
   "cell_type": "markdown",
   "metadata": {},
   "source": [
    "### Cómo se usa Python\n",
    "\n",
    "Desde la terminal se puede ingresar a la linea de comandos de python, digitango `python`\n",
    "\n",
    "También se puede crear un archivo con le extensión `py` donde se incluye el codigo y luego se ejecuta en la linea de comandos con `python archivo.py`\n",
    "\n",
    "En el cluster la versión de Python por defecto es la 2.7, BioPython esta isntalado en la version 3.5.2, para poder acceder por terminar esta versión de Python se debe cargar el module correspodiente: `module load python/3.5.2`\n",
    "\n",
    "Se puede agregar la línea `#!/usr/bin/python3` al inicio de cada archivo para hacerlo ejecutable y poder correr el archivo con `./archivo.py` \n",
    "\n",
    "Para hacer el archivo ejecutable se debe usar el comando de linux `chmod +x archivo.py`\n"
   ]
  },
  {
   "cell_type": "markdown",
   "metadata": {},
   "source": [
    " # Operadores "
   ]
  },
  {
   "cell_type": "markdown",
   "metadata": {},
   "source": [
    "Los operadores matemáticos + - * / % ** se usan para realizar operaciones entre números"
   ]
  },
  {
   "cell_type": "code",
   "execution_count": null,
   "metadata": {},
   "outputs": [],
   "source": [
    "#comentarios en Python son con #\n",
    "print (2+2)\n",
    "print (5**8)"
   ]
  },
  {
   "cell_type": "markdown",
   "metadata": {},
   "source": [
    "Operaciones de comparación: ==, !=, <, >, <=, >="
   ]
  },
  {
   "cell_type": "code",
   "execution_count": null,
   "metadata": {},
   "outputs": [],
   "source": [
    "True == False "
   ]
  },
  {
   "cell_type": "code",
   "execution_count": null,
   "metadata": {},
   "outputs": [],
   "source": [
    "156 <= 874"
   ]
  },
  {
   "cell_type": "markdown",
   "metadata": {},
   "source": [
    "Operadore lógicos: __and or not__"
   ]
  },
  {
   "cell_type": "code",
   "execution_count": null,
   "metadata": {},
   "outputs": [],
   "source": [
    "(True and True) or False"
   ]
  },
  {
   "cell_type": "markdown",
   "metadata": {},
   "source": [
    "## Tipos de datos\n",
    "\n",
    "| Tipos de Datos | Ejemplos |\n",
    "| :-: | :--- |\n",
    "| Enteros | -2, -1, 0, 1, 2, 3, 4, 5 |\n",
    "| Puntos flotante | -1.25, -1.0, --0.5, 0.0, 0.5, 1.0, 1.25 | \n",
    "| Strings | 'a', 'aa', 'aaa', 'Hola!', '11 gatos' |\n",
    "| Booleano | True, False |\n",
    "\n",
    "\n",
    "\n",
    "\n"
   ]
  },
  {
   "cell_type": "markdown",
   "metadata": {
    "slideshow": {
     "slide_type": "skip"
    }
   },
   "source": [
    "## Variables\n",
    "\n",
    "\n",
    "Nombres válidos | Nombre Inválidos | No permitidos\n",
    ":--- | :--- | ---\n",
    "balance | current-balance | guiones\n",
    "currentBalance | current balance |  espacios\n",
    "current_balance |4account | inicio con número\n",
    "_spam | 42 | inicio con número\n",
    "SPAM | total_\\$um | caracteres especiales como $ \n",
    "account4 | 'hello' | caracteres especiales como '\n"
   ]
  },
  {
   "cell_type": "code",
   "execution_count": 1,
   "metadata": {},
   "outputs": [
    {
     "name": "stdout",
     "output_type": "stream",
     "text": [
      "Ingrese un número. a = 888\n",
      "Ingrese un número. b = 666\n",
      "1554\n",
      "888666\n"
     ]
    }
   ],
   "source": [
    "a = input(\"Ingrese un número. a = \")\n",
    "b = input(\"Ingrese un número. b = \")\n",
    "print(int(a) + int(b))\n",
    "print (a + b)"
   ]
  },
  {
   "cell_type": "code",
   "execution_count": null,
   "metadata": {},
   "outputs": [],
   "source": [
    "a = 3\n",
    "b = 8\n",
    "a + b"
   ]
  },
  {
   "cell_type": "markdown",
   "metadata": {},
   "source": [
    "## Condicionales"
   ]
  },
  {
   "cell_type": "markdown",
   "metadata": {},
   "source": [
    "if, elif, else\n",
    "\n",
    "### if\n",
    "Las sentencias \"if\" permiten manejar el flujo de ejecución de un programa mediante condicionales.\n",
    "La sintaxis general de las sentencias \"if\" es:\n",
    "\n",
    "```python\n",
    "if condición: \n",
    "    bloque de código indentado\n",
    "```\n",
    "\n",
    "+ Python utiliza indentación (espacios) para separar los bloques de código dentro de estas y otras sentencias\n",
    "+ Se evalúa la condición, y si se cumple, se ejecuta el código dentro del bloque\n"
   ]
  },
  {
   "cell_type": "code",
   "execution_count": null,
   "metadata": {},
   "outputs": [],
   "source": [
    "if True:\n",
    "    print (\"Verdadero\")"
   ]
  },
  {
   "cell_type": "code",
   "execution_count": null,
   "metadata": {},
   "outputs": [],
   "source": [
    "if not True:\n",
    "    print(\"Falso\")"
   ]
  },
  {
   "cell_type": "markdown",
   "metadata": {},
   "source": [
    "### bloque \"else\"\n",
    "\n",
    "Este bloque se ejecuta si la condición del if no se cumple\n",
    "\n",
    "### \"elif\"\n",
    "Es una abreviación de \"else if\". Se utiliza cuando existe más de dos posibilidades para una condición"
   ]
  },
  {
   "cell_type": "code",
   "execution_count": null,
   "metadata": {},
   "outputs": [],
   "source": [
    "var = int(input(\"Ingrese un número:  \"))\n",
    "if var < 100:\n",
    "    print (\"Menor de 100\")\n",
    "elif var < 200:\n",
    "    print (\"Entre 100 y 200\")\n",
    "else:\n",
    "    print (\"Mayor que 300\")"
   ]
  },
  {
   "cell_type": "markdown",
   "metadata": {},
   "source": [
    "## Strings"
   ]
  },
  {
   "cell_type": "code",
   "execution_count": null,
   "metadata": {},
   "outputs": [],
   "source": [
    "var1 = \"Uno\"\n",
    "var2 = \"Dos\"\n",
    "varSuma = var1 + \" \" + var2\n",
    "print(varSuma)"
   ]
  },
  {
   "cell_type": "code",
   "execution_count": null,
   "metadata": {},
   "outputs": [],
   "source": [
    "(var1 + \" \") * 8"
   ]
  },
  {
   "cell_type": "code",
   "execution_count": null,
   "metadata": {},
   "outputs": [],
   "source": [
    "var * 3.0"
   ]
  },
  {
   "cell_type": "code",
   "execution_count": null,
   "metadata": {},
   "outputs": [],
   "source": [
    "nombre = \"Joaquin Sanabria Villalobos\"\n",
    "len(nombre)"
   ]
  },
  {
   "cell_type": "code",
   "execution_count": null,
   "metadata": {},
   "outputs": [],
   "source": [
    "nombre.upper()"
   ]
  },
  {
   "cell_type": "code",
   "execution_count": null,
   "metadata": {},
   "outputs": [],
   "source": [
    "nombre.split(' ')"
   ]
  },
  {
   "cell_type": "code",
   "execution_count": null,
   "metadata": {},
   "outputs": [],
   "source": [
    "nombre.startswith('Joa')"
   ]
  },
  {
   "cell_type": "code",
   "execution_count": 13,
   "metadata": {},
   "outputs": [
    {
     "name": "stdout",
     "output_type": "stream",
     "text": [
      "4\n",
      "7\n"
     ]
    }
   ],
   "source": [
    "dna = \"atgctcagctaggcacacagctacg\"\n",
    "print(dna.count('t'))\n",
    "print(dna.count('a'))"
   ]
  },
  {
   "cell_type": "markdown",
   "metadata": {},
   "source": [
    "## Tuplas"
   ]
  },
  {
   "cell_type": "code",
   "execution_count": 2,
   "metadata": {},
   "outputs": [
    {
     "data": {
      "text/plain": [
       "2"
      ]
     },
     "execution_count": 2,
     "metadata": {},
     "output_type": "execute_result"
    }
   ],
   "source": [
    "t = 2,3         #tupla de dos elementos\n",
    "t[0]"
   ]
  },
  {
   "cell_type": "code",
   "execution_count": null,
   "metadata": {},
   "outputs": [],
   "source": [
    "t3 = 4,5,6      #tupla de tres elementos\n",
    "t3"
   ]
  },
  {
   "cell_type": "markdown",
   "metadata": {},
   "source": [
    "## Diccionarios\n",
    "\n",
    "\n",
    "### Estructura del un diccionario: llave (clave) -- valor\n",
    "\n",
    "<img src=\"imagenes/diccionario.png\", width=400, height=400>\n",
    "\n",
    "Son una estructura de datos que permite asignar valores a una llave para el acceso mucho más rápido de la información"
   ]
  },
  {
   "cell_type": "code",
   "execution_count": 3,
   "metadata": {},
   "outputs": [
    {
     "data": {
      "text/plain": [
       "{'Guido': 27413310, 'Jorge': 88475841, 'Sara': 74125544}"
      ]
     },
     "execution_count": 3,
     "metadata": {},
     "output_type": "execute_result"
    }
   ],
   "source": [
    "telefonos = {'Jorge': 88475841, 'Sara': 74125544}\n",
    "telefonos['Guido'] = 27413310\n",
    "telefonos"
   ]
  },
  {
   "cell_type": "code",
   "execution_count": 4,
   "metadata": {},
   "outputs": [],
   "source": [
    "del telefonos['Jorge']"
   ]
  },
  {
   "cell_type": "code",
   "execution_count": 4,
   "metadata": {},
   "outputs": [
    {
     "data": {
      "text/plain": [
       "dict_keys(['Jorge', 'Sara', 'Guido'])"
      ]
     },
     "execution_count": 4,
     "metadata": {},
     "output_type": "execute_result"
    }
   ],
   "source": [
    "list(telefonos.keys())"
   ]
  },
  {
   "cell_type": "code",
   "execution_count": 6,
   "metadata": {},
   "outputs": [
    {
     "data": {
      "text/plain": [
       "['Guido', 'Sara']"
      ]
     },
     "execution_count": 6,
     "metadata": {},
     "output_type": "execute_result"
    }
   ],
   "source": [
    "sorted(telefonos.keys())"
   ]
  },
  {
   "cell_type": "code",
   "execution_count": 7,
   "metadata": {},
   "outputs": [
    {
     "data": {
      "text/plain": [
       "True"
      ]
     },
     "execution_count": 7,
     "metadata": {},
     "output_type": "execute_result"
    }
   ],
   "source": [
    "'Sara' in telefonos"
   ]
  },
  {
   "cell_type": "code",
   "execution_count": 8,
   "metadata": {},
   "outputs": [
    {
     "data": {
      "text/plain": [
       "True"
      ]
     },
     "execution_count": 8,
     "metadata": {},
     "output_type": "execute_result"
    }
   ],
   "source": [
    "'Pedro' not in telefonos"
   ]
  },
  {
   "cell_type": "markdown",
   "metadata": {},
   "source": [
    "El constructor dict() crear un diccionario directamente a partir de los pares llave-valor"
   ]
  },
  {
   "cell_type": "code",
   "execution_count": 14,
   "metadata": {},
   "outputs": [
    {
     "data": {
      "text/plain": [
       "{'Ana': 22454127, 'Cesar': 41391212, 'Julio': 87654098}"
      ]
     },
     "execution_count": 14,
     "metadata": {},
     "output_type": "execute_result"
    }
   ],
   "source": [
    "dict([('Cesar', 41391212), ('Ana', 22454127), ('Julio', 87654098)])"
   ]
  },
  {
   "cell_type": "markdown",
   "metadata": {},
   "source": [
    "## Listas\n",
    "### Estructura de una lista (vector)\n",
    "\n",
    "<img src=\"imagenes/lista.png\", width=800, height=600>\n",
    "\n",
    "\n",
    "- Una lista(vector) es conjunto de valores que están agrupados en un solo objeto\n",
    "- Cada campo puede almacenar un valor y a cada uno se le asocia un entero conocido como “índice” que es la posición que ocupa dentro de la lista (comenzando desde cero)\n",
    "- (En Python) Pueden almacenarse valores de distintos tipos de datos en una misma lista"
   ]
  },
  {
   "cell_type": "code",
   "execution_count": null,
   "metadata": {},
   "outputs": [],
   "source": [
    "#Crear una lista vacía\n",
    "lista = [] \n",
    "\n",
    "#Inicialización con datos\n",
    "lista = [1,89.234, \"el3\", (1,3,5)]\n",
    "\n",
    "print(lista)\n",
    "lista[3]"
   ]
  },
  {
   "cell_type": "markdown",
   "metadata": {},
   "source": [
    "+ Se puede acceder a un dato dentro de una lista haciendo referencia a su posición dentro de la lista\n",
    "+ Cada dato tiene un índice que corresponde a esta posición\n",
    "+ Los índices de las listas comienzan en 0"
   ]
  },
  {
   "cell_type": "code",
   "execution_count": null,
   "metadata": {},
   "outputs": [],
   "source": [
    "## Operaciones básicas con listas\n",
    "# Append: Se utiliza para agregar elementos al final de una lista\n",
    "lista.append(34)\n",
    "print(lista)\n",
    "\n",
    "#Remove: Elimina un elemento de la lista (lo busca por contenido y lo elimina, si existe más de uno que \n",
    "# cumple con el criterio de búsqueda, elimina sólamente el primero que encuentra)\n",
    "lista.remove(34)\n",
    "print(lista)\n",
    "\n",
    "\n",
    "lista.pop(1)\n",
    "print(lista)"
   ]
  },
  {
   "cell_type": "markdown",
   "metadata": {},
   "source": [
    "## <span style=color:#990099/> Ejercicio 1 \n",
    "\n",
    " - Utilizando las listas vacías en la celda de abajo, y los datos que se le solicitan al usuario, llene las listas con los datos que le correspondan a cada una (los nombres en la lista de nombres y los números en la de números) y despliegue la información\n"
   ]
  },
  {
   "cell_type": "code",
   "execution_count": null,
   "metadata": {},
   "outputs": [],
   "source": [
    "lista_numeros = []\n",
    "lista_nombres = []\n",
    "\n",
    "numero1 = int(input(\"Ingrese el primer número \"))\n",
    "nombre1 = input(\"Ingrese el primer nombre \")\n",
    "nombre2 = input(\"Ingrese el segundo nombre \")\n",
    "numero2 = int(input(\"Ingrese el segundo número \"))"
   ]
  },
  {
   "cell_type": "markdown",
   "metadata": {},
   "source": [
    "## 'while' loops\n",
    "- Son ciclos que se repiten mientras se cumpla una condición"
   ]
  },
  {
   "cell_type": "code",
   "execution_count": null,
   "metadata": {},
   "outputs": [],
   "source": [
    "contador = 0\n",
    "while contador < 5:\n",
    "    print (contador)\n",
    "    contador += 1 # Esto es lo mismo que hacer contador = contador + 1"
   ]
  },
  {
   "cell_type": "code",
   "execution_count": null,
   "metadata": {},
   "outputs": [],
   "source": [
    "lista_numeros = []\n",
    "numero = int(input(\"Ingrese un numero (0 termina) \"))\n",
    "while numero != 0:\n",
    "    lista_numeros.append(numero)\n",
    "    numero = int(input(\"Ingrese un numero (0 termina) \"))\n",
    "    \n",
    "print(lista_numeros)"
   ]
  },
  {
   "cell_type": "markdown",
   "metadata": {},
   "source": [
    "## 'for' loops\n",
    "- Son estructuras que permiten repetir instrucciones por una cantidad determinada de veces\n",
    "- Estos ciclos recorren una lista"
   ]
  },
  {
   "cell_type": "code",
   "execution_count": null,
   "metadata": {},
   "outputs": [],
   "source": [
    "primos = [2,3,5,7,11,13,17,19,23,29,31,37,41,43,47,53,59,61,67,71,73,79,83,89,97]\n",
    "for num in primos:\n",
    "    print(num+8)"
   ]
  },
  {
   "cell_type": "markdown",
   "metadata": {},
   "source": [
    "- En este caso, num es una variable temporal que, en cada ciclo de repetición del código, tomará un valor distinto de la lista\n",
    "- Las instrucciones dentro del bloque se repiten una vez por cada elemento que haya en la lista\n",
    "- La diferencia es que la variable temporal ('num', en el caso del ejemplo anterior), será un dato distinto en cada una de esas repeticiones"
   ]
  },
  {
   "cell_type": "markdown",
   "metadata": {},
   "source": [
    "## Range\n",
    "\n",
    "- Se utiliza para que los ciclos 'for' recorran una secuencia de números"
   ]
  },
  {
   "cell_type": "code",
   "execution_count": null,
   "metadata": {},
   "outputs": [],
   "source": [
    "for x in range(5): # Por defecto empieza en cero\n",
    "    print(x)\n",
    "print(\" --- fin --- \\n\")\n",
    "for x in range(3, 6): # Se le indica un inicio y un final, excluye el valor final indicado\n",
    "    print(x)\n",
    "print(\" --- fin --- \\n\")\n",
    "for x in range(0, 10, 2): # Inicio, final y step, que indica cada cuántos recorre la secuencia\n",
    "    print(x)\n",
    "print(\" --- fin --- \\n\")"
   ]
  },
  {
   "cell_type": "markdown",
   "metadata": {},
   "source": [
    "## Funciones\n",
    "- Son una manera de modularizar el código (separarlo en secciones o bloques útiles)\n",
    "- Sirven para:\n",
    "    - Ordenar el código\n",
    "    - Reutilizarlo\n",
    "    \n",
    "- Tienen un encabezado y un bloque de código\n"
   ]
  },
  {
   "cell_type": "code",
   "execution_count": null,
   "metadata": {},
   "outputs": [],
   "source": [
    "def fun1():\n",
    "    print(\"My DNA is AGTGCTTGCAT ...\")"
   ]
  },
  {
   "cell_type": "code",
   "execution_count": null,
   "metadata": {},
   "outputs": [],
   "source": [
    "fun1()"
   ]
  },
  {
   "cell_type": "markdown",
   "metadata": {},
   "source": [
    "+ Cuando se escribe una función, se está escribiendo la definición de la función únicamente, no se ejecuta el código hasta que se llame a la función.\n",
    "+ Las funciones se llaman escribiendo su nombre seguido de parántesis, que llevan cualquier parámetro que necesite la función"
   ]
  },
  {
   "cell_type": "code",
   "execution_count": null,
   "metadata": {},
   "outputs": [],
   "source": [
    "def parseFile(filename):\n",
    "    print(\"Filename is \"+filename)\n",
    "    print(\" --- Doing stuff -----\")"
   ]
  },
  {
   "cell_type": "code",
   "execution_count": null,
   "metadata": {},
   "outputs": [],
   "source": [
    "parseFile(\"archivo.fa\")"
   ]
  },
  {
   "cell_type": "markdown",
   "metadata": {},
   "source": [
    "#### Las funciones también pueden retornar valores"
   ]
  },
  {
   "cell_type": "code",
   "execution_count": null,
   "metadata": {},
   "outputs": [],
   "source": [
    "# con valor de retorno\n",
    "def suma_numeros(a, b):\n",
    "    return a + b\n",
    "\n",
    "\n",
    "# sin valor de retorno\n",
    "def multiplicacion_numeros(a, b):\n",
    "    n = a * b\n",
    "    return n"
   ]
  },
  {
   "cell_type": "code",
   "execution_count": null,
   "metadata": {
    "scrolled": true
   },
   "outputs": [],
   "source": [
    "print(suma_numeros(4,5))\n",
    "\n",
    "## Si la función no tiene return, no tendrá valor de retorno\n",
    " \n",
    "n = multiplicacion_numeros(4,5)\n",
    "\n",
    "print(n)\n",
    "\n",
    "lista = []"
   ]
  },
  {
   "cell_type": "markdown",
   "metadata": {},
   "source": [
    "## <span style=color:#990099/> Ejercicio 2\n",
    "\n",
    "+ Cree una función que reciba una lista y un valor numérico y revise los elementos de la lista uno por uno y retorne **True** si el valor existe en la lista y **False** si no"
   ]
  },
  {
   "cell_type": "code",
   "execution_count": null,
   "metadata": {},
   "outputs": [],
   "source": [
    "def buscar(lista, numero):\n",
    "    #agregar solución aquí       \n",
    "    return False\n",
    "\n",
    "lista = [x for x in range(10)]\n",
    "\n",
    "buscar(lista, 6)"
   ]
  },
  {
   "cell_type": "markdown",
   "metadata": {},
   "source": [
    "## <span style=color:#990099/> Ejercicio 3\n",
    "\n",
    "Programe una función que revisa tres parametros: un string, y dos valores enteros\n",
    "El string es un conjunto de letras, el primer valor entero va a ser la cantidad de veces que se va a imprimir el string, el segundo entero es la cantidad de letras que le va a quitar al string cada vez que se imprima\n",
    "\n",
    "Ejemplo\n",
    "```ejercicio(\"esto no es real\", 6, 2) ```\n",
    "\n",
    "Resultado:\n",
    "```\n",
    "esto no es real\n",
    "esto no es re\n",
    "esto no es \n",
    "esto no e\n",
    "esto no\n",
    "esto \n",
    "```\n"
   ]
  },
  {
   "cell_type": "markdown",
   "metadata": {},
   "source": [
    "# Objetos\n",
    "- Los objetos son una encapsulación de variables y funciones en una sola entidad o contenedor\n",
    "- Se puede pensar en un objeto como si fuera una sola estructura de datos que contiene datos y funciones\n",
    "- Las variables definidas dentro los objetos se llaman \"atributos\"\n",
    "- Los objetos obtienen sus variables y funciones a partir de definiciones llamadas \"clases\""
   ]
  },
  {
   "cell_type": "code",
   "execution_count": null,
   "metadata": {},
   "outputs": [],
   "source": [
    "class Persona:\n",
    "    def __init__(self, nombre, edad, lenguaje_favorito, es_estudiante):\n",
    "        self.nombre = nombre\n",
    "        self.edad = edad\n",
    "        self.lenguaje_favorito = lenguaje_favorito\n",
    "        self.es_estudiante = es_estudiante"
   ]
  },
  {
   "cell_type": "markdown",
   "metadata": {},
   "source": [
    "- Se puede pensar en una clase como una plantilla para crear objetos\n",
    "- Se debe de tener clara la diferencia entre una clase y un objeto"
   ]
  },
  {
   "cell_type": "code",
   "execution_count": null,
   "metadata": {},
   "outputs": [],
   "source": [
    "objeto_persona = Persona (\"Alberto\", 38, \"Python\", False)"
   ]
  },
  {
   "cell_type": "code",
   "execution_count": null,
   "metadata": {},
   "outputs": [],
   "source": [
    "print(objeto_persona.nombre)"
   ]
  },
  {
   "cell_type": "markdown",
   "metadata": {},
   "source": [
    "####  Una vez que se tiene la definición de la clase \"Persona\", se pueden crear tantas instancias como se necesiten"
   ]
  },
  {
   "cell_type": "code",
   "execution_count": null,
   "metadata": {},
   "outputs": [],
   "source": [
    "persona1 = Persona(\"Marcela\", 26, \"Python\", True)\n",
    "persona2 = Persona(\"Carlos\", 33, \"Python\", False)\n",
    "persona3 = Persona(\"Alexa\", 22, \"Python\", True)\n",
    "lista_personas = [objeto_persona, persona1, persona2, persona3]\n",
    "\n",
    "for persona in lista_personas:\n",
    "    print(persona.nombre)"
   ]
  },
  {
   "cell_type": "markdown",
   "metadata": {},
   "source": [
    "+ Las funciones dentro de una clase se llaman \"métodos\"\n",
    "+ Se puede acceder a ellos de una manera similar a como se accede a los atributos"
   ]
  },
  {
   "cell_type": "code",
   "execution_count": null,
   "metadata": {},
   "outputs": [],
   "source": [
    "class Libro:\n",
    "    def __init__(self, titulo, autor, cant_paginas):\n",
    "        self.titulo = titulo\n",
    "        self.autor = autor\n",
    "        self.pagina_actual = 1\n",
    "        self.cant_paginas = cant_paginas\n",
    "        print(\"Creo un libro\")\n",
    "        \n",
    "    def pasar_pagina(self, cantidad_de_paginas):\n",
    "        self.pagina_actual += cantidad_de_paginas\n",
    "        \n",
    "        \n",
    "libro_nuevo = Libro(\"Etica\", \"Spinoza\", 315)\n",
    "\n",
    "print(libro_nuevo.pagina_actual)\n",
    "\n",
    "libro_nuevo.pasar_pagina(5)\n",
    "\n",
    "print(libro_nuevo.pagina_actual)"
   ]
  },
  {
   "cell_type": "markdown",
   "metadata": {},
   "source": [
    "### Método \\_\\_init\\_\\_()\n",
    "\n",
    "- Este método se utiliza para inicializar los objetos, en el momento en el que se crea la instancia, se ejecuta lo que está en el método init, a esto se le conoce como \"constructor\"\n",
    "- Como se ve en el ejemplo anterior, el constructor puede recibir parámetros para inicializar los valores en el objeto\n",
    "- El método constructor sólo puede llamarse \\_\\_init\\_\\_ --> No puede llamarse de ninguna otra forma"
   ]
  },
  {
   "cell_type": "markdown",
   "metadata": {},
   "source": [
    "### Algunos tips\n",
    "<details>\n",
    "  <summary> Ejercicio 1 </summary>  ``` append() ```\n",
    " </details>\n",
    " \n",
    " <details>\n",
    "  <summary> Ejercicio 2 </summary>  ```  \n",
    "    for elemento in lista:\n",
    "    if elemento == numero:\n",
    "             ```\n",
    " </details>\n",
    " \n",
    "\n",
    "            \n",
    "<details>\n",
    "  <summary> Ejercicio 3 </summary>\n",
    "    \n",
    "```\n",
    " mm = \"qwertyuiopasdflmnzxcvbgfd\"\n",
    " l = len(mm)\n",
    " l -= 2\n",
    " mm[:l]\n",
    "```\n",
    "\n",
    "</details>\n",
    "\n"
   ]
  },
  {
   "cell_type": "code",
   "execution_count": null,
   "metadata": {},
   "outputs": [],
   "source": []
  }
 ],
 "metadata": {
  "kernelspec": {
   "display_name": "Python 3",
   "language": "python",
   "name": "python3"
  },
  "language_info": {
   "codemirror_mode": {
    "name": "ipython",
    "version": 3
   },
   "file_extension": ".py",
   "mimetype": "text/x-python",
   "name": "python",
   "nbconvert_exporter": "python",
   "pygments_lexer": "ipython3",
   "version": "3.6.0"
  }
 },
 "nbformat": 4,
 "nbformat_minor": 2
}
