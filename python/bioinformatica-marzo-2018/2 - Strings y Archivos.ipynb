{
 "cells": [
  {
   "cell_type": "markdown",
   "metadata": {},
   "source": [
    "<img src=\"imagenes/python_logo.png\", width=400, height=300, align=\"center\">\n",
    "\n",
    "\n",
    "# Strings y Archivos\n",
    "\n",
    "Objetivos\n",
    "\n",
    "+ Estudiar las principales funciones para el manejo de strings\n",
    "+ Lectura, escritura y modificación de archivos\n",
    "\n",
    "\n",
    "Para ingresar a la ayuda de la documentacion de Python se utiliza ``` Shitf + Tab ```"
   ]
  },
  {
   "cell_type": "markdown",
   "metadata": {},
   "source": [
    "# Manejo de Strings"
   ]
  },
  {
   "cell_type": "code",
   "execution_count": 69,
   "metadata": {},
   "outputs": [
    {
     "name": "stdout",
     "output_type": "stream",
     "text": [
      "contenido de la primer variable contenido de la segunda variable\n"
     ]
    }
   ],
   "source": [
    "var1 = \"contenido de la primer variable\"\n",
    "var2 = \"contenido de la segunda variable\"\n",
    "print(var1, var2)"
   ]
  },
  {
   "cell_type": "markdown",
   "metadata": {},
   "source": [
    "## Caracteres de escape\n",
    "\n",
    "Son caracteres que no se imprimen y sirven para modificar el formato del string, se representan con el caracter \\, dentro de comillas simples o dobles. El más usado es \\n para representar el cambio de linea."
   ]
  },
  {
   "cell_type": "code",
   "execution_count": 52,
   "metadata": {},
   "outputs": [
    {
     "name": "stdout",
     "output_type": "stream",
     "text": [
      "Hello \n",
      " World\n"
     ]
    }
   ],
   "source": [
    "varE = \"Hello \\n World\"\n",
    "print(varE)"
   ]
  },
  {
   "cell_type": "markdown",
   "metadata": {},
   "source": [
    "## Operadores especiales"
   ]
  },
  {
   "cell_type": "markdown",
   "metadata": {},
   "source": [
    "<tbody><tr>\n",
    "<th style=\"text-align:center;width:10%\">Operador</th>\n",
    "<th style=\"text-align:center;width:45%\">Descripción</th>\n",
    "<th style=\"text-align:center;\">Ejemplo</th>\n",
    "</tr>\n",
    "<tr>\n",
    "<td class=\"ts\">+</td>\n",
    "<td>Concatenación - une los valores a cada lado del operador</td>\n",
    "<td class=\"ts\">a + b will give HelloPython</td>\n",
    "</tr>\n",
    "<tr>\n",
    "<td class=\"ts\">*</td>\n",
    "<td>Repetición - crea un nuevo string, concatenando varios copias del mismo string</td>\n",
    "<td class=\"ts\">a*2 will give -HelloHello</td>\n",
    "</tr>\n",
    "<tr>\n",
    "<td class=\"ts\">[]</td>\n",
    "<td>Cortar - devuelve el caracter del indice dado</td>\n",
    "<td class=\"ts\">a[1] will give e</td>\n",
    "</tr>\n",
    "<tr>\n",
    "<td class=\"ts\">[ : ]</td>\n",
    "<td>Selec- Devuelve los caracteres del rango dado</td>\n",
    "<td class=\"ts\">a[1:4] will give ell</td>\n",
    "</tr>\n",
    "<tr>\n",
    "<td class=\"ts\">in</td>\n",
    "<td>Miembro - Retorna true si el caracter existe en el string dado</td>\n",
    "<td class=\"ts\">H in a will give 1</td>\n",
    "</tr>\n",
    "<tr>\n",
    "<td class=\"ts\">not in </td>\n",
    "<td>No es miembro - Devuelve true si el caracter no existe en el string dado</td>\n",
    "<td class=\"ts\">M not in a will give 1</td>\n",
    "</tr>\n",
    "<tr>\n",
    "<td class=\"ts\">r/R</td>\n",
    "<td>Raw String - Suppresses actual meaning of Escape characters. The syntax for raw strings is exactly the same as for normal strings with the exception of the raw string operator, the letter \"r,\" which precedes the quotation marks. The \"r\" can be lowercase (r) or uppercase (R) and must be placed immediately preceding the first quote mark.</td>\n",
    "<td class=\"ts\">print r'\\n' prints \\n and print R'\\n'prints \\n</td>\n",
    "</tr>\n",
    "<tr>\n",
    "<td class=\"ts\">%</td>\n",
    "<td>Formato - Útil para el formato de los strings</td>\n",
    "<td class=\"ts\"></td>\n",
    "</tr>\n",
    "</tbody>\n",
    "\n"
   ]
  },
  {
   "cell_type": "code",
   "execution_count": 80,
   "metadata": {},
   "outputs": [
    {
     "name": "stdout",
     "output_type": "stream",
     "text": [
      "var3 de 6 al final:  ido de la primer variable contenido de la segunda variable\n",
      "True\n",
      "False\n"
     ]
    }
   ],
   "source": [
    "var3 = var1 + \" \" + var2\n",
    "print(\"var3 de 6 al final: \", var3[6:])\n",
    "print(\"contenido\" in var3)\n",
    "print(\"mundo\" in var3)\n"
   ]
  },
  {
   "cell_type": "markdown",
   "metadata": {},
   "source": [
    "## Operador de formato\n",
    "\n",
    "    - %s -> string\n",
    "    - %d -> Integer\n",
    "    - %f -> Float\n",
    "    - %o -> Octal\n",
    "    - %x -> Hexadecimal\n",
    "    - %e -> exponential"
   ]
  },
  {
   "cell_type": "code",
   "execution_count": 56,
   "metadata": {
    "scrolled": true
   },
   "outputs": [
    {
     "data": {
      "text/plain": [
       "' hola mundo 0'"
      ]
     },
     "execution_count": 56,
     "metadata": {},
     "output_type": "execute_result"
    }
   ],
   "source": [
    "varS = \"hola {} {}\"\n",
    "varS.format(\"mundo\", 0)"
   ]
  },
  {
   "cell_type": "code",
   "execution_count": 73,
   "metadata": {},
   "outputs": [
    {
     "name": "stdout",
     "output_type": "stream",
     "text": [
      "Hola mundo\n"
     ]
    }
   ],
   "source": [
    "mundo = \"mundo\"\n",
    "varS2 = \"Hola %s\" % mundo\n",
    "print(varS2)"
   ]
  },
  {
   "cell_type": "code",
   "execution_count": 82,
   "metadata": {},
   "outputs": [
    {
     "name": "stdout",
     "output_type": "stream",
     "text": [
      "Número actual flotante 3.141616\n",
      "Número actual entero 3\n"
     ]
    }
   ],
   "source": [
    "print(\"Número actual flotante %f\" % 3.141616)\n",
    "print(\"Número actual entero %d\" % 3.141616)"
   ]
  },
  {
   "cell_type": "code",
   "execution_count": 83,
   "metadata": {},
   "outputs": [
    {
     "data": {
      "text/plain": [
       "'_TGTG_TGTG_TGTG_TGTG_TGTG_TGTG_TGTG_TGTG_TGTG_TGTG_TGTG_TGTG_TGTG_TGTG_TGTG'"
      ]
     },
     "execution_count": 83,
     "metadata": {},
     "output_type": "execute_result"
    }
   ],
   "source": [
    "string1 = \"_TGTG\"\n",
    "string1 * 15"
   ]
  },
  {
   "cell_type": "markdown",
   "metadata": {},
   "source": [
    "## Métodos para la manipulación de Strings\n",
    "\n",
    "```python\n",
    "capitalize()\n",
    "endswith(suffix, beg=0, end=len(string))\n",
    "len(string)\n",
    "replace(old, new [, max])\n",
    "find(str, beg=0 end=len(string))\n",
    "rfind(str, beg=0 end=len(string))\n",
    "\n",
    "```\n",
    "\n",
    "Puede acceder a los métodos usando `Tab` para que el editor le muestre cuales son."
   ]
  },
  {
   "cell_type": "code",
   "execution_count": 93,
   "metadata": {},
   "outputs": [
    {
     "name": "stdout",
     "output_type": "stream",
     "text": [
      "True\n",
      "Contenido de la primer variable contenido de la segunda variable\n"
     ]
    }
   ],
   "source": [
    "print(string1.endswith(\"GTG\")) #si el string de la var3 termina con un 2\n",
    "print(var3.capitalize())"
   ]
  },
  {
   "cell_type": "markdown",
   "metadata": {},
   "source": [
    "## <span style=color:#990099> Ejercicio"
   ]
  },
  {
   "cell_type": "code",
   "execution_count": 94,
   "metadata": {},
   "outputs": [],
   "source": [
    "#combierta a uppercase la variable var3\n",
    "\n",
    "#cuente las apariciones de la palabra variable en var3 \n",
    "\n",
    "#reemplace la palabra contenido por información en var3\n"
   ]
  },
  {
   "cell_type": "markdown",
   "metadata": {},
   "source": [
    "***\n",
    "\n",
    "\n",
    "# Manejo de archivos\n",
    "\n",
    "Los archivos de texto plano son la manera estándar más simple para almacenar y recuperar datos. En este módulo aprenderemos a abrir un archivo, leer, escribir y cerrar archivos. \n",
    "\n",
    "En python, los archivos se abren con la función `open(archivo, modo)`. El parámetro `archivo` es la dirección y nombre del archivo, el parámetro `modo` especifica para que se va a utiliar el archivo, la siguiente tabla muestra los posibles valores:\n",
    "\n",
    "| Modo | Descripción                                                        |\n",
    "|------|--------------------------------------------------------------------|\n",
    "| 'r'  | Solo lectura (opción por defecto)                                  |\n",
    "| 'w'  |  Solo escritura. Si el archivo existe, borra el contenido          |\n",
    "| 'x'  | Intenta crear un archivo, si ya existe, crea un error              |\n",
    "| 'a'  | Solo escritura. Si el archivo existe, comienza a escribir al final |\n",
    "| 'b'  | Modo binario                                                       |\n",
    "| 't'  | Modo texto (opción por defecto)                                    |\n",
    "| '+'  | Lectura y escritura                                                |\n",
    "\n",
    "Los modos puede combinarse, por ejemplo, habrir un archivo binario en modo escritura `wb` o abrir un archivo para lectura y escritura, pero borrando el contenido `w+`. \n",
    "\n",
    "La función `open()` retorna un objeto `file` y debemos interactuar con él a través de sus métodos, puede explorarlos en el siguiente [enlace](https://docs.python.org/3.5/tutorial/inputoutput.html#methods-of-file-objects). \n",
    "\n",
    "Ahora, observe el siguiente ejemplo:"
   ]
  },
  {
   "cell_type": "code",
   "execution_count": null,
   "metadata": {},
   "outputs": [],
   "source": [
    "lista = [str(i**2) for i in range (1,11)] # Genera una lista de números como strings\n",
    "\n",
    "f = open(\"output.txt\", \"w\")\n",
    "\n",
    "for elemento in lista:\n",
    "    f.write(elemento + \"\\n\")\n",
    "    \n",
    "f.close()"
   ]
  },
  {
   "cell_type": "markdown",
   "metadata": {},
   "source": [
    "## La función open()\n",
    "\n",
    "- Esta función le dice al intérprete que abra un archivo llamado output.txt en modo \"w\" (este modo es el modo de escritura \"write\")\n",
    "- El resultado de esta función se guarda en un objeto 'file' que llamamos 'f' (puede tener cualquier nombre, como cualquier otra variable)\n",
    "- Esto abre el archivo en modo de escritura y lo deja listo para enviar datos al archivo\n",
    "- Siempre es necesario abrir el archivo antes de manipularlo (lectura o escritura)\n",
    "\n",
    "__Atención:__ note el método `file.close()`. Cuando trabajamos con archivos, es muy importante recordar cerrarlos, de otra manera, podemos perder los datos. \n"
   ]
  },
  {
   "cell_type": "code",
   "execution_count": 4,
   "metadata": {},
   "outputs": [
    {
     "name": "stdout",
     "output_type": "stream",
     "text": [
      "1\n",
      "4\n",
      "9\n",
      "16\n",
      "25\n",
      "36\n",
      "49\n",
      "64\n",
      "81\n",
      "100\n"
     ]
    }
   ],
   "source": [
    "f = open('output.txt')\n",
    "\n",
    "# Podemos también iterar sobre los objetos `file` para leerlos:\n",
    "for line in f:\n",
    "    print(line, end = \"\")\n",
    "    \n",
    "f.close()"
   ]
  },
  {
   "cell_type": "code",
   "execution_count": null,
   "metadata": {},
   "outputs": [],
   "source": [
    "archivo = open(\"output.txt\", \"r\")\n",
    "\n",
    "# La función read() lee todo el archivo de una vez\n",
    "print (archivo.read())\n",
    "\n",
    "archivo.close()"
   ]
  },
  {
   "cell_type": "code",
   "execution_count": null,
   "metadata": {},
   "outputs": [],
   "source": [
    "archivo = open(\"output.txt\", \"r\")\n",
    "\n",
    "# Crear una lista con todas las líneas de un archivo\n",
    "lista_lineas = archivo.readlines()\n",
    "print (lista_lineas[1])\n",
    "\n",
    "archivo.close()"
   ]
  },
  {
   "cell_type": "code",
   "execution_count": 111,
   "metadata": {},
   "outputs": [
    {
     "name": "stdout",
     "output_type": "stream",
     "text": [
      "[1.0, 4.0, 9.0, 16.0, 25.0, 36.0, 49.0, 64.0, 81.0, 100.0]\n",
      "1.0\n",
      "16.0\n",
      "81.0\n",
      "256.0\n",
      "625.0\n",
      "1296.0\n",
      "2401.0\n",
      "4096.0\n",
      "6561.0\n",
      "10000.0\n"
     ]
    }
   ],
   "source": [
    "archivo = open(\"output.txt\", \"r\")\n",
    "lista_nums = []\n",
    "# O leer el archivo línea por línea de forma individual\n",
    "for linea in archivo:\n",
    "    for elemento in linea.split(\" \"):\n",
    "        lista_nums.append(float(elemento))\n",
    "    \n",
    "archivo.close() # Importante siempre cerrar el archivo\n",
    "print (lista_nums)\n",
    "for dato in lista_nums:\n",
    "    print (dato**2)"
   ]
  },
  {
   "cell_type": "code",
   "execution_count": 100,
   "metadata": {},
   "outputs": [],
   "source": [
    "archivoEscribir = open(\"ejercicio.txt\", \"w\")\n",
    "\n",
    "archivoEscribir.write(\"texto 1 \")\n",
    "archivoEscribir.write(\"texto 2 \\n\")\n",
    "archivoEscribir.write(\"texto 3 \")\n",
    "lineas = [\"texto 4\", \"texto 5\"]\n",
    "archivoEscribir.writelines(\"%s\\n\" % l for l in lineas)\n",
    "\n",
    "archivoEscribir.close()"
   ]
  },
  {
   "cell_type": "markdown",
   "metadata": {},
   "source": [
    "# Importante\n",
    "- Si no se cierran los archivos, los cambios que se le hagan no se guardarán en la memoria permanente, sino que se todos los cambios quedarán únicamente en un buffer en la memoria volátil\n",
    "- El sistema operativo guardará automáticamente en memoria permanente todo lo que haya en buffers de memoria al acabarse el proceso que abrió un archivo, pero igual es buena práctica cerrarlo"
   ]
  },
  {
   "cell_type": "markdown",
   "metadata": {},
   "source": []
  },
  {
   "cell_type": "markdown",
   "metadata": {},
   "source": [
    "## <span style=color:#990099> Ejercicio\n",
    "   \n",
    "\n",
    "Tome los datos de las personas de la lista lista_personas y escríbalos en un archivo de texto llamado personas.csv\n",
    "- Separe cada dato por un punto y coma \";\" y separe cada persona por un cambio de línea \"\\n\""
   ]
  },
  {
   "cell_type": "code",
   "execution_count": 107,
   "metadata": {},
   "outputs": [
    {
     "name": "stdout",
     "output_type": "stream",
     "text": [
      "[('Ana', 28, 'Paris'), ('Julio', 37, 'Uganda'), ('Sofia', 12, 'Brasil')]\n",
      "('Ana', 28, 'Paris')\n"
     ]
    }
   ],
   "source": [
    "lista_personas = [(\"Ana\", 28, \"Paris\"), (\"Julio\", 37, \"Uganda\"), (\"Sofia\", 12, \"Brasil\")]\n",
    "print(lista_personas)\n",
    "print(lista_personas[0])\n",
    "\n",
    "#complete el ejercicio aquí"
   ]
  },
  {
   "cell_type": "markdown",
   "metadata": {},
   "source": [
    "# 'With' y 'as'\n",
    "- Existe una forma de hacer que python cierre los archivos automáticamente por uno\n",
    "- Al utilizar 'with' y 'as' el programa cerrará los archivos después de utilizarlos"
   ]
  },
  {
   "cell_type": "code",
   "execution_count": null,
   "metadata": {},
   "outputs": [],
   "source": [
    "with open(\"output.txt\", \"w\") as archivo:\n",
    "    archivo.write(\"No necesito cerrar el archivo\")"
   ]
  },
  {
   "cell_type": "markdown",
   "metadata": {},
   "source": [
    "+ el atributo 'closed' de un objeto archivo nos dice si el archivo está abierto o cerrado"
   ]
  },
  {
   "cell_type": "code",
   "execution_count": null,
   "metadata": {},
   "outputs": [],
   "source": [
    "print (archivo.closed) # True es que está cerrado, False es que está abierto\n",
    "archivo = open(\"output.txt\", \"r\")\n",
    "print (archivo.closed)\n",
    "archivo.close()\n",
    "print (archivo.closed)"
   ]
  },
  {
   "cell_type": "markdown",
   "metadata": {},
   "source": [
    "    \n",
    "# Tabla con la combinación de modos\n",
    "\n",
    "<img src=\"modes.png\">"
   ]
  },
  {
   "cell_type": "markdown",
   "metadata": {},
   "source": [
    "# Lectura de archivos Fasta y Fastq\n",
    "\n",
    "## Formato Fasta \n",
    "Estructura de un archivo fasta\n",
    "\n",
    "```\n",
    ">sequence_one\n",
    "ATCGATCGATCGATCGAT\n",
    ">sequence_two\n",
    "ACTAGCTAGCTAGCATCG\n",
    ">sequence_three\n",
    "ACTGCATCGATCGTACCT\n",
    "```\n"
   ]
  },
  {
   "cell_type": "code",
   "execution_count": 20,
   "metadata": {},
   "outputs": [
    {
     "name": "stdout",
     "output_type": "stream",
     "text": [
      "[('sequence_one', 'ATCGATCGATCGATCGAT'), ('sequence_two', 'ACTAGCTAGCTAGCATCG'), ('sequence_three', 'ACTGCATCGATCGTACC')]\n"
     ]
    }
   ],
   "source": [
    "file = open(\"reads_01.fasta\", \"r\")\n",
    "reads = []\n",
    "   \n",
    "for line in file:\n",
    "    if line.startswith(\">\"):    \n",
    "        name = line[1:-1]\n",
    "    else:\n",
    "        sequence = line[:-1]\n",
    "        reads.append((name, sequence))\n",
    " \n",
    "\n",
    "print(reads)\n",
    "file.close()"
   ]
  },
  {
   "cell_type": "markdown",
   "metadata": {},
   "source": [
    "## Formato Fastq\n",
    "```\n",
    "@A80HNBABXX:4:1:1344:2224#0/1\n",
    "AAAACATCAGTATCCATCAGGATCAGTTTGGAAAGGGAGAGGCAATTTTTCCTAAACATGTGTTCAAATGGTCTGAGACAGACGTTAAAATGAAAAGGGG  \n",
    "+\n",
    "\\\\YYWX\\PX^YT[TVYaTY]^\\^H\\`^`a`\\UZU__TTbSbb^\\a^^^`[GOVVXLXMV[Y_^a^BBBBBBBBBBBBBBBBBBBBBBBBBBBBBBBBBBB  \n",
    "```"
   ]
  },
  {
   "cell_type": "code",
   "execution_count": 27,
   "metadata": {},
   "outputs": [
    {
     "name": "stdout",
     "output_type": "stream",
     "text": [
      "('A80HNBABXX:4:1:1344:2224#0/1', 'AAAACATCAGTATCCATCAGGATCAGTTTGGAAAGGGAGAGGCAATTTTTCCTAAACATGTGTTCAAATGGTCTGAGACAGACGTTAAAATGAAAAGGGG', '\\\\\\\\YYWX\\\\PX^YT[TVYaTY]^\\\\^H\\\\`^`a`\\\\UZU__TTbSbb^\\\\a^^^`[GOVVXLXMV[Y_^a^BBBBBBBBBBBBBBBBBBBBBBBBBBBBBBBBBBB')\n",
      "('A80HNBABXX:4:1:1515:2211#0/1', 'TTAGAAACTATGGGATTATTCACTCCCTAGGTACTGAGAATGGAAACTTTCTTTGCCTTAATCGTTGACATCCCCTCTTTTAGGTTCTTGCTTCCTAACA', 'ee^e^\\\\`ad`eeee\\\\dd\\\\ddddYeebdd\\\\ddaYbdcYc`\\\\bac^YX[V^\\\\Ybb]]^bdbaZ]ZZ\\\\^K\\\\^]VPNME][`_``Ubb_bYddZbbbYbbYT^_')\n",
      "('A80HNBABXX:4:1:1538:2220#0/1', 'CTGAGTAAATCATATACTCAATGATTTTTTTATGTGTGTGCATGTGTGCTGTTGATATTCTTCAGTACCAAAACCCATCATCTTATTTGCATAGGGAAGT', 'fff^fd\\\\c^d^Ycac`dcdcded`effdfedb]beeeeecd^ddccdddddfff`eaeeeffdTecacaLV[QRPa\\\\\\\\a\\\\`]aY]ZZ[XYcccYcZ\\\\\\\\]Y')\n",
      "('A80HNBABXX:4:1:1666:2222#0/1', 'CTGCCAGCACGCTGTCACCTCTCAATAACAGTGAGTGTAATGGCCATACTCTTGATTTGGTTTTTGCCTTATGAATCAGTGGCTAAAAATATTATTTAAT', 'deeee`bbcddddad\\\\bbbbeee\\\\ecYZcc^dd^ddd\\\\\\\\`]``L`ccabaVJ`MZ^aaYMbbb__PYWY]RWNUUab`Y`BBBBBBBBBBBBBBBBBBBB')\n"
     ]
    }
   ],
   "source": [
    "file = open(\"reads_02.fastq\", \"r\")\n",
    "reads = []\n",
    "\n",
    "seqId, seq, qual = \"\", \"\", \"\"\n",
    "\n",
    "while 1:\n",
    "    line = file.readline()\n",
    "    #break if we hit the end of the file\n",
    "    if not line:\n",
    "        break\n",
    "                \n",
    "    if line.startswith(\"@\"): \n",
    "        seqId = line[1:-1]\n",
    "        seq = file.readline().rstrip()\n",
    "        file.readline()\n",
    "        qual = file.readline().rstrip()\n",
    "        \n",
    "        reads.append((seqId, seq, qual))\n",
    "        \n",
    "for read in reads:\n",
    "    print(read)\n",
    "file.close()"
   ]
  },
  {
   "cell_type": "code",
   "execution_count": 110,
   "metadata": {},
   "outputs": [
    {
     "data": {
      "text/plain": [
       "100"
      ]
     },
     "execution_count": 110,
     "metadata": {},
     "output_type": "execute_result"
    }
   ],
   "source": [
    "len(reads[0][1])"
   ]
  },
  {
   "cell_type": "markdown",
   "metadata": {},
   "source": [
    "## <span style=color:#990099/> Ejercicio\n",
    "\n",
    "Copie un archivo fastq de su interes en el home, programe un método que lea el archivo y cuente la cantidad de secuencias presentes en el mismo.\n",
    "\n",
    "Mientras hace esto guarde las secuencias y escribalas en un archivo con el formato fasta."
   ]
  },
  {
   "cell_type": "code",
   "execution_count": null,
   "metadata": {},
   "outputs": [],
   "source": []
  }
 ],
 "metadata": {
  "kernelspec": {
   "display_name": "Python 3",
   "language": "python",
   "name": "python3"
  },
  "language_info": {
   "codemirror_mode": {
    "name": "ipython",
    "version": 3
   },
   "file_extension": ".py",
   "mimetype": "text/x-python",
   "name": "python",
   "nbconvert_exporter": "python",
   "pygments_lexer": "ipython3",
   "version": "3.6.0"
  }
 },
 "nbformat": 4,
 "nbformat_minor": 2
}
