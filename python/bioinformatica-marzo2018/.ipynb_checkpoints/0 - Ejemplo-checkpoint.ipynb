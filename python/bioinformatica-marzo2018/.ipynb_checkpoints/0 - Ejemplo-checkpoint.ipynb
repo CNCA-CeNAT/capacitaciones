{
 "cells": [
  {
   "cell_type": "markdown",
   "metadata": {},
   "source": [
    "# Python para Bioinformática\n",
    "\n",
    "- BioPython: lo vamos a ver en este pequeño curso\n",
    "- SciKit http://scikit-bio.org/\n",
    "- PyBio \n",
    "\n",
    "## Modulos \n",
    "\n",
    "\n",
    "+ Modulo 1: [Introducción a Python](1 - Introducción a Python.ipynb)\n",
    "+ Modulo 2: [String y Archivos](2 - Strings y Archivos.ipynb)\n",
    "+ Modulo 3: [Numpy - Maplotlib](3 - Numpy.ipynb)\n",
    "+ Modulo 4: [BioPython](4 - BioPython.ipynb)\n",
    "+ Modulo 5: Práctica\n",
    "\n",
    "\n",
    "# Algunos ejemplos:\n"
   ]
  },
  {
   "cell_type": "markdown",
   "metadata": {},
   "source": [
    "## Alineamiento de Secuencias"
   ]
  },
  {
   "cell_type": "code",
   "execution_count": 1,
   "metadata": {},
   "outputs": [],
   "source": [
    "# Import pairwise2 module\n",
    "from Bio import pairwise2\n",
    "\n",
    "# Import format_alignment method\n",
    "from Bio.pairwise2 import format_alignment\n",
    "\n",
    "# Define two sequences to be aligned\n",
    "X = \"ACGGGT\"\n",
    "Y = \"ACG\""
   ]
  },
  {
   "cell_type": "code",
   "execution_count": 2,
   "metadata": {},
   "outputs": [
    {
     "name": "stdout",
     "output_type": "stream",
     "text": [
      "ACGGGT\n",
      "|||||\n",
      "AC--G-\n",
      "  Score=3\n",
      "\n",
      "ACGGGT\n",
      "||||\n",
      "AC-G--\n",
      "  Score=3\n",
      "\n",
      "ACGGGT\n",
      "|||\n",
      "ACG---\n",
      "  Score=3\n",
      "\n"
     ]
    }
   ],
   "source": [
    "# Get a list of the local alignments between the two sequences ACGGGT and ACG\n",
    "# No parameters. Identical characters have score of 1, else 0.\n",
    "# No gap penalties.\n",
    "alignments = pairwise2.align.localxx(X, Y)\n",
    "\n",
    "# Use format_alignment method to format the alignments in the list\n",
    "for a in alignments:\n",
    "    print(format_alignment(*a))"
   ]
  },
  {
   "cell_type": "code",
   "execution_count": 3,
   "metadata": {},
   "outputs": [
    {
     "name": "stdout",
     "output_type": "stream",
     "text": [
      "ACGGGT\n",
      "||||||\n",
      "ACG---\n",
      "  Score=5.3\n",
      "\n"
     ]
    }
   ],
   "source": [
    "# Get a list of the global alignments between the two sequences ACGGGT and ACG satisfying the given scoring\n",
    "# A match score is the score of identical chars, else mismatch score.\n",
    "# Same open and extend gap penalties for both sequences.\n",
    "alignments = pairwise2.align.globalms(X, Y, 2, -1, -0.5, -0.1)\n",
    "\n",
    "# Use format_alignment method to format the alignments in the list\n",
    "for a in alignments:\n",
    "    print(format_alignment(*a))"
   ]
  },
  {
   "cell_type": "markdown",
   "metadata": {},
   "source": [
    "## Conteo de frecuencias de bases"
   ]
  },
  {
   "cell_type": "code",
   "execution_count": 4,
   "metadata": {},
   "outputs": [
    {
     "name": "stdout",
     "output_type": "stream",
     "text": [
      "[11, 10, 17, 19]\n",
      "[0.19298246 0.1754386  0.29824561 0.33333333]\n"
     ]
    }
   ],
   "source": [
    "import numpy\n",
    "\n",
    "def count_v1(dna, base):\n",
    "    dna = list(dna)  # convert string to list of letters\n",
    "    r = []\n",
    "    for idx, val in enumerate(base):\n",
    "        i = 0            # counter\n",
    "        for c in dna:\n",
    "            if c == val:\n",
    "                i += 1\n",
    "        r.append(i)\n",
    "    print(r)\n",
    "    myArray = numpy.array(r)\n",
    "    newArray = myArray/len(dna)\n",
    "    print(newArray)\n",
    "\n",
    "count_v1(\"gatcgactcacagtagcttaatgcgcgcgctagcagcctagcgcgctagcggggcgt\", \"atcg\")"
   ]
  },
  {
   "cell_type": "code",
   "execution_count": null,
   "metadata": {},
   "outputs": [],
   "source": []
  }
 ],
 "metadata": {
  "kernelspec": {
   "display_name": "Python 3",
   "language": "python",
   "name": "python3"
  },
  "language_info": {
   "codemirror_mode": {
    "name": "ipython",
    "version": 3
   },
   "file_extension": ".py",
   "mimetype": "text/x-python",
   "name": "python",
   "nbconvert_exporter": "python",
   "pygments_lexer": "ipython3",
   "version": "3.6.0"
  }
 },
 "nbformat": 4,
 "nbformat_minor": 2
}
